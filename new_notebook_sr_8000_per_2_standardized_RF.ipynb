{
 "cells": [
  {
   "cell_type": "code",
   "execution_count": 1,
   "id": "9f5653aa",
   "metadata": {},
   "outputs": [
    {
     "name": "stderr",
     "output_type": "stream",
     "text": [
      "C:\\Users\\andre\\anaconda3\\lib\\site-packages\\paramiko\\transport.py:219: CryptographyDeprecationWarning: Blowfish has been deprecated\n",
      "  \"class\": algorithms.Blowfish,\n"
     ]
    }
   ],
   "source": [
    "import pandas as pd\n",
    "import numpy as np\n",
    "import os\n",
    "import librosa\n",
    "import librosa.display\n",
    "import IPython.display as ipd\n",
    "import matplotlib.pyplot as plt\n",
    "import pickle\n",
    "import noisereduce as nr\n",
    "import tqdm"
   ]
  },
  {
   "cell_type": "markdown",
   "id": "772ef5b5",
   "metadata": {},
   "source": [
    "## 1. Loading Dataset"
   ]
  },
  {
   "cell_type": "code",
   "execution_count": 2,
   "id": "e2f93350",
   "metadata": {},
   "outputs": [
    {
     "data": {
      "text/html": [
       "<div>\n",
       "<style scoped>\n",
       "    .dataframe tbody tr th:only-of-type {\n",
       "        vertical-align: middle;\n",
       "    }\n",
       "\n",
       "    .dataframe tbody tr th {\n",
       "        vertical-align: top;\n",
       "    }\n",
       "\n",
       "    .dataframe thead th {\n",
       "        text-align: right;\n",
       "    }\n",
       "</style>\n",
       "<table border=\"1\" class=\"dataframe\">\n",
       "  <thead>\n",
       "    <tr style=\"text-align: right;\">\n",
       "      <th></th>\n",
       "      <th>Id</th>\n",
       "      <th>path</th>\n",
       "      <th>speakerId</th>\n",
       "      <th>action</th>\n",
       "      <th>object</th>\n",
       "      <th>Self-reported fluency level</th>\n",
       "      <th>First Language spoken</th>\n",
       "      <th>Current language used for work/school</th>\n",
       "      <th>gender</th>\n",
       "      <th>ageRange</th>\n",
       "    </tr>\n",
       "  </thead>\n",
       "  <tbody>\n",
       "    <tr>\n",
       "      <th>0</th>\n",
       "      <td>0</td>\n",
       "      <td>dsl_data/audio/speakers/2BqVo8kVB2Skwgyb/0a312...</td>\n",
       "      <td>2BqVo8kVB2Skwgyb</td>\n",
       "      <td>change language</td>\n",
       "      <td>none</td>\n",
       "      <td>advanced</td>\n",
       "      <td>English (United States)</td>\n",
       "      <td>English (United States)</td>\n",
       "      <td>female</td>\n",
       "      <td>22-40</td>\n",
       "    </tr>\n",
       "    <tr>\n",
       "      <th>1</th>\n",
       "      <td>1</td>\n",
       "      <td>dsl_data/audio/speakers/2BqVo8kVB2Skwgyb/0ee42...</td>\n",
       "      <td>2BqVo8kVB2Skwgyb</td>\n",
       "      <td>activate</td>\n",
       "      <td>music</td>\n",
       "      <td>advanced</td>\n",
       "      <td>English (United States)</td>\n",
       "      <td>English (United States)</td>\n",
       "      <td>female</td>\n",
       "      <td>22-40</td>\n",
       "    </tr>\n",
       "    <tr>\n",
       "      <th>2</th>\n",
       "      <td>2</td>\n",
       "      <td>dsl_data/audio/speakers/2BqVo8kVB2Skwgyb/1d9f3...</td>\n",
       "      <td>2BqVo8kVB2Skwgyb</td>\n",
       "      <td>deactivate</td>\n",
       "      <td>lights</td>\n",
       "      <td>advanced</td>\n",
       "      <td>English (United States)</td>\n",
       "      <td>English (United States)</td>\n",
       "      <td>female</td>\n",
       "      <td>22-40</td>\n",
       "    </tr>\n",
       "    <tr>\n",
       "      <th>3</th>\n",
       "      <td>3</td>\n",
       "      <td>dsl_data/audio/speakers/2BqVo8kVB2Skwgyb/269fc...</td>\n",
       "      <td>2BqVo8kVB2Skwgyb</td>\n",
       "      <td>increase</td>\n",
       "      <td>volume</td>\n",
       "      <td>advanced</td>\n",
       "      <td>English (United States)</td>\n",
       "      <td>English (United States)</td>\n",
       "      <td>female</td>\n",
       "      <td>22-40</td>\n",
       "    </tr>\n",
       "    <tr>\n",
       "      <th>4</th>\n",
       "      <td>4</td>\n",
       "      <td>dsl_data/audio/speakers/2BqVo8kVB2Skwgyb/5bbda...</td>\n",
       "      <td>2BqVo8kVB2Skwgyb</td>\n",
       "      <td>increase</td>\n",
       "      <td>volume</td>\n",
       "      <td>advanced</td>\n",
       "      <td>English (United States)</td>\n",
       "      <td>English (United States)</td>\n",
       "      <td>female</td>\n",
       "      <td>22-40</td>\n",
       "    </tr>\n",
       "    <tr>\n",
       "      <th>...</th>\n",
       "      <td>...</td>\n",
       "      <td>...</td>\n",
       "      <td>...</td>\n",
       "      <td>...</td>\n",
       "      <td>...</td>\n",
       "      <td>...</td>\n",
       "      <td>...</td>\n",
       "      <td>...</td>\n",
       "      <td>...</td>\n",
       "      <td>...</td>\n",
       "    </tr>\n",
       "    <tr>\n",
       "      <th>9849</th>\n",
       "      <td>9849</td>\n",
       "      <td>dsl_data/audio/speakers/vnljypgejkINbBAY/4fb3d...</td>\n",
       "      <td>vnljypgejkINbBAY</td>\n",
       "      <td>decrease</td>\n",
       "      <td>volume</td>\n",
       "      <td>native</td>\n",
       "      <td>English (United States)</td>\n",
       "      <td>English (United States)</td>\n",
       "      <td>male</td>\n",
       "      <td>22-40</td>\n",
       "    </tr>\n",
       "    <tr>\n",
       "      <th>9850</th>\n",
       "      <td>9850</td>\n",
       "      <td>dsl_data/audio/speakers/vnljypgejkINbBAY/59e6a...</td>\n",
       "      <td>vnljypgejkINbBAY</td>\n",
       "      <td>deactivate</td>\n",
       "      <td>lights</td>\n",
       "      <td>native</td>\n",
       "      <td>English (United States)</td>\n",
       "      <td>English (United States)</td>\n",
       "      <td>male</td>\n",
       "      <td>22-40</td>\n",
       "    </tr>\n",
       "    <tr>\n",
       "      <th>9851</th>\n",
       "      <td>9851</td>\n",
       "      <td>dsl_data/audio/speakers/vnljypgejkINbBAY/5c81c...</td>\n",
       "      <td>vnljypgejkINbBAY</td>\n",
       "      <td>deactivate</td>\n",
       "      <td>lights</td>\n",
       "      <td>native</td>\n",
       "      <td>English (United States)</td>\n",
       "      <td>English (United States)</td>\n",
       "      <td>male</td>\n",
       "      <td>22-40</td>\n",
       "    </tr>\n",
       "    <tr>\n",
       "      <th>9852</th>\n",
       "      <td>9852</td>\n",
       "      <td>dsl_data/audio/speakers/vnljypgejkINbBAY/5ef42...</td>\n",
       "      <td>vnljypgejkINbBAY</td>\n",
       "      <td>deactivate</td>\n",
       "      <td>lights</td>\n",
       "      <td>native</td>\n",
       "      <td>English (United States)</td>\n",
       "      <td>English (United States)</td>\n",
       "      <td>male</td>\n",
       "      <td>22-40</td>\n",
       "    </tr>\n",
       "    <tr>\n",
       "      <th>9853</th>\n",
       "      <td>9853</td>\n",
       "      <td>dsl_data/audio/speakers/vnljypgejkINbBAY/61b7a...</td>\n",
       "      <td>vnljypgejkINbBAY</td>\n",
       "      <td>increase</td>\n",
       "      <td>volume</td>\n",
       "      <td>native</td>\n",
       "      <td>English (United States)</td>\n",
       "      <td>English (United States)</td>\n",
       "      <td>male</td>\n",
       "      <td>22-40</td>\n",
       "    </tr>\n",
       "  </tbody>\n",
       "</table>\n",
       "<p>9854 rows × 10 columns</p>\n",
       "</div>"
      ],
      "text/plain": [
       "        Id                                               path  \\\n",
       "0        0  dsl_data/audio/speakers/2BqVo8kVB2Skwgyb/0a312...   \n",
       "1        1  dsl_data/audio/speakers/2BqVo8kVB2Skwgyb/0ee42...   \n",
       "2        2  dsl_data/audio/speakers/2BqVo8kVB2Skwgyb/1d9f3...   \n",
       "3        3  dsl_data/audio/speakers/2BqVo8kVB2Skwgyb/269fc...   \n",
       "4        4  dsl_data/audio/speakers/2BqVo8kVB2Skwgyb/5bbda...   \n",
       "...    ...                                                ...   \n",
       "9849  9849  dsl_data/audio/speakers/vnljypgejkINbBAY/4fb3d...   \n",
       "9850  9850  dsl_data/audio/speakers/vnljypgejkINbBAY/59e6a...   \n",
       "9851  9851  dsl_data/audio/speakers/vnljypgejkINbBAY/5c81c...   \n",
       "9852  9852  dsl_data/audio/speakers/vnljypgejkINbBAY/5ef42...   \n",
       "9853  9853  dsl_data/audio/speakers/vnljypgejkINbBAY/61b7a...   \n",
       "\n",
       "             speakerId           action  object Self-reported fluency level   \\\n",
       "0     2BqVo8kVB2Skwgyb  change language    none                     advanced   \n",
       "1     2BqVo8kVB2Skwgyb         activate   music                     advanced   \n",
       "2     2BqVo8kVB2Skwgyb       deactivate  lights                     advanced   \n",
       "3     2BqVo8kVB2Skwgyb         increase  volume                     advanced   \n",
       "4     2BqVo8kVB2Skwgyb         increase  volume                     advanced   \n",
       "...                ...              ...     ...                          ...   \n",
       "9849  vnljypgejkINbBAY         decrease  volume                       native   \n",
       "9850  vnljypgejkINbBAY       deactivate  lights                       native   \n",
       "9851  vnljypgejkINbBAY       deactivate  lights                       native   \n",
       "9852  vnljypgejkINbBAY       deactivate  lights                       native   \n",
       "9853  vnljypgejkINbBAY         increase  volume                       native   \n",
       "\n",
       "        First Language spoken Current language used for work/school  gender  \\\n",
       "0     English (United States)               English (United States)  female   \n",
       "1     English (United States)               English (United States)  female   \n",
       "2     English (United States)               English (United States)  female   \n",
       "3     English (United States)               English (United States)  female   \n",
       "4     English (United States)               English (United States)  female   \n",
       "...                       ...                                   ...     ...   \n",
       "9849  English (United States)               English (United States)    male   \n",
       "9850  English (United States)               English (United States)    male   \n",
       "9851  English (United States)               English (United States)    male   \n",
       "9852  English (United States)               English (United States)    male   \n",
       "9853  English (United States)               English (United States)    male   \n",
       "\n",
       "     ageRange  \n",
       "0       22-40  \n",
       "1       22-40  \n",
       "2       22-40  \n",
       "3       22-40  \n",
       "4       22-40  \n",
       "...       ...  \n",
       "9849    22-40  \n",
       "9850    22-40  \n",
       "9851    22-40  \n",
       "9852    22-40  \n",
       "9853    22-40  \n",
       "\n",
       "[9854 rows x 10 columns]"
      ]
     },
     "execution_count": 2,
     "metadata": {},
     "output_type": "execute_result"
    }
   ],
   "source": [
    "path = r'C:/Users/andre/OneDrive/Documenti/GitHub/winter_exam_22_23/development.csv'\n",
    "df_development = pd.read_csv(path)\n",
    "df_development"
   ]
  },
  {
   "cell_type": "code",
   "execution_count": 3,
   "id": "140e6e8a",
   "metadata": {},
   "outputs": [
    {
     "data": {
      "text/plain": [
       "(increase           3823\n",
       " decrease           3575\n",
       " change language    1113\n",
       " activate            791\n",
       " deactivate          552\n",
       " Name: action, dtype: int64,\n",
       " volume    5000\n",
       " heat      2398\n",
       " none      1113\n",
       " music      791\n",
       " lights     552\n",
       " Name: object, dtype: int64)"
      ]
     },
     "execution_count": 3,
     "metadata": {},
     "output_type": "execute_result"
    }
   ],
   "source": [
    "#Evlauate balancement of dataset\n",
    "df_development.action.value_counts(), df_development.object.value_counts()"
   ]
  },
  {
   "cell_type": "markdown",
   "id": "53b56d05",
   "metadata": {},
   "source": [
    "### Evaluate all the existing combinations in the dataset"
   ]
  },
  {
   "cell_type": "code",
   "execution_count": 4,
   "id": "993246fe",
   "metadata": {
    "scrolled": true
   },
   "outputs": [
    {
     "data": {
      "text/plain": [
       "volume    2614\n",
       "heat      1209\n",
       "Name: object, dtype: int64"
      ]
     },
     "execution_count": 4,
     "metadata": {},
     "output_type": "execute_result"
    }
   ],
   "source": [
    "#Evaluate all the existing combinations in the dataset\n",
    "df_increase = df_development[df_development['action']=='increase']\n",
    "df_increase.object.value_counts()"
   ]
  },
  {
   "cell_type": "code",
   "execution_count": 5,
   "id": "24844531",
   "metadata": {},
   "outputs": [
    {
     "data": {
      "text/plain": [
       "volume    2386\n",
       "heat      1189\n",
       "Name: object, dtype: int64"
      ]
     },
     "execution_count": 5,
     "metadata": {},
     "output_type": "execute_result"
    }
   ],
   "source": [
    "#Evaluate all the existing combinations in the dataset\n",
    "df_decrease = df_development[df_development['action']=='decrease']\n",
    "df_decrease.object.value_counts()"
   ]
  },
  {
   "cell_type": "code",
   "execution_count": 6,
   "id": "7beb2908",
   "metadata": {},
   "outputs": [
    {
     "data": {
      "text/plain": [
       "none    1113\n",
       "Name: object, dtype: int64"
      ]
     },
     "execution_count": 6,
     "metadata": {},
     "output_type": "execute_result"
    }
   ],
   "source": [
    "#Evaluate all the existing combinations in the dataset\n",
    "df_change_language = df_development[df_development['action']=='change language']\n",
    "df_change_language.object.value_counts()"
   ]
  },
  {
   "cell_type": "code",
   "execution_count": 7,
   "id": "8cc46411",
   "metadata": {},
   "outputs": [
    {
     "data": {
      "text/plain": [
       "music    791\n",
       "Name: object, dtype: int64"
      ]
     },
     "execution_count": 7,
     "metadata": {},
     "output_type": "execute_result"
    }
   ],
   "source": [
    "#Evaluate all the existing combinations in the dataset\n",
    "df_activate = df_development[df_development['action']=='activate']\n",
    "df_activate.object.value_counts()"
   ]
  },
  {
   "cell_type": "code",
   "execution_count": 8,
   "id": "13c551f7",
   "metadata": {},
   "outputs": [
    {
     "data": {
      "text/plain": [
       "lights    552\n",
       "Name: object, dtype: int64"
      ]
     },
     "execution_count": 8,
     "metadata": {},
     "output_type": "execute_result"
    }
   ],
   "source": [
    "#Evaluate all the existing combinations in the dataset\n",
    "df_deactivate = df_development[df_development['action']=='deactivate']\n",
    "df_deactivate.object.value_counts()"
   ]
  },
  {
   "cell_type": "markdown",
   "id": "31ce189b",
   "metadata": {},
   "source": [
    "Combinations of actions expressed by humans in the dataset found are the following:\n",
    "1. increase volume\n",
    "2. increase heat\n",
    "3. decrease volume\n",
    "4. decrease heat\n",
    "5. change language\n",
    "6. activate music\n",
    "7. deactivate lights\n",
    "\n",
    "According to this, starting from this dataset a new one can be generated containing the audio file with the corresponding label aside referring to the desired action."
   ]
  },
  {
   "cell_type": "markdown",
   "id": "ca1bc2a3",
   "metadata": {},
   "source": [
    "### Creating new training dataset\n",
    "Add a column called labels where in correspondance of each combination has the respective label (ex. if the row has action=increase and object=heat has label 1)"
   ]
  },
  {
   "cell_type": "code",
   "execution_count": 9,
   "id": "6c75037c",
   "metadata": {},
   "outputs": [
    {
     "data": {
      "text/html": [
       "<div>\n",
       "<style scoped>\n",
       "    .dataframe tbody tr th:only-of-type {\n",
       "        vertical-align: middle;\n",
       "    }\n",
       "\n",
       "    .dataframe tbody tr th {\n",
       "        vertical-align: top;\n",
       "    }\n",
       "\n",
       "    .dataframe thead th {\n",
       "        text-align: right;\n",
       "    }\n",
       "</style>\n",
       "<table border=\"1\" class=\"dataframe\">\n",
       "  <thead>\n",
       "    <tr style=\"text-align: right;\">\n",
       "      <th></th>\n",
       "      <th>Id</th>\n",
       "      <th>path</th>\n",
       "      <th>speakerId</th>\n",
       "      <th>action</th>\n",
       "      <th>object</th>\n",
       "      <th>Self-reported fluency level</th>\n",
       "      <th>First Language spoken</th>\n",
       "      <th>Current language used for work/school</th>\n",
       "      <th>gender</th>\n",
       "      <th>ageRange</th>\n",
       "      <th>labels</th>\n",
       "    </tr>\n",
       "  </thead>\n",
       "  <tbody>\n",
       "    <tr>\n",
       "      <th>0</th>\n",
       "      <td>0</td>\n",
       "      <td>dsl_data/audio/speakers/2BqVo8kVB2Skwgyb/0a312...</td>\n",
       "      <td>2BqVo8kVB2Skwgyb</td>\n",
       "      <td>change language</td>\n",
       "      <td>none</td>\n",
       "      <td>advanced</td>\n",
       "      <td>English (United States)</td>\n",
       "      <td>English (United States)</td>\n",
       "      <td>female</td>\n",
       "      <td>22-40</td>\n",
       "      <td>5</td>\n",
       "    </tr>\n",
       "    <tr>\n",
       "      <th>1</th>\n",
       "      <td>1</td>\n",
       "      <td>dsl_data/audio/speakers/2BqVo8kVB2Skwgyb/0ee42...</td>\n",
       "      <td>2BqVo8kVB2Skwgyb</td>\n",
       "      <td>activate</td>\n",
       "      <td>music</td>\n",
       "      <td>advanced</td>\n",
       "      <td>English (United States)</td>\n",
       "      <td>English (United States)</td>\n",
       "      <td>female</td>\n",
       "      <td>22-40</td>\n",
       "      <td>6</td>\n",
       "    </tr>\n",
       "    <tr>\n",
       "      <th>2</th>\n",
       "      <td>2</td>\n",
       "      <td>dsl_data/audio/speakers/2BqVo8kVB2Skwgyb/1d9f3...</td>\n",
       "      <td>2BqVo8kVB2Skwgyb</td>\n",
       "      <td>deactivate</td>\n",
       "      <td>lights</td>\n",
       "      <td>advanced</td>\n",
       "      <td>English (United States)</td>\n",
       "      <td>English (United States)</td>\n",
       "      <td>female</td>\n",
       "      <td>22-40</td>\n",
       "      <td>7</td>\n",
       "    </tr>\n",
       "    <tr>\n",
       "      <th>3</th>\n",
       "      <td>3</td>\n",
       "      <td>dsl_data/audio/speakers/2BqVo8kVB2Skwgyb/269fc...</td>\n",
       "      <td>2BqVo8kVB2Skwgyb</td>\n",
       "      <td>increase</td>\n",
       "      <td>volume</td>\n",
       "      <td>advanced</td>\n",
       "      <td>English (United States)</td>\n",
       "      <td>English (United States)</td>\n",
       "      <td>female</td>\n",
       "      <td>22-40</td>\n",
       "      <td>1</td>\n",
       "    </tr>\n",
       "    <tr>\n",
       "      <th>4</th>\n",
       "      <td>4</td>\n",
       "      <td>dsl_data/audio/speakers/2BqVo8kVB2Skwgyb/5bbda...</td>\n",
       "      <td>2BqVo8kVB2Skwgyb</td>\n",
       "      <td>increase</td>\n",
       "      <td>volume</td>\n",
       "      <td>advanced</td>\n",
       "      <td>English (United States)</td>\n",
       "      <td>English (United States)</td>\n",
       "      <td>female</td>\n",
       "      <td>22-40</td>\n",
       "      <td>1</td>\n",
       "    </tr>\n",
       "    <tr>\n",
       "      <th>...</th>\n",
       "      <td>...</td>\n",
       "      <td>...</td>\n",
       "      <td>...</td>\n",
       "      <td>...</td>\n",
       "      <td>...</td>\n",
       "      <td>...</td>\n",
       "      <td>...</td>\n",
       "      <td>...</td>\n",
       "      <td>...</td>\n",
       "      <td>...</td>\n",
       "      <td>...</td>\n",
       "    </tr>\n",
       "    <tr>\n",
       "      <th>9849</th>\n",
       "      <td>9849</td>\n",
       "      <td>dsl_data/audio/speakers/vnljypgejkINbBAY/4fb3d...</td>\n",
       "      <td>vnljypgejkINbBAY</td>\n",
       "      <td>decrease</td>\n",
       "      <td>volume</td>\n",
       "      <td>native</td>\n",
       "      <td>English (United States)</td>\n",
       "      <td>English (United States)</td>\n",
       "      <td>male</td>\n",
       "      <td>22-40</td>\n",
       "      <td>3</td>\n",
       "    </tr>\n",
       "    <tr>\n",
       "      <th>9850</th>\n",
       "      <td>9850</td>\n",
       "      <td>dsl_data/audio/speakers/vnljypgejkINbBAY/59e6a...</td>\n",
       "      <td>vnljypgejkINbBAY</td>\n",
       "      <td>deactivate</td>\n",
       "      <td>lights</td>\n",
       "      <td>native</td>\n",
       "      <td>English (United States)</td>\n",
       "      <td>English (United States)</td>\n",
       "      <td>male</td>\n",
       "      <td>22-40</td>\n",
       "      <td>7</td>\n",
       "    </tr>\n",
       "    <tr>\n",
       "      <th>9851</th>\n",
       "      <td>9851</td>\n",
       "      <td>dsl_data/audio/speakers/vnljypgejkINbBAY/5c81c...</td>\n",
       "      <td>vnljypgejkINbBAY</td>\n",
       "      <td>deactivate</td>\n",
       "      <td>lights</td>\n",
       "      <td>native</td>\n",
       "      <td>English (United States)</td>\n",
       "      <td>English (United States)</td>\n",
       "      <td>male</td>\n",
       "      <td>22-40</td>\n",
       "      <td>7</td>\n",
       "    </tr>\n",
       "    <tr>\n",
       "      <th>9852</th>\n",
       "      <td>9852</td>\n",
       "      <td>dsl_data/audio/speakers/vnljypgejkINbBAY/5ef42...</td>\n",
       "      <td>vnljypgejkINbBAY</td>\n",
       "      <td>deactivate</td>\n",
       "      <td>lights</td>\n",
       "      <td>native</td>\n",
       "      <td>English (United States)</td>\n",
       "      <td>English (United States)</td>\n",
       "      <td>male</td>\n",
       "      <td>22-40</td>\n",
       "      <td>7</td>\n",
       "    </tr>\n",
       "    <tr>\n",
       "      <th>9853</th>\n",
       "      <td>9853</td>\n",
       "      <td>dsl_data/audio/speakers/vnljypgejkINbBAY/61b7a...</td>\n",
       "      <td>vnljypgejkINbBAY</td>\n",
       "      <td>increase</td>\n",
       "      <td>volume</td>\n",
       "      <td>native</td>\n",
       "      <td>English (United States)</td>\n",
       "      <td>English (United States)</td>\n",
       "      <td>male</td>\n",
       "      <td>22-40</td>\n",
       "      <td>1</td>\n",
       "    </tr>\n",
       "  </tbody>\n",
       "</table>\n",
       "<p>9854 rows × 11 columns</p>\n",
       "</div>"
      ],
      "text/plain": [
       "        Id                                               path  \\\n",
       "0        0  dsl_data/audio/speakers/2BqVo8kVB2Skwgyb/0a312...   \n",
       "1        1  dsl_data/audio/speakers/2BqVo8kVB2Skwgyb/0ee42...   \n",
       "2        2  dsl_data/audio/speakers/2BqVo8kVB2Skwgyb/1d9f3...   \n",
       "3        3  dsl_data/audio/speakers/2BqVo8kVB2Skwgyb/269fc...   \n",
       "4        4  dsl_data/audio/speakers/2BqVo8kVB2Skwgyb/5bbda...   \n",
       "...    ...                                                ...   \n",
       "9849  9849  dsl_data/audio/speakers/vnljypgejkINbBAY/4fb3d...   \n",
       "9850  9850  dsl_data/audio/speakers/vnljypgejkINbBAY/59e6a...   \n",
       "9851  9851  dsl_data/audio/speakers/vnljypgejkINbBAY/5c81c...   \n",
       "9852  9852  dsl_data/audio/speakers/vnljypgejkINbBAY/5ef42...   \n",
       "9853  9853  dsl_data/audio/speakers/vnljypgejkINbBAY/61b7a...   \n",
       "\n",
       "             speakerId           action  object Self-reported fluency level   \\\n",
       "0     2BqVo8kVB2Skwgyb  change language    none                     advanced   \n",
       "1     2BqVo8kVB2Skwgyb         activate   music                     advanced   \n",
       "2     2BqVo8kVB2Skwgyb       deactivate  lights                     advanced   \n",
       "3     2BqVo8kVB2Skwgyb         increase  volume                     advanced   \n",
       "4     2BqVo8kVB2Skwgyb         increase  volume                     advanced   \n",
       "...                ...              ...     ...                          ...   \n",
       "9849  vnljypgejkINbBAY         decrease  volume                       native   \n",
       "9850  vnljypgejkINbBAY       deactivate  lights                       native   \n",
       "9851  vnljypgejkINbBAY       deactivate  lights                       native   \n",
       "9852  vnljypgejkINbBAY       deactivate  lights                       native   \n",
       "9853  vnljypgejkINbBAY         increase  volume                       native   \n",
       "\n",
       "        First Language spoken Current language used for work/school  gender  \\\n",
       "0     English (United States)               English (United States)  female   \n",
       "1     English (United States)               English (United States)  female   \n",
       "2     English (United States)               English (United States)  female   \n",
       "3     English (United States)               English (United States)  female   \n",
       "4     English (United States)               English (United States)  female   \n",
       "...                       ...                                   ...     ...   \n",
       "9849  English (United States)               English (United States)    male   \n",
       "9850  English (United States)               English (United States)    male   \n",
       "9851  English (United States)               English (United States)    male   \n",
       "9852  English (United States)               English (United States)    male   \n",
       "9853  English (United States)               English (United States)    male   \n",
       "\n",
       "     ageRange  labels  \n",
       "0       22-40       5  \n",
       "1       22-40       6  \n",
       "2       22-40       7  \n",
       "3       22-40       1  \n",
       "4       22-40       1  \n",
       "...       ...     ...  \n",
       "9849    22-40       3  \n",
       "9850    22-40       7  \n",
       "9851    22-40       7  \n",
       "9852    22-40       7  \n",
       "9853    22-40       1  \n",
       "\n",
       "[9854 rows x 11 columns]"
      ]
     },
     "execution_count": 9,
     "metadata": {},
     "output_type": "execute_result"
    }
   ],
   "source": [
    "#df_development_increase_volume = df_development.loc[(df_development['action'] == 'increase') & (df_development['object'] == 'volume')]\n",
    "df_development['labels']=0\n",
    "\n",
    "#df_development_increase_volume = df_development.loc[(df_development['action'] == 'increase') & (df_development['object'] == 'volume')]\n",
    "df_development.loc[(df_development['action'] == 'increase') & (df_development['object'] == 'volume'), 'labels']=1\n",
    "df_development.loc[(df_development['action'] == 'increase') & (df_development['object'] == 'heat'), 'labels']=2\n",
    "\n",
    "df_development.loc[(df_development['action'] == 'decrease') & (df_development['object'] == 'volume'), 'labels']=3\n",
    "df_development.loc[(df_development['action'] == 'decrease') & (df_development['object'] == 'heat'), 'labels']=4\n",
    "\n",
    "df_development.loc[(df_development['action'] == 'change language') & (df_development['object'] == 'none'), 'labels']=5\n",
    "\n",
    "df_development.loc[(df_development['action'] == 'activate') & (df_development['object'] == 'music'), 'labels']=6\n",
    "df_development.loc[(df_development['action'] == 'deactivate') & (df_development['object'] == 'lights'), 'labels']=7\n",
    "\n",
    "df_development\n",
    "#df_development.labels.value_counts() #check"
   ]
  },
  {
   "cell_type": "code",
   "execution_count": 10,
   "id": "77027838",
   "metadata": {},
   "outputs": [
    {
     "data": {
      "text/plain": [
       "Id                                                                                    9845\n",
       "path                                     dsl_data/audio/speakers/Pz327QrLaGuxW8Do/20e47...\n",
       "speakerId                                                                 Pz327QrLaGuxW8Do\n",
       "action                                                                     change language\n",
       "object                                                                                none\n",
       "Self-reported fluency level                                                         native\n",
       "First Language spoken                                              English (United States)\n",
       "Current language used for work/school                              English (United States)\n",
       "gender                                                                              female\n",
       "ageRange                                                                             22-40\n",
       "labels                                                                                   5\n",
       "Name: 9845, dtype: object"
      ]
     },
     "execution_count": 10,
     "metadata": {},
     "output_type": "execute_result"
    }
   ],
   "source": [
    "df_development.iloc[9845]"
   ]
  },
  {
   "cell_type": "code",
   "execution_count": 11,
   "id": "6260f815",
   "metadata": {},
   "outputs": [],
   "source": [
    "path_working_directory = r'C:/Users/andre/OneDrive/Documenti/GitHub/winter_exam_22_23'\n",
    "paths_recordings = df_development['path']"
   ]
  },
  {
   "cell_type": "markdown",
   "id": "d77cc0ad",
   "metadata": {},
   "source": [
    "Load pickle file."
   ]
  },
  {
   "cell_type": "code",
   "execution_count": 12,
   "id": "299159e9",
   "metadata": {},
   "outputs": [],
   "source": [
    "name_file = r'/df.pickle'\n",
    "\n",
    "with open(path_working_directory+name_file, 'rb') as f:\n",
    "        df = pickle.load(f)\n",
    "df_pd = pd.DataFrame({'audio':df[1], 'gender': df_development.gender, 'ageRange': df_development.ageRange, 'label':df[3]})\n",
    "#df_pd[9840:9845] ETICHETTATO COME FEMALE MA SECONDO ME E MALE"
   ]
  },
  {
   "cell_type": "code",
   "execution_count": 13,
   "id": "62e60bdf",
   "metadata": {},
   "outputs": [],
   "source": [
    "# Test\n",
    "# df_female = df_development[df_development['gender']=='female']\n",
    "# df_female"
   ]
  },
  {
   "cell_type": "code",
   "execution_count": 14,
   "id": "d1f9c840",
   "metadata": {},
   "outputs": [],
   "source": [
    "# Test\n",
    "# df_development.gender.value_counts()"
   ]
  },
  {
   "cell_type": "code",
   "execution_count": 15,
   "id": "22b09ddc",
   "metadata": {},
   "outputs": [],
   "source": [
    "# Test\n",
    "# index = 9845\n",
    "# path_audio = df_development.path[index]\n",
    "# path_working_directory+'/'+path_audio\n",
    "# ipd.Audio(path_working_directory+'/'+path_audio)"
   ]
  },
  {
   "cell_type": "markdown",
   "id": "ad37994b",
   "metadata": {},
   "source": [
    " if len(item)/sr  >= 5 and len(item)/sr  <=7.5:\n",
    " \n",
    "n_samples /sr = seconds\n",
    "n_samples = seconds*sr\n"
   ]
  },
  {
   "cell_type": "code",
   "execution_count": 16,
   "id": "ab18ef28",
   "metadata": {},
   "outputs": [],
   "source": [
    "# 10e-3*sr"
   ]
  },
  {
   "cell_type": "code",
   "execution_count": 17,
   "id": "899adb0c",
   "metadata": {},
   "outputs": [],
   "source": [
    "# 2048/sr"
   ]
  },
  {
   "cell_type": "markdown",
   "id": "2ecc2011",
   "metadata": {},
   "source": [
    "See distribution of audio length"
   ]
  },
  {
   "cell_type": "code",
   "execution_count": 18,
   "id": "135b02bb",
   "metadata": {},
   "outputs": [
    {
     "data": {
      "text/plain": [
       "<AxesSubplot:title={'center':'Lenght of audios distribution (seconds)'}>"
      ]
     },
     "execution_count": 18,
     "metadata": {},
     "output_type": "execute_result"
    },
    {
     "data": {
      "image/png": "[encoded data removed]",
      "text/plain": [
       "<Figure size 864x864 with 1 Axes>"
      ]
     },
     "metadata": {
      "needs_background": "light"
     },
     "output_type": "display_data"
    }
   ],
   "source": [
    "length_audios = []\n",
    "length_audios_seconds = []\n",
    "indexes = []\n",
    "i = 0\n",
    "\n",
    "for item,sr in zip(df[1], df[2]):\n",
    "    length_audios.append(len(item))\n",
    "    length_audios_seconds.append(len(item)/sr)\n",
    "#   Decomment if you are interested in retrieve indexes of audio within a specific range \n",
    "    if len(item)/sr  >= 5 and len(item)/sr  <=7.5:\n",
    "        indexes.append(i)\n",
    "    i = i+1\n",
    "        \n",
    "\n",
    "length_audios=pd.Series(length_audios)\n",
    "length_audios_seconds = pd.Series(length_audios_seconds)\n",
    "#print(length_audios_seconds.value_counts())\n",
    "plt.figure(figsize=(12,12))\n",
    "plt.title(\"Lenght of audios distribution (seconds)\")\n",
    "length_audios_seconds.hist()\n",
    "#print(length_audios_seconds)\n"
   ]
  },
  {
   "cell_type": "code",
   "execution_count": 19,
   "id": "49dc0779",
   "metadata": {},
   "outputs": [
    {
     "data": {
      "text/plain": [
       "[3079,\n",
       " 3179,\n",
       " 3799,\n",
       " 3807,\n",
       " 3839,\n",
       " 4073,\n",
       " 4802,\n",
       " 7123,\n",
       " 7684,\n",
       " 8140,\n",
       " 8141,\n",
       " 8228,\n",
       " 8229,\n",
       " 8230,\n",
       " 8528]"
      ]
     },
     "execution_count": 19,
     "metadata": {},
     "output_type": "execute_result"
    }
   ],
   "source": [
    "indexes"
   ]
  },
  {
   "cell_type": "code",
   "execution_count": 20,
   "id": "1b4430aa",
   "metadata": {},
   "outputs": [],
   "source": [
    "# See info of audios within specific range\n",
    "#df_pd.iloc[indexes]"
   ]
  },
  {
   "cell_type": "code",
   "execution_count": 21,
   "id": "45ca3f17",
   "metadata": {},
   "outputs": [],
   "source": [
    "# index = 7123\n",
    "# path_audio = df_development.path[index]\n",
    "# path_working_directory+'/'+path_audio\n",
    "# ipd.Audio(df_pd['audio'][7123], rate=22050)"
   ]
  },
  {
   "cell_type": "markdown",
   "id": "c03ffa82",
   "metadata": {},
   "source": [
    "### 2. Pre-Processing"
   ]
  },
  {
   "cell_type": "markdown",
   "id": "711eab62",
   "metadata": {},
   "source": [
    "#### Resampling"
   ]
  },
  {
   "cell_type": "markdown",
   "id": "8cae3349",
   "metadata": {},
   "source": [
    "Resample all the signals with a different rate."
   ]
  },
  {
   "cell_type": "code",
   "execution_count": 22,
   "id": "83dc0a96",
   "metadata": {},
   "outputs": [
    {
     "data": {
      "text/plain": [
       "22050"
      ]
     },
     "execution_count": 22,
     "metadata": {},
     "output_type": "execute_result"
    }
   ],
   "source": [
    "sr"
   ]
  },
  {
   "cell_type": "code",
   "execution_count": 23,
   "id": "7214cf7c",
   "metadata": {},
   "outputs": [],
   "source": [
    "# resample_audios = []\n",
    "\n",
    "# y_8k = librosa.resample(audio, orig_sr=sr, target_sr=8000)\n",
    "# for i, audio in enumerate(df_pd.audio):\n",
    "#     audio_resampled = y_8k = librosa.resample(audio, orig_sr=sr, target_sr=8000)\n",
    "#     resample_audios.append(audio_resampled)\n",
    "    \n",
    "# df_pd['audio_resample'] = resample_audios    \n",
    "# df_pd"
   ]
  },
  {
   "cell_type": "markdown",
   "id": "12ce9a7a",
   "metadata": {},
   "source": [
    "According to several papers focused on audio classification, VDA is among one of the most preprocessing techinque adopted which aims to trim all the silence parts away from audio files.\n",
    "\n",
    "To apply it, we will use _trim_ and _split_ librosa functions.\n",
    "\n",
    "- _trim_: cut silence frames at the beginning and in the end of an audio file.\n",
    "- _split_: saves the indexes (start, stop) of each non-silent frame in the audio file."
   ]
  },
  {
   "cell_type": "markdown",
   "id": "b8f3734b",
   "metadata": {},
   "source": [
    "#### Trim"
   ]
  },
  {
   "cell_type": "code",
   "execution_count": 25,
   "id": "d01ba7a5",
   "metadata": {},
   "outputs": [
    {
     "data": {
      "text/html": [
       "<div>\n",
       "<style scoped>\n",
       "    .dataframe tbody tr th:only-of-type {\n",
       "        vertical-align: middle;\n",
       "    }\n",
       "\n",
       "    .dataframe tbody tr th {\n",
       "        vertical-align: top;\n",
       "    }\n",
       "\n",
       "    .dataframe thead th {\n",
       "        text-align: right;\n",
       "    }\n",
       "</style>\n",
       "<table border=\"1\" class=\"dataframe\">\n",
       "  <thead>\n",
       "    <tr style=\"text-align: right;\">\n",
       "      <th></th>\n",
       "      <th>audio</th>\n",
       "      <th>gender</th>\n",
       "      <th>ageRange</th>\n",
       "      <th>label</th>\n",
       "      <th>audio_trim</th>\n",
       "    </tr>\n",
       "  </thead>\n",
       "  <tbody>\n",
       "    <tr>\n",
       "      <th>0</th>\n",
       "      <td>[0.0, 0.0, 0.0, 0.0, 0.0, 0.0, 0.0, 0.0, 0.0, ...</td>\n",
       "      <td>female</td>\n",
       "      <td>22-40</td>\n",
       "      <td>5</td>\n",
       "      <td>[-0.0010869442, 6.950152e-05, 0.0010575794, 1....</td>\n",
       "    </tr>\n",
       "    <tr>\n",
       "      <th>1</th>\n",
       "      <td>[0.0, 0.0, 0.0, 0.0, 0.0, 0.0, 0.0, 0.0, 0.0, ...</td>\n",
       "      <td>female</td>\n",
       "      <td>22-40</td>\n",
       "      <td>6</td>\n",
       "      <td>[0.0005718688, 0.0005805124, 0.00058862584, 0....</td>\n",
       "    </tr>\n",
       "    <tr>\n",
       "      <th>2</th>\n",
       "      <td>[0.0, 0.0, 0.0, 0.0, 0.0, 0.0, 0.0, 0.0, 0.0, ...</td>\n",
       "      <td>female</td>\n",
       "      <td>22-40</td>\n",
       "      <td>7</td>\n",
       "      <td>[3.145638e-05, 3.0807154e-05, 2.8492566e-05, 3...</td>\n",
       "    </tr>\n",
       "    <tr>\n",
       "      <th>3</th>\n",
       "      <td>[0.0, 0.0, 0.0, 0.0, 0.0, 0.0, 0.0, 0.0, 0.0, ...</td>\n",
       "      <td>female</td>\n",
       "      <td>22-40</td>\n",
       "      <td>1</td>\n",
       "      <td>[0.0076071513, 0.008677023, 0.009811347, 0.010...</td>\n",
       "    </tr>\n",
       "    <tr>\n",
       "      <th>4</th>\n",
       "      <td>[0.0, 0.0, 0.0, 0.0, 0.0, 0.0, 0.0, 0.0, 0.0, ...</td>\n",
       "      <td>female</td>\n",
       "      <td>22-40</td>\n",
       "      <td>1</td>\n",
       "      <td>[4.5547e-06, 2.4867417e-05, 3.363467e-05, 3.05...</td>\n",
       "    </tr>\n",
       "    <tr>\n",
       "      <th>...</th>\n",
       "      <td>...</td>\n",
       "      <td>...</td>\n",
       "      <td>...</td>\n",
       "      <td>...</td>\n",
       "      <td>...</td>\n",
       "    </tr>\n",
       "    <tr>\n",
       "      <th>9849</th>\n",
       "      <td>[0.009223618, 0.010777138, 0.009321626, 0.0099...</td>\n",
       "      <td>male</td>\n",
       "      <td>22-40</td>\n",
       "      <td>3</td>\n",
       "      <td>[-0.012367419, -0.01213057, -0.011735419, -0.0...</td>\n",
       "    </tr>\n",
       "    <tr>\n",
       "      <th>9850</th>\n",
       "      <td>[0.00936052, 0.010867924, 0.009305291, 0.00991...</td>\n",
       "      <td>male</td>\n",
       "      <td>22-40</td>\n",
       "      <td>7</td>\n",
       "      <td>[-0.00086439366, 0.011530005, 0.0026797082, -0...</td>\n",
       "    </tr>\n",
       "    <tr>\n",
       "      <th>9851</th>\n",
       "      <td>[0.0014334349, 0.001723074, 0.0015384919, 0.00...</td>\n",
       "      <td>male</td>\n",
       "      <td>22-40</td>\n",
       "      <td>7</td>\n",
       "      <td>[0.0048560956, -3.8896687e-05, -0.00041252645,...</td>\n",
       "    </tr>\n",
       "    <tr>\n",
       "      <th>9852</th>\n",
       "      <td>[0.009742705, 0.011407773, 0.009794228, 0.0103...</td>\n",
       "      <td>male</td>\n",
       "      <td>22-40</td>\n",
       "      <td>7</td>\n",
       "      <td>[0.003923648, 0.0039615026, 0.0041058823, 0.00...</td>\n",
       "    </tr>\n",
       "    <tr>\n",
       "      <th>9853</th>\n",
       "      <td>[0.009512647, 0.011129991, 0.00956014, 0.01007...</td>\n",
       "      <td>male</td>\n",
       "      <td>22-40</td>\n",
       "      <td>1</td>\n",
       "      <td>[-0.02300861, -0.022161294, -0.021594988, -0.0...</td>\n",
       "    </tr>\n",
       "  </tbody>\n",
       "</table>\n",
       "<p>9854 rows × 5 columns</p>\n",
       "</div>"
      ],
      "text/plain": [
       "                                                  audio  gender ageRange  \\\n",
       "0     [0.0, 0.0, 0.0, 0.0, 0.0, 0.0, 0.0, 0.0, 0.0, ...  female    22-40   \n",
       "1     [0.0, 0.0, 0.0, 0.0, 0.0, 0.0, 0.0, 0.0, 0.0, ...  female    22-40   \n",
       "2     [0.0, 0.0, 0.0, 0.0, 0.0, 0.0, 0.0, 0.0, 0.0, ...  female    22-40   \n",
       "3     [0.0, 0.0, 0.0, 0.0, 0.0, 0.0, 0.0, 0.0, 0.0, ...  female    22-40   \n",
       "4     [0.0, 0.0, 0.0, 0.0, 0.0, 0.0, 0.0, 0.0, 0.0, ...  female    22-40   \n",
       "...                                                 ...     ...      ...   \n",
       "9849  [0.009223618, 0.010777138, 0.009321626, 0.0099...    male    22-40   \n",
       "9850  [0.00936052, 0.010867924, 0.009305291, 0.00991...    male    22-40   \n",
       "9851  [0.0014334349, 0.001723074, 0.0015384919, 0.00...    male    22-40   \n",
       "9852  [0.009742705, 0.011407773, 0.009794228, 0.0103...    male    22-40   \n",
       "9853  [0.009512647, 0.011129991, 0.00956014, 0.01007...    male    22-40   \n",
       "\n",
       "      label                                         audio_trim  \n",
       "0         5  [-0.0010869442, 6.950152e-05, 0.0010575794, 1....  \n",
       "1         6  [0.0005718688, 0.0005805124, 0.00058862584, 0....  \n",
       "2         7  [3.145638e-05, 3.0807154e-05, 2.8492566e-05, 3...  \n",
       "3         1  [0.0076071513, 0.008677023, 0.009811347, 0.010...  \n",
       "4         1  [4.5547e-06, 2.4867417e-05, 3.363467e-05, 3.05...  \n",
       "...     ...                                                ...  \n",
       "9849      3  [-0.012367419, -0.01213057, -0.011735419, -0.0...  \n",
       "9850      7  [-0.00086439366, 0.011530005, 0.0026797082, -0...  \n",
       "9851      7  [0.0048560956, -3.8896687e-05, -0.00041252645,...  \n",
       "9852      7  [0.003923648, 0.0039615026, 0.0041058823, 0.00...  \n",
       "9853      1  [-0.02300861, -0.022161294, -0.021594988, -0.0...  \n",
       "\n",
       "[9854 rows x 5 columns]"
      ]
     },
     "execution_count": 25,
     "metadata": {},
     "output_type": "execute_result"
    }
   ],
   "source": [
    "trim_audios = []\n",
    "for i, audio in enumerate(df_pd.audio):\n",
    "    audio_trim = librosa.effects.trim(audio, top_db=20)[0]\n",
    "    trim_audios.append(audio_trim)\n",
    "    \n",
    "df_pd['audio_trim'] = trim_audios    \n",
    "df_pd"
   ]
  },
  {
   "cell_type": "code",
   "execution_count": 26,
   "id": "c98121bd",
   "metadata": {},
   "outputs": [
    {
     "data": {
      "text/plain": [
       "<AxesSubplot:title={'center':'Lenght of audios distribution (seconds)'}>"
      ]
     },
     "execution_count": 26,
     "metadata": {},
     "output_type": "execute_result"
    },
    {
     "data": {
      "image/png": "[encoded data removed]",
      "text/plain": [
       "<Figure size 864x864 with 1 Axes>"
      ]
     },
     "metadata": {
      "needs_background": "light"
     },
     "output_type": "display_data"
    }
   ],
   "source": [
    "length_audios_trim = []\n",
    "length_audios_seconds_trim = []\n",
    "indexes = []\n",
    "i = 0\n",
    "\n",
    "for item in df_pd.audio_trim:\n",
    "    length_audios_trim.append(len(item))\n",
    "    length_audios_seconds_trim.append(len(item)/sr)\n",
    "#   Decomment if you are interested in retrieve indexes of audio within a specific range \n",
    "    if len(item)/sr  > 2: # se 2.64 prestazioni minori\n",
    "        indexes.append(i)\n",
    "    i = i+1\n",
    "        \n",
    "\n",
    "length_audios_trim=pd.Series(length_audios_trim)\n",
    "length_audios_seconds_trim = pd.Series(length_audios_seconds_trim)\n",
    "#print(length_audios_seconds.value_counts())\n",
    "plt.figure(figsize=(12,12))\n",
    "plt.title(\"Lenght of audios distribution (seconds)\")\n",
    "length_audios_seconds_trim.hist()\n",
    "#print(length_audios_seconds)\n"
   ]
  },
  {
   "cell_type": "code",
   "execution_count": 27,
   "id": "11fabeb9",
   "metadata": {},
   "outputs": [
    {
     "data": {
      "text/plain": [
       "366"
      ]
     },
     "execution_count": 27,
     "metadata": {},
     "output_type": "execute_result"
    }
   ],
   "source": [
    "len(indexes)"
   ]
  },
  {
   "cell_type": "code",
   "execution_count": 28,
   "id": "5aa71035",
   "metadata": {
    "scrolled": true
   },
   "outputs": [
    {
     "data": {
      "text/html": [
       "<div>\n",
       "<style scoped>\n",
       "    .dataframe tbody tr th:only-of-type {\n",
       "        vertical-align: middle;\n",
       "    }\n",
       "\n",
       "    .dataframe tbody tr th {\n",
       "        vertical-align: top;\n",
       "    }\n",
       "\n",
       "    .dataframe thead th {\n",
       "        text-align: right;\n",
       "    }\n",
       "</style>\n",
       "<table border=\"1\" class=\"dataframe\">\n",
       "  <thead>\n",
       "    <tr style=\"text-align: right;\">\n",
       "      <th></th>\n",
       "      <th>audio</th>\n",
       "      <th>gender</th>\n",
       "      <th>ageRange</th>\n",
       "      <th>label</th>\n",
       "      <th>audio_trim</th>\n",
       "    </tr>\n",
       "  </thead>\n",
       "  <tbody>\n",
       "    <tr>\n",
       "      <th>0</th>\n",
       "      <td>[0.0, 0.0, 0.0, 0.0, 0.0, 0.0, 0.0, 0.0, 0.0, ...</td>\n",
       "      <td>female</td>\n",
       "      <td>22-40</td>\n",
       "      <td>5</td>\n",
       "      <td>[-0.0010869442, 6.950152e-05, 0.0010575794, 1....</td>\n",
       "    </tr>\n",
       "    <tr>\n",
       "      <th>1</th>\n",
       "      <td>[0.0, 0.0, 0.0, 0.0, 0.0, 0.0, 0.0, 0.0, 0.0, ...</td>\n",
       "      <td>female</td>\n",
       "      <td>22-40</td>\n",
       "      <td>6</td>\n",
       "      <td>[0.0005718688, 0.0005805124, 0.00058862584, 0....</td>\n",
       "    </tr>\n",
       "    <tr>\n",
       "      <th>2</th>\n",
       "      <td>[0.0, 0.0, 0.0, 0.0, 0.0, 0.0, 0.0, 0.0, 0.0, ...</td>\n",
       "      <td>female</td>\n",
       "      <td>22-40</td>\n",
       "      <td>7</td>\n",
       "      <td>[3.145638e-05, 3.0807154e-05, 2.8492566e-05, 3...</td>\n",
       "    </tr>\n",
       "    <tr>\n",
       "      <th>3</th>\n",
       "      <td>[0.0, 0.0, 0.0, 0.0, 0.0, 0.0, 0.0, 0.0, 0.0, ...</td>\n",
       "      <td>female</td>\n",
       "      <td>22-40</td>\n",
       "      <td>1</td>\n",
       "      <td>[0.0076071513, 0.008677023, 0.009811347, 0.010...</td>\n",
       "    </tr>\n",
       "    <tr>\n",
       "      <th>4</th>\n",
       "      <td>[0.0, 0.0, 0.0, 0.0, 0.0, 0.0, 0.0, 0.0, 0.0, ...</td>\n",
       "      <td>female</td>\n",
       "      <td>22-40</td>\n",
       "      <td>1</td>\n",
       "      <td>[4.5547e-06, 2.4867417e-05, 3.363467e-05, 3.05...</td>\n",
       "    </tr>\n",
       "    <tr>\n",
       "      <th>...</th>\n",
       "      <td>...</td>\n",
       "      <td>...</td>\n",
       "      <td>...</td>\n",
       "      <td>...</td>\n",
       "      <td>...</td>\n",
       "    </tr>\n",
       "    <tr>\n",
       "      <th>9483</th>\n",
       "      <td>[0.009223618, 0.010777138, 0.009321626, 0.0099...</td>\n",
       "      <td>male</td>\n",
       "      <td>22-40</td>\n",
       "      <td>3</td>\n",
       "      <td>[-0.012367419, -0.01213057, -0.011735419, -0.0...</td>\n",
       "    </tr>\n",
       "    <tr>\n",
       "      <th>9484</th>\n",
       "      <td>[0.00936052, 0.010867924, 0.009305291, 0.00991...</td>\n",
       "      <td>male</td>\n",
       "      <td>22-40</td>\n",
       "      <td>7</td>\n",
       "      <td>[-0.00086439366, 0.011530005, 0.0026797082, -0...</td>\n",
       "    </tr>\n",
       "    <tr>\n",
       "      <th>9485</th>\n",
       "      <td>[0.0014334349, 0.001723074, 0.0015384919, 0.00...</td>\n",
       "      <td>male</td>\n",
       "      <td>22-40</td>\n",
       "      <td>7</td>\n",
       "      <td>[0.0048560956, -3.8896687e-05, -0.00041252645,...</td>\n",
       "    </tr>\n",
       "    <tr>\n",
       "      <th>9486</th>\n",
       "      <td>[0.009742705, 0.011407773, 0.009794228, 0.0103...</td>\n",
       "      <td>male</td>\n",
       "      <td>22-40</td>\n",
       "      <td>7</td>\n",
       "      <td>[0.003923648, 0.0039615026, 0.0041058823, 0.00...</td>\n",
       "    </tr>\n",
       "    <tr>\n",
       "      <th>9487</th>\n",
       "      <td>[0.009512647, 0.011129991, 0.00956014, 0.01007...</td>\n",
       "      <td>male</td>\n",
       "      <td>22-40</td>\n",
       "      <td>1</td>\n",
       "      <td>[-0.02300861, -0.022161294, -0.021594988, -0.0...</td>\n",
       "    </tr>\n",
       "  </tbody>\n",
       "</table>\n",
       "<p>9488 rows × 5 columns</p>\n",
       "</div>"
      ],
      "text/plain": [
       "                                                  audio  gender ageRange  \\\n",
       "0     [0.0, 0.0, 0.0, 0.0, 0.0, 0.0, 0.0, 0.0, 0.0, ...  female    22-40   \n",
       "1     [0.0, 0.0, 0.0, 0.0, 0.0, 0.0, 0.0, 0.0, 0.0, ...  female    22-40   \n",
       "2     [0.0, 0.0, 0.0, 0.0, 0.0, 0.0, 0.0, 0.0, 0.0, ...  female    22-40   \n",
       "3     [0.0, 0.0, 0.0, 0.0, 0.0, 0.0, 0.0, 0.0, 0.0, ...  female    22-40   \n",
       "4     [0.0, 0.0, 0.0, 0.0, 0.0, 0.0, 0.0, 0.0, 0.0, ...  female    22-40   \n",
       "...                                                 ...     ...      ...   \n",
       "9483  [0.009223618, 0.010777138, 0.009321626, 0.0099...    male    22-40   \n",
       "9484  [0.00936052, 0.010867924, 0.009305291, 0.00991...    male    22-40   \n",
       "9485  [0.0014334349, 0.001723074, 0.0015384919, 0.00...    male    22-40   \n",
       "9486  [0.009742705, 0.011407773, 0.009794228, 0.0103...    male    22-40   \n",
       "9487  [0.009512647, 0.011129991, 0.00956014, 0.01007...    male    22-40   \n",
       "\n",
       "      label                                         audio_trim  \n",
       "0         5  [-0.0010869442, 6.950152e-05, 0.0010575794, 1....  \n",
       "1         6  [0.0005718688, 0.0005805124, 0.00058862584, 0....  \n",
       "2         7  [3.145638e-05, 3.0807154e-05, 2.8492566e-05, 3...  \n",
       "3         1  [0.0076071513, 0.008677023, 0.009811347, 0.010...  \n",
       "4         1  [4.5547e-06, 2.4867417e-05, 3.363467e-05, 3.05...  \n",
       "...     ...                                                ...  \n",
       "9483      3  [-0.012367419, -0.01213057, -0.011735419, -0.0...  \n",
       "9484      7  [-0.00086439366, 0.011530005, 0.0026797082, -0...  \n",
       "9485      7  [0.0048560956, -3.8896687e-05, -0.00041252645,...  \n",
       "9486      7  [0.003923648, 0.0039615026, 0.0041058823, 0.00...  \n",
       "9487      1  [-0.02300861, -0.022161294, -0.021594988, -0.0...  \n",
       "\n",
       "[9488 rows x 5 columns]"
      ]
     },
     "execution_count": 28,
     "metadata": {},
     "output_type": "execute_result"
    }
   ],
   "source": [
    "df_pd=df_pd.drop(indexes).reset_index(drop=True) #reset_index because we have a new df and if we want to iterate over it is simpler\n",
    "df_pd"
   ]
  },
  {
   "cell_type": "markdown",
   "id": "76bc519d",
   "metadata": {},
   "source": [
    "#### Denoising"
   ]
  },
  {
   "cell_type": "code",
   "execution_count": 29,
   "id": "62bf7be1",
   "metadata": {},
   "outputs": [],
   "source": [
    "# audio = df_pd.audio[7]\n",
    "# clean_audio=nr.reduce_noise(y=audio, sr=sr, n_std_thresh_stationary=1.5, stationary=True)"
   ]
  },
  {
   "cell_type": "code",
   "execution_count": 30,
   "id": "7197c39f",
   "metadata": {},
   "outputs": [],
   "source": [
    "# ipd.Audio(audio, rate=22050)"
   ]
  },
  {
   "cell_type": "code",
   "execution_count": 31,
   "id": "adcbc8f2",
   "metadata": {},
   "outputs": [],
   "source": [
    "# ipd.Audio(clean_audio, rate=22050)"
   ]
  },
  {
   "cell_type": "code",
   "execution_count": 32,
   "id": "f4fd3520",
   "metadata": {},
   "outputs": [],
   "source": [
    "# audios_cleaned = []\n",
    "\n",
    "# for audio in df_pd.audio_trim:\n",
    "    \n",
    "#     audio_clean = nr.reduce_noise(y=audio, sr=sr, n_std_thresh_stationary=1.5, stationary=True)\n",
    "#     audios_cleaned.append(audio_clean)\n",
    "# #new_audio_reconstructed = np.hstack(audio_reconstructed)\n",
    "# #s1 = df_pd['audio'][idx][non_silence_parts[1][0]:non_silence_parts[1][-1]]\n",
    "# # s2 = df_pd['audio'][3799][librosa.effects.split(df_pd['audio'][3799])[1][0]:librosa.effects.split(df_pd['audio'][3799])[1][-1]]\n",
    "\n",
    "# #ipd.Audio(new_audio_reconstructed, rate=22050)"
   ]
  },
  {
   "cell_type": "code",
   "execution_count": 33,
   "id": "8b2c9fdb",
   "metadata": {},
   "outputs": [],
   "source": [
    "# df_pd['audio_cleaned'] = audios_cleaned    \n",
    "# df_pd"
   ]
  },
  {
   "cell_type": "markdown",
   "id": "9161817f",
   "metadata": {},
   "source": [
    "#### Split"
   ]
  },
  {
   "cell_type": "code",
   "execution_count": 34,
   "id": "bbf708a4",
   "metadata": {},
   "outputs": [],
   "source": [
    "# idx = 8136\n",
    "# s =df_pd.audio[idx]\n",
    "# ipd.Audio(df_pd['audio_cleaned'][idx], rate=22050)"
   ]
  },
  {
   "cell_type": "code",
   "execution_count": 35,
   "id": "d4d86431",
   "metadata": {},
   "outputs": [],
   "source": [
    "audios_reconstructed = []\n",
    "\n",
    "for audio in df_pd.audio_trim:\n",
    "    \n",
    "    non_silence_parts = librosa.effects.split(audio, top_db=20)\n",
    "    audio_reconstructed_parts = [] #save the non silent parts in a list that then will be merged together to obtain the reconstructed file\n",
    "    \n",
    "    for part in non_silence_parts:\n",
    "        audio_reconstructed_parts.append(audio[part[0]:part[-1]])\n",
    "\n",
    "    audio_reconstructed = np.hstack(audio_reconstructed_parts)\n",
    "    audios_reconstructed.append(audio_reconstructed)\n",
    "#new_audio_reconstructed = np.hstack(audio_reconstructed)\n",
    "#s1 = df_pd['audio'][idx][non_silence_parts[1][0]:non_silence_parts[1][-1]]\n",
    "# s2 = df_pd['audio'][3799][librosa.effects.split(df_pd['audio'][3799])[1][0]:librosa.effects.split(df_pd['audio'][3799])[1][-1]]\n",
    "\n",
    "#ipd.Audio(new_audio_reconstructed, rate=22050)"
   ]
  },
  {
   "cell_type": "code",
   "execution_count": 36,
   "id": "6bb9789c",
   "metadata": {},
   "outputs": [
    {
     "data": {
      "text/html": [
       "<div>\n",
       "<style scoped>\n",
       "    .dataframe tbody tr th:only-of-type {\n",
       "        vertical-align: middle;\n",
       "    }\n",
       "\n",
       "    .dataframe tbody tr th {\n",
       "        vertical-align: top;\n",
       "    }\n",
       "\n",
       "    .dataframe thead th {\n",
       "        text-align: right;\n",
       "    }\n",
       "</style>\n",
       "<table border=\"1\" class=\"dataframe\">\n",
       "  <thead>\n",
       "    <tr style=\"text-align: right;\">\n",
       "      <th></th>\n",
       "      <th>audio</th>\n",
       "      <th>gender</th>\n",
       "      <th>ageRange</th>\n",
       "      <th>label</th>\n",
       "      <th>audio_trim</th>\n",
       "      <th>audio_reconstructed</th>\n",
       "    </tr>\n",
       "  </thead>\n",
       "  <tbody>\n",
       "    <tr>\n",
       "      <th>0</th>\n",
       "      <td>[0.0, 0.0, 0.0, 0.0, 0.0, 0.0, 0.0, 0.0, 0.0, ...</td>\n",
       "      <td>female</td>\n",
       "      <td>22-40</td>\n",
       "      <td>5</td>\n",
       "      <td>[-0.0010869442, 6.950152e-05, 0.0010575794, 1....</td>\n",
       "      <td>[-0.0010869442, 6.950152e-05, 0.0010575794, 1....</td>\n",
       "    </tr>\n",
       "    <tr>\n",
       "      <th>1</th>\n",
       "      <td>[0.0, 0.0, 0.0, 0.0, 0.0, 0.0, 0.0, 0.0, 0.0, ...</td>\n",
       "      <td>female</td>\n",
       "      <td>22-40</td>\n",
       "      <td>6</td>\n",
       "      <td>[0.0005718688, 0.0005805124, 0.00058862584, 0....</td>\n",
       "      <td>[0.0005718688, 0.0005805124, 0.00058862584, 0....</td>\n",
       "    </tr>\n",
       "    <tr>\n",
       "      <th>2</th>\n",
       "      <td>[0.0, 0.0, 0.0, 0.0, 0.0, 0.0, 0.0, 0.0, 0.0, ...</td>\n",
       "      <td>female</td>\n",
       "      <td>22-40</td>\n",
       "      <td>7</td>\n",
       "      <td>[3.145638e-05, 3.0807154e-05, 2.8492566e-05, 3...</td>\n",
       "      <td>[3.145638e-05, 3.0807154e-05, 2.8492566e-05, 3...</td>\n",
       "    </tr>\n",
       "    <tr>\n",
       "      <th>3</th>\n",
       "      <td>[0.0, 0.0, 0.0, 0.0, 0.0, 0.0, 0.0, 0.0, 0.0, ...</td>\n",
       "      <td>female</td>\n",
       "      <td>22-40</td>\n",
       "      <td>1</td>\n",
       "      <td>[0.0076071513, 0.008677023, 0.009811347, 0.010...</td>\n",
       "      <td>[-0.03259971, -0.032135516, -0.029293448, -0.0...</td>\n",
       "    </tr>\n",
       "    <tr>\n",
       "      <th>4</th>\n",
       "      <td>[0.0, 0.0, 0.0, 0.0, 0.0, 0.0, 0.0, 0.0, 0.0, ...</td>\n",
       "      <td>female</td>\n",
       "      <td>22-40</td>\n",
       "      <td>1</td>\n",
       "      <td>[4.5547e-06, 2.4867417e-05, 3.363467e-05, 3.05...</td>\n",
       "      <td>[4.5547e-06, 2.4867417e-05, 3.363467e-05, 3.05...</td>\n",
       "    </tr>\n",
       "    <tr>\n",
       "      <th>...</th>\n",
       "      <td>...</td>\n",
       "      <td>...</td>\n",
       "      <td>...</td>\n",
       "      <td>...</td>\n",
       "      <td>...</td>\n",
       "      <td>...</td>\n",
       "    </tr>\n",
       "    <tr>\n",
       "      <th>9483</th>\n",
       "      <td>[0.009223618, 0.010777138, 0.009321626, 0.0099...</td>\n",
       "      <td>male</td>\n",
       "      <td>22-40</td>\n",
       "      <td>3</td>\n",
       "      <td>[-0.012367419, -0.01213057, -0.011735419, -0.0...</td>\n",
       "      <td>[-0.012367419, -0.01213057, -0.011735419, -0.0...</td>\n",
       "    </tr>\n",
       "    <tr>\n",
       "      <th>9484</th>\n",
       "      <td>[0.00936052, 0.010867924, 0.009305291, 0.00991...</td>\n",
       "      <td>male</td>\n",
       "      <td>22-40</td>\n",
       "      <td>7</td>\n",
       "      <td>[-0.00086439366, 0.011530005, 0.0026797082, -0...</td>\n",
       "      <td>[-0.00086439366, 0.011530005, 0.0026797082, -0...</td>\n",
       "    </tr>\n",
       "    <tr>\n",
       "      <th>9485</th>\n",
       "      <td>[0.0014334349, 0.001723074, 0.0015384919, 0.00...</td>\n",
       "      <td>male</td>\n",
       "      <td>22-40</td>\n",
       "      <td>7</td>\n",
       "      <td>[0.0048560956, -3.8896687e-05, -0.00041252645,...</td>\n",
       "      <td>[0.0048560956, -3.8896687e-05, -0.00041252645,...</td>\n",
       "    </tr>\n",
       "    <tr>\n",
       "      <th>9486</th>\n",
       "      <td>[0.009742705, 0.011407773, 0.009794228, 0.0103...</td>\n",
       "      <td>male</td>\n",
       "      <td>22-40</td>\n",
       "      <td>7</td>\n",
       "      <td>[0.003923648, 0.0039615026, 0.0041058823, 0.00...</td>\n",
       "      <td>[0.003923648, 0.0039615026, 0.0041058823, 0.00...</td>\n",
       "    </tr>\n",
       "    <tr>\n",
       "      <th>9487</th>\n",
       "      <td>[0.009512647, 0.011129991, 0.00956014, 0.01007...</td>\n",
       "      <td>male</td>\n",
       "      <td>22-40</td>\n",
       "      <td>1</td>\n",
       "      <td>[-0.02300861, -0.022161294, -0.021594988, -0.0...</td>\n",
       "      <td>[0.012667541, 0.012374645, 0.013755124, 0.0156...</td>\n",
       "    </tr>\n",
       "  </tbody>\n",
       "</table>\n",
       "<p>9488 rows × 6 columns</p>\n",
       "</div>"
      ],
      "text/plain": [
       "                                                  audio  gender ageRange  \\\n",
       "0     [0.0, 0.0, 0.0, 0.0, 0.0, 0.0, 0.0, 0.0, 0.0, ...  female    22-40   \n",
       "1     [0.0, 0.0, 0.0, 0.0, 0.0, 0.0, 0.0, 0.0, 0.0, ...  female    22-40   \n",
       "2     [0.0, 0.0, 0.0, 0.0, 0.0, 0.0, 0.0, 0.0, 0.0, ...  female    22-40   \n",
       "3     [0.0, 0.0, 0.0, 0.0, 0.0, 0.0, 0.0, 0.0, 0.0, ...  female    22-40   \n",
       "4     [0.0, 0.0, 0.0, 0.0, 0.0, 0.0, 0.0, 0.0, 0.0, ...  female    22-40   \n",
       "...                                                 ...     ...      ...   \n",
       "9483  [0.009223618, 0.010777138, 0.009321626, 0.0099...    male    22-40   \n",
       "9484  [0.00936052, 0.010867924, 0.009305291, 0.00991...    male    22-40   \n",
       "9485  [0.0014334349, 0.001723074, 0.0015384919, 0.00...    male    22-40   \n",
       "9486  [0.009742705, 0.011407773, 0.009794228, 0.0103...    male    22-40   \n",
       "9487  [0.009512647, 0.011129991, 0.00956014, 0.01007...    male    22-40   \n",
       "\n",
       "      label                                         audio_trim  \\\n",
       "0         5  [-0.0010869442, 6.950152e-05, 0.0010575794, 1....   \n",
       "1         6  [0.0005718688, 0.0005805124, 0.00058862584, 0....   \n",
       "2         7  [3.145638e-05, 3.0807154e-05, 2.8492566e-05, 3...   \n",
       "3         1  [0.0076071513, 0.008677023, 0.009811347, 0.010...   \n",
       "4         1  [4.5547e-06, 2.4867417e-05, 3.363467e-05, 3.05...   \n",
       "...     ...                                                ...   \n",
       "9483      3  [-0.012367419, -0.01213057, -0.011735419, -0.0...   \n",
       "9484      7  [-0.00086439366, 0.011530005, 0.0026797082, -0...   \n",
       "9485      7  [0.0048560956, -3.8896687e-05, -0.00041252645,...   \n",
       "9486      7  [0.003923648, 0.0039615026, 0.0041058823, 0.00...   \n",
       "9487      1  [-0.02300861, -0.022161294, -0.021594988, -0.0...   \n",
       "\n",
       "                                    audio_reconstructed  \n",
       "0     [-0.0010869442, 6.950152e-05, 0.0010575794, 1....  \n",
       "1     [0.0005718688, 0.0005805124, 0.00058862584, 0....  \n",
       "2     [3.145638e-05, 3.0807154e-05, 2.8492566e-05, 3...  \n",
       "3     [-0.03259971, -0.032135516, -0.029293448, -0.0...  \n",
       "4     [4.5547e-06, 2.4867417e-05, 3.363467e-05, 3.05...  \n",
       "...                                                 ...  \n",
       "9483  [-0.012367419, -0.01213057, -0.011735419, -0.0...  \n",
       "9484  [-0.00086439366, 0.011530005, 0.0026797082, -0...  \n",
       "9485  [0.0048560956, -3.8896687e-05, -0.00041252645,...  \n",
       "9486  [0.003923648, 0.0039615026, 0.0041058823, 0.00...  \n",
       "9487  [0.012667541, 0.012374645, 0.013755124, 0.0156...  \n",
       "\n",
       "[9488 rows x 6 columns]"
      ]
     },
     "execution_count": 36,
     "metadata": {},
     "output_type": "execute_result"
    }
   ],
   "source": [
    "df_pd['audio_reconstructed'] = audios_reconstructed    \n",
    "df_pd"
   ]
  },
  {
   "cell_type": "code",
   "execution_count": 37,
   "id": "4c9301d1",
   "metadata": {},
   "outputs": [
    {
     "name": "stdout",
     "output_type": "stream",
     "text": [
      "38912 33792\n"
     ]
    },
    {
     "data": {
      "text/html": [
       "\n",
       "                <audio  controls=\"controls\" >\n",
       "                    <source src=\"data:audio/wav;base64,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\" type=\"audio/wav\" />\n",
       "                    Your browser does not support the audio element.\n",
       "                </audio>\n",
       "              "
      ],
      "text/plain": [
       "<IPython.lib.display.Audio object>"
      ]
     },
     "execution_count": 37,
     "metadata": {},
     "output_type": "execute_result"
    }
   ],
   "source": [
    "idx = 6\n",
    "print(len(df_pd['audio_trim'][idx]), len(df_pd['audio_reconstructed'][idx]))\n",
    "ipd.Audio(df_pd['audio_reconstructed'][idx], rate=22050)"
   ]
  },
  {
   "cell_type": "markdown",
   "id": "946f3f83",
   "metadata": {},
   "source": [
    "#### Pre- emphasize"
   ]
  },
  {
   "cell_type": "code",
   "execution_count": 38,
   "id": "6267b3ea",
   "metadata": {},
   "outputs": [],
   "source": [
    "# emph_audios = []\n",
    "# for i, audio in enumerate(df_pd.audio_trim):\n",
    "#     audio_emph = librosa.effects.preemphasis(audio, return_zf=False)\n",
    "#     emph_audios.append(audio_emph)\n",
    "    \n",
    "# df_pd['audio_emph'] = emph_audios    \n",
    "# df_pd"
   ]
  },
  {
   "cell_type": "markdown",
   "id": "798f84d9",
   "metadata": {},
   "source": [
    "### 3. Feature Extraction"
   ]
  },
  {
   "cell_type": "markdown",
   "id": "c19118c8",
   "metadata": {},
   "source": [
    "Apply one hot encoding to categorical features."
   ]
  },
  {
   "cell_type": "code",
   "execution_count": 39,
   "id": "79e26f9b",
   "metadata": {},
   "outputs": [
    {
     "data": {
      "text/html": [
       "<div>\n",
       "<style scoped>\n",
       "    .dataframe tbody tr th:only-of-type {\n",
       "        vertical-align: middle;\n",
       "    }\n",
       "\n",
       "    .dataframe tbody tr th {\n",
       "        vertical-align: top;\n",
       "    }\n",
       "\n",
       "    .dataframe thead th {\n",
       "        text-align: right;\n",
       "    }\n",
       "</style>\n",
       "<table border=\"1\" class=\"dataframe\">\n",
       "  <thead>\n",
       "    <tr style=\"text-align: right;\">\n",
       "      <th></th>\n",
       "      <th>audio</th>\n",
       "      <th>label</th>\n",
       "      <th>audio_trim</th>\n",
       "      <th>audio_reconstructed</th>\n",
       "      <th>gender=male</th>\n",
       "      <th>ageRange=41-65</th>\n",
       "      <th>ageRange=65+</th>\n",
       "    </tr>\n",
       "  </thead>\n",
       "  <tbody>\n",
       "    <tr>\n",
       "      <th>0</th>\n",
       "      <td>[0.0, 0.0, 0.0, 0.0, 0.0, 0.0, 0.0, 0.0, 0.0, ...</td>\n",
       "      <td>5</td>\n",
       "      <td>[-0.0010869442, 6.950152e-05, 0.0010575794, 1....</td>\n",
       "      <td>[-0.0010869442, 6.950152e-05, 0.0010575794, 1....</td>\n",
       "      <td>0</td>\n",
       "      <td>0</td>\n",
       "      <td>0</td>\n",
       "    </tr>\n",
       "    <tr>\n",
       "      <th>1</th>\n",
       "      <td>[0.0, 0.0, 0.0, 0.0, 0.0, 0.0, 0.0, 0.0, 0.0, ...</td>\n",
       "      <td>6</td>\n",
       "      <td>[0.0005718688, 0.0005805124, 0.00058862584, 0....</td>\n",
       "      <td>[0.0005718688, 0.0005805124, 0.00058862584, 0....</td>\n",
       "      <td>0</td>\n",
       "      <td>0</td>\n",
       "      <td>0</td>\n",
       "    </tr>\n",
       "    <tr>\n",
       "      <th>2</th>\n",
       "      <td>[0.0, 0.0, 0.0, 0.0, 0.0, 0.0, 0.0, 0.0, 0.0, ...</td>\n",
       "      <td>7</td>\n",
       "      <td>[3.145638e-05, 3.0807154e-05, 2.8492566e-05, 3...</td>\n",
       "      <td>[3.145638e-05, 3.0807154e-05, 2.8492566e-05, 3...</td>\n",
       "      <td>0</td>\n",
       "      <td>0</td>\n",
       "      <td>0</td>\n",
       "    </tr>\n",
       "    <tr>\n",
       "      <th>3</th>\n",
       "      <td>[0.0, 0.0, 0.0, 0.0, 0.0, 0.0, 0.0, 0.0, 0.0, ...</td>\n",
       "      <td>1</td>\n",
       "      <td>[0.0076071513, 0.008677023, 0.009811347, 0.010...</td>\n",
       "      <td>[-0.03259971, -0.032135516, -0.029293448, -0.0...</td>\n",
       "      <td>0</td>\n",
       "      <td>0</td>\n",
       "      <td>0</td>\n",
       "    </tr>\n",
       "    <tr>\n",
       "      <th>4</th>\n",
       "      <td>[0.0, 0.0, 0.0, 0.0, 0.0, 0.0, 0.0, 0.0, 0.0, ...</td>\n",
       "      <td>1</td>\n",
       "      <td>[4.5547e-06, 2.4867417e-05, 3.363467e-05, 3.05...</td>\n",
       "      <td>[4.5547e-06, 2.4867417e-05, 3.363467e-05, 3.05...</td>\n",
       "      <td>0</td>\n",
       "      <td>0</td>\n",
       "      <td>0</td>\n",
       "    </tr>\n",
       "    <tr>\n",
       "      <th>...</th>\n",
       "      <td>...</td>\n",
       "      <td>...</td>\n",
       "      <td>...</td>\n",
       "      <td>...</td>\n",
       "      <td>...</td>\n",
       "      <td>...</td>\n",
       "      <td>...</td>\n",
       "    </tr>\n",
       "    <tr>\n",
       "      <th>9483</th>\n",
       "      <td>[0.009223618, 0.010777138, 0.009321626, 0.0099...</td>\n",
       "      <td>3</td>\n",
       "      <td>[-0.012367419, -0.01213057, -0.011735419, -0.0...</td>\n",
       "      <td>[-0.012367419, -0.01213057, -0.011735419, -0.0...</td>\n",
       "      <td>1</td>\n",
       "      <td>0</td>\n",
       "      <td>0</td>\n",
       "    </tr>\n",
       "    <tr>\n",
       "      <th>9484</th>\n",
       "      <td>[0.00936052, 0.010867924, 0.009305291, 0.00991...</td>\n",
       "      <td>7</td>\n",
       "      <td>[-0.00086439366, 0.011530005, 0.0026797082, -0...</td>\n",
       "      <td>[-0.00086439366, 0.011530005, 0.0026797082, -0...</td>\n",
       "      <td>1</td>\n",
       "      <td>0</td>\n",
       "      <td>0</td>\n",
       "    </tr>\n",
       "    <tr>\n",
       "      <th>9485</th>\n",
       "      <td>[0.0014334349, 0.001723074, 0.0015384919, 0.00...</td>\n",
       "      <td>7</td>\n",
       "      <td>[0.0048560956, -3.8896687e-05, -0.00041252645,...</td>\n",
       "      <td>[0.0048560956, -3.8896687e-05, -0.00041252645,...</td>\n",
       "      <td>1</td>\n",
       "      <td>0</td>\n",
       "      <td>0</td>\n",
       "    </tr>\n",
       "    <tr>\n",
       "      <th>9486</th>\n",
       "      <td>[0.009742705, 0.011407773, 0.009794228, 0.0103...</td>\n",
       "      <td>7</td>\n",
       "      <td>[0.003923648, 0.0039615026, 0.0041058823, 0.00...</td>\n",
       "      <td>[0.003923648, 0.0039615026, 0.0041058823, 0.00...</td>\n",
       "      <td>1</td>\n",
       "      <td>0</td>\n",
       "      <td>0</td>\n",
       "    </tr>\n",
       "    <tr>\n",
       "      <th>9487</th>\n",
       "      <td>[0.009512647, 0.011129991, 0.00956014, 0.01007...</td>\n",
       "      <td>1</td>\n",
       "      <td>[-0.02300861, -0.022161294, -0.021594988, -0.0...</td>\n",
       "      <td>[0.012667541, 0.012374645, 0.013755124, 0.0156...</td>\n",
       "      <td>1</td>\n",
       "      <td>0</td>\n",
       "      <td>0</td>\n",
       "    </tr>\n",
       "  </tbody>\n",
       "</table>\n",
       "<p>9488 rows × 7 columns</p>\n",
       "</div>"
      ],
      "text/plain": [
       "                                                  audio  label  \\\n",
       "0     [0.0, 0.0, 0.0, 0.0, 0.0, 0.0, 0.0, 0.0, 0.0, ...      5   \n",
       "1     [0.0, 0.0, 0.0, 0.0, 0.0, 0.0, 0.0, 0.0, 0.0, ...      6   \n",
       "2     [0.0, 0.0, 0.0, 0.0, 0.0, 0.0, 0.0, 0.0, 0.0, ...      7   \n",
       "3     [0.0, 0.0, 0.0, 0.0, 0.0, 0.0, 0.0, 0.0, 0.0, ...      1   \n",
       "4     [0.0, 0.0, 0.0, 0.0, 0.0, 0.0, 0.0, 0.0, 0.0, ...      1   \n",
       "...                                                 ...    ...   \n",
       "9483  [0.009223618, 0.010777138, 0.009321626, 0.0099...      3   \n",
       "9484  [0.00936052, 0.010867924, 0.009305291, 0.00991...      7   \n",
       "9485  [0.0014334349, 0.001723074, 0.0015384919, 0.00...      7   \n",
       "9486  [0.009742705, 0.011407773, 0.009794228, 0.0103...      7   \n",
       "9487  [0.009512647, 0.011129991, 0.00956014, 0.01007...      1   \n",
       "\n",
       "                                             audio_trim  \\\n",
       "0     [-0.0010869442, 6.950152e-05, 0.0010575794, 1....   \n",
       "1     [0.0005718688, 0.0005805124, 0.00058862584, 0....   \n",
       "2     [3.145638e-05, 3.0807154e-05, 2.8492566e-05, 3...   \n",
       "3     [0.0076071513, 0.008677023, 0.009811347, 0.010...   \n",
       "4     [4.5547e-06, 2.4867417e-05, 3.363467e-05, 3.05...   \n",
       "...                                                 ...   \n",
       "9483  [-0.012367419, -0.01213057, -0.011735419, -0.0...   \n",
       "9484  [-0.00086439366, 0.011530005, 0.0026797082, -0...   \n",
       "9485  [0.0048560956, -3.8896687e-05, -0.00041252645,...   \n",
       "9486  [0.003923648, 0.0039615026, 0.0041058823, 0.00...   \n",
       "9487  [-0.02300861, -0.022161294, -0.021594988, -0.0...   \n",
       "\n",
       "                                    audio_reconstructed  gender=male  \\\n",
       "0     [-0.0010869442, 6.950152e-05, 0.0010575794, 1....            0   \n",
       "1     [0.0005718688, 0.0005805124, 0.00058862584, 0....            0   \n",
       "2     [3.145638e-05, 3.0807154e-05, 2.8492566e-05, 3...            0   \n",
       "3     [-0.03259971, -0.032135516, -0.029293448, -0.0...            0   \n",
       "4     [4.5547e-06, 2.4867417e-05, 3.363467e-05, 3.05...            0   \n",
       "...                                                 ...          ...   \n",
       "9483  [-0.012367419, -0.01213057, -0.011735419, -0.0...            1   \n",
       "9484  [-0.00086439366, 0.011530005, 0.0026797082, -0...            1   \n",
       "9485  [0.0048560956, -3.8896687e-05, -0.00041252645,...            1   \n",
       "9486  [0.003923648, 0.0039615026, 0.0041058823, 0.00...            1   \n",
       "9487  [0.012667541, 0.012374645, 0.013755124, 0.0156...            1   \n",
       "\n",
       "      ageRange=41-65  ageRange=65+  \n",
       "0                  0             0  \n",
       "1                  0             0  \n",
       "2                  0             0  \n",
       "3                  0             0  \n",
       "4                  0             0  \n",
       "...              ...           ...  \n",
       "9483               0             0  \n",
       "9484               0             0  \n",
       "9485               0             0  \n",
       "9486               0             0  \n",
       "9487               0             0  \n",
       "\n",
       "[9488 rows x 7 columns]"
      ]
     },
     "execution_count": 39,
     "metadata": {},
     "output_type": "execute_result"
    }
   ],
   "source": [
    "categorical_features = ['gender', 'ageRange']\n",
    "\n",
    "dummy_columns = categorical_features\n",
    "\n",
    "for column in dummy_columns: \n",
    "    df_dummies = pd.get_dummies(df_pd[column], drop_first = True, prefix = column, prefix_sep='=') #drop_first_true to avoid multi colinearity problem\n",
    "    df_pd = pd.concat([df_pd, df_dummies], axis = 1)\n",
    "\n",
    "\n",
    "df_pd = df_pd.drop(columns=dummy_columns)\n",
    "df_pd"
   ]
  },
  {
   "cell_type": "markdown",
   "id": "1194b277",
   "metadata": {},
   "source": [
    "#### Extracting MFCC features"
   ]
  },
  {
   "cell_type": "markdown",
   "id": "b31e6b07",
   "metadata": {},
   "source": [
    "First of all every audio should have the same length in order to get final coefficients for each audio of the same length.\n",
    "\n",
    "**EDIT**: non mi serve più, perchè io sono ora interessato alla media, std, min, max, median dei coefficienti che sono sempre uguali (numero righe vecchia matrice) mentre il numero delle colonne cambia (tempo) però non è più importante quindi avere matrici tutte della stessa dimensione."
   ]
  },
  {
   "cell_type": "code",
   "execution_count": 40,
   "id": "09786d95",
   "metadata": {},
   "outputs": [
    {
     "name": "stdout",
     "output_type": "stream",
     "text": [
      "Max length: 44032\n"
     ]
    },
    {
     "data": {
      "text/plain": [
       "20480    339\n",
       "19456    323\n",
       "18432    312\n",
       "18944    310\n",
       "17920    300\n",
       "17408    286\n",
       "20992    283\n",
       "19968    282\n",
       "16896    269\n",
       "22016    249\n",
       "dtype: int64"
      ]
     },
     "execution_count": 40,
     "metadata": {},
     "output_type": "execute_result"
    }
   ],
   "source": [
    "# Find maximum length of the audio in the dataframe\n",
    "lengths = [len(audio) for audio in df_pd.audio_trim]\n",
    "# idx = 45 #check\n",
    "# lengths[idx], len(df_pd.audio.iloc[idx])\n",
    "lengths = pd.Series(lengths)\n",
    "#lengths.max() #88064\n",
    "print(f\"Max length: {lengths.max()}\")\n",
    "lengths[lengths == lengths.max()]\n",
    "lengths.value_counts()[:10]"
   ]
  },
  {
   "cell_type": "code",
   "execution_count": 41,
   "id": "8a5247fc",
   "metadata": {},
   "outputs": [],
   "source": [
    "# ipd.Audio(df_pd['audio'][8136], rate=22050)"
   ]
  },
  {
   "cell_type": "code",
   "execution_count": 42,
   "id": "e1283d6c",
   "metadata": {},
   "outputs": [],
   "source": [
    "# len(df_pd['audio'][8136])"
   ]
  },
  {
   "cell_type": "markdown",
   "id": "0416a780",
   "metadata": {},
   "source": [
    "#### Padding"
   ]
  },
  {
   "cell_type": "code",
   "execution_count": 43,
   "id": "d847fd0b",
   "metadata": {},
   "outputs": [],
   "source": [
    "# # # Padding shorter audio with 0 samples in order to get all audio files of the same length\n",
    "# max_length = lengths.max()\n",
    "# for i, audio in enumerate(df_pd.audio_trim):\n",
    "    \n",
    "#     df_pd.audio_trim[i] = np.pad(df_pd.audio_trim[i],(0,max_length- len(df_pd.audio_trim[i])),mode='constant', constant_values=0)"
   ]
  },
  {
   "cell_type": "code",
   "execution_count": 44,
   "id": "1bda81f9",
   "metadata": {},
   "outputs": [
    {
     "name": "stdout",
     "output_type": "stream",
     "text": [
      "(20, 28)\n",
      "(20,)\n"
     ]
    }
   ],
   "source": [
    "mfcc_features = librosa.feature.mfcc(y=df_pd.audio_reconstructed[1], sr=sr)\n",
    "print(mfcc_features.shape)\n",
    "\n",
    "medians = np.median(mfcc_features, axis=1)\n",
    "print(medians.shape)\n",
    "\n",
    "means = mfcc_features.mean(axis=0)\n",
    "medians = np.median(mfcc_features, axis=1)\n",
    "stds = mfcc_features.std(axis=1)\n",
    "maxs = mfcc_features.max(axis=1)\n",
    "mins = mfcc_features.min(axis=1)\n",
    "# stds = mfcc_features.std(axis=1)\n",
    "# print(len(means), len(stds))\n",
    "# row = list(means)+list(stds)\n",
    "# print((row))\n",
    "# print(\"\")\n",
    "# print(means)\n",
    "# print(\"\")\n",
    "# print(stds)\n"
   ]
  },
  {
   "cell_type": "code",
   "execution_count": 48,
   "id": "1209b0a9",
   "metadata": {},
   "outputs": [],
   "source": [
    "seed=42"
   ]
  },
  {
   "cell_type": "code",
   "execution_count": 49,
   "id": "7a60ff48",
   "metadata": {},
   "outputs": [],
   "source": [
    "### RandomForest Classifier ###\n",
    "from sklearn.ensemble import RandomForestClassifier\n",
    "from sklearn.model_selection import GridSearchCV\n",
    "\n",
    "def randforest_classifier(input_x, input_y, cv=10, seed = seed):\n",
    "    ## Defining parameters\n",
    "    model_RF= RandomForestClassifier(random_state =seed)\n",
    "\n",
    "    parameters = {'n_estimators':[100], \n",
    "                  'criterion':['gini', 'entropy'],\n",
    "                  'max_features':['sqrt', 'log2']}\n",
    "\n",
    "    ## Building Grid Search algorithm with cross-validation and Mean Squared Error score.\n",
    "\n",
    "    grid_search_RF = GridSearchCV(estimator=model_RF,  \n",
    "                         param_grid=parameters,\n",
    "                         scoring='accuracy',\n",
    "                         cv=cv,\n",
    "                         n_jobs=-1,\n",
    "                        verbose = 15)\n",
    "\n",
    "    ## Lastly, finding the best parameters.\n",
    "\n",
    "    grid_search_RF.fit(input_x, input_y)\n",
    "    best_parameters_RF = grid_search_RF.best_params_  \n",
    "    best_score_RF = grid_search_RF.best_score_ \n",
    "    print(best_parameters_RF)\n",
    "    print(best_score_RF)\n",
    "    results = grid_search_RF.cv_results_\n",
    "    \n",
    "    return best_parameters_RF, results, best_score_RF\n",
    "\n"
   ]
  },
  {
   "cell_type": "code",
   "execution_count": 51,
   "id": "1d34da41",
   "metadata": {},
   "outputs": [
    {
     "name": "stderr",
     "output_type": "stream",
     "text": [
      "C:\\Users\\andre\\anaconda3\\lib\\site-packages\\sklearn\\utils\\validation.py:1688: FutureWarning: Feature names only support names that are all strings. Got feature names with dtypes: ['int', 'str']. An error will be raised in 1.2.\n",
      "  warnings.warn(\n",
      "C:\\Users\\andre\\anaconda3\\lib\\site-packages\\sklearn\\utils\\validation.py:1688: FutureWarning: Feature names only support names that are all strings. Got feature names with dtypes: ['int', 'str']. An error will be raised in 1.2.\n",
      "  warnings.warn(\n",
      "C:\\Users\\andre\\anaconda3\\lib\\site-packages\\sklearn\\utils\\validation.py:1688: FutureWarning: Feature names only support names that are all strings. Got feature names with dtypes: ['int', 'str']. An error will be raised in 1.2.\n",
      "  warnings.warn(\n"
     ]
    },
    {
     "name": "stdout",
     "output_type": "stream",
     "text": [
      "###########################################################\n",
      "DATASET SHAPE\n",
      "(7590, 68) (1898, 68) (7590,) (1898,)\n",
      "\n",
      "HYPERPARAMS: n_fft = 512, hop = 64\n",
      "\n",
      "Fitting 10 folds for each of 4 candidates, totalling 40 fits\n",
      "{'criterion': 'entropy', 'max_features': 'sqrt', 'n_estimators': 100}\n",
      "0.5212121212121212\n",
      "\n",
      "BEST RESULT: 0.5212121212121212\n",
      "\n"
     ]
    },
    {
     "name": "stderr",
     "output_type": "stream",
     "text": [
      "C:\\Users\\andre\\anaconda3\\lib\\site-packages\\sklearn\\utils\\validation.py:1688: FutureWarning: Feature names only support names that are all strings. Got feature names with dtypes: ['int', 'str']. An error will be raised in 1.2.\n",
      "  warnings.warn(\n",
      "C:\\Users\\andre\\anaconda3\\lib\\site-packages\\sklearn\\utils\\validation.py:1688: FutureWarning: Feature names only support names that are all strings. Got feature names with dtypes: ['int', 'str']. An error will be raised in 1.2.\n",
      "  warnings.warn(\n",
      "C:\\Users\\andre\\anaconda3\\lib\\site-packages\\sklearn\\utils\\validation.py:1688: FutureWarning: Feature names only support names that are all strings. Got feature names with dtypes: ['int', 'str']. An error will be raised in 1.2.\n",
      "  warnings.warn(\n"
     ]
    },
    {
     "name": "stdout",
     "output_type": "stream",
     "text": [
      "###########################################################\n",
      "DATASET SHAPE\n",
      "(7590, 68) (1898, 68) (7590,) (1898,)\n",
      "\n",
      "HYPERPARAMS: n_fft = 512, hop = 128\n",
      "\n",
      "Fitting 10 folds for each of 4 candidates, totalling 40 fits\n",
      "{'criterion': 'entropy', 'max_features': 'sqrt', 'n_estimators': 100}\n",
      "0.5175230566534914\n",
      "\n",
      "BEST RESULT: 0.5175230566534914\n",
      "\n"
     ]
    },
    {
     "name": "stderr",
     "output_type": "stream",
     "text": [
      "C:\\Users\\andre\\anaconda3\\lib\\site-packages\\sklearn\\utils\\validation.py:1688: FutureWarning: Feature names only support names that are all strings. Got feature names with dtypes: ['int', 'str']. An error will be raised in 1.2.\n",
      "  warnings.warn(\n",
      "C:\\Users\\andre\\anaconda3\\lib\\site-packages\\sklearn\\utils\\validation.py:1688: FutureWarning: Feature names only support names that are all strings. Got feature names with dtypes: ['int', 'str']. An error will be raised in 1.2.\n",
      "  warnings.warn(\n",
      "C:\\Users\\andre\\anaconda3\\lib\\site-packages\\sklearn\\utils\\validation.py:1688: FutureWarning: Feature names only support names that are all strings. Got feature names with dtypes: ['int', 'str']. An error will be raised in 1.2.\n",
      "  warnings.warn(\n"
     ]
    },
    {
     "name": "stdout",
     "output_type": "stream",
     "text": [
      "###########################################################\n",
      "DATASET SHAPE\n",
      "(7590, 68) (1898, 68) (7590,) (1898,)\n",
      "\n",
      "HYPERPARAMS: n_fft = 512, hop = 256\n",
      "\n",
      "Fitting 10 folds for each of 4 candidates, totalling 40 fits\n",
      "{'criterion': 'entropy', 'max_features': 'sqrt', 'n_estimators': 100}\n",
      "0.51133069828722\n",
      "\n",
      "BEST RESULT: 0.51133069828722\n",
      "\n"
     ]
    },
    {
     "name": "stderr",
     "output_type": "stream",
     "text": [
      "C:\\Users\\andre\\anaconda3\\lib\\site-packages\\sklearn\\utils\\validation.py:1688: FutureWarning: Feature names only support names that are all strings. Got feature names with dtypes: ['int', 'str']. An error will be raised in 1.2.\n",
      "  warnings.warn(\n",
      "C:\\Users\\andre\\anaconda3\\lib\\site-packages\\sklearn\\utils\\validation.py:1688: FutureWarning: Feature names only support names that are all strings. Got feature names with dtypes: ['int', 'str']. An error will be raised in 1.2.\n",
      "  warnings.warn(\n",
      "C:\\Users\\andre\\anaconda3\\lib\\site-packages\\sklearn\\utils\\validation.py:1688: FutureWarning: Feature names only support names that are all strings. Got feature names with dtypes: ['int', 'str']. An error will be raised in 1.2.\n",
      "  warnings.warn(\n"
     ]
    },
    {
     "name": "stdout",
     "output_type": "stream",
     "text": [
      "###########################################################\n",
      "DATASET SHAPE\n",
      "(7590, 68) (1898, 68) (7590,) (1898,)\n",
      "\n",
      "HYPERPARAMS: n_fft = 1024, hop = 64\n",
      "\n",
      "Fitting 10 folds for each of 4 candidates, totalling 40 fits\n",
      "{'criterion': 'gini', 'max_features': 'sqrt', 'n_estimators': 100}\n",
      "0.5121212121212121\n",
      "\n",
      "BEST RESULT: 0.5121212121212121\n",
      "\n"
     ]
    },
    {
     "name": "stderr",
     "output_type": "stream",
     "text": [
      "C:\\Users\\andre\\anaconda3\\lib\\site-packages\\sklearn\\utils\\validation.py:1688: FutureWarning: Feature names only support names that are all strings. Got feature names with dtypes: ['int', 'str']. An error will be raised in 1.2.\n",
      "  warnings.warn(\n",
      "C:\\Users\\andre\\anaconda3\\lib\\site-packages\\sklearn\\utils\\validation.py:1688: FutureWarning: Feature names only support names that are all strings. Got feature names with dtypes: ['int', 'str']. An error will be raised in 1.2.\n",
      "  warnings.warn(\n",
      "C:\\Users\\andre\\anaconda3\\lib\\site-packages\\sklearn\\utils\\validation.py:1688: FutureWarning: Feature names only support names that are all strings. Got feature names with dtypes: ['int', 'str']. An error will be raised in 1.2.\n",
      "  warnings.warn(\n"
     ]
    },
    {
     "name": "stdout",
     "output_type": "stream",
     "text": [
      "###########################################################\n",
      "DATASET SHAPE\n",
      "(7590, 68) (1898, 68) (7590,) (1898,)\n",
      "\n",
      "HYPERPARAMS: n_fft = 1024, hop = 128\n",
      "\n",
      "Fitting 10 folds for each of 4 candidates, totalling 40 fits\n",
      "{'criterion': 'entropy', 'max_features': 'sqrt', 'n_estimators': 100}\n",
      "0.5109354413702241\n",
      "\n",
      "BEST RESULT: 0.5109354413702241\n",
      "\n"
     ]
    },
    {
     "name": "stderr",
     "output_type": "stream",
     "text": [
      "C:\\Users\\andre\\anaconda3\\lib\\site-packages\\sklearn\\utils\\validation.py:1688: FutureWarning: Feature names only support names that are all strings. Got feature names with dtypes: ['int', 'str']. An error will be raised in 1.2.\n",
      "  warnings.warn(\n",
      "C:\\Users\\andre\\anaconda3\\lib\\site-packages\\sklearn\\utils\\validation.py:1688: FutureWarning: Feature names only support names that are all strings. Got feature names with dtypes: ['int', 'str']. An error will be raised in 1.2.\n",
      "  warnings.warn(\n",
      "C:\\Users\\andre\\anaconda3\\lib\\site-packages\\sklearn\\utils\\validation.py:1688: FutureWarning: Feature names only support names that are all strings. Got feature names with dtypes: ['int', 'str']. An error will be raised in 1.2.\n",
      "  warnings.warn(\n"
     ]
    },
    {
     "name": "stdout",
     "output_type": "stream",
     "text": [
      "###########################################################\n",
      "DATASET SHAPE\n",
      "(7590, 68) (1898, 68) (7590,) (1898,)\n",
      "\n",
      "HYPERPARAMS: n_fft = 1024, hop = 256\n",
      "\n",
      "Fitting 10 folds for each of 4 candidates, totalling 40 fits\n",
      "{'criterion': 'entropy', 'max_features': 'sqrt', 'n_estimators': 100}\n",
      "0.5147562582345191\n",
      "\n",
      "BEST RESULT: 0.5147562582345191\n",
      "\n"
     ]
    },
    {
     "name": "stderr",
     "output_type": "stream",
     "text": [
      "C:\\Users\\andre\\anaconda3\\lib\\site-packages\\sklearn\\utils\\validation.py:1688: FutureWarning: Feature names only support names that are all strings. Got feature names with dtypes: ['int', 'str']. An error will be raised in 1.2.\n",
      "  warnings.warn(\n",
      "C:\\Users\\andre\\anaconda3\\lib\\site-packages\\sklearn\\utils\\validation.py:1688: FutureWarning: Feature names only support names that are all strings. Got feature names with dtypes: ['int', 'str']. An error will be raised in 1.2.\n",
      "  warnings.warn(\n",
      "C:\\Users\\andre\\anaconda3\\lib\\site-packages\\sklearn\\utils\\validation.py:1688: FutureWarning: Feature names only support names that are all strings. Got feature names with dtypes: ['int', 'str']. An error will be raised in 1.2.\n",
      "  warnings.warn(\n"
     ]
    },
    {
     "name": "stdout",
     "output_type": "stream",
     "text": [
      "###########################################################\n",
      "DATASET SHAPE\n",
      "(7590, 68) (1898, 68) (7590,) (1898,)\n",
      "\n",
      "HYPERPARAMS: n_fft = 1024, hop = 512\n",
      "\n",
      "Fitting 10 folds for each of 4 candidates, totalling 40 fits\n",
      "{'criterion': 'entropy', 'max_features': 'sqrt', 'n_estimators': 100}\n",
      "0.5138339920948617\n",
      "\n",
      "BEST RESULT: 0.5138339920948617\n",
      "\n"
     ]
    },
    {
     "name": "stderr",
     "output_type": "stream",
     "text": [
      "C:\\Users\\andre\\anaconda3\\lib\\site-packages\\sklearn\\utils\\validation.py:1688: FutureWarning: Feature names only support names that are all strings. Got feature names with dtypes: ['int', 'str']. An error will be raised in 1.2.\n",
      "  warnings.warn(\n",
      "C:\\Users\\andre\\anaconda3\\lib\\site-packages\\sklearn\\utils\\validation.py:1688: FutureWarning: Feature names only support names that are all strings. Got feature names with dtypes: ['int', 'str']. An error will be raised in 1.2.\n",
      "  warnings.warn(\n",
      "C:\\Users\\andre\\anaconda3\\lib\\site-packages\\sklearn\\utils\\validation.py:1688: FutureWarning: Feature names only support names that are all strings. Got feature names with dtypes: ['int', 'str']. An error will be raised in 1.2.\n",
      "  warnings.warn(\n"
     ]
    },
    {
     "name": "stdout",
     "output_type": "stream",
     "text": [
      "###########################################################\n",
      "DATASET SHAPE\n",
      "(7590, 68) (1898, 68) (7590,) (1898,)\n",
      "\n",
      "HYPERPARAMS: n_fft = 2048, hop = 64\n",
      "\n",
      "Fitting 10 folds for each of 4 candidates, totalling 40 fits\n",
      "{'criterion': 'entropy', 'max_features': 'log2', 'n_estimators': 100}\n",
      "0.5148880105401844\n",
      "\n",
      "BEST RESULT: 0.5148880105401844\n",
      "\n"
     ]
    },
    {
     "name": "stderr",
     "output_type": "stream",
     "text": [
      "C:\\Users\\andre\\anaconda3\\lib\\site-packages\\sklearn\\utils\\validation.py:1688: FutureWarning: Feature names only support names that are all strings. Got feature names with dtypes: ['int', 'str']. An error will be raised in 1.2.\n",
      "  warnings.warn(\n",
      "C:\\Users\\andre\\anaconda3\\lib\\site-packages\\sklearn\\utils\\validation.py:1688: FutureWarning: Feature names only support names that are all strings. Got feature names with dtypes: ['int', 'str']. An error will be raised in 1.2.\n",
      "  warnings.warn(\n",
      "C:\\Users\\andre\\anaconda3\\lib\\site-packages\\sklearn\\utils\\validation.py:1688: FutureWarning: Feature names only support names that are all strings. Got feature names with dtypes: ['int', 'str']. An error will be raised in 1.2.\n",
      "  warnings.warn(\n"
     ]
    },
    {
     "name": "stdout",
     "output_type": "stream",
     "text": [
      "###########################################################\n",
      "DATASET SHAPE\n",
      "(7590, 68) (1898, 68) (7590,) (1898,)\n",
      "\n",
      "HYPERPARAMS: n_fft = 2048, hop = 128\n",
      "\n",
      "Fitting 10 folds for each of 4 candidates, totalling 40 fits\n",
      "{'criterion': 'entropy', 'max_features': 'sqrt', 'n_estimators': 100}\n",
      "0.5175230566534915\n",
      "\n",
      "BEST RESULT: 0.5175230566534915\n",
      "\n"
     ]
    },
    {
     "name": "stderr",
     "output_type": "stream",
     "text": [
      "C:\\Users\\andre\\anaconda3\\lib\\site-packages\\sklearn\\utils\\validation.py:1688: FutureWarning: Feature names only support names that are all strings. Got feature names with dtypes: ['int', 'str']. An error will be raised in 1.2.\n",
      "  warnings.warn(\n",
      "C:\\Users\\andre\\anaconda3\\lib\\site-packages\\sklearn\\utils\\validation.py:1688: FutureWarning: Feature names only support names that are all strings. Got feature names with dtypes: ['int', 'str']. An error will be raised in 1.2.\n",
      "  warnings.warn(\n",
      "C:\\Users\\andre\\anaconda3\\lib\\site-packages\\sklearn\\utils\\validation.py:1688: FutureWarning: Feature names only support names that are all strings. Got feature names with dtypes: ['int', 'str']. An error will be raised in 1.2.\n",
      "  warnings.warn(\n"
     ]
    },
    {
     "name": "stdout",
     "output_type": "stream",
     "text": [
      "###########################################################\n",
      "DATASET SHAPE\n",
      "(7590, 68) (1898, 68) (7590,) (1898,)\n",
      "\n",
      "HYPERPARAMS: n_fft = 2048, hop = 256\n",
      "\n",
      "Fitting 10 folds for each of 4 candidates, totalling 40 fits\n",
      "{'criterion': 'entropy', 'max_features': 'sqrt', 'n_estimators': 100}\n",
      "0.520026350461133\n",
      "\n",
      "BEST RESULT: 0.520026350461133\n",
      "\n"
     ]
    },
    {
     "name": "stderr",
     "output_type": "stream",
     "text": [
      "C:\\Users\\andre\\anaconda3\\lib\\site-packages\\sklearn\\utils\\validation.py:1688: FutureWarning: Feature names only support names that are all strings. Got feature names with dtypes: ['int', 'str']. An error will be raised in 1.2.\n",
      "  warnings.warn(\n",
      "C:\\Users\\andre\\anaconda3\\lib\\site-packages\\sklearn\\utils\\validation.py:1688: FutureWarning: Feature names only support names that are all strings. Got feature names with dtypes: ['int', 'str']. An error will be raised in 1.2.\n",
      "  warnings.warn(\n",
      "C:\\Users\\andre\\anaconda3\\lib\\site-packages\\sklearn\\utils\\validation.py:1688: FutureWarning: Feature names only support names that are all strings. Got feature names with dtypes: ['int', 'str']. An error will be raised in 1.2.\n",
      "  warnings.warn(\n"
     ]
    },
    {
     "name": "stdout",
     "output_type": "stream",
     "text": [
      "###########################################################\n",
      "DATASET SHAPE\n",
      "(7590, 68) (1898, 68) (7590,) (1898,)\n",
      "\n",
      "HYPERPARAMS: n_fft = 2048, hop = 512\n",
      "\n",
      "Fitting 10 folds for each of 4 candidates, totalling 40 fits\n",
      "{'criterion': 'entropy', 'max_features': 'sqrt', 'n_estimators': 100}\n",
      "0.5184453227931489\n",
      "\n",
      "BEST RESULT: 0.5184453227931489\n",
      "\n"
     ]
    },
    {
     "name": "stderr",
     "output_type": "stream",
     "text": [
      "C:\\Users\\andre\\anaconda3\\lib\\site-packages\\sklearn\\utils\\validation.py:1688: FutureWarning: Feature names only support names that are all strings. Got feature names with dtypes: ['int', 'str']. An error will be raised in 1.2.\n",
      "  warnings.warn(\n",
      "C:\\Users\\andre\\anaconda3\\lib\\site-packages\\sklearn\\utils\\validation.py:1688: FutureWarning: Feature names only support names that are all strings. Got feature names with dtypes: ['int', 'str']. An error will be raised in 1.2.\n",
      "  warnings.warn(\n",
      "C:\\Users\\andre\\anaconda3\\lib\\site-packages\\sklearn\\utils\\validation.py:1688: FutureWarning: Feature names only support names that are all strings. Got feature names with dtypes: ['int', 'str']. An error will be raised in 1.2.\n",
      "  warnings.warn(\n"
     ]
    },
    {
     "name": "stdout",
     "output_type": "stream",
     "text": [
      "###########################################################\n",
      "DATASET SHAPE\n",
      "(7590, 68) (1898, 68) (7590,) (1898,)\n",
      "\n",
      "HYPERPARAMS: n_fft = 2048, hop = 1024\n",
      "\n",
      "Fitting 10 folds for each of 4 candidates, totalling 40 fits\n",
      "{'criterion': 'entropy', 'max_features': 'sqrt', 'n_estimators': 100}\n",
      "0.5081686429512517\n",
      "\n",
      "BEST RESULT: 0.5081686429512517\n",
      "\n"
     ]
    },
    {
     "name": "stderr",
     "output_type": "stream",
     "text": [
      "C:\\Users\\andre\\anaconda3\\lib\\site-packages\\librosa\\util\\decorators.py:88: UserWarning: n_fft=4096 is too small for input signal of length=3584\n",
      "  return f(*args, **kwargs)\n",
      "C:\\Users\\andre\\anaconda3\\lib\\site-packages\\librosa\\util\\decorators.py:88: UserWarning: n_fft=4096 is too small for input signal of length=2560\n",
      "  return f(*args, **kwargs)\n",
      "C:\\Users\\andre\\anaconda3\\lib\\site-packages\\sklearn\\utils\\validation.py:1688: FutureWarning: Feature names only support names that are all strings. Got feature names with dtypes: ['int', 'str']. An error will be raised in 1.2.\n",
      "  warnings.warn(\n",
      "C:\\Users\\andre\\anaconda3\\lib\\site-packages\\sklearn\\utils\\validation.py:1688: FutureWarning: Feature names only support names that are all strings. Got feature names with dtypes: ['int', 'str']. An error will be raised in 1.2.\n",
      "  warnings.warn(\n",
      "C:\\Users\\andre\\anaconda3\\lib\\site-packages\\sklearn\\utils\\validation.py:1688: FutureWarning: Feature names only support names that are all strings. Got feature names with dtypes: ['int', 'str']. An error will be raised in 1.2.\n",
      "  warnings.warn(\n"
     ]
    },
    {
     "name": "stdout",
     "output_type": "stream",
     "text": [
      "###########################################################\n",
      "DATASET SHAPE\n",
      "(7590, 68) (1898, 68) (7590,) (1898,)\n",
      "\n",
      "HYPERPARAMS: n_fft = 4096, hop = 64\n",
      "\n",
      "Fitting 10 folds for each of 4 candidates, totalling 40 fits\n",
      "{'criterion': 'gini', 'max_features': 'sqrt', 'n_estimators': 100}\n",
      "0.5274044795783926\n",
      "\n",
      "BEST RESULT: 0.5274044795783926\n",
      "\n"
     ]
    },
    {
     "name": "stderr",
     "output_type": "stream",
     "text": [
      "C:\\Users\\andre\\anaconda3\\lib\\site-packages\\librosa\\util\\decorators.py:88: UserWarning: n_fft=4096 is too small for input signal of length=3584\n",
      "  return f(*args, **kwargs)\n",
      "C:\\Users\\andre\\anaconda3\\lib\\site-packages\\librosa\\util\\decorators.py:88: UserWarning: n_fft=4096 is too small for input signal of length=2560\n",
      "  return f(*args, **kwargs)\n",
      "C:\\Users\\andre\\anaconda3\\lib\\site-packages\\sklearn\\utils\\validation.py:1688: FutureWarning: Feature names only support names that are all strings. Got feature names with dtypes: ['int', 'str']. An error will be raised in 1.2.\n",
      "  warnings.warn(\n",
      "C:\\Users\\andre\\anaconda3\\lib\\site-packages\\sklearn\\utils\\validation.py:1688: FutureWarning: Feature names only support names that are all strings. Got feature names with dtypes: ['int', 'str']. An error will be raised in 1.2.\n",
      "  warnings.warn(\n",
      "C:\\Users\\andre\\anaconda3\\lib\\site-packages\\sklearn\\utils\\validation.py:1688: FutureWarning: Feature names only support names that are all strings. Got feature names with dtypes: ['int', 'str']. An error will be raised in 1.2.\n",
      "  warnings.warn(\n"
     ]
    },
    {
     "name": "stdout",
     "output_type": "stream",
     "text": [
      "###########################################################\n",
      "DATASET SHAPE\n",
      "(7590, 68) (1898, 68) (7590,) (1898,)\n",
      "\n",
      "HYPERPARAMS: n_fft = 4096, hop = 128\n",
      "\n",
      "Fitting 10 folds for each of 4 candidates, totalling 40 fits\n",
      "{'criterion': 'entropy', 'max_features': 'sqrt', 'n_estimators': 100}\n",
      "0.5308300395256916\n",
      "\n",
      "BEST RESULT: 0.5308300395256916\n",
      "\n"
     ]
    },
    {
     "name": "stderr",
     "output_type": "stream",
     "text": [
      "C:\\Users\\andre\\anaconda3\\lib\\site-packages\\librosa\\util\\decorators.py:88: UserWarning: n_fft=4096 is too small for input signal of length=3584\n",
      "  return f(*args, **kwargs)\n",
      "C:\\Users\\andre\\anaconda3\\lib\\site-packages\\librosa\\util\\decorators.py:88: UserWarning: n_fft=4096 is too small for input signal of length=2560\n",
      "  return f(*args, **kwargs)\n",
      "C:\\Users\\andre\\anaconda3\\lib\\site-packages\\sklearn\\utils\\validation.py:1688: FutureWarning: Feature names only support names that are all strings. Got feature names with dtypes: ['int', 'str']. An error will be raised in 1.2.\n",
      "  warnings.warn(\n",
      "C:\\Users\\andre\\anaconda3\\lib\\site-packages\\sklearn\\utils\\validation.py:1688: FutureWarning: Feature names only support names that are all strings. Got feature names with dtypes: ['int', 'str']. An error will be raised in 1.2.\n",
      "  warnings.warn(\n",
      "C:\\Users\\andre\\anaconda3\\lib\\site-packages\\sklearn\\utils\\validation.py:1688: FutureWarning: Feature names only support names that are all strings. Got feature names with dtypes: ['int', 'str']. An error will be raised in 1.2.\n",
      "  warnings.warn(\n"
     ]
    },
    {
     "name": "stdout",
     "output_type": "stream",
     "text": [
      "###########################################################\n",
      "DATASET SHAPE\n",
      "(7590, 68) (1898, 68) (7590,) (1898,)\n",
      "\n",
      "HYPERPARAMS: n_fft = 4096, hop = 256\n",
      "\n",
      "Fitting 10 folds for each of 4 candidates, totalling 40 fits\n",
      "{'criterion': 'entropy', 'max_features': 'sqrt', 'n_estimators': 100}\n",
      "0.5250329380764163\n",
      "\n",
      "BEST RESULT: 0.5250329380764163\n",
      "\n"
     ]
    },
    {
     "name": "stderr",
     "output_type": "stream",
     "text": [
      "C:\\Users\\andre\\anaconda3\\lib\\site-packages\\librosa\\util\\decorators.py:88: UserWarning: n_fft=4096 is too small for input signal of length=3584\n",
      "  return f(*args, **kwargs)\n",
      "C:\\Users\\andre\\anaconda3\\lib\\site-packages\\librosa\\util\\decorators.py:88: UserWarning: n_fft=4096 is too small for input signal of length=2560\n",
      "  return f(*args, **kwargs)\n",
      "C:\\Users\\andre\\anaconda3\\lib\\site-packages\\sklearn\\utils\\validation.py:1688: FutureWarning: Feature names only support names that are all strings. Got feature names with dtypes: ['int', 'str']. An error will be raised in 1.2.\n",
      "  warnings.warn(\n",
      "C:\\Users\\andre\\anaconda3\\lib\\site-packages\\sklearn\\utils\\validation.py:1688: FutureWarning: Feature names only support names that are all strings. Got feature names with dtypes: ['int', 'str']. An error will be raised in 1.2.\n",
      "  warnings.warn(\n",
      "C:\\Users\\andre\\anaconda3\\lib\\site-packages\\sklearn\\utils\\validation.py:1688: FutureWarning: Feature names only support names that are all strings. Got feature names with dtypes: ['int', 'str']. An error will be raised in 1.2.\n",
      "  warnings.warn(\n"
     ]
    },
    {
     "name": "stdout",
     "output_type": "stream",
     "text": [
      "###########################################################\n",
      "DATASET SHAPE\n",
      "(7590, 68) (1898, 68) (7590,) (1898,)\n",
      "\n",
      "HYPERPARAMS: n_fft = 4096, hop = 512\n",
      "\n",
      "Fitting 10 folds for each of 4 candidates, totalling 40 fits\n",
      "{'criterion': 'entropy', 'max_features': 'sqrt', 'n_estimators': 100}\n",
      "0.5270092226613966\n",
      "\n",
      "BEST RESULT: 0.5270092226613966\n",
      "\n"
     ]
    },
    {
     "name": "stderr",
     "output_type": "stream",
     "text": [
      "C:\\Users\\andre\\anaconda3\\lib\\site-packages\\librosa\\util\\decorators.py:88: UserWarning: n_fft=4096 is too small for input signal of length=3584\n",
      "  return f(*args, **kwargs)\n",
      "C:\\Users\\andre\\anaconda3\\lib\\site-packages\\librosa\\util\\decorators.py:88: UserWarning: n_fft=4096 is too small for input signal of length=2560\n",
      "  return f(*args, **kwargs)\n",
      "C:\\Users\\andre\\anaconda3\\lib\\site-packages\\sklearn\\utils\\validation.py:1688: FutureWarning: Feature names only support names that are all strings. Got feature names with dtypes: ['int', 'str']. An error will be raised in 1.2.\n",
      "  warnings.warn(\n",
      "C:\\Users\\andre\\anaconda3\\lib\\site-packages\\sklearn\\utils\\validation.py:1688: FutureWarning: Feature names only support names that are all strings. Got feature names with dtypes: ['int', 'str']. An error will be raised in 1.2.\n",
      "  warnings.warn(\n",
      "C:\\Users\\andre\\anaconda3\\lib\\site-packages\\sklearn\\utils\\validation.py:1688: FutureWarning: Feature names only support names that are all strings. Got feature names with dtypes: ['int', 'str']. An error will be raised in 1.2.\n",
      "  warnings.warn(\n"
     ]
    },
    {
     "name": "stdout",
     "output_type": "stream",
     "text": [
      "###########################################################\n",
      "DATASET SHAPE\n",
      "(7590, 68) (1898, 68) (7590,) (1898,)\n",
      "\n",
      "HYPERPARAMS: n_fft = 4096, hop = 1024\n",
      "\n",
      "Fitting 10 folds for each of 4 candidates, totalling 40 fits\n",
      "{'criterion': 'entropy', 'max_features': 'sqrt', 'n_estimators': 100}\n",
      "0.5160737812911727\n",
      "\n",
      "BEST RESULT: 0.5160737812911727\n",
      "\n"
     ]
    },
    {
     "name": "stderr",
     "output_type": "stream",
     "text": [
      "C:\\Users\\andre\\anaconda3\\lib\\site-packages\\librosa\\util\\decorators.py:88: UserWarning: n_fft=4096 is too small for input signal of length=3584\n",
      "  return f(*args, **kwargs)\n",
      "C:\\Users\\andre\\anaconda3\\lib\\site-packages\\librosa\\util\\decorators.py:88: UserWarning: n_fft=4096 is too small for input signal of length=2560\n",
      "  return f(*args, **kwargs)\n",
      "C:\\Users\\andre\\anaconda3\\lib\\site-packages\\sklearn\\utils\\validation.py:1688: FutureWarning: Feature names only support names that are all strings. Got feature names with dtypes: ['int', 'str']. An error will be raised in 1.2.\n",
      "  warnings.warn(\n",
      "C:\\Users\\andre\\anaconda3\\lib\\site-packages\\sklearn\\utils\\validation.py:1688: FutureWarning: Feature names only support names that are all strings. Got feature names with dtypes: ['int', 'str']. An error will be raised in 1.2.\n",
      "  warnings.warn(\n",
      "C:\\Users\\andre\\anaconda3\\lib\\site-packages\\sklearn\\utils\\validation.py:1688: FutureWarning: Feature names only support names that are all strings. Got feature names with dtypes: ['int', 'str']. An error will be raised in 1.2.\n",
      "  warnings.warn(\n"
     ]
    },
    {
     "name": "stdout",
     "output_type": "stream",
     "text": [
      "###########################################################\n",
      "DATASET SHAPE\n",
      "(7590, 68) (1898, 68) (7590,) (1898,)\n",
      "\n",
      "HYPERPARAMS: n_fft = 4096, hop = 2048\n",
      "\n",
      "Fitting 10 folds for each of 4 candidates, totalling 40 fits\n",
      "{'criterion': 'gini', 'max_features': 'sqrt', 'n_estimators': 100}\n",
      "0.5007905138339921\n",
      "\n",
      "BEST RESULT: 0.5007905138339921\n",
      "\n"
     ]
    },
    {
     "name": "stderr",
     "output_type": "stream",
     "text": [
      "C:\\Users\\andre\\anaconda3\\lib\\site-packages\\librosa\\util\\decorators.py:88: UserWarning: n_fft=8192 is too small for input signal of length=6144\n",
      "  return f(*args, **kwargs)\n",
      "C:\\Users\\andre\\anaconda3\\lib\\site-packages\\librosa\\util\\decorators.py:88: UserWarning: n_fft=8192 is too small for input signal of length=7168\n",
      "  return f(*args, **kwargs)\n",
      "C:\\Users\\andre\\anaconda3\\lib\\site-packages\\librosa\\util\\decorators.py:88: UserWarning: n_fft=8192 is too small for input signal of length=7680\n",
      "  return f(*args, **kwargs)\n",
      "C:\\Users\\andre\\anaconda3\\lib\\site-packages\\librosa\\util\\decorators.py:88: UserWarning: n_fft=8192 is too small for input signal of length=5120\n",
      "  return f(*args, **kwargs)\n",
      "C:\\Users\\andre\\anaconda3\\lib\\site-packages\\librosa\\util\\decorators.py:88: UserWarning: n_fft=8192 is too small for input signal of length=6656\n",
      "  return f(*args, **kwargs)\n",
      "C:\\Users\\andre\\anaconda3\\lib\\site-packages\\librosa\\util\\decorators.py:88: UserWarning: n_fft=8192 is too small for input signal of length=5632\n",
      "  return f(*args, **kwargs)\n",
      "C:\\Users\\andre\\anaconda3\\lib\\site-packages\\librosa\\util\\decorators.py:88: UserWarning: n_fft=8192 is too small for input signal of length=3584\n",
      "  return f(*args, **kwargs)\n",
      "C:\\Users\\andre\\anaconda3\\lib\\site-packages\\librosa\\util\\decorators.py:88: UserWarning: n_fft=8192 is too small for input signal of length=2560\n",
      "  return f(*args, **kwargs)\n",
      "C:\\Users\\andre\\anaconda3\\lib\\site-packages\\librosa\\util\\decorators.py:88: UserWarning: n_fft=8192 is too small for input signal of length=4096\n",
      "  return f(*args, **kwargs)\n",
      "C:\\Users\\andre\\anaconda3\\lib\\site-packages\\sklearn\\utils\\validation.py:1688: FutureWarning: Feature names only support names that are all strings. Got feature names with dtypes: ['int', 'str']. An error will be raised in 1.2.\n",
      "  warnings.warn(\n",
      "C:\\Users\\andre\\anaconda3\\lib\\site-packages\\sklearn\\utils\\validation.py:1688: FutureWarning: Feature names only support names that are all strings. Got feature names with dtypes: ['int', 'str']. An error will be raised in 1.2.\n",
      "  warnings.warn(\n",
      "C:\\Users\\andre\\anaconda3\\lib\\site-packages\\sklearn\\utils\\validation.py:1688: FutureWarning: Feature names only support names that are all strings. Got feature names with dtypes: ['int', 'str']. An error will be raised in 1.2.\n",
      "  warnings.warn(\n"
     ]
    },
    {
     "name": "stdout",
     "output_type": "stream",
     "text": [
      "###########################################################\n",
      "DATASET SHAPE\n",
      "(7590, 68) (1898, 68) (7590,) (1898,)\n",
      "\n",
      "HYPERPARAMS: n_fft = 8192, hop = 64\n",
      "\n",
      "Fitting 10 folds for each of 4 candidates, totalling 40 fits\n",
      "{'criterion': 'entropy', 'max_features': 'log2', 'n_estimators': 100}\n",
      "0.5339920948616601\n",
      "\n",
      "BEST RESULT: 0.5339920948616601\n",
      "\n"
     ]
    },
    {
     "name": "stderr",
     "output_type": "stream",
     "text": [
      "C:\\Users\\andre\\anaconda3\\lib\\site-packages\\librosa\\util\\decorators.py:88: UserWarning: n_fft=8192 is too small for input signal of length=6144\n",
      "  return f(*args, **kwargs)\n",
      "C:\\Users\\andre\\anaconda3\\lib\\site-packages\\librosa\\util\\decorators.py:88: UserWarning: n_fft=8192 is too small for input signal of length=7168\n",
      "  return f(*args, **kwargs)\n",
      "C:\\Users\\andre\\anaconda3\\lib\\site-packages\\librosa\\util\\decorators.py:88: UserWarning: n_fft=8192 is too small for input signal of length=7680\n",
      "  return f(*args, **kwargs)\n",
      "C:\\Users\\andre\\anaconda3\\lib\\site-packages\\librosa\\util\\decorators.py:88: UserWarning: n_fft=8192 is too small for input signal of length=5120\n",
      "  return f(*args, **kwargs)\n",
      "C:\\Users\\andre\\anaconda3\\lib\\site-packages\\librosa\\util\\decorators.py:88: UserWarning: n_fft=8192 is too small for input signal of length=6656\n",
      "  return f(*args, **kwargs)\n",
      "C:\\Users\\andre\\anaconda3\\lib\\site-packages\\librosa\\util\\decorators.py:88: UserWarning: n_fft=8192 is too small for input signal of length=5632\n",
      "  return f(*args, **kwargs)\n",
      "C:\\Users\\andre\\anaconda3\\lib\\site-packages\\librosa\\util\\decorators.py:88: UserWarning: n_fft=8192 is too small for input signal of length=3584\n",
      "  return f(*args, **kwargs)\n",
      "C:\\Users\\andre\\anaconda3\\lib\\site-packages\\librosa\\util\\decorators.py:88: UserWarning: n_fft=8192 is too small for input signal of length=2560\n",
      "  return f(*args, **kwargs)\n",
      "C:\\Users\\andre\\anaconda3\\lib\\site-packages\\librosa\\util\\decorators.py:88: UserWarning: n_fft=8192 is too small for input signal of length=4096\n",
      "  return f(*args, **kwargs)\n",
      "C:\\Users\\andre\\anaconda3\\lib\\site-packages\\sklearn\\utils\\validation.py:1688: FutureWarning: Feature names only support names that are all strings. Got feature names with dtypes: ['int', 'str']. An error will be raised in 1.2.\n",
      "  warnings.warn(\n",
      "C:\\Users\\andre\\anaconda3\\lib\\site-packages\\sklearn\\utils\\validation.py:1688: FutureWarning: Feature names only support names that are all strings. Got feature names with dtypes: ['int', 'str']. An error will be raised in 1.2.\n",
      "  warnings.warn(\n",
      "C:\\Users\\andre\\anaconda3\\lib\\site-packages\\sklearn\\utils\\validation.py:1688: FutureWarning: Feature names only support names that are all strings. Got feature names with dtypes: ['int', 'str']. An error will be raised in 1.2.\n",
      "  warnings.warn(\n"
     ]
    },
    {
     "name": "stdout",
     "output_type": "stream",
     "text": [
      "###########################################################\n",
      "DATASET SHAPE\n",
      "(7590, 68) (1898, 68) (7590,) (1898,)\n",
      "\n",
      "HYPERPARAMS: n_fft = 8192, hop = 128\n",
      "\n",
      "Fitting 10 folds for each of 4 candidates, totalling 40 fits\n",
      "{'criterion': 'entropy', 'max_features': 'sqrt', 'n_estimators': 100}\n",
      "0.5347826086956522\n",
      "\n",
      "BEST RESULT: 0.5347826086956522\n",
      "\n"
     ]
    },
    {
     "name": "stderr",
     "output_type": "stream",
     "text": [
      "C:\\Users\\andre\\anaconda3\\lib\\site-packages\\librosa\\util\\decorators.py:88: UserWarning: n_fft=8192 is too small for input signal of length=6144\n",
      "  return f(*args, **kwargs)\n",
      "C:\\Users\\andre\\anaconda3\\lib\\site-packages\\librosa\\util\\decorators.py:88: UserWarning: n_fft=8192 is too small for input signal of length=7168\n",
      "  return f(*args, **kwargs)\n",
      "C:\\Users\\andre\\anaconda3\\lib\\site-packages\\librosa\\util\\decorators.py:88: UserWarning: n_fft=8192 is too small for input signal of length=7680\n",
      "  return f(*args, **kwargs)\n",
      "C:\\Users\\andre\\anaconda3\\lib\\site-packages\\librosa\\util\\decorators.py:88: UserWarning: n_fft=8192 is too small for input signal of length=5120\n",
      "  return f(*args, **kwargs)\n",
      "C:\\Users\\andre\\anaconda3\\lib\\site-packages\\librosa\\util\\decorators.py:88: UserWarning: n_fft=8192 is too small for input signal of length=6656\n",
      "  return f(*args, **kwargs)\n",
      "C:\\Users\\andre\\anaconda3\\lib\\site-packages\\librosa\\util\\decorators.py:88: UserWarning: n_fft=8192 is too small for input signal of length=5632\n",
      "  return f(*args, **kwargs)\n",
      "C:\\Users\\andre\\anaconda3\\lib\\site-packages\\librosa\\util\\decorators.py:88: UserWarning: n_fft=8192 is too small for input signal of length=3584\n",
      "  return f(*args, **kwargs)\n",
      "C:\\Users\\andre\\anaconda3\\lib\\site-packages\\librosa\\util\\decorators.py:88: UserWarning: n_fft=8192 is too small for input signal of length=2560\n",
      "  return f(*args, **kwargs)\n",
      "C:\\Users\\andre\\anaconda3\\lib\\site-packages\\librosa\\util\\decorators.py:88: UserWarning: n_fft=8192 is too small for input signal of length=4096\n",
      "  return f(*args, **kwargs)\n",
      "C:\\Users\\andre\\anaconda3\\lib\\site-packages\\sklearn\\utils\\validation.py:1688: FutureWarning: Feature names only support names that are all strings. Got feature names with dtypes: ['int', 'str']. An error will be raised in 1.2.\n",
      "  warnings.warn(\n",
      "C:\\Users\\andre\\anaconda3\\lib\\site-packages\\sklearn\\utils\\validation.py:1688: FutureWarning: Feature names only support names that are all strings. Got feature names with dtypes: ['int', 'str']. An error will be raised in 1.2.\n",
      "  warnings.warn(\n",
      "C:\\Users\\andre\\anaconda3\\lib\\site-packages\\sklearn\\utils\\validation.py:1688: FutureWarning: Feature names only support names that are all strings. Got feature names with dtypes: ['int', 'str']. An error will be raised in 1.2.\n",
      "  warnings.warn(\n"
     ]
    },
    {
     "name": "stdout",
     "output_type": "stream",
     "text": [
      "###########################################################\n",
      "DATASET SHAPE\n",
      "(7590, 68) (1898, 68) (7590,) (1898,)\n",
      "\n",
      "HYPERPARAMS: n_fft = 8192, hop = 256\n",
      "\n",
      "Fitting 10 folds for each of 4 candidates, totalling 40 fits\n",
      "{'criterion': 'gini', 'max_features': 'sqrt', 'n_estimators': 100}\n",
      "0.5367588932806324\n",
      "\n",
      "BEST RESULT: 0.5367588932806324\n",
      "\n"
     ]
    },
    {
     "name": "stderr",
     "output_type": "stream",
     "text": [
      "C:\\Users\\andre\\anaconda3\\lib\\site-packages\\librosa\\util\\decorators.py:88: UserWarning: n_fft=8192 is too small for input signal of length=6144\n",
      "  return f(*args, **kwargs)\n",
      "C:\\Users\\andre\\anaconda3\\lib\\site-packages\\librosa\\util\\decorators.py:88: UserWarning: n_fft=8192 is too small for input signal of length=7168\n",
      "  return f(*args, **kwargs)\n",
      "C:\\Users\\andre\\anaconda3\\lib\\site-packages\\librosa\\util\\decorators.py:88: UserWarning: n_fft=8192 is too small for input signal of length=7680\n",
      "  return f(*args, **kwargs)\n",
      "C:\\Users\\andre\\anaconda3\\lib\\site-packages\\librosa\\util\\decorators.py:88: UserWarning: n_fft=8192 is too small for input signal of length=5120\n",
      "  return f(*args, **kwargs)\n",
      "C:\\Users\\andre\\anaconda3\\lib\\site-packages\\librosa\\util\\decorators.py:88: UserWarning: n_fft=8192 is too small for input signal of length=6656\n",
      "  return f(*args, **kwargs)\n",
      "C:\\Users\\andre\\anaconda3\\lib\\site-packages\\librosa\\util\\decorators.py:88: UserWarning: n_fft=8192 is too small for input signal of length=5632\n",
      "  return f(*args, **kwargs)\n",
      "C:\\Users\\andre\\anaconda3\\lib\\site-packages\\librosa\\util\\decorators.py:88: UserWarning: n_fft=8192 is too small for input signal of length=3584\n",
      "  return f(*args, **kwargs)\n",
      "C:\\Users\\andre\\anaconda3\\lib\\site-packages\\librosa\\util\\decorators.py:88: UserWarning: n_fft=8192 is too small for input signal of length=2560\n",
      "  return f(*args, **kwargs)\n",
      "C:\\Users\\andre\\anaconda3\\lib\\site-packages\\librosa\\util\\decorators.py:88: UserWarning: n_fft=8192 is too small for input signal of length=4096\n",
      "  return f(*args, **kwargs)\n",
      "C:\\Users\\andre\\anaconda3\\lib\\site-packages\\sklearn\\utils\\validation.py:1688: FutureWarning: Feature names only support names that are all strings. Got feature names with dtypes: ['int', 'str']. An error will be raised in 1.2.\n",
      "  warnings.warn(\n",
      "C:\\Users\\andre\\anaconda3\\lib\\site-packages\\sklearn\\utils\\validation.py:1688: FutureWarning: Feature names only support names that are all strings. Got feature names with dtypes: ['int', 'str']. An error will be raised in 1.2.\n",
      "  warnings.warn(\n",
      "C:\\Users\\andre\\anaconda3\\lib\\site-packages\\sklearn\\utils\\validation.py:1688: FutureWarning: Feature names only support names that are all strings. Got feature names with dtypes: ['int', 'str']. An error will be raised in 1.2.\n",
      "  warnings.warn(\n"
     ]
    },
    {
     "name": "stdout",
     "output_type": "stream",
     "text": [
      "###########################################################\n",
      "DATASET SHAPE\n",
      "(7590, 68) (1898, 68) (7590,) (1898,)\n",
      "\n",
      "HYPERPARAMS: n_fft = 8192, hop = 512\n",
      "\n",
      "Fitting 10 folds for each of 4 candidates, totalling 40 fits\n",
      "{'criterion': 'gini', 'max_features': 'sqrt', 'n_estimators': 100}\n",
      "0.5371541501976285\n",
      "\n",
      "BEST RESULT: 0.5371541501976285\n",
      "\n"
     ]
    },
    {
     "name": "stderr",
     "output_type": "stream",
     "text": [
      "C:\\Users\\andre\\anaconda3\\lib\\site-packages\\librosa\\util\\decorators.py:88: UserWarning: n_fft=8192 is too small for input signal of length=6144\n",
      "  return f(*args, **kwargs)\n",
      "C:\\Users\\andre\\anaconda3\\lib\\site-packages\\librosa\\util\\decorators.py:88: UserWarning: n_fft=8192 is too small for input signal of length=7168\n",
      "  return f(*args, **kwargs)\n",
      "C:\\Users\\andre\\anaconda3\\lib\\site-packages\\librosa\\util\\decorators.py:88: UserWarning: n_fft=8192 is too small for input signal of length=7680\n",
      "  return f(*args, **kwargs)\n",
      "C:\\Users\\andre\\anaconda3\\lib\\site-packages\\librosa\\util\\decorators.py:88: UserWarning: n_fft=8192 is too small for input signal of length=5120\n",
      "  return f(*args, **kwargs)\n",
      "C:\\Users\\andre\\anaconda3\\lib\\site-packages\\librosa\\util\\decorators.py:88: UserWarning: n_fft=8192 is too small for input signal of length=6656\n",
      "  return f(*args, **kwargs)\n",
      "C:\\Users\\andre\\anaconda3\\lib\\site-packages\\librosa\\util\\decorators.py:88: UserWarning: n_fft=8192 is too small for input signal of length=5632\n",
      "  return f(*args, **kwargs)\n",
      "C:\\Users\\andre\\anaconda3\\lib\\site-packages\\librosa\\util\\decorators.py:88: UserWarning: n_fft=8192 is too small for input signal of length=3584\n",
      "  return f(*args, **kwargs)\n",
      "C:\\Users\\andre\\anaconda3\\lib\\site-packages\\librosa\\util\\decorators.py:88: UserWarning: n_fft=8192 is too small for input signal of length=2560\n",
      "  return f(*args, **kwargs)\n",
      "C:\\Users\\andre\\anaconda3\\lib\\site-packages\\librosa\\util\\decorators.py:88: UserWarning: n_fft=8192 is too small for input signal of length=4096\n",
      "  return f(*args, **kwargs)\n",
      "C:\\Users\\andre\\anaconda3\\lib\\site-packages\\sklearn\\utils\\validation.py:1688: FutureWarning: Feature names only support names that are all strings. Got feature names with dtypes: ['int', 'str']. An error will be raised in 1.2.\n",
      "  warnings.warn(\n",
      "C:\\Users\\andre\\anaconda3\\lib\\site-packages\\sklearn\\utils\\validation.py:1688: FutureWarning: Feature names only support names that are all strings. Got feature names with dtypes: ['int', 'str']. An error will be raised in 1.2.\n",
      "  warnings.warn(\n",
      "C:\\Users\\andre\\anaconda3\\lib\\site-packages\\sklearn\\utils\\validation.py:1688: FutureWarning: Feature names only support names that are all strings. Got feature names with dtypes: ['int', 'str']. An error will be raised in 1.2.\n",
      "  warnings.warn(\n"
     ]
    },
    {
     "name": "stdout",
     "output_type": "stream",
     "text": [
      "###########################################################\n",
      "DATASET SHAPE\n",
      "(7590, 68) (1898, 68) (7590,) (1898,)\n",
      "\n",
      "HYPERPARAMS: n_fft = 8192, hop = 1024\n",
      "\n",
      "Fitting 10 folds for each of 4 candidates, totalling 40 fits\n",
      "{'criterion': 'gini', 'max_features': 'log2', 'n_estimators': 100}\n",
      "0.5267457180500659\n",
      "\n",
      "BEST RESULT: 0.5267457180500659\n",
      "\n"
     ]
    },
    {
     "name": "stderr",
     "output_type": "stream",
     "text": [
      "C:\\Users\\andre\\anaconda3\\lib\\site-packages\\librosa\\util\\decorators.py:88: UserWarning: n_fft=8192 is too small for input signal of length=6144\n",
      "  return f(*args, **kwargs)\n",
      "C:\\Users\\andre\\anaconda3\\lib\\site-packages\\librosa\\util\\decorators.py:88: UserWarning: n_fft=8192 is too small for input signal of length=7168\n",
      "  return f(*args, **kwargs)\n",
      "C:\\Users\\andre\\anaconda3\\lib\\site-packages\\librosa\\util\\decorators.py:88: UserWarning: n_fft=8192 is too small for input signal of length=7680\n",
      "  return f(*args, **kwargs)\n",
      "C:\\Users\\andre\\anaconda3\\lib\\site-packages\\librosa\\util\\decorators.py:88: UserWarning: n_fft=8192 is too small for input signal of length=5120\n",
      "  return f(*args, **kwargs)\n",
      "C:\\Users\\andre\\anaconda3\\lib\\site-packages\\librosa\\util\\decorators.py:88: UserWarning: n_fft=8192 is too small for input signal of length=6656\n",
      "  return f(*args, **kwargs)\n",
      "C:\\Users\\andre\\anaconda3\\lib\\site-packages\\librosa\\util\\decorators.py:88: UserWarning: n_fft=8192 is too small for input signal of length=5632\n",
      "  return f(*args, **kwargs)\n",
      "C:\\Users\\andre\\anaconda3\\lib\\site-packages\\librosa\\util\\decorators.py:88: UserWarning: n_fft=8192 is too small for input signal of length=3584\n",
      "  return f(*args, **kwargs)\n",
      "C:\\Users\\andre\\anaconda3\\lib\\site-packages\\librosa\\util\\decorators.py:88: UserWarning: n_fft=8192 is too small for input signal of length=2560\n",
      "  return f(*args, **kwargs)\n",
      "C:\\Users\\andre\\anaconda3\\lib\\site-packages\\librosa\\util\\decorators.py:88: UserWarning: n_fft=8192 is too small for input signal of length=4096\n",
      "  return f(*args, **kwargs)\n",
      "C:\\Users\\andre\\anaconda3\\lib\\site-packages\\sklearn\\utils\\validation.py:1688: FutureWarning: Feature names only support names that are all strings. Got feature names with dtypes: ['int', 'str']. An error will be raised in 1.2.\n",
      "  warnings.warn(\n",
      "C:\\Users\\andre\\anaconda3\\lib\\site-packages\\sklearn\\utils\\validation.py:1688: FutureWarning: Feature names only support names that are all strings. Got feature names with dtypes: ['int', 'str']. An error will be raised in 1.2.\n",
      "  warnings.warn(\n",
      "C:\\Users\\andre\\anaconda3\\lib\\site-packages\\sklearn\\utils\\validation.py:1688: FutureWarning: Feature names only support names that are all strings. Got feature names with dtypes: ['int', 'str']. An error will be raised in 1.2.\n",
      "  warnings.warn(\n"
     ]
    },
    {
     "name": "stdout",
     "output_type": "stream",
     "text": [
      "###########################################################\n",
      "DATASET SHAPE\n",
      "(7590, 68) (1898, 68) (7590,) (1898,)\n",
      "\n",
      "HYPERPARAMS: n_fft = 8192, hop = 2048\n",
      "\n",
      "Fitting 10 folds for each of 4 candidates, totalling 40 fits\n",
      "{'criterion': 'gini', 'max_features': 'log2', 'n_estimators': 100}\n",
      "0.5142292490118576\n",
      "\n",
      "BEST RESULT: 0.5142292490118576\n",
      "\n"
     ]
    },
    {
     "name": "stderr",
     "output_type": "stream",
     "text": [
      "C:\\Users\\andre\\anaconda3\\lib\\site-packages\\librosa\\util\\decorators.py:88: UserWarning: n_fft=8192 is too small for input signal of length=6144\n",
      "  return f(*args, **kwargs)\n",
      "C:\\Users\\andre\\anaconda3\\lib\\site-packages\\librosa\\util\\decorators.py:88: UserWarning: n_fft=8192 is too small for input signal of length=7168\n",
      "  return f(*args, **kwargs)\n",
      "C:\\Users\\andre\\anaconda3\\lib\\site-packages\\librosa\\util\\decorators.py:88: UserWarning: n_fft=8192 is too small for input signal of length=7680\n",
      "  return f(*args, **kwargs)\n",
      "C:\\Users\\andre\\anaconda3\\lib\\site-packages\\librosa\\util\\decorators.py:88: UserWarning: n_fft=8192 is too small for input signal of length=5120\n",
      "  return f(*args, **kwargs)\n",
      "C:\\Users\\andre\\anaconda3\\lib\\site-packages\\librosa\\util\\decorators.py:88: UserWarning: n_fft=8192 is too small for input signal of length=6656\n",
      "  return f(*args, **kwargs)\n",
      "C:\\Users\\andre\\anaconda3\\lib\\site-packages\\librosa\\util\\decorators.py:88: UserWarning: n_fft=8192 is too small for input signal of length=5632\n",
      "  return f(*args, **kwargs)\n",
      "C:\\Users\\andre\\anaconda3\\lib\\site-packages\\librosa\\util\\decorators.py:88: UserWarning: n_fft=8192 is too small for input signal of length=3584\n",
      "  return f(*args, **kwargs)\n",
      "C:\\Users\\andre\\anaconda3\\lib\\site-packages\\librosa\\util\\decorators.py:88: UserWarning: n_fft=8192 is too small for input signal of length=2560\n",
      "  return f(*args, **kwargs)\n",
      "C:\\Users\\andre\\anaconda3\\lib\\site-packages\\librosa\\util\\decorators.py:88: UserWarning: n_fft=8192 is too small for input signal of length=4096\n",
      "  return f(*args, **kwargs)\n",
      "C:\\Users\\andre\\anaconda3\\lib\\site-packages\\sklearn\\utils\\validation.py:1688: FutureWarning: Feature names only support names that are all strings. Got feature names with dtypes: ['int', 'str']. An error will be raised in 1.2.\n",
      "  warnings.warn(\n",
      "C:\\Users\\andre\\anaconda3\\lib\\site-packages\\sklearn\\utils\\validation.py:1688: FutureWarning: Feature names only support names that are all strings. Got feature names with dtypes: ['int', 'str']. An error will be raised in 1.2.\n",
      "  warnings.warn(\n",
      "C:\\Users\\andre\\anaconda3\\lib\\site-packages\\sklearn\\utils\\validation.py:1688: FutureWarning: Feature names only support names that are all strings. Got feature names with dtypes: ['int', 'str']. An error will be raised in 1.2.\n",
      "  warnings.warn(\n"
     ]
    },
    {
     "name": "stdout",
     "output_type": "stream",
     "text": [
      "###########################################################\n",
      "DATASET SHAPE\n",
      "(7590, 68) (1898, 68) (7590,) (1898,)\n",
      "\n",
      "HYPERPARAMS: n_fft = 8192, hop = 4096\n",
      "\n",
      "Fitting 10 folds for each of 4 candidates, totalling 40 fits\n",
      "{'criterion': 'gini', 'max_features': 'log2', 'n_estimators': 100}\n",
      "0.4907773386034256\n",
      "\n",
      "BEST RESULT: 0.4907773386034256\n",
      "\n"
     ]
    }
   ],
   "source": [
    "import sklearn\n",
    "from sklearn.model_selection import train_test_split\n",
    "\n",
    "from sklearn.preprocessing import StandardScaler\n",
    "scaler = StandardScaler()\n",
    "\n",
    "\n",
    "features = []\n",
    "hop_length = 128\n",
    "frame_rate = sr*2/hop_length\n",
    "\n",
    "n_ffts = [512, 1024, 2048, 4096, 8192]\n",
    "hops = [64, 128, 256, 512, 1024, 2048, 4096]\n",
    "\n",
    "svm = False\n",
    "\n",
    "for n_fft in n_ffts:\n",
    "    for hop in hops:\n",
    "        if hop < n_fft:\n",
    "            features = []\n",
    "            for i, audio in enumerate(df_pd.audio_reconstructed):\n",
    "    #n_fft = int(frame_rate*len(audio))\n",
    "    #For each trim audio extract MFCC (so we will get a matrix of n_mfcc components*nc, with nc variable)\n",
    "                mfcc_features = librosa.feature.mfcc(y=df_pd.audio_reconstructed[i], \n",
    "                                         sr=sr*2, \n",
    "                                         n_mfcc=13,\n",
    "                                         lifter = 10, \n",
    "                                         n_fft=n_fft, \n",
    "                                         hop_length=hop,\n",
    "                                         n_mels = 90,\n",
    "                                        dct_type=2)\n",
    "#    mfcc_features = sklearn.preprocessing.scale(mfcc_features, axis=1)\n",
    "#   mel_features = librosa.feature.melspectrogram(y=df_pd.audio_trim[i], sr=sr)\n",
    "#   spectogram = librosa.power_to_db(mel_features, ref=np.max)\n",
    "\n",
    "    #For each coefficient we compute the mean, median, std, max, min so we will have a total of n_mfcc*5 features for each audio\n",
    "                mfcc_means = mfcc_features.mean(axis=1)\n",
    "                mfcc_medians = np.median(mfcc_features, axis=1)\n",
    "                mfcc_stds = mfcc_features.std(axis=1)\n",
    "                mfcc_maxs = mfcc_features.max(axis=1)\n",
    "                mfcc_mins = mfcc_features.min(axis=1)\n",
    "\n",
    "                #we stack together the means, stds, medians, maxs and mins to get the final feature vector for each audio.\n",
    "                audio_features = list(mfcc_means)+list(mfcc_medians)+list(mfcc_stds)+list(mfcc_maxs)+list(mfcc_mins)\n",
    "\n",
    "                features.append(audio_features)\n",
    "                #adjust spectogram size to get nice number of columns that are easy to divide3\n",
    "                #spectogram= np.hstack((spectogram,tmp))\n",
    "\n",
    "                #spectograms.append(spectogram)\n",
    "                \n",
    "            new_df = pd.DataFrame(features)\n",
    "\n",
    "\n",
    "\n",
    "            \n",
    "            new_df['gender=male'] = df_pd[\"gender=male\"]\n",
    "            new_df['ageRange=41-65'] = df_pd[\"ageRange=41-65\"]\n",
    "            new_df['ageRange=65+'] = df_pd[\"ageRange=65+\"]\n",
    "            new_df['label'] = df_pd[\"label\"]\n",
    "            \n",
    "            y = new_df['label']\n",
    "            X = new_df.drop(columns='label')\n",
    "            seed = 42\n",
    "            \n",
    "            X_train, X_test, y_train, y_test = train_test_split(X, y, test_size=0.2, random_state=seed)\n",
    "\n",
    "            #if svm == True: #standardize\n",
    "            X_train_scaled = scaler.fit_transform(X_train)\n",
    "            X_test_scaled = scaler.transform(X_test)\n",
    "            \n",
    "            print(\"###########################################################\")\n",
    "            print(\"DATASET SHAPE\")\n",
    "            print(X_train.shape, X_test.shape, y_train.shape, y_test.shape)\n",
    "            print(\"\")\n",
    "            \n",
    "            print(f\"HYPERPARAMS: n_fft = {n_fft}, hop = {hop}\")\n",
    "            print(\"\")\n",
    "            if svm == True:\n",
    "                _, _, best_score_RF = svm_classifier(X_train_scaled, y_train, 10, seed)\n",
    "            else:\n",
    "                _, _, best_score_RF = randforest_classifier(X_train_scaled, y_train, 10, seed)\n",
    "            print(\"\")\n",
    "            print(f\"BEST RESULT: {best_score_RF}\")\n",
    "            print(\"\")\n",
    "            \n",
    "            "
   ]
  },
  {
   "cell_type": "code",
   "execution_count": null,
   "id": "43bfa55e",
   "metadata": {},
   "outputs": [],
   "source": [
    "new_df = pd.DataFrame(features)"
   ]
  },
  {
   "cell_type": "code",
   "execution_count": null,
   "id": "9ffdf1dd",
   "metadata": {},
   "outputs": [],
   "source": [
    "#Test\n",
    "\n",
    "# index = 1\n",
    "# mfcc_features = librosa.feature.mfcc(y=df_pd.audio_trim[index], sr=sr)\n",
    "# print(mfcc_features.shape)\n",
    "\n",
    "# medians = np.median(mfcc_features, axis=1)\n",
    "# print(medians.shape)\n",
    "\n",
    "# means = mfcc_features.mean(axis=1)\n",
    "# medians = np.median(mfcc_features, axis=1)\n",
    "# stds = mfcc_features.std(axis=1)\n",
    "# maxs = mfcc_features.max(axis=1)\n",
    "# mins = mfcc_features.min(axis=1)\n",
    "# mins"
   ]
  },
  {
   "cell_type": "code",
   "execution_count": null,
   "id": "8abde365",
   "metadata": {},
   "outputs": [],
   "source": [
    "#Add one hot encoding features and label column\n",
    "new_df['gender=male'] = df_pd[\"gender=male\"]\n",
    "new_df['ageRange=41-65'] = df_pd[\"ageRange=41-65\"]\n",
    "new_df['ageRange=65+'] = df_pd[\"ageRange=65+\"]\n",
    "new_df['label'] = df_pd[\"label\"]"
   ]
  },
  {
   "cell_type": "code",
   "execution_count": null,
   "id": "11465b74",
   "metadata": {
    "scrolled": true
   },
   "outputs": [],
   "source": [
    "new_df"
   ]
  },
  {
   "cell_type": "code",
   "execution_count": null,
   "id": "0d328f02",
   "metadata": {},
   "outputs": [],
   "source": [
    "# indexes"
   ]
  },
  {
   "cell_type": "code",
   "execution_count": null,
   "id": "a7bb2391",
   "metadata": {},
   "outputs": [],
   "source": [
    "# name_file = r'/df.pickle'\n",
    "\n",
    "# with open(path_working_directory+name_file, 'rb') as f:\n",
    "#         df = pickle.load(f)\n",
    "# df_tmp = pd.DataFrame({'audio':df[1], 'gender': df_development.gender, 'ageRange': df_development.ageRange, 'label':df[3]})\n",
    "# #df_pd[9840:9845] ETICHETTATO COME FEMALE MA SECONDO ME E MALE\n",
    "# pd.DataFrame(df_tmp).iloc[23:28]"
   ]
  },
  {
   "cell_type": "code",
   "execution_count": null,
   "id": "1bd236c4",
   "metadata": {},
   "outputs": [],
   "source": [
    "# df_pd.iloc[23:28]"
   ]
  },
  {
   "cell_type": "code",
   "execution_count": null,
   "id": "2d8a3906",
   "metadata": {},
   "outputs": [],
   "source": [
    "# df_tmp['audio'][26]"
   ]
  },
  {
   "cell_type": "code",
   "execution_count": null,
   "id": "381daf94",
   "metadata": {},
   "outputs": [],
   "source": [
    "# df_tmp['audio'][24] == df_pd['audio'][24]"
   ]
  },
  {
   "cell_type": "markdown",
   "id": "09490e4b",
   "metadata": {},
   "source": [
    "### 4. Training and Validation"
   ]
  },
  {
   "cell_type": "code",
   "execution_count": null,
   "id": "a8ae650f",
   "metadata": {},
   "outputs": [],
   "source": [
    "y = new_df['label']\n",
    "X = new_df.drop(columns='label')\n",
    "seed = 42"
   ]
  },
  {
   "cell_type": "code",
   "execution_count": null,
   "id": "70098add",
   "metadata": {},
   "outputs": [],
   "source": [
    "from sklearn.model_selection import train_test_split\n",
    "X_train, X_test, y_train, y_test = train_test_split(X, y, test_size=0.2, random_state=seed)\n",
    "X_train.shape, X_test.shape, y_train.shape, y_test.shape "
   ]
  },
  {
   "cell_type": "code",
   "execution_count": 46,
   "id": "68ff1ea7",
   "metadata": {},
   "outputs": [
    {
     "ename": "NameError",
     "evalue": "name 'seed' is not defined",
     "output_type": "error",
     "traceback": [
      "\u001b[1;31m---------------------------------------------------------------------------\u001b[0m",
      "\u001b[1;31mNameError\u001b[0m                                 Traceback (most recent call last)",
      "\u001b[1;32m~\\AppData\\Local\\Temp/ipykernel_12744/966170597.py\u001b[0m in \u001b[0;36m<module>\u001b[1;34m\u001b[0m\n\u001b[0;32m      3\u001b[0m \u001b[1;32mfrom\u001b[0m \u001b[0msklearn\u001b[0m\u001b[1;33m.\u001b[0m\u001b[0mmodel_selection\u001b[0m \u001b[1;32mimport\u001b[0m \u001b[0mGridSearchCV\u001b[0m\u001b[1;33m\u001b[0m\u001b[1;33m\u001b[0m\u001b[0m\n\u001b[0;32m      4\u001b[0m \u001b[1;33m\u001b[0m\u001b[0m\n\u001b[1;32m----> 5\u001b[1;33m \u001b[1;32mdef\u001b[0m \u001b[0mrandforest_classifier\u001b[0m\u001b[1;33m(\u001b[0m\u001b[0minput_x\u001b[0m\u001b[1;33m,\u001b[0m \u001b[0minput_y\u001b[0m\u001b[1;33m,\u001b[0m \u001b[0mcv\u001b[0m\u001b[1;33m=\u001b[0m\u001b[1;36m10\u001b[0m\u001b[1;33m,\u001b[0m \u001b[0mseed\u001b[0m \u001b[1;33m=\u001b[0m \u001b[0mseed\u001b[0m\u001b[1;33m)\u001b[0m\u001b[1;33m:\u001b[0m\u001b[1;33m\u001b[0m\u001b[1;33m\u001b[0m\u001b[0m\n\u001b[0m\u001b[0;32m      6\u001b[0m     \u001b[1;31m## Defining parameters\u001b[0m\u001b[1;33m\u001b[0m\u001b[1;33m\u001b[0m\u001b[0m\n\u001b[0;32m      7\u001b[0m     \u001b[0mmodel_RF\u001b[0m\u001b[1;33m=\u001b[0m \u001b[0mRandomForestClassifier\u001b[0m\u001b[1;33m(\u001b[0m\u001b[0mrandom_state\u001b[0m \u001b[1;33m=\u001b[0m\u001b[0mseed\u001b[0m\u001b[1;33m)\u001b[0m\u001b[1;33m\u001b[0m\u001b[1;33m\u001b[0m\u001b[0m\n",
      "\u001b[1;31mNameError\u001b[0m: name 'seed' is not defined"
     ]
    }
   ],
   "source": [
    "### RandomForest Classifier ###\n",
    "from sklearn.ensemble import RandomForestClassifier\n",
    "from sklearn.model_selection import GridSearchCV\n",
    "\n",
    "def randforest_classifier(input_x, input_y, cv=10, seed = seed):\n",
    "    ## Defining parameters\n",
    "    model_RF= RandomForestClassifier(random_state =seed)\n",
    "\n",
    "    parameters = {'n_estimators':[100], \n",
    "                  'criterion':['gini', 'entropy'],\n",
    "                  'max_features':['sqrt', 'log2']}\n",
    "\n",
    "    ## Building Grid Search algorithm with cross-validation and Mean Squared Error score.\n",
    "\n",
    "    grid_search_RF = GridSearchCV(estimator=model_RF,  \n",
    "                         param_grid=parameters,\n",
    "                         scoring='accuracy',\n",
    "                         cv=cv,\n",
    "                         n_jobs=-1,\n",
    "                        verbose = 15)\n",
    "\n",
    "    ## Lastly, finding the best parameters.\n",
    "\n",
    "    grid_search_RF.fit(input_x, input_y)\n",
    "    best_parameters_RF = grid_search_RF.best_params_  \n",
    "    best_score_RF = grid_search_RF.best_score_ \n",
    "    print(best_parameters_RF)\n",
    "    print(best_score_RF)\n",
    "    results = grid_search_RF.cv_results_\n",
    "    \n",
    "    return best_parameters_RF, results\n",
    "\n",
    "best_params, RF_CV_results = randforest_classifier(X_train, y_train, 10, seed)"
   ]
  },
  {
   "cell_type": "code",
   "execution_count": 47,
   "id": "52699fb7",
   "metadata": {},
   "outputs": [
    {
     "ename": "NameError",
     "evalue": "name 'seed' is not defined",
     "output_type": "error",
     "traceback": [
      "\u001b[1;31m---------------------------------------------------------------------------\u001b[0m",
      "\u001b[1;31mNameError\u001b[0m                                 Traceback (most recent call last)",
      "\u001b[1;32m~\\AppData\\Local\\Temp/ipykernel_12744/1569707771.py\u001b[0m in \u001b[0;36m<module>\u001b[1;34m\u001b[0m\n\u001b[1;32m----> 1\u001b[1;33m \u001b[0mrf\u001b[0m \u001b[1;33m=\u001b[0m \u001b[0mRandomForestClassifier\u001b[0m\u001b[1;33m(\u001b[0m\u001b[0mn_estimators\u001b[0m\u001b[1;33m=\u001b[0m\u001b[1;36m50\u001b[0m\u001b[1;33m,\u001b[0m\u001b[0mcriterion\u001b[0m\u001b[1;33m=\u001b[0m\u001b[1;34m'entropy'\u001b[0m\u001b[1;33m,\u001b[0m \u001b[0mmax_features\u001b[0m\u001b[1;33m=\u001b[0m\u001b[1;34m\"sqrt\"\u001b[0m\u001b[1;33m,\u001b[0m \u001b[0mrandom_state\u001b[0m \u001b[1;33m=\u001b[0m\u001b[0mseed\u001b[0m\u001b[1;33m)\u001b[0m\u001b[1;33m\u001b[0m\u001b[1;33m\u001b[0m\u001b[0m\n\u001b[0m\u001b[0;32m      2\u001b[0m \u001b[0mrf\u001b[0m\u001b[1;33m.\u001b[0m\u001b[0mfit\u001b[0m\u001b[1;33m(\u001b[0m\u001b[0mX_train\u001b[0m\u001b[1;33m,\u001b[0m \u001b[0my_train\u001b[0m\u001b[1;33m)\u001b[0m\u001b[1;33m\u001b[0m\u001b[1;33m\u001b[0m\u001b[0m\n",
      "\u001b[1;31mNameError\u001b[0m: name 'seed' is not defined"
     ]
    }
   ],
   "source": [
    "rf = RandomForestClassifier(n_estimators=50,criterion='entropy', max_features=\"sqrt\", random_state =seed)\n",
    "rf.fit(X_train, y_train)"
   ]
  },
  {
   "cell_type": "code",
   "execution_count": null,
   "id": "baee5d7a",
   "metadata": {},
   "outputs": [],
   "source": [
    "feature_names = [f\"{f}\" for f in X_train.columns]\n",
    "print(feature_names)\n",
    "importances=rf.feature_importances_\n",
    "forest_importances=  pd.Series(importances, index=feature_names).sort_values(ascending=False)\n",
    "print(\"means: 0-12\")\n",
    "print(\"medians: 13-25\")\n",
    "print(\"stds: 26-38\")\n",
    "print(\"max: 39-51\")\n",
    "print(\"min: 52-64\")\n",
    "plt.figure(figsize=(12,12))\n",
    "forest_importances.plot.bar()\n",
    "plt.title(\"Feature importances using MDI\")\n",
    "plt.ylabel(\"Mean decrease in impurity\")\n"
   ]
  },
  {
   "cell_type": "markdown",
   "id": "0a478d2c",
   "metadata": {},
   "source": [
    "100 alberi, mfcc_features = librosa.feature.mfcc(y=df_pd.audio_trim[i], sr=sr, n_mfcc=13, n_fft=1024): 0.5019027470507421\n",
    "\n",
    "100 alberi, mfcc_features = librosa.feature.mfcc(y=df_pd.audio_trim[i], sr=sr, n_mfcc=13, n_fft=2048, hop_length=256): 0.5107861570314567\n",
    "\n",
    "100 alberi, mfcc_features = librosa.feature.mfcc(y=df_pd.audio_trim[i], sr=sr, n_mfcc=13, n_fft=2048, hop_length=128) = 0.5144707138203936\n",
    "\n",
    "100 alberi   mfcc_features = librosa.feature.mfcc(y=df_pd.audio_emph[i], sr=sr, n_mfcc=13, n_fft=4096, hop_length=128) = 0.5152318126406905\n",
    "\n",
    "100 alberi mfcc_features = librosa.feature.mfcc(y=df_pd.audio_trim[i], sr=sr, n_mfcc=13, n_fft=4096, hop_length=128): 0.520815407736118\n",
    "\n",
    "100 alberi, mfcc_features = librosa.feature.mfcc(y=df_pd.audio_trim[i], sr=sr, n_mfcc=13, n_fft=4096, hop_length=128, n_mels = 90): 0.523992189062107\n",
    "\n",
    "100 alberi, mfcc_features = librosa.feature.mfcc(y=df_pd.audio_reconstructed[i], sr=sr, n_mfcc=13, n_fft=4096, hop_length=128, n_mels = 90): 0.5242471249169564\n",
    "\n",
    "100 alberi,   mfcc_features = librosa.feature.mfcc(y=df_pd.audio_reconstructed[i], sr=sr*2, n_mfcc=13, n_fft=4096, hop_length=128, n_mels = 90): 0.5308446584407794\n",
    "\n",
    "200 alberi, mfcc_features = librosa.feature.mfcc(y=df_pd.audio_reconstructed[i], sr=sr*2, n_mfcc=13, lifter = 10, n_fft=4096, hop_length=128, n_mels = 90): 0.538330839337199\n",
    "\n",
    "100, mfcc_features = librosa.feature.mfcc(y=df_pd.audio_reconstructed[i], sr=sr*2, n_mfcc=13, lifter = 10, n_fft=4096, hop_length=128, n_mels = 90, dct_type=1) = 0.5279249092163907\n",
    "\n",
    "100, mfcc_features = librosa.feature.mfcc(y=df_pd.audio_reconstructed[i],  sr=sr*2, n_mfcc=13,lifter = 10,  n_fft=4096, hop_length=128, n_mels = 90, dct_type=3): 0.5046902714800793\n",
    "\n",
    "**BEST**: 100 alberi,  tagliando trim audios > 1 sec mfcc_features = librosa.feature.mfcc(y=df_pd.audio_reconstructed[i], sr=sr*2, n_mfcc=13, lifter = 10, n_fft=4096, hop_length=64, n_mels = 90, dct_type=2): **0.5398856887280141**\n",
    "\n",
    "100 alberi,  tagliando trim audios > 2 sec mfcc_features = librosa.feature.mfcc(y=df_pd.audio_reconstructed[i], sr=sr*2, n_mfcc=13, lifter = 10, n_fft=4096, hop_length=64, n_mels = 90, dct_type=2): **0.5274044795783926**\n",
    "\n",
    "\n",
    "\n",
    "\n",
    "\n",
    "\n"
   ]
  },
  {
   "cell_type": "code",
   "execution_count": null,
   "id": "a08f5e61",
   "metadata": {},
   "outputs": [],
   "source": [
    "new_df"
   ]
  },
  {
   "cell_type": "code",
   "execution_count": null,
   "id": "18c06666",
   "metadata": {},
   "outputs": [],
   "source": [
    "new_df['ageRange=41-65']"
   ]
  },
  {
   "cell_type": "code",
   "execution_count": null,
   "id": "1ac718f7",
   "metadata": {},
   "outputs": [],
   "source": []
  },
  {
   "cell_type": "code",
   "execution_count": null,
   "id": "41f80f78",
   "metadata": {},
   "outputs": [],
   "source": []
  },
  {
   "cell_type": "code",
   "execution_count": null,
   "id": "b3c1c112",
   "metadata": {},
   "outputs": [],
   "source": []
  },
  {
   "cell_type": "code",
   "execution_count": null,
   "id": "861f1648",
   "metadata": {},
   "outputs": [],
   "source": []
  },
  {
   "cell_type": "code",
   "execution_count": null,
   "id": "8d060a8d",
   "metadata": {},
   "outputs": [],
   "source": []
  },
  {
   "cell_type": "code",
   "execution_count": null,
   "id": "0ccedf4a",
   "metadata": {
    "scrolled": true
   },
   "outputs": [],
   "source": [
    "# df_pd['label'][7167]"
   ]
  },
  {
   "cell_type": "markdown",
   "id": "6309293a",
   "metadata": {},
   "source": [
    "We noticed that some audios (ex. index = 7167) are kept because there noise (no silence) and trim is not able to erase it away, so now we apply noise reduction."
   ]
  },
  {
   "cell_type": "markdown",
   "id": "0c7ed4fb",
   "metadata": {},
   "source": [
    "Let's listent the audio."
   ]
  },
  {
   "cell_type": "code",
   "execution_count": null,
   "id": "b3a19f74",
   "metadata": {},
   "outputs": [],
   "source": [
    "# # 7167 : rumore finale che non toglie\n",
    "# index = 7167\n",
    "# s1 = df_pd['audio'][index]\n",
    "# ipd.Audio(df_pd['audio'][index], rate=22050)\n",
    "# plt.figure()\n",
    "# plt.plot(s1)"
   ]
  },
  {
   "cell_type": "code",
   "execution_count": null,
   "id": "2704bbeb",
   "metadata": {},
   "outputs": [],
   "source": [
    "# # Original audio\n",
    "# ipd.Audio(s1, rate=22050)"
   ]
  },
  {
   "cell_type": "code",
   "execution_count": null,
   "id": "83bd7832",
   "metadata": {},
   "outputs": [],
   "source": [
    "# # Trim audio\n",
    "# s1_trim = librosa.effects.trim(s1, top_db=20)[0]\n",
    "# ipd.Audio(s1_trim, rate=22050)"
   ]
  },
  {
   "cell_type": "markdown",
   "id": "82101d2b",
   "metadata": {},
   "source": [
    "It says \"decrease the volume\" (label 3), we now take another audio saying the same without noise to compare them."
   ]
  },
  {
   "cell_type": "code",
   "execution_count": null,
   "id": "9b138f60",
   "metadata": {},
   "outputs": [],
   "source": [
    "# # Retrieve all the rows having label = 3 and then the corresponding indexes\n",
    "# df_label3 = df_pd[df_pd['label']==3]\n",
    "# indexes_label3 = list(df_label3.index)\n",
    "# indexes_label3"
   ]
  },
  {
   "cell_type": "code",
   "execution_count": null,
   "id": "e04d0f06",
   "metadata": {},
   "outputs": [],
   "source": [
    "# index = 691 #this audio seems clearer\n",
    "# s2 = df_pd['audio'][index]\n",
    "\n",
    "# ipd.Audio(s2, rate=22050)\n",
    "# plt.figure()\n",
    "# plt.plot(s2)"
   ]
  },
  {
   "cell_type": "code",
   "execution_count": null,
   "id": "07f49bf0",
   "metadata": {},
   "outputs": [],
   "source": [
    "# ipd.Audio(s2, rate=22050)"
   ]
  },
  {
   "cell_type": "code",
   "execution_count": null,
   "id": "3da8eb23",
   "metadata": {},
   "outputs": [],
   "source": [
    "# s2_trim = librosa.effects.trim(s2, top_db=20)[0]\n",
    "# ipd.Audio(s2_trim, rate=22050)"
   ]
  },
  {
   "cell_type": "markdown",
   "id": "bd91652c",
   "metadata": {},
   "source": [
    "Let's plot the spectograms"
   ]
  },
  {
   "cell_type": "code",
   "execution_count": null,
   "id": "ac18ed48",
   "metadata": {},
   "outputs": [],
   "source": [
    "# S1 = librosa.feature.melspectrogram(y=s1, sr=sr, n_mels=128)\n",
    "# D1 = librosa.power_to_db(S1, ref=np.max)\n",
    "# librosa.display.specshow(D1, x_axis='time', y_axis='mel');"
   ]
  },
  {
   "cell_type": "code",
   "execution_count": null,
   "id": "0cd67b2b",
   "metadata": {},
   "outputs": [],
   "source": [
    "# S2 = librosa.feature.melspectrogram(y=s2, sr=sr, n_mels=128)\n",
    "# D2 = librosa.power_to_db(S2, ref=np.max)\n",
    "# librosa.display.specshow(D2, x_axis='time', y_axis='mel');"
   ]
  },
  {
   "cell_type": "code",
   "execution_count": null,
   "id": "4c9dd3c5",
   "metadata": {},
   "outputs": [],
   "source": [
    "# from scipy import signal\n",
    "# import random\n",
    "\n",
    "\n",
    "# def f_high(y,sr):\n",
    "#     b,a = signal.butter(10, 2000/(sr/2), btype='highpass')\n",
    "#     yf = signal.lfilter(b,a,y)\n",
    "#     return yf"
   ]
  },
  {
   "cell_type": "code",
   "execution_count": null,
   "id": "7a7ccb8c",
   "metadata": {},
   "outputs": [],
   "source": [
    "# yf1 = f_high(s1, sr)\n",
    "# yf2 = f_high(s2, sr)"
   ]
  },
  {
   "cell_type": "code",
   "execution_count": null,
   "id": "c6cb29da",
   "metadata": {},
   "outputs": [],
   "source": [
    "# librosa.display.waveshow(s1,sr=sr, x_axis='time');\n",
    "# librosa.display.waveshow(yf1,sr=sr, x_axis='time');"
   ]
  },
  {
   "cell_type": "code",
   "execution_count": null,
   "id": "6cc38b06",
   "metadata": {},
   "outputs": [],
   "source": [
    "# S1_new = librosa.feature.melspectrogram(y=yf1, sr=sr, n_mels=128)\n",
    "# D1 = librosa.power_to_db(S1_new, ref=np.max)\n",
    "# librosa.display.specshow(D1, x_axis='time', y_axis='mel');"
   ]
  },
  {
   "cell_type": "code",
   "execution_count": null,
   "id": "2c1ca772",
   "metadata": {},
   "outputs": [],
   "source": [
    "# # Dp1 = librosa.pcen(S1 * (2**31), sr=sr, gain=1.1, hop_length=512, bias=2, power=0.5, time_constant=0.8, eps=1e-06, max_size=2)\n",
    "# # Dp2 = librosa.pcen(S2 * (2**31), sr=sr, gain=1.1, hop_length=512, bias=2, power=0.5, time_constant=0.8, eps=1e-06, max_size=2)\n",
    "\n",
    "# Dp1 = librosa.pcen(S1 * (2**31), sr=sr)\n",
    "# Dp2 = librosa.pcen(S2 * (2**31), sr=sr)"
   ]
  },
  {
   "cell_type": "code",
   "execution_count": null,
   "id": "210a90ab",
   "metadata": {},
   "outputs": [],
   "source": [
    "# librosa.display.specshow(Dp1, x_axis='time', y_axis='mel');"
   ]
  },
  {
   "cell_type": "code",
   "execution_count": null,
   "id": "4f55b464",
   "metadata": {},
   "outputs": [],
   "source": [
    "# librosa.display.specshow(Dp2, x_axis='time', y_axis='mel');"
   ]
  },
  {
   "cell_type": "code",
   "execution_count": null,
   "id": "408b26c8",
   "metadata": {},
   "outputs": [],
   "source": [
    "# yp1 = librosa.feature.inverse.mel_to_audio(Dp1)\n",
    "# yp2 = librosa.feature.inverse.mel_to_audio(Dp2)"
   ]
  },
  {
   "cell_type": "code",
   "execution_count": null,
   "id": "784f23e2",
   "metadata": {},
   "outputs": [],
   "source": [
    "# librosa.display.waveshow(yp1,sr=sr, x_axis='time');\n",
    "# librosa.display.waveshow(s1,sr=sr, x_axis='time');"
   ]
  },
  {
   "cell_type": "code",
   "execution_count": null,
   "id": "c0bee722",
   "metadata": {},
   "outputs": [],
   "source": [
    "# librosa.display.waveshow(yp2,sr=sr, x_axis='time');\n",
    "# librosa.display.waveshow(s2,sr=sr, x_axis='time');"
   ]
  },
  {
   "cell_type": "code",
   "execution_count": null,
   "id": "765e1609",
   "metadata": {},
   "outputs": [],
   "source": [
    "# ipd.Audio(yp1, rate=22050)\n"
   ]
  },
  {
   "cell_type": "code",
   "execution_count": null,
   "id": "b4c21709",
   "metadata": {},
   "outputs": [],
   "source": [
    "# ipd.Audio(yp2, rate=22050)"
   ]
  },
  {
   "cell_type": "code",
   "execution_count": null,
   "id": "9c1b73da",
   "metadata": {},
   "outputs": [],
   "source": [
    "# import time\n",
    "# from datetime import timedelta as td\n",
    "\n",
    "\n",
    "# def _stft(y, n_fft, hop_length, win_length):\n",
    "#     return librosa.stft(y=y, n_fft=n_fft, hop_length=hop_length, win_length=win_length)\n",
    "\n",
    "\n",
    "# def _istft(y, hop_length, win_length):\n",
    "#     return librosa.istft(y, hop_length, win_length)\n",
    "\n",
    "\n",
    "# def _amp_to_db(x):\n",
    "#     return librosa.core.amplitude_to_db(x, ref=1.0, amin=1e-20, top_db=80.0)\n",
    "\n",
    "\n",
    "# def _db_to_amp(x,):\n",
    "#     return librosa.core.db_to_amplitude(x, ref=1.0)\n",
    "\n",
    "\n",
    "# def plot_spectrogram(signal, title):\n",
    "#     fig, ax = plt.subplots(figsize=(20, 4))\n",
    "#     cax = ax.matshow(\n",
    "#         signal,\n",
    "#         origin=\"lower\",\n",
    "#         aspect=\"auto\",\n",
    "#         cmap=plt.cm.seismic,\n",
    "#         vmin=-1 * np.max(np.abs(signal)),\n",
    "#         vmax=np.max(np.abs(signal)),\n",
    "#     )\n",
    "#     fig.colorbar(cax)\n",
    "#     ax.set_title(title)\n",
    "#     plt.tight_layout()\n",
    "#     plt.show()\n",
    "\n",
    "\n",
    "# def plot_statistics_and_filter(\n",
    "#     mean_freq_noise, std_freq_noise, noise_thresh, smoothing_filter\n",
    "# ):\n",
    "#     fig, ax = plt.subplots(ncols=2, figsize=(20, 4))\n",
    "#     plt_mean, = ax[0].plot(mean_freq_noise, label=\"Mean power of noise\")\n",
    "#     plt_std, = ax[0].plot(std_freq_noise, label=\"Std. power of noise\")\n",
    "#     plt_std, = ax[0].plot(noise_thresh, label=\"Noise threshold (by frequency)\")\n",
    "#     ax[0].set_title(\"Threshold for mask\")\n",
    "#     ax[0].legend()\n",
    "#     cax = ax[1].matshow(smoothing_filter, origin=\"lower\")\n",
    "#     fig.colorbar(cax)\n",
    "#     ax[1].set_title(\"Filter for smoothing Mask\")\n",
    "#     plt.show()\n",
    "\n",
    "# def removeNoise(\n",
    "#     audio_clip,\n",
    "#     noise_clip,\n",
    "#     n_grad_freq=2,\n",
    "#     n_grad_time=4,\n",
    "#     n_fft=2048,\n",
    "#     win_length=2048,\n",
    "#     hop_length=512,\n",
    "#     n_std_thresh=1.5,\n",
    "#     prop_decrease=1.0,\n",
    "#     verbose=False,\n",
    "#     visual=False,\n",
    "# ):\n",
    "#     \"\"\"Remove noise from audio based upon a clip containing only noise\n",
    "\n",
    "#     Args:\n",
    "#         audio_clip (array): The first parameter.\n",
    "#         noise_clip (array): The second parameter.\n",
    "#         n_grad_freq (int): how many frequency channels to smooth over with the mask.\n",
    "#         n_grad_time (int): how many time channels to smooth over with the mask.\n",
    "#         n_fft (int): number audio of frames between STFT columns.\n",
    "#         win_length (int): Each frame of audio is windowed by `window()`. The window will be of length `win_length` and then padded with zeros to match `n_fft`..\n",
    "#         hop_length (int):number audio of frames between STFT columns.\n",
    "#         n_std_thresh (int): how many standard deviations louder than the mean dB of the noise (at each frequency level) to be considered signal\n",
    "#         prop_decrease (float): To what extent should you decrease noise (1 = all, 0 = none)\n",
    "#         visual (bool): Whether to plot the steps of the algorithm\n",
    "\n",
    "#     Returns:\n",
    "#         array: The recovered signal with noise subtracted\n",
    "\n",
    "#     \"\"\"\n",
    "#     if verbose:\n",
    "#         start = time.time()\n",
    "#     # STFT over noise\n",
    "#     noise_stft = _stft(noise_clip, n_fft, hop_length, win_length)\n",
    "#     noise_stft_db = _amp_to_db(np.abs(noise_stft))  # convert to dB\n",
    "#     # Calculate statistics over noise\n",
    "#     mean_freq_noise = np.mean(noise_stft_db, axis=1)\n",
    "#     std_freq_noise = np.std(noise_stft_db, axis=1)\n",
    "#     noise_thresh = mean_freq_noise + std_freq_noise * n_std_thresh\n",
    "#     if verbose:\n",
    "#         print(\"STFT on noise:\", td(seconds=time.time() - start))\n",
    "#         start = time.time()\n",
    "#     # STFT over signal\n",
    "#     if verbose:\n",
    "#         start = time.time()\n",
    "#     sig_stft = _stft(audio_clip, n_fft, hop_length, win_length)\n",
    "#     sig_stft_db = _amp_to_db(np.abs(sig_stft))\n",
    "#     if verbose:\n",
    "#         print(\"STFT on signal:\", td(seconds=time.time() - start))\n",
    "#         start = time.time()\n",
    "#     # Calculate value to mask dB to\n",
    "#     mask_gain_dB = np.min(_amp_to_db(np.abs(sig_stft)))\n",
    "#     #print(noise_thresh, mask_gain_dB)\n",
    "#     # Create a smoothing filter for the mask in time and frequency\n",
    "#     smoothing_filter = np.outer(\n",
    "#         np.concatenate(\n",
    "#             [\n",
    "#                 np.linspace(0, 1, n_grad_freq + 1, endpoint=False),\n",
    "#                 np.linspace(1, 0, n_grad_freq + 2),\n",
    "#             ]\n",
    "#         )[1:-1],\n",
    "#         np.concatenate(\n",
    "#             [\n",
    "#                 np.linspace(0, 1, n_grad_time + 1, endpoint=False),\n",
    "#                 np.linspace(1, 0, n_grad_time + 2),\n",
    "#             ]\n",
    "#         )[1:-1],\n",
    "#     )\n",
    "#     smoothing_filter = smoothing_filter / np.sum(smoothing_filter)\n",
    "#     # calculate the threshold for each frequency/time bin\n",
    "#     db_thresh = np.repeat(\n",
    "#         np.reshape(noise_thresh, [1, len(mean_freq_noise)]),\n",
    "#         np.shape(sig_stft_db)[1],\n",
    "#         axis=0,\n",
    "#     ).T\n",
    "#     # mask if the signal is above the threshold\n",
    "#     sig_mask = sig_stft_db < db_thresh\n",
    "#     if verbose:\n",
    "#         print(\"Masking:\", td(seconds=time.time() - start))\n",
    "#         start = time.time()\n",
    "#     # convolve the mask with a smoothing filter\n",
    "#     sig_mask = scipy.signal.fftconvolve(sig_mask, smoothing_filter, mode=\"same\")\n",
    "#     sig_mask = sig_mask * prop_decrease\n",
    "#     if verbose:\n",
    "#         print(\"Mask convolution:\", td(seconds=time.time() - start))\n",
    "#         start = time.time()\n",
    "#     # mask the signal\n",
    "#     sig_stft_db_masked = (\n",
    "#         sig_stft_db * (1 - sig_mask)\n",
    "#         + np.ones(np.shape(mask_gain_dB)) * mask_gain_dB * sig_mask\n",
    "#     )  # mask real\n",
    "#     sig_imag_masked = np.imag(sig_stft) * (1 - sig_mask)\n",
    "#     sig_stft_amp = (_db_to_amp(sig_stft_db_masked) * np.sign(sig_stft)) + (\n",
    "#         1j * sig_imag_masked\n",
    "#     )\n",
    "#     if verbose:\n",
    "#         print(\"Mask application:\", td(seconds=time.time() - start))\n",
    "#         start = time.time()\n",
    "#     # recover the signal\n",
    "#     recovered_signal = _istft(sig_stft_amp, hop_length, win_length)\n",
    "#     recovered_spec = _amp_to_db(\n",
    "#         np.abs(_stft(recovered_signal, n_fft, hop_length, win_length))\n",
    "#     )\n",
    "#     if verbose:\n",
    "#         print(\"Signal recovery:\", td(seconds=time.time() - start))\n",
    "#     if visual:\n",
    "#         plot_spectrogram(noise_stft_db, title=\"Noise\")\n",
    "#     if visual:\n",
    "#         plot_statistics_and_filter(\n",
    "#             mean_freq_noise, std_freq_noise, noise_thresh, smoothing_filter\n",
    "#         )\n",
    "#     if visual:\n",
    "#         plot_spectrogram(sig_stft_db, title=\"Signal\")\n",
    "#     if visual:\n",
    "#         plot_spectrogram(sig_mask, title=\"Mask applied\")\n",
    "#     if visual:\n",
    "#         plot_spectrogram(sig_stft_db_masked, title=\"Masked signal\")\n",
    "#     if visual:\n",
    "#         plot_spectrogram(recovered_spec, title=\"Recovered spectrogram\")\n",
    "#     return recovered_signal"
   ]
  },
  {
   "cell_type": "code",
   "execution_count": null,
   "id": "16cf1331",
   "metadata": {},
   "outputs": [],
   "source": [
    "# import scipy\n",
    "# noise1 = s1[5*sr:6*sr]\n",
    "# yg1 = removeNoise(audio_clip=s1, noise_clip=noise1,\n",
    "#     n_grad_freq=2,\n",
    "#     n_grad_time=4,\n",
    "#     n_fft=2048,\n",
    "#     win_length=2048,\n",
    "#     hop_length=512,\n",
    "#     n_std_thresh=1.5,\n",
    "#     prop_decrease=1.0,\n",
    "#     verbose=False,\n",
    "#     visual=False)\n",
    "# noise2 = s2[0:1*sr]\n",
    "# yg2 = removeNoise(audio_clip=s2, noise_clip=noise2,\n",
    "#     n_grad_freq=2,\n",
    "#     n_grad_time=4,\n",
    "#     n_fft=2048,\n",
    "#     win_length=2048,\n",
    "#     hop_length=512,\n",
    "#     n_std_thresh=2.5,\n",
    "#     prop_decrease=1.0,\n",
    "#     verbose=False,\n",
    "#     visual=False)"
   ]
  },
  {
   "cell_type": "code",
   "execution_count": null,
   "id": "0f8d040d",
   "metadata": {},
   "outputs": [],
   "source": [
    "# plt.figure(figsize=(12,12))\n",
    "# librosa.display.waveshow(s1,sr=sr, x_axis='time');\n",
    "# librosa.display.waveshow(yg1,sr=sr, x_axis='time');"
   ]
  },
  {
   "cell_type": "code",
   "execution_count": null,
   "id": "1efae458",
   "metadata": {},
   "outputs": [],
   "source": [
    "# librosa.display.waveshow(s2,sr=sr, x_axis='time');\n",
    "# librosa.display.waveshow(yg2,sr=sr, x_axis='time');"
   ]
  },
  {
   "cell_type": "code",
   "execution_count": null,
   "id": "930fddcc",
   "metadata": {},
   "outputs": [],
   "source": [
    "# ipd.Audio(s1, rate=22050)"
   ]
  },
  {
   "cell_type": "code",
   "execution_count": null,
   "id": "39dbc9ec",
   "metadata": {},
   "outputs": [],
   "source": [
    "length_audios = []\n",
    "length_audios_seconds = []\n",
    "indexes = []\n",
    "i = 0\n",
    "\n",
    "for item,sr in zip(df[1], df[2]):\n",
    "    length_audios.append(len(item))\n",
    "    length_audios_seconds.append(len(item)/sr)\n",
    "#  Decomment if you are interested in retrieve indexes of audio within a specific range \n",
    "    if len(item)/sr  >= 5 and len(item)/sr  <=7.5:\n",
    "        indexes.append(i)\n",
    "    i = i+1\n",
    "        \n",
    "\n",
    "length_audios=pd.Series(length_audios)\n",
    "length_audios_seconds = pd.Series(length_audios_seconds)\n",
    "#print(length_audios_seconds.value_counts())\n",
    "# plt.figure(figsize=(12,12))\n",
    "# plt.title(\"Lenght of audios distribution (seconds)\")\n",
    "# length_audios_seconds.hist()\n",
    "#print(length_audios_seconds)\n"
   ]
  },
  {
   "cell_type": "code",
   "execution_count": null,
   "id": "26bb0b79",
   "metadata": {},
   "outputs": [],
   "source": [
    "indexes"
   ]
  },
  {
   "cell_type": "code",
   "execution_count": null,
   "id": "fcbe6419",
   "metadata": {},
   "outputs": [],
   "source": [
    "# s = df_pd['audio'][0][librosa.effects.split(df_pd['audio'][0])[1][0]:librosa.effects.split(df_pd['audio'][1])[0][-1]]\n",
    "# df_pd['audio'][0][librosa.effects.split(df_pd['audio'][0], top_db=30)]#[1][0]:librosa.effects.split(df_pd['audio'][1])[0][-1]]\n",
    "# librosa.effects.split(df_pd['audio'][0])\n",
    "# ipd.Audio(s, rate=22050)"
   ]
  },
  {
   "cell_type": "code",
   "execution_count": null,
   "id": "ebf637be",
   "metadata": {},
   "outputs": [],
   "source": [
    "idx = 4073\n",
    "ipd.Audio(df_pd['audio'][idx], rate=22050)"
   ]
  },
  {
   "cell_type": "code",
   "execution_count": null,
   "id": "3ec62817",
   "metadata": {},
   "outputs": [],
   "source": [
    "s = librosa.effects.split(df_pd['audio'][idx])[0]\n",
    "non_silence_parts = librosa.effects.split(df_pd['audio'][idx], top_db=40)\n",
    "print(non_silence_parts, non_silence_parts.shape)\n",
    "\n",
    "audio_reconstructed = []\n",
    "for part in non_silence_parts:\n",
    "    audio_reconstructed.append(df_pd['audio'][idx][part[0]:part[-1]])\n",
    "print(len(audio_reconstructed))\n",
    "#     return df_pd['audio'][3799][librosa.effects.split(df_pd['audio'][3799])[0][0]:librosa.effects.split(df_pd['audio'][3799])[0][-1]]\n",
    "\n",
    "new_audio_reconstructed = np.hstack(audio_reconstructed)\n",
    "#s1 = df_pd['audio'][idx][non_silence_parts[1][0]:non_silence_parts[1][-1]]\n",
    "# s2 = df_pd['audio'][3799][librosa.effects.split(df_pd['audio'][3799])[1][0]:librosa.effects.split(df_pd['audio'][3799])[1][-1]]\n",
    "\n",
    "ipd.Audio(new_audio_reconstructed, rate=22050)\n",
    "#ipd.Audio(s2, rate=22050)\n",
    "#ipd.Audio(df_pd['audio'][3799][librosa.effects.split(df_pd['audio'][3799][0]]), 22050)"
   ]
  },
  {
   "cell_type": "code",
   "execution_count": null,
   "id": "010ae6ed",
   "metadata": {},
   "outputs": [],
   "source": [
    "# def remove_silence (signal):\n",
    "#     return signal[librosa.effects.split(signal)[0][0]:librosa.effects.split(signal)[0][-1]]\n",
    "# signal_without_silence = remove_silence(df_pd['audio'][3799])\n",
    "\n",
    "# ipd.Audio(signal_without_silence, rate=22050)"
   ]
  }
 ],
 "metadata": {
  "kernelspec": {
   "display_name": "Python 3 (ipykernel)",
   "language": "python",
   "name": "python3"
  },
  "language_info": {
   "codemirror_mode": {
    "name": "ipython",
    "version": 3
   },
   "file_extension": ".py",
   "mimetype": "text/x-python",
   "name": "python",
   "nbconvert_exporter": "python",
   "pygments_lexer": "ipython3",
   "version": "3.9.7"
  }
 },
 "nbformat": 4,
 "nbformat_minor": 5
}
