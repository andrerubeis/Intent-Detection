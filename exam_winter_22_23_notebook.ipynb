{
 "cells": [
  {
   "cell_type": "code",
   "execution_count": 93,
   "id": "2decedbe",
   "metadata": {},
   "outputs": [],
   "source": [
    "import pandas as pd\n",
    "import numpy as np\n",
    "import os\n",
    "import librosa\n",
    "import librosa.display\n",
    "import IPython.display as ipd\n",
    "import matplotlib.pyplot as plt"
   ]
  },
  {
   "cell_type": "markdown",
   "id": "f83b2197",
   "metadata": {},
   "source": [
    "## 1. Loading Dataset"
   ]
  },
  {
   "cell_type": "code",
   "execution_count": 3,
   "id": "2f1b8a56",
   "metadata": {},
   "outputs": [
    {
     "data": {
      "text/html": [
       "<div>\n",
       "<style scoped>\n",
       "    .dataframe tbody tr th:only-of-type {\n",
       "        vertical-align: middle;\n",
       "    }\n",
       "\n",
       "    .dataframe tbody tr th {\n",
       "        vertical-align: top;\n",
       "    }\n",
       "\n",
       "    .dataframe thead th {\n",
       "        text-align: right;\n",
       "    }\n",
       "</style>\n",
       "<table border=\"1\" class=\"dataframe\">\n",
       "  <thead>\n",
       "    <tr style=\"text-align: right;\">\n",
       "      <th></th>\n",
       "      <th>Id</th>\n",
       "      <th>path</th>\n",
       "      <th>speakerId</th>\n",
       "      <th>action</th>\n",
       "      <th>object</th>\n",
       "      <th>Self-reported fluency level</th>\n",
       "      <th>First Language spoken</th>\n",
       "      <th>Current language used for work/school</th>\n",
       "      <th>gender</th>\n",
       "      <th>ageRange</th>\n",
       "    </tr>\n",
       "  </thead>\n",
       "  <tbody>\n",
       "    <tr>\n",
       "      <th>0</th>\n",
       "      <td>0</td>\n",
       "      <td>dsl_data/audio/speakers/2BqVo8kVB2Skwgyb/0a312...</td>\n",
       "      <td>2BqVo8kVB2Skwgyb</td>\n",
       "      <td>change language</td>\n",
       "      <td>none</td>\n",
       "      <td>advanced</td>\n",
       "      <td>English (United States)</td>\n",
       "      <td>English (United States)</td>\n",
       "      <td>female</td>\n",
       "      <td>22-40</td>\n",
       "    </tr>\n",
       "    <tr>\n",
       "      <th>1</th>\n",
       "      <td>1</td>\n",
       "      <td>dsl_data/audio/speakers/2BqVo8kVB2Skwgyb/0ee42...</td>\n",
       "      <td>2BqVo8kVB2Skwgyb</td>\n",
       "      <td>activate</td>\n",
       "      <td>music</td>\n",
       "      <td>advanced</td>\n",
       "      <td>English (United States)</td>\n",
       "      <td>English (United States)</td>\n",
       "      <td>female</td>\n",
       "      <td>22-40</td>\n",
       "    </tr>\n",
       "    <tr>\n",
       "      <th>2</th>\n",
       "      <td>2</td>\n",
       "      <td>dsl_data/audio/speakers/2BqVo8kVB2Skwgyb/1d9f3...</td>\n",
       "      <td>2BqVo8kVB2Skwgyb</td>\n",
       "      <td>deactivate</td>\n",
       "      <td>lights</td>\n",
       "      <td>advanced</td>\n",
       "      <td>English (United States)</td>\n",
       "      <td>English (United States)</td>\n",
       "      <td>female</td>\n",
       "      <td>22-40</td>\n",
       "    </tr>\n",
       "    <tr>\n",
       "      <th>3</th>\n",
       "      <td>3</td>\n",
       "      <td>dsl_data/audio/speakers/2BqVo8kVB2Skwgyb/269fc...</td>\n",
       "      <td>2BqVo8kVB2Skwgyb</td>\n",
       "      <td>increase</td>\n",
       "      <td>volume</td>\n",
       "      <td>advanced</td>\n",
       "      <td>English (United States)</td>\n",
       "      <td>English (United States)</td>\n",
       "      <td>female</td>\n",
       "      <td>22-40</td>\n",
       "    </tr>\n",
       "    <tr>\n",
       "      <th>4</th>\n",
       "      <td>4</td>\n",
       "      <td>dsl_data/audio/speakers/2BqVo8kVB2Skwgyb/5bbda...</td>\n",
       "      <td>2BqVo8kVB2Skwgyb</td>\n",
       "      <td>increase</td>\n",
       "      <td>volume</td>\n",
       "      <td>advanced</td>\n",
       "      <td>English (United States)</td>\n",
       "      <td>English (United States)</td>\n",
       "      <td>female</td>\n",
       "      <td>22-40</td>\n",
       "    </tr>\n",
       "    <tr>\n",
       "      <th>...</th>\n",
       "      <td>...</td>\n",
       "      <td>...</td>\n",
       "      <td>...</td>\n",
       "      <td>...</td>\n",
       "      <td>...</td>\n",
       "      <td>...</td>\n",
       "      <td>...</td>\n",
       "      <td>...</td>\n",
       "      <td>...</td>\n",
       "      <td>...</td>\n",
       "    </tr>\n",
       "    <tr>\n",
       "      <th>9849</th>\n",
       "      <td>9849</td>\n",
       "      <td>dsl_data/audio/speakers/vnljypgejkINbBAY/4fb3d...</td>\n",
       "      <td>vnljypgejkINbBAY</td>\n",
       "      <td>decrease</td>\n",
       "      <td>volume</td>\n",
       "      <td>native</td>\n",
       "      <td>English (United States)</td>\n",
       "      <td>English (United States)</td>\n",
       "      <td>male</td>\n",
       "      <td>22-40</td>\n",
       "    </tr>\n",
       "    <tr>\n",
       "      <th>9850</th>\n",
       "      <td>9850</td>\n",
       "      <td>dsl_data/audio/speakers/vnljypgejkINbBAY/59e6a...</td>\n",
       "      <td>vnljypgejkINbBAY</td>\n",
       "      <td>deactivate</td>\n",
       "      <td>lights</td>\n",
       "      <td>native</td>\n",
       "      <td>English (United States)</td>\n",
       "      <td>English (United States)</td>\n",
       "      <td>male</td>\n",
       "      <td>22-40</td>\n",
       "    </tr>\n",
       "    <tr>\n",
       "      <th>9851</th>\n",
       "      <td>9851</td>\n",
       "      <td>dsl_data/audio/speakers/vnljypgejkINbBAY/5c81c...</td>\n",
       "      <td>vnljypgejkINbBAY</td>\n",
       "      <td>deactivate</td>\n",
       "      <td>lights</td>\n",
       "      <td>native</td>\n",
       "      <td>English (United States)</td>\n",
       "      <td>English (United States)</td>\n",
       "      <td>male</td>\n",
       "      <td>22-40</td>\n",
       "    </tr>\n",
       "    <tr>\n",
       "      <th>9852</th>\n",
       "      <td>9852</td>\n",
       "      <td>dsl_data/audio/speakers/vnljypgejkINbBAY/5ef42...</td>\n",
       "      <td>vnljypgejkINbBAY</td>\n",
       "      <td>deactivate</td>\n",
       "      <td>lights</td>\n",
       "      <td>native</td>\n",
       "      <td>English (United States)</td>\n",
       "      <td>English (United States)</td>\n",
       "      <td>male</td>\n",
       "      <td>22-40</td>\n",
       "    </tr>\n",
       "    <tr>\n",
       "      <th>9853</th>\n",
       "      <td>9853</td>\n",
       "      <td>dsl_data/audio/speakers/vnljypgejkINbBAY/61b7a...</td>\n",
       "      <td>vnljypgejkINbBAY</td>\n",
       "      <td>increase</td>\n",
       "      <td>volume</td>\n",
       "      <td>native</td>\n",
       "      <td>English (United States)</td>\n",
       "      <td>English (United States)</td>\n",
       "      <td>male</td>\n",
       "      <td>22-40</td>\n",
       "    </tr>\n",
       "  </tbody>\n",
       "</table>\n",
       "<p>9854 rows × 10 columns</p>\n",
       "</div>"
      ],
      "text/plain": [
       "        Id                                               path  \\\n",
       "0        0  dsl_data/audio/speakers/2BqVo8kVB2Skwgyb/0a312...   \n",
       "1        1  dsl_data/audio/speakers/2BqVo8kVB2Skwgyb/0ee42...   \n",
       "2        2  dsl_data/audio/speakers/2BqVo8kVB2Skwgyb/1d9f3...   \n",
       "3        3  dsl_data/audio/speakers/2BqVo8kVB2Skwgyb/269fc...   \n",
       "4        4  dsl_data/audio/speakers/2BqVo8kVB2Skwgyb/5bbda...   \n",
       "...    ...                                                ...   \n",
       "9849  9849  dsl_data/audio/speakers/vnljypgejkINbBAY/4fb3d...   \n",
       "9850  9850  dsl_data/audio/speakers/vnljypgejkINbBAY/59e6a...   \n",
       "9851  9851  dsl_data/audio/speakers/vnljypgejkINbBAY/5c81c...   \n",
       "9852  9852  dsl_data/audio/speakers/vnljypgejkINbBAY/5ef42...   \n",
       "9853  9853  dsl_data/audio/speakers/vnljypgejkINbBAY/61b7a...   \n",
       "\n",
       "             speakerId           action  object Self-reported fluency level   \\\n",
       "0     2BqVo8kVB2Skwgyb  change language    none                     advanced   \n",
       "1     2BqVo8kVB2Skwgyb         activate   music                     advanced   \n",
       "2     2BqVo8kVB2Skwgyb       deactivate  lights                     advanced   \n",
       "3     2BqVo8kVB2Skwgyb         increase  volume                     advanced   \n",
       "4     2BqVo8kVB2Skwgyb         increase  volume                     advanced   \n",
       "...                ...              ...     ...                          ...   \n",
       "9849  vnljypgejkINbBAY         decrease  volume                       native   \n",
       "9850  vnljypgejkINbBAY       deactivate  lights                       native   \n",
       "9851  vnljypgejkINbBAY       deactivate  lights                       native   \n",
       "9852  vnljypgejkINbBAY       deactivate  lights                       native   \n",
       "9853  vnljypgejkINbBAY         increase  volume                       native   \n",
       "\n",
       "        First Language spoken Current language used for work/school  gender  \\\n",
       "0     English (United States)               English (United States)  female   \n",
       "1     English (United States)               English (United States)  female   \n",
       "2     English (United States)               English (United States)  female   \n",
       "3     English (United States)               English (United States)  female   \n",
       "4     English (United States)               English (United States)  female   \n",
       "...                       ...                                   ...     ...   \n",
       "9849  English (United States)               English (United States)    male   \n",
       "9850  English (United States)               English (United States)    male   \n",
       "9851  English (United States)               English (United States)    male   \n",
       "9852  English (United States)               English (United States)    male   \n",
       "9853  English (United States)               English (United States)    male   \n",
       "\n",
       "     ageRange  \n",
       "0       22-40  \n",
       "1       22-40  \n",
       "2       22-40  \n",
       "3       22-40  \n",
       "4       22-40  \n",
       "...       ...  \n",
       "9849    22-40  \n",
       "9850    22-40  \n",
       "9851    22-40  \n",
       "9852    22-40  \n",
       "9853    22-40  \n",
       "\n",
       "[9854 rows x 10 columns]"
      ]
     },
     "execution_count": 3,
     "metadata": {},
     "output_type": "execute_result"
    }
   ],
   "source": [
    "path = r'C:/Users/andre/OneDrive/Documenti/GitHub/winter_exam_22_23/dsl_data/development.csv'\n",
    "df_development = pd.read_csv(path)\n",
    "df_development"
   ]
  },
  {
   "cell_type": "code",
   "execution_count": 5,
   "id": "6a87cf11",
   "metadata": {},
   "outputs": [
    {
     "data": {
      "text/plain": [
       "(increase           3823\n",
       " decrease           3575\n",
       " change language    1113\n",
       " activate            791\n",
       " deactivate          552\n",
       " Name: action, dtype: int64,\n",
       " volume    5000\n",
       " heat      2398\n",
       " none      1113\n",
       " music      791\n",
       " lights     552\n",
       " Name: object, dtype: int64)"
      ]
     },
     "execution_count": 5,
     "metadata": {},
     "output_type": "execute_result"
    }
   ],
   "source": [
    "#Evlauate balancement of dataset\n",
    "df_development.action.value_counts(), df_development.object.value_counts()"
   ]
  },
  {
   "cell_type": "markdown",
   "id": "53b56d05",
   "metadata": {},
   "source": [
    "### Evaluate all the existing combinations in the dataset"
   ]
  },
  {
   "cell_type": "code",
   "execution_count": 9,
   "id": "834b495d",
   "metadata": {},
   "outputs": [
    {
     "data": {
      "text/plain": [
       "volume    2614\n",
       "heat      1209\n",
       "Name: object, dtype: int64"
      ]
     },
     "execution_count": 9,
     "metadata": {},
     "output_type": "execute_result"
    }
   ],
   "source": [
    "#Evaluate all the existing combinations in the dataset\n",
    "df_increase = df_development[df_development['action']=='increase']\n",
    "df_increase.object.value_counts()"
   ]
  },
  {
   "cell_type": "code",
   "execution_count": 10,
   "id": "4a711c79",
   "metadata": {},
   "outputs": [
    {
     "data": {
      "text/plain": [
       "volume    2386\n",
       "heat      1189\n",
       "Name: object, dtype: int64"
      ]
     },
     "execution_count": 10,
     "metadata": {},
     "output_type": "execute_result"
    }
   ],
   "source": [
    "#Evaluate all the existing combinations in the dataset\n",
    "df_decrease = df_development[df_development['action']=='decrease']\n",
    "df_decrease.object.value_counts()"
   ]
  },
  {
   "cell_type": "code",
   "execution_count": 11,
   "id": "cf2fe124",
   "metadata": {},
   "outputs": [
    {
     "data": {
      "text/plain": [
       "none    1113\n",
       "Name: object, dtype: int64"
      ]
     },
     "execution_count": 11,
     "metadata": {},
     "output_type": "execute_result"
    }
   ],
   "source": [
    "#Evaluate all the existing combinations in the dataset\n",
    "df_change_language = df_development[df_development['action']=='change language']\n",
    "df_change_language.object.value_counts()"
   ]
  },
  {
   "cell_type": "code",
   "execution_count": 12,
   "id": "14c648b9",
   "metadata": {},
   "outputs": [
    {
     "data": {
      "text/plain": [
       "music    791\n",
       "Name: object, dtype: int64"
      ]
     },
     "execution_count": 12,
     "metadata": {},
     "output_type": "execute_result"
    }
   ],
   "source": [
    "#Evaluate all the existing combinations in the dataset\n",
    "df_activate = df_development[df_development['action']=='activate']\n",
    "df_activate.object.value_counts()"
   ]
  },
  {
   "cell_type": "code",
   "execution_count": 15,
   "id": "1e2d0b81",
   "metadata": {},
   "outputs": [
    {
     "data": {
      "text/plain": [
       "lights    552\n",
       "Name: object, dtype: int64"
      ]
     },
     "execution_count": 15,
     "metadata": {},
     "output_type": "execute_result"
    }
   ],
   "source": [
    "#Evaluate all the existing combinations in the dataset\n",
    "df_deactivate = df_development[df_development['action']=='deactivate']\n",
    "df_deactivate.object.value_counts()"
   ]
  },
  {
   "cell_type": "markdown",
   "id": "8c9d03ac",
   "metadata": {},
   "source": [
    "Combinations of actions expressed by humans in the dataset found are the following:\n",
    "1. increase volume\n",
    "2. increase heat\n",
    "3. decrease volume\n",
    "4. decrease heat\n",
    "5. change language\n",
    "6. activate music\n",
    "7. deactivate lights\n",
    "\n",
    "According to this, starting from this dataset a new one can be generated containing the audio file with the corresponding label aside referring to the desired action."
   ]
  },
  {
   "cell_type": "markdown",
   "id": "374fce44",
   "metadata": {},
   "source": [
    "### Creating new training dataset\n",
    "Add a column called labels where in correspondance of each combination has the respective label (ex. if the row has action=increase and object=heat has label 1)"
   ]
  },
  {
   "cell_type": "code",
   "execution_count": 30,
   "id": "a3c5d28b",
   "metadata": {},
   "outputs": [
    {
     "data": {
      "text/html": [
       "<div>\n",
       "<style scoped>\n",
       "    .dataframe tbody tr th:only-of-type {\n",
       "        vertical-align: middle;\n",
       "    }\n",
       "\n",
       "    .dataframe tbody tr th {\n",
       "        vertical-align: top;\n",
       "    }\n",
       "\n",
       "    .dataframe thead th {\n",
       "        text-align: right;\n",
       "    }\n",
       "</style>\n",
       "<table border=\"1\" class=\"dataframe\">\n",
       "  <thead>\n",
       "    <tr style=\"text-align: right;\">\n",
       "      <th></th>\n",
       "      <th>Id</th>\n",
       "      <th>path</th>\n",
       "      <th>speakerId</th>\n",
       "      <th>action</th>\n",
       "      <th>object</th>\n",
       "      <th>Self-reported fluency level</th>\n",
       "      <th>First Language spoken</th>\n",
       "      <th>Current language used for work/school</th>\n",
       "      <th>gender</th>\n",
       "      <th>ageRange</th>\n",
       "      <th>labels</th>\n",
       "    </tr>\n",
       "  </thead>\n",
       "  <tbody>\n",
       "    <tr>\n",
       "      <th>0</th>\n",
       "      <td>0</td>\n",
       "      <td>dsl_data/audio/speakers/2BqVo8kVB2Skwgyb/0a312...</td>\n",
       "      <td>2BqVo8kVB2Skwgyb</td>\n",
       "      <td>change language</td>\n",
       "      <td>none</td>\n",
       "      <td>advanced</td>\n",
       "      <td>English (United States)</td>\n",
       "      <td>English (United States)</td>\n",
       "      <td>female</td>\n",
       "      <td>22-40</td>\n",
       "      <td>5</td>\n",
       "    </tr>\n",
       "    <tr>\n",
       "      <th>1</th>\n",
       "      <td>1</td>\n",
       "      <td>dsl_data/audio/speakers/2BqVo8kVB2Skwgyb/0ee42...</td>\n",
       "      <td>2BqVo8kVB2Skwgyb</td>\n",
       "      <td>activate</td>\n",
       "      <td>music</td>\n",
       "      <td>advanced</td>\n",
       "      <td>English (United States)</td>\n",
       "      <td>English (United States)</td>\n",
       "      <td>female</td>\n",
       "      <td>22-40</td>\n",
       "      <td>6</td>\n",
       "    </tr>\n",
       "    <tr>\n",
       "      <th>2</th>\n",
       "      <td>2</td>\n",
       "      <td>dsl_data/audio/speakers/2BqVo8kVB2Skwgyb/1d9f3...</td>\n",
       "      <td>2BqVo8kVB2Skwgyb</td>\n",
       "      <td>deactivate</td>\n",
       "      <td>lights</td>\n",
       "      <td>advanced</td>\n",
       "      <td>English (United States)</td>\n",
       "      <td>English (United States)</td>\n",
       "      <td>female</td>\n",
       "      <td>22-40</td>\n",
       "      <td>7</td>\n",
       "    </tr>\n",
       "    <tr>\n",
       "      <th>3</th>\n",
       "      <td>3</td>\n",
       "      <td>dsl_data/audio/speakers/2BqVo8kVB2Skwgyb/269fc...</td>\n",
       "      <td>2BqVo8kVB2Skwgyb</td>\n",
       "      <td>increase</td>\n",
       "      <td>volume</td>\n",
       "      <td>advanced</td>\n",
       "      <td>English (United States)</td>\n",
       "      <td>English (United States)</td>\n",
       "      <td>female</td>\n",
       "      <td>22-40</td>\n",
       "      <td>1</td>\n",
       "    </tr>\n",
       "    <tr>\n",
       "      <th>4</th>\n",
       "      <td>4</td>\n",
       "      <td>dsl_data/audio/speakers/2BqVo8kVB2Skwgyb/5bbda...</td>\n",
       "      <td>2BqVo8kVB2Skwgyb</td>\n",
       "      <td>increase</td>\n",
       "      <td>volume</td>\n",
       "      <td>advanced</td>\n",
       "      <td>English (United States)</td>\n",
       "      <td>English (United States)</td>\n",
       "      <td>female</td>\n",
       "      <td>22-40</td>\n",
       "      <td>1</td>\n",
       "    </tr>\n",
       "    <tr>\n",
       "      <th>...</th>\n",
       "      <td>...</td>\n",
       "      <td>...</td>\n",
       "      <td>...</td>\n",
       "      <td>...</td>\n",
       "      <td>...</td>\n",
       "      <td>...</td>\n",
       "      <td>...</td>\n",
       "      <td>...</td>\n",
       "      <td>...</td>\n",
       "      <td>...</td>\n",
       "      <td>...</td>\n",
       "    </tr>\n",
       "    <tr>\n",
       "      <th>9849</th>\n",
       "      <td>9849</td>\n",
       "      <td>dsl_data/audio/speakers/vnljypgejkINbBAY/4fb3d...</td>\n",
       "      <td>vnljypgejkINbBAY</td>\n",
       "      <td>decrease</td>\n",
       "      <td>volume</td>\n",
       "      <td>native</td>\n",
       "      <td>English (United States)</td>\n",
       "      <td>English (United States)</td>\n",
       "      <td>male</td>\n",
       "      <td>22-40</td>\n",
       "      <td>3</td>\n",
       "    </tr>\n",
       "    <tr>\n",
       "      <th>9850</th>\n",
       "      <td>9850</td>\n",
       "      <td>dsl_data/audio/speakers/vnljypgejkINbBAY/59e6a...</td>\n",
       "      <td>vnljypgejkINbBAY</td>\n",
       "      <td>deactivate</td>\n",
       "      <td>lights</td>\n",
       "      <td>native</td>\n",
       "      <td>English (United States)</td>\n",
       "      <td>English (United States)</td>\n",
       "      <td>male</td>\n",
       "      <td>22-40</td>\n",
       "      <td>7</td>\n",
       "    </tr>\n",
       "    <tr>\n",
       "      <th>9851</th>\n",
       "      <td>9851</td>\n",
       "      <td>dsl_data/audio/speakers/vnljypgejkINbBAY/5c81c...</td>\n",
       "      <td>vnljypgejkINbBAY</td>\n",
       "      <td>deactivate</td>\n",
       "      <td>lights</td>\n",
       "      <td>native</td>\n",
       "      <td>English (United States)</td>\n",
       "      <td>English (United States)</td>\n",
       "      <td>male</td>\n",
       "      <td>22-40</td>\n",
       "      <td>7</td>\n",
       "    </tr>\n",
       "    <tr>\n",
       "      <th>9852</th>\n",
       "      <td>9852</td>\n",
       "      <td>dsl_data/audio/speakers/vnljypgejkINbBAY/5ef42...</td>\n",
       "      <td>vnljypgejkINbBAY</td>\n",
       "      <td>deactivate</td>\n",
       "      <td>lights</td>\n",
       "      <td>native</td>\n",
       "      <td>English (United States)</td>\n",
       "      <td>English (United States)</td>\n",
       "      <td>male</td>\n",
       "      <td>22-40</td>\n",
       "      <td>7</td>\n",
       "    </tr>\n",
       "    <tr>\n",
       "      <th>9853</th>\n",
       "      <td>9853</td>\n",
       "      <td>dsl_data/audio/speakers/vnljypgejkINbBAY/61b7a...</td>\n",
       "      <td>vnljypgejkINbBAY</td>\n",
       "      <td>increase</td>\n",
       "      <td>volume</td>\n",
       "      <td>native</td>\n",
       "      <td>English (United States)</td>\n",
       "      <td>English (United States)</td>\n",
       "      <td>male</td>\n",
       "      <td>22-40</td>\n",
       "      <td>1</td>\n",
       "    </tr>\n",
       "  </tbody>\n",
       "</table>\n",
       "<p>9854 rows × 11 columns</p>\n",
       "</div>"
      ],
      "text/plain": [
       "        Id                                               path  \\\n",
       "0        0  dsl_data/audio/speakers/2BqVo8kVB2Skwgyb/0a312...   \n",
       "1        1  dsl_data/audio/speakers/2BqVo8kVB2Skwgyb/0ee42...   \n",
       "2        2  dsl_data/audio/speakers/2BqVo8kVB2Skwgyb/1d9f3...   \n",
       "3        3  dsl_data/audio/speakers/2BqVo8kVB2Skwgyb/269fc...   \n",
       "4        4  dsl_data/audio/speakers/2BqVo8kVB2Skwgyb/5bbda...   \n",
       "...    ...                                                ...   \n",
       "9849  9849  dsl_data/audio/speakers/vnljypgejkINbBAY/4fb3d...   \n",
       "9850  9850  dsl_data/audio/speakers/vnljypgejkINbBAY/59e6a...   \n",
       "9851  9851  dsl_data/audio/speakers/vnljypgejkINbBAY/5c81c...   \n",
       "9852  9852  dsl_data/audio/speakers/vnljypgejkINbBAY/5ef42...   \n",
       "9853  9853  dsl_data/audio/speakers/vnljypgejkINbBAY/61b7a...   \n",
       "\n",
       "             speakerId           action  object Self-reported fluency level   \\\n",
       "0     2BqVo8kVB2Skwgyb  change language    none                     advanced   \n",
       "1     2BqVo8kVB2Skwgyb         activate   music                     advanced   \n",
       "2     2BqVo8kVB2Skwgyb       deactivate  lights                     advanced   \n",
       "3     2BqVo8kVB2Skwgyb         increase  volume                     advanced   \n",
       "4     2BqVo8kVB2Skwgyb         increase  volume                     advanced   \n",
       "...                ...              ...     ...                          ...   \n",
       "9849  vnljypgejkINbBAY         decrease  volume                       native   \n",
       "9850  vnljypgejkINbBAY       deactivate  lights                       native   \n",
       "9851  vnljypgejkINbBAY       deactivate  lights                       native   \n",
       "9852  vnljypgejkINbBAY       deactivate  lights                       native   \n",
       "9853  vnljypgejkINbBAY         increase  volume                       native   \n",
       "\n",
       "        First Language spoken Current language used for work/school  gender  \\\n",
       "0     English (United States)               English (United States)  female   \n",
       "1     English (United States)               English (United States)  female   \n",
       "2     English (United States)               English (United States)  female   \n",
       "3     English (United States)               English (United States)  female   \n",
       "4     English (United States)               English (United States)  female   \n",
       "...                       ...                                   ...     ...   \n",
       "9849  English (United States)               English (United States)    male   \n",
       "9850  English (United States)               English (United States)    male   \n",
       "9851  English (United States)               English (United States)    male   \n",
       "9852  English (United States)               English (United States)    male   \n",
       "9853  English (United States)               English (United States)    male   \n",
       "\n",
       "     ageRange  labels  \n",
       "0       22-40       5  \n",
       "1       22-40       6  \n",
       "2       22-40       7  \n",
       "3       22-40       1  \n",
       "4       22-40       1  \n",
       "...       ...     ...  \n",
       "9849    22-40       3  \n",
       "9850    22-40       7  \n",
       "9851    22-40       7  \n",
       "9852    22-40       7  \n",
       "9853    22-40       1  \n",
       "\n",
       "[9854 rows x 11 columns]"
      ]
     },
     "execution_count": 30,
     "metadata": {},
     "output_type": "execute_result"
    }
   ],
   "source": [
    "#df_development_increase_volume = df_development.loc[(df_development['action'] == 'increase') & (df_development['object'] == 'volume')]\n",
    "df_development['labels']=0\n",
    "\n",
    "#df_development_increase_volume = df_development.loc[(df_development['action'] == 'increase') & (df_development['object'] == 'volume')]\n",
    "df_development.loc[(df_development['action'] == 'increase') & (df_development['object'] == 'volume'), 'labels']=1\n",
    "df_development.loc[(df_development['action'] == 'increase') & (df_development['object'] == 'heat'), 'labels']=2\n",
    "\n",
    "df_development.loc[(df_development['action'] == 'decrease') & (df_development['object'] == 'volume'), 'labels']=3\n",
    "df_development.loc[(df_development['action'] == 'decrease') & (df_development['object'] == 'heat'), 'labels']=4\n",
    "\n",
    "df_development.loc[(df_development['action'] == 'change language') & (df_development['object'] == 'none'), 'labels']=5\n",
    "\n",
    "df_development.loc[(df_development['action'] == 'activate') & (df_development['object'] == 'music'), 'labels']=6\n",
    "df_development.loc[(df_development['action'] == 'deactivate') & (df_development['object'] == 'lights'), 'labels']=7\n",
    "\n",
    "df_development\n",
    "#df_development.labels.value_counts() #check"
   ]
  },
  {
   "cell_type": "markdown",
   "id": "f1ff0b6e",
   "metadata": {},
   "source": [
    "Now to generate a new dataset with recording and corresponding label assigned we need to extract every audio file looking ath the path column"
   ]
  },
  {
   "cell_type": "code",
   "execution_count": 51,
   "id": "5d276c90",
   "metadata": {},
   "outputs": [],
   "source": [
    "path_working_directory = r'C:/Users/andre/OneDrive/Documenti/GitHub/winter_exam_22_23'\n",
    "paths_recordings = df_development['path']\n",
    "signals = []\n",
    "sample_rates = []\n",
    "\n",
    "for path in paths_recordings:\n",
    "    file_path = f'{path_working_directory}/{path}'\n",
    "    \n",
    "    signal, sr = librosa.load(file_path)\n",
    "    \n",
    "    signals.append(signal)\n",
    "    sample_rates.append(sr)\n",
    "    "
   ]
  },
  {
   "cell_type": "code",
   "execution_count": 55,
   "id": "a95783a2",
   "metadata": {},
   "outputs": [],
   "source": [
    "labels = df_development['labels']\n",
    "df = []\n",
    "df.append(paths_recordings)\n",
    "df.append(signals)\n",
    "df.append(sample_rates)\n",
    "df.append(labels)"
   ]
  },
  {
   "cell_type": "code",
   "execution_count": 75,
   "id": "340700bb",
   "metadata": {},
   "outputs": [
    {
     "name": "stdout",
     "output_type": "stream",
     "text": [
      "C:/Users/andre/OneDrive/Documenti/GitHub/winter_exam_22_23/df.pickle\n"
     ]
    }
   ],
   "source": [
    "import pickle\n",
    "name_file = r'/df.pickle'\n",
    "print( path_working_directory+name_file)\n",
    "with open(path_working_directory+name_file, \"wb\") as output_file:\n",
    "    pickle.dump(df, output_file)"
   ]
  },
  {
   "cell_type": "code",
   "execution_count": 76,
   "id": "ee727798",
   "metadata": {},
   "outputs": [],
   "source": [
    "with open(path_working_directory+name_file, 'rb') as f:\n",
    "        df = pickle.load(f)"
   ]
  },
  {
   "cell_type": "code",
   "execution_count": 110,
   "id": "391ecf7f",
   "metadata": {},
   "outputs": [
    {
     "name": "stdout",
     "output_type": "stream",
     "text": [
      "41395     525\n",
      "39514     500\n",
      "45159     493\n",
      "43278     462\n",
      "37633     448\n",
      "         ... \n",
      "150529      1\n",
      "112896      1\n",
      "15054       1\n",
      "146765      1\n",
      "116660      1\n",
      "Length: 124, dtype: int64\n",
      "0       40961\n",
      "1       30720\n",
      "2       43009\n",
      "3       38912\n",
      "4       53248\n",
      "        ...  \n",
      "9849    60212\n",
      "9850    58330\n",
      "9851    58330\n",
      "9852    50804\n",
      "9853    62093\n",
      "Length: 9854, dtype: int64\n"
     ]
    },
    {
     "data": {
      "image/png": "[encoded data removed]",
      "text/plain": [
       "<Figure size 864x864 with 1 Axes>"
      ]
     },
     "metadata": {
      "needs_background": "light"
     },
     "output_type": "display_data"
    }
   ],
   "source": [
    "length_audios = []\n",
    "for item in df[1]:\n",
    "    length_audios.append(len(item))\n",
    "length_audios=pd.Series(length_audios)\n",
    "print(length_audios.value_counts())\n",
    "plt.figure(figsize=(12,12))\n",
    "length_audios.hist()\n",
    "print(length_audios)\n"
   ]
  },
  {
   "cell_type": "code",
   "execution_count": 157,
   "id": "415a3020",
   "metadata": {},
   "outputs": [
    {
     "name": "stdout",
     "output_type": "stream",
     "text": [
      "7\n",
      "58330\n"
     ]
    },
    {
     "data": {
      "text/html": [
       "\n",
       "                <audio  controls=\"controls\" >\n",
       "                    <source src=\"data:audio/wav;base64,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\" type=\"audio/wav\" />\n",
       "                    Your browser does not support the audio element.\n",
       "                </audio>\n",
       "              "
      ],
      "text/plain": [
       "<IPython.lib.display.Audio object>"
      ]
     },
     "execution_count": 157,
     "metadata": {},
     "output_type": "execute_result"
    }
   ],
   "source": [
    "index = 9851          \n",
    "#length_audios[length_audios==150000]\n",
    "df[1][index]\n",
    "print(df[3][index])\n",
    "print(len(df[1][index]))\n",
    "path_audio = df_development.path[index]\n",
    "path_working_directory+'/'+path_audio\n",
    "ipd.Audio(path_working_directory+'/'+path_audio)"
   ]
  },
  {
   "cell_type": "code",
   "execution_count": 151,
   "id": "4ceca046",
   "metadata": {},
   "outputs": [
    {
     "data": {
      "text/plain": [
       "4       53248\n",
       "9       51201\n",
       "10      51201\n",
       "11      53248\n",
       "15      55296\n",
       "        ...  \n",
       "9849    60212\n",
       "9850    58330\n",
       "9851    58330\n",
       "9852    50804\n",
       "9853    62093\n",
       "Length: 2954, dtype: int64"
      ]
     },
     "execution_count": 151,
     "metadata": {},
     "output_type": "execute_result"
    }
   ],
   "source": [
    "length_audios.loc[(length_audios>=50000) & (length_audios<=100000)]\n"
   ]
  }
 ],
 "metadata": {
  "kernelspec": {
   "display_name": "Python 3 (ipykernel)",
   "language": "python",
   "name": "python3"
  },
  "language_info": {
   "codemirror_mode": {
    "name": "ipython",
    "version": 3
   },
   "file_extension": ".py",
   "mimetype": "text/x-python",
   "name": "python",
   "nbconvert_exporter": "python",
   "pygments_lexer": "ipython3",
   "version": "3.9.7"
  }
 },
 "nbformat": 4,
 "nbformat_minor": 5
}
