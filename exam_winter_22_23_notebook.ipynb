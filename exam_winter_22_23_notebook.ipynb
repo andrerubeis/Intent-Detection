{
 "cells": [
  {
   "cell_type": "code",
   "execution_count": 1,
   "id": "2decedbe",
   "metadata": {},
   "outputs": [
    {
     "name": "stderr",
     "output_type": "stream",
     "text": [
      "C:\\Users\\andre\\anaconda3\\lib\\site-packages\\paramiko\\transport.py:219: CryptographyDeprecationWarning: Blowfish has been deprecated\n",
      "  \"class\": algorithms.Blowfish,\n"
     ]
    }
   ],
   "source": [
    "import pandas as pd\n",
    "import numpy as np\n",
    "import os\n",
    "import librosa\n",
    "import librosa.display\n",
    "import IPython.display as ipd\n",
    "import matplotlib.pyplot as plt\n",
    "import pickle"
   ]
  },
  {
   "cell_type": "markdown",
   "id": "7599c69c",
   "metadata": {},
   "source": [
    "### Cose da testare:\n",
    "\n",
    "- a che numero secondi tagliare ogni audio\n",
    "- spectogramma in dB o normale\n",
    "- mfcc\n",
    "- anzichè droppare tutti i segnali lunghi tagliare porzioni utili di audio lunghi 20 secondi ed aggiungerle a segnali audio brevi\n",
    "- numero righe e colonne su cui splittare spectogramma\n",
    "- applicare eventuale denoising "
   ]
  },
  {
   "cell_type": "markdown",
   "id": "f83b2197",
   "metadata": {},
   "source": [
    "## 1. Loading Dataset"
   ]
  },
  {
   "cell_type": "code",
   "execution_count": 2,
   "id": "2f1b8a56",
   "metadata": {},
   "outputs": [
    {
     "data": {
      "text/html": [
       "<div>\n",
       "<style scoped>\n",
       "    .dataframe tbody tr th:only-of-type {\n",
       "        vertical-align: middle;\n",
       "    }\n",
       "\n",
       "    .dataframe tbody tr th {\n",
       "        vertical-align: top;\n",
       "    }\n",
       "\n",
       "    .dataframe thead th {\n",
       "        text-align: right;\n",
       "    }\n",
       "</style>\n",
       "<table border=\"1\" class=\"dataframe\">\n",
       "  <thead>\n",
       "    <tr style=\"text-align: right;\">\n",
       "      <th></th>\n",
       "      <th>Id</th>\n",
       "      <th>path</th>\n",
       "      <th>speakerId</th>\n",
       "      <th>action</th>\n",
       "      <th>object</th>\n",
       "      <th>Self-reported fluency level</th>\n",
       "      <th>First Language spoken</th>\n",
       "      <th>Current language used for work/school</th>\n",
       "      <th>gender</th>\n",
       "      <th>ageRange</th>\n",
       "    </tr>\n",
       "  </thead>\n",
       "  <tbody>\n",
       "    <tr>\n",
       "      <th>0</th>\n",
       "      <td>0</td>\n",
       "      <td>dsl_data/audio/speakers/2BqVo8kVB2Skwgyb/0a312...</td>\n",
       "      <td>2BqVo8kVB2Skwgyb</td>\n",
       "      <td>change language</td>\n",
       "      <td>none</td>\n",
       "      <td>advanced</td>\n",
       "      <td>English (United States)</td>\n",
       "      <td>English (United States)</td>\n",
       "      <td>female</td>\n",
       "      <td>22-40</td>\n",
       "    </tr>\n",
       "    <tr>\n",
       "      <th>1</th>\n",
       "      <td>1</td>\n",
       "      <td>dsl_data/audio/speakers/2BqVo8kVB2Skwgyb/0ee42...</td>\n",
       "      <td>2BqVo8kVB2Skwgyb</td>\n",
       "      <td>activate</td>\n",
       "      <td>music</td>\n",
       "      <td>advanced</td>\n",
       "      <td>English (United States)</td>\n",
       "      <td>English (United States)</td>\n",
       "      <td>female</td>\n",
       "      <td>22-40</td>\n",
       "    </tr>\n",
       "    <tr>\n",
       "      <th>2</th>\n",
       "      <td>2</td>\n",
       "      <td>dsl_data/audio/speakers/2BqVo8kVB2Skwgyb/1d9f3...</td>\n",
       "      <td>2BqVo8kVB2Skwgyb</td>\n",
       "      <td>deactivate</td>\n",
       "      <td>lights</td>\n",
       "      <td>advanced</td>\n",
       "      <td>English (United States)</td>\n",
       "      <td>English (United States)</td>\n",
       "      <td>female</td>\n",
       "      <td>22-40</td>\n",
       "    </tr>\n",
       "    <tr>\n",
       "      <th>3</th>\n",
       "      <td>3</td>\n",
       "      <td>dsl_data/audio/speakers/2BqVo8kVB2Skwgyb/269fc...</td>\n",
       "      <td>2BqVo8kVB2Skwgyb</td>\n",
       "      <td>increase</td>\n",
       "      <td>volume</td>\n",
       "      <td>advanced</td>\n",
       "      <td>English (United States)</td>\n",
       "      <td>English (United States)</td>\n",
       "      <td>female</td>\n",
       "      <td>22-40</td>\n",
       "    </tr>\n",
       "    <tr>\n",
       "      <th>4</th>\n",
       "      <td>4</td>\n",
       "      <td>dsl_data/audio/speakers/2BqVo8kVB2Skwgyb/5bbda...</td>\n",
       "      <td>2BqVo8kVB2Skwgyb</td>\n",
       "      <td>increase</td>\n",
       "      <td>volume</td>\n",
       "      <td>advanced</td>\n",
       "      <td>English (United States)</td>\n",
       "      <td>English (United States)</td>\n",
       "      <td>female</td>\n",
       "      <td>22-40</td>\n",
       "    </tr>\n",
       "    <tr>\n",
       "      <th>...</th>\n",
       "      <td>...</td>\n",
       "      <td>...</td>\n",
       "      <td>...</td>\n",
       "      <td>...</td>\n",
       "      <td>...</td>\n",
       "      <td>...</td>\n",
       "      <td>...</td>\n",
       "      <td>...</td>\n",
       "      <td>...</td>\n",
       "      <td>...</td>\n",
       "    </tr>\n",
       "    <tr>\n",
       "      <th>9849</th>\n",
       "      <td>9849</td>\n",
       "      <td>dsl_data/audio/speakers/vnljypgejkINbBAY/4fb3d...</td>\n",
       "      <td>vnljypgejkINbBAY</td>\n",
       "      <td>decrease</td>\n",
       "      <td>volume</td>\n",
       "      <td>native</td>\n",
       "      <td>English (United States)</td>\n",
       "      <td>English (United States)</td>\n",
       "      <td>male</td>\n",
       "      <td>22-40</td>\n",
       "    </tr>\n",
       "    <tr>\n",
       "      <th>9850</th>\n",
       "      <td>9850</td>\n",
       "      <td>dsl_data/audio/speakers/vnljypgejkINbBAY/59e6a...</td>\n",
       "      <td>vnljypgejkINbBAY</td>\n",
       "      <td>deactivate</td>\n",
       "      <td>lights</td>\n",
       "      <td>native</td>\n",
       "      <td>English (United States)</td>\n",
       "      <td>English (United States)</td>\n",
       "      <td>male</td>\n",
       "      <td>22-40</td>\n",
       "    </tr>\n",
       "    <tr>\n",
       "      <th>9851</th>\n",
       "      <td>9851</td>\n",
       "      <td>dsl_data/audio/speakers/vnljypgejkINbBAY/5c81c...</td>\n",
       "      <td>vnljypgejkINbBAY</td>\n",
       "      <td>deactivate</td>\n",
       "      <td>lights</td>\n",
       "      <td>native</td>\n",
       "      <td>English (United States)</td>\n",
       "      <td>English (United States)</td>\n",
       "      <td>male</td>\n",
       "      <td>22-40</td>\n",
       "    </tr>\n",
       "    <tr>\n",
       "      <th>9852</th>\n",
       "      <td>9852</td>\n",
       "      <td>dsl_data/audio/speakers/vnljypgejkINbBAY/5ef42...</td>\n",
       "      <td>vnljypgejkINbBAY</td>\n",
       "      <td>deactivate</td>\n",
       "      <td>lights</td>\n",
       "      <td>native</td>\n",
       "      <td>English (United States)</td>\n",
       "      <td>English (United States)</td>\n",
       "      <td>male</td>\n",
       "      <td>22-40</td>\n",
       "    </tr>\n",
       "    <tr>\n",
       "      <th>9853</th>\n",
       "      <td>9853</td>\n",
       "      <td>dsl_data/audio/speakers/vnljypgejkINbBAY/61b7a...</td>\n",
       "      <td>vnljypgejkINbBAY</td>\n",
       "      <td>increase</td>\n",
       "      <td>volume</td>\n",
       "      <td>native</td>\n",
       "      <td>English (United States)</td>\n",
       "      <td>English (United States)</td>\n",
       "      <td>male</td>\n",
       "      <td>22-40</td>\n",
       "    </tr>\n",
       "  </tbody>\n",
       "</table>\n",
       "<p>9854 rows × 10 columns</p>\n",
       "</div>"
      ],
      "text/plain": [
       "        Id                                               path  \\\n",
       "0        0  dsl_data/audio/speakers/2BqVo8kVB2Skwgyb/0a312...   \n",
       "1        1  dsl_data/audio/speakers/2BqVo8kVB2Skwgyb/0ee42...   \n",
       "2        2  dsl_data/audio/speakers/2BqVo8kVB2Skwgyb/1d9f3...   \n",
       "3        3  dsl_data/audio/speakers/2BqVo8kVB2Skwgyb/269fc...   \n",
       "4        4  dsl_data/audio/speakers/2BqVo8kVB2Skwgyb/5bbda...   \n",
       "...    ...                                                ...   \n",
       "9849  9849  dsl_data/audio/speakers/vnljypgejkINbBAY/4fb3d...   \n",
       "9850  9850  dsl_data/audio/speakers/vnljypgejkINbBAY/59e6a...   \n",
       "9851  9851  dsl_data/audio/speakers/vnljypgejkINbBAY/5c81c...   \n",
       "9852  9852  dsl_data/audio/speakers/vnljypgejkINbBAY/5ef42...   \n",
       "9853  9853  dsl_data/audio/speakers/vnljypgejkINbBAY/61b7a...   \n",
       "\n",
       "             speakerId           action  object Self-reported fluency level   \\\n",
       "0     2BqVo8kVB2Skwgyb  change language    none                     advanced   \n",
       "1     2BqVo8kVB2Skwgyb         activate   music                     advanced   \n",
       "2     2BqVo8kVB2Skwgyb       deactivate  lights                     advanced   \n",
       "3     2BqVo8kVB2Skwgyb         increase  volume                     advanced   \n",
       "4     2BqVo8kVB2Skwgyb         increase  volume                     advanced   \n",
       "...                ...              ...     ...                          ...   \n",
       "9849  vnljypgejkINbBAY         decrease  volume                       native   \n",
       "9850  vnljypgejkINbBAY       deactivate  lights                       native   \n",
       "9851  vnljypgejkINbBAY       deactivate  lights                       native   \n",
       "9852  vnljypgejkINbBAY       deactivate  lights                       native   \n",
       "9853  vnljypgejkINbBAY         increase  volume                       native   \n",
       "\n",
       "        First Language spoken Current language used for work/school  gender  \\\n",
       "0     English (United States)               English (United States)  female   \n",
       "1     English (United States)               English (United States)  female   \n",
       "2     English (United States)               English (United States)  female   \n",
       "3     English (United States)               English (United States)  female   \n",
       "4     English (United States)               English (United States)  female   \n",
       "...                       ...                                   ...     ...   \n",
       "9849  English (United States)               English (United States)    male   \n",
       "9850  English (United States)               English (United States)    male   \n",
       "9851  English (United States)               English (United States)    male   \n",
       "9852  English (United States)               English (United States)    male   \n",
       "9853  English (United States)               English (United States)    male   \n",
       "\n",
       "     ageRange  \n",
       "0       22-40  \n",
       "1       22-40  \n",
       "2       22-40  \n",
       "3       22-40  \n",
       "4       22-40  \n",
       "...       ...  \n",
       "9849    22-40  \n",
       "9850    22-40  \n",
       "9851    22-40  \n",
       "9852    22-40  \n",
       "9853    22-40  \n",
       "\n",
       "[9854 rows x 10 columns]"
      ]
     },
     "execution_count": 2,
     "metadata": {},
     "output_type": "execute_result"
    }
   ],
   "source": [
    "path = r'C:/Users/andre/OneDrive/Documenti/GitHub/winter_exam_22_23/development.csv'\n",
    "df_development = pd.read_csv(path)\n",
    "df_development"
   ]
  },
  {
   "cell_type": "code",
   "execution_count": 3,
   "id": "6a87cf11",
   "metadata": {},
   "outputs": [
    {
     "data": {
      "text/plain": [
       "(increase           3823\n",
       " decrease           3575\n",
       " change language    1113\n",
       " activate            791\n",
       " deactivate          552\n",
       " Name: action, dtype: int64,\n",
       " volume    5000\n",
       " heat      2398\n",
       " none      1113\n",
       " music      791\n",
       " lights     552\n",
       " Name: object, dtype: int64)"
      ]
     },
     "execution_count": 3,
     "metadata": {},
     "output_type": "execute_result"
    }
   ],
   "source": [
    "#Evlauate balancement of dataset\n",
    "df_development.action.value_counts(), df_development.object.value_counts()"
   ]
  },
  {
   "cell_type": "markdown",
   "id": "53b56d05",
   "metadata": {},
   "source": [
    "### Evaluate all the existing combinations in the dataset"
   ]
  },
  {
   "cell_type": "code",
   "execution_count": 4,
   "id": "834b495d",
   "metadata": {},
   "outputs": [
    {
     "data": {
      "text/plain": [
       "volume    2614\n",
       "heat      1209\n",
       "Name: object, dtype: int64"
      ]
     },
     "execution_count": 4,
     "metadata": {},
     "output_type": "execute_result"
    }
   ],
   "source": [
    "#Evaluate all the existing combinations in the dataset\n",
    "df_increase = df_development[df_development['action']=='increase']\n",
    "df_increase.object.value_counts()"
   ]
  },
  {
   "cell_type": "code",
   "execution_count": 5,
   "id": "3a90ec4d",
   "metadata": {},
   "outputs": [
    {
     "data": {
      "text/html": [
       "<div>\n",
       "<style scoped>\n",
       "    .dataframe tbody tr th:only-of-type {\n",
       "        vertical-align: middle;\n",
       "    }\n",
       "\n",
       "    .dataframe tbody tr th {\n",
       "        vertical-align: top;\n",
       "    }\n",
       "\n",
       "    .dataframe thead th {\n",
       "        text-align: right;\n",
       "    }\n",
       "</style>\n",
       "<table border=\"1\" class=\"dataframe\">\n",
       "  <thead>\n",
       "    <tr style=\"text-align: right;\">\n",
       "      <th></th>\n",
       "      <th>Id</th>\n",
       "      <th>path</th>\n",
       "      <th>speakerId</th>\n",
       "      <th>action</th>\n",
       "      <th>object</th>\n",
       "      <th>Self-reported fluency level</th>\n",
       "      <th>First Language spoken</th>\n",
       "      <th>Current language used for work/school</th>\n",
       "      <th>gender</th>\n",
       "      <th>ageRange</th>\n",
       "    </tr>\n",
       "  </thead>\n",
       "  <tbody>\n",
       "    <tr>\n",
       "      <th>3</th>\n",
       "      <td>3</td>\n",
       "      <td>dsl_data/audio/speakers/2BqVo8kVB2Skwgyb/269fc...</td>\n",
       "      <td>2BqVo8kVB2Skwgyb</td>\n",
       "      <td>increase</td>\n",
       "      <td>volume</td>\n",
       "      <td>advanced</td>\n",
       "      <td>English (United States)</td>\n",
       "      <td>English (United States)</td>\n",
       "      <td>female</td>\n",
       "      <td>22-40</td>\n",
       "    </tr>\n",
       "    <tr>\n",
       "      <th>4</th>\n",
       "      <td>4</td>\n",
       "      <td>dsl_data/audio/speakers/2BqVo8kVB2Skwgyb/5bbda...</td>\n",
       "      <td>2BqVo8kVB2Skwgyb</td>\n",
       "      <td>increase</td>\n",
       "      <td>volume</td>\n",
       "      <td>advanced</td>\n",
       "      <td>English (United States)</td>\n",
       "      <td>English (United States)</td>\n",
       "      <td>female</td>\n",
       "      <td>22-40</td>\n",
       "    </tr>\n",
       "    <tr>\n",
       "      <th>6</th>\n",
       "      <td>6</td>\n",
       "      <td>dsl_data/audio/speakers/2BqVo8kVB2Skwgyb/6a1cd...</td>\n",
       "      <td>2BqVo8kVB2Skwgyb</td>\n",
       "      <td>increase</td>\n",
       "      <td>heat</td>\n",
       "      <td>advanced</td>\n",
       "      <td>English (United States)</td>\n",
       "      <td>English (United States)</td>\n",
       "      <td>female</td>\n",
       "      <td>22-40</td>\n",
       "    </tr>\n",
       "    <tr>\n",
       "      <th>7</th>\n",
       "      <td>7</td>\n",
       "      <td>dsl_data/audio/speakers/2BqVo8kVB2Skwgyb/72160...</td>\n",
       "      <td>2BqVo8kVB2Skwgyb</td>\n",
       "      <td>increase</td>\n",
       "      <td>heat</td>\n",
       "      <td>advanced</td>\n",
       "      <td>English (United States)</td>\n",
       "      <td>English (United States)</td>\n",
       "      <td>female</td>\n",
       "      <td>22-40</td>\n",
       "    </tr>\n",
       "    <tr>\n",
       "      <th>16</th>\n",
       "      <td>16</td>\n",
       "      <td>dsl_data/audio/speakers/2BqVo8kVB2Skwgyb/256b2...</td>\n",
       "      <td>2BqVo8kVB2Skwgyb</td>\n",
       "      <td>increase</td>\n",
       "      <td>volume</td>\n",
       "      <td>advanced</td>\n",
       "      <td>English (United States)</td>\n",
       "      <td>English (United States)</td>\n",
       "      <td>female</td>\n",
       "      <td>22-40</td>\n",
       "    </tr>\n",
       "    <tr>\n",
       "      <th>...</th>\n",
       "      <td>...</td>\n",
       "      <td>...</td>\n",
       "      <td>...</td>\n",
       "      <td>...</td>\n",
       "      <td>...</td>\n",
       "      <td>...</td>\n",
       "      <td>...</td>\n",
       "      <td>...</td>\n",
       "      <td>...</td>\n",
       "      <td>...</td>\n",
       "    </tr>\n",
       "    <tr>\n",
       "      <th>9829</th>\n",
       "      <td>9829</td>\n",
       "      <td>dsl_data/audio/speakers/Pz327QrLaGuxW8Do/37824...</td>\n",
       "      <td>Pz327QrLaGuxW8Do</td>\n",
       "      <td>increase</td>\n",
       "      <td>heat</td>\n",
       "      <td>native</td>\n",
       "      <td>English (United States)</td>\n",
       "      <td>English (United States)</td>\n",
       "      <td>female</td>\n",
       "      <td>22-40</td>\n",
       "    </tr>\n",
       "    <tr>\n",
       "      <th>9837</th>\n",
       "      <td>9837</td>\n",
       "      <td>dsl_data/audio/speakers/Pz327QrLaGuxW8Do/98546...</td>\n",
       "      <td>Pz327QrLaGuxW8Do</td>\n",
       "      <td>increase</td>\n",
       "      <td>volume</td>\n",
       "      <td>native</td>\n",
       "      <td>English (United States)</td>\n",
       "      <td>English (United States)</td>\n",
       "      <td>female</td>\n",
       "      <td>22-40</td>\n",
       "    </tr>\n",
       "    <tr>\n",
       "      <th>9838</th>\n",
       "      <td>9838</td>\n",
       "      <td>dsl_data/audio/speakers/Pz327QrLaGuxW8Do/a1b55...</td>\n",
       "      <td>Pz327QrLaGuxW8Do</td>\n",
       "      <td>increase</td>\n",
       "      <td>volume</td>\n",
       "      <td>native</td>\n",
       "      <td>English (United States)</td>\n",
       "      <td>English (United States)</td>\n",
       "      <td>female</td>\n",
       "      <td>22-40</td>\n",
       "    </tr>\n",
       "    <tr>\n",
       "      <th>9842</th>\n",
       "      <td>9842</td>\n",
       "      <td>dsl_data/audio/speakers/Pz327QrLaGuxW8Do/1e8a9...</td>\n",
       "      <td>Pz327QrLaGuxW8Do</td>\n",
       "      <td>increase</td>\n",
       "      <td>heat</td>\n",
       "      <td>native</td>\n",
       "      <td>English (United States)</td>\n",
       "      <td>English (United States)</td>\n",
       "      <td>female</td>\n",
       "      <td>22-40</td>\n",
       "    </tr>\n",
       "    <tr>\n",
       "      <th>9853</th>\n",
       "      <td>9853</td>\n",
       "      <td>dsl_data/audio/speakers/vnljypgejkINbBAY/61b7a...</td>\n",
       "      <td>vnljypgejkINbBAY</td>\n",
       "      <td>increase</td>\n",
       "      <td>volume</td>\n",
       "      <td>native</td>\n",
       "      <td>English (United States)</td>\n",
       "      <td>English (United States)</td>\n",
       "      <td>male</td>\n",
       "      <td>22-40</td>\n",
       "    </tr>\n",
       "  </tbody>\n",
       "</table>\n",
       "<p>3823 rows × 10 columns</p>\n",
       "</div>"
      ],
      "text/plain": [
       "        Id                                               path  \\\n",
       "3        3  dsl_data/audio/speakers/2BqVo8kVB2Skwgyb/269fc...   \n",
       "4        4  dsl_data/audio/speakers/2BqVo8kVB2Skwgyb/5bbda...   \n",
       "6        6  dsl_data/audio/speakers/2BqVo8kVB2Skwgyb/6a1cd...   \n",
       "7        7  dsl_data/audio/speakers/2BqVo8kVB2Skwgyb/72160...   \n",
       "16      16  dsl_data/audio/speakers/2BqVo8kVB2Skwgyb/256b2...   \n",
       "...    ...                                                ...   \n",
       "9829  9829  dsl_data/audio/speakers/Pz327QrLaGuxW8Do/37824...   \n",
       "9837  9837  dsl_data/audio/speakers/Pz327QrLaGuxW8Do/98546...   \n",
       "9838  9838  dsl_data/audio/speakers/Pz327QrLaGuxW8Do/a1b55...   \n",
       "9842  9842  dsl_data/audio/speakers/Pz327QrLaGuxW8Do/1e8a9...   \n",
       "9853  9853  dsl_data/audio/speakers/vnljypgejkINbBAY/61b7a...   \n",
       "\n",
       "             speakerId    action  object Self-reported fluency level   \\\n",
       "3     2BqVo8kVB2Skwgyb  increase  volume                     advanced   \n",
       "4     2BqVo8kVB2Skwgyb  increase  volume                     advanced   \n",
       "6     2BqVo8kVB2Skwgyb  increase    heat                     advanced   \n",
       "7     2BqVo8kVB2Skwgyb  increase    heat                     advanced   \n",
       "16    2BqVo8kVB2Skwgyb  increase  volume                     advanced   \n",
       "...                ...       ...     ...                          ...   \n",
       "9829  Pz327QrLaGuxW8Do  increase    heat                       native   \n",
       "9837  Pz327QrLaGuxW8Do  increase  volume                       native   \n",
       "9838  Pz327QrLaGuxW8Do  increase  volume                       native   \n",
       "9842  Pz327QrLaGuxW8Do  increase    heat                       native   \n",
       "9853  vnljypgejkINbBAY  increase  volume                       native   \n",
       "\n",
       "        First Language spoken Current language used for work/school  gender  \\\n",
       "3     English (United States)               English (United States)  female   \n",
       "4     English (United States)               English (United States)  female   \n",
       "6     English (United States)               English (United States)  female   \n",
       "7     English (United States)               English (United States)  female   \n",
       "16    English (United States)               English (United States)  female   \n",
       "...                       ...                                   ...     ...   \n",
       "9829  English (United States)               English (United States)  female   \n",
       "9837  English (United States)               English (United States)  female   \n",
       "9838  English (United States)               English (United States)  female   \n",
       "9842  English (United States)               English (United States)  female   \n",
       "9853  English (United States)               English (United States)    male   \n",
       "\n",
       "     ageRange  \n",
       "3       22-40  \n",
       "4       22-40  \n",
       "6       22-40  \n",
       "7       22-40  \n",
       "16      22-40  \n",
       "...       ...  \n",
       "9829    22-40  \n",
       "9837    22-40  \n",
       "9838    22-40  \n",
       "9842    22-40  \n",
       "9853    22-40  \n",
       "\n",
       "[3823 rows x 10 columns]"
      ]
     },
     "execution_count": 5,
     "metadata": {},
     "output_type": "execute_result"
    }
   ],
   "source": [
    "df_increase"
   ]
  },
  {
   "cell_type": "code",
   "execution_count": 6,
   "id": "4a711c79",
   "metadata": {},
   "outputs": [
    {
     "data": {
      "text/plain": [
       "volume    2386\n",
       "heat      1189\n",
       "Name: object, dtype: int64"
      ]
     },
     "execution_count": 6,
     "metadata": {},
     "output_type": "execute_result"
    }
   ],
   "source": [
    "#Evaluate all the existing combinations in the dataset\n",
    "df_decrease = df_development[df_development['action']=='decrease']\n",
    "df_decrease.object.value_counts()"
   ]
  },
  {
   "cell_type": "code",
   "execution_count": 7,
   "id": "cf2fe124",
   "metadata": {},
   "outputs": [
    {
     "data": {
      "text/plain": [
       "none    1113\n",
       "Name: object, dtype: int64"
      ]
     },
     "execution_count": 7,
     "metadata": {},
     "output_type": "execute_result"
    }
   ],
   "source": [
    "#Evaluate all the existing combinations in the dataset\n",
    "df_change_language = df_development[df_development['action']=='change language']\n",
    "df_change_language.object.value_counts()"
   ]
  },
  {
   "cell_type": "code",
   "execution_count": 8,
   "id": "14c648b9",
   "metadata": {},
   "outputs": [
    {
     "data": {
      "text/plain": [
       "music    791\n",
       "Name: object, dtype: int64"
      ]
     },
     "execution_count": 8,
     "metadata": {},
     "output_type": "execute_result"
    }
   ],
   "source": [
    "#Evaluate all the existing combinations in the dataset\n",
    "df_activate = df_development[df_development['action']=='activate']\n",
    "df_activate.object.value_counts()"
   ]
  },
  {
   "cell_type": "code",
   "execution_count": 9,
   "id": "1e2d0b81",
   "metadata": {},
   "outputs": [
    {
     "data": {
      "text/plain": [
       "lights    552\n",
       "Name: object, dtype: int64"
      ]
     },
     "execution_count": 9,
     "metadata": {},
     "output_type": "execute_result"
    }
   ],
   "source": [
    "#Evaluate all the existing combinations in the dataset\n",
    "df_deactivate = df_development[df_development['action']=='deactivate']\n",
    "df_deactivate.object.value_counts()"
   ]
  },
  {
   "cell_type": "markdown",
   "id": "8c9d03ac",
   "metadata": {},
   "source": [
    "Combinations of actions expressed by humans in the dataset found are the following:\n",
    "1. increase volume\n",
    "2. increase heat\n",
    "3. decrease volume\n",
    "4. decrease heat\n",
    "5. change language\n",
    "6. activate music\n",
    "7. deactivate lights\n",
    "\n",
    "According to this, starting from this dataset a new one can be generated containing the audio file with the corresponding label aside referring to the desired action."
   ]
  },
  {
   "cell_type": "markdown",
   "id": "374fce44",
   "metadata": {},
   "source": [
    "### Creating new training dataset\n",
    "Add a column called labels where in correspondance of each combination has the respective label (ex. if the row has action=increase and object=heat has label 1)"
   ]
  },
  {
   "cell_type": "code",
   "execution_count": 10,
   "id": "a3c5d28b",
   "metadata": {},
   "outputs": [
    {
     "data": {
      "text/html": [
       "<div>\n",
       "<style scoped>\n",
       "    .dataframe tbody tr th:only-of-type {\n",
       "        vertical-align: middle;\n",
       "    }\n",
       "\n",
       "    .dataframe tbody tr th {\n",
       "        vertical-align: top;\n",
       "    }\n",
       "\n",
       "    .dataframe thead th {\n",
       "        text-align: right;\n",
       "    }\n",
       "</style>\n",
       "<table border=\"1\" class=\"dataframe\">\n",
       "  <thead>\n",
       "    <tr style=\"text-align: right;\">\n",
       "      <th></th>\n",
       "      <th>Id</th>\n",
       "      <th>path</th>\n",
       "      <th>speakerId</th>\n",
       "      <th>action</th>\n",
       "      <th>object</th>\n",
       "      <th>Self-reported fluency level</th>\n",
       "      <th>First Language spoken</th>\n",
       "      <th>Current language used for work/school</th>\n",
       "      <th>gender</th>\n",
       "      <th>ageRange</th>\n",
       "      <th>labels</th>\n",
       "    </tr>\n",
       "  </thead>\n",
       "  <tbody>\n",
       "    <tr>\n",
       "      <th>0</th>\n",
       "      <td>0</td>\n",
       "      <td>dsl_data/audio/speakers/2BqVo8kVB2Skwgyb/0a312...</td>\n",
       "      <td>2BqVo8kVB2Skwgyb</td>\n",
       "      <td>change language</td>\n",
       "      <td>none</td>\n",
       "      <td>advanced</td>\n",
       "      <td>English (United States)</td>\n",
       "      <td>English (United States)</td>\n",
       "      <td>female</td>\n",
       "      <td>22-40</td>\n",
       "      <td>5</td>\n",
       "    </tr>\n",
       "    <tr>\n",
       "      <th>1</th>\n",
       "      <td>1</td>\n",
       "      <td>dsl_data/audio/speakers/2BqVo8kVB2Skwgyb/0ee42...</td>\n",
       "      <td>2BqVo8kVB2Skwgyb</td>\n",
       "      <td>activate</td>\n",
       "      <td>music</td>\n",
       "      <td>advanced</td>\n",
       "      <td>English (United States)</td>\n",
       "      <td>English (United States)</td>\n",
       "      <td>female</td>\n",
       "      <td>22-40</td>\n",
       "      <td>6</td>\n",
       "    </tr>\n",
       "    <tr>\n",
       "      <th>2</th>\n",
       "      <td>2</td>\n",
       "      <td>dsl_data/audio/speakers/2BqVo8kVB2Skwgyb/1d9f3...</td>\n",
       "      <td>2BqVo8kVB2Skwgyb</td>\n",
       "      <td>deactivate</td>\n",
       "      <td>lights</td>\n",
       "      <td>advanced</td>\n",
       "      <td>English (United States)</td>\n",
       "      <td>English (United States)</td>\n",
       "      <td>female</td>\n",
       "      <td>22-40</td>\n",
       "      <td>7</td>\n",
       "    </tr>\n",
       "    <tr>\n",
       "      <th>3</th>\n",
       "      <td>3</td>\n",
       "      <td>dsl_data/audio/speakers/2BqVo8kVB2Skwgyb/269fc...</td>\n",
       "      <td>2BqVo8kVB2Skwgyb</td>\n",
       "      <td>increase</td>\n",
       "      <td>volume</td>\n",
       "      <td>advanced</td>\n",
       "      <td>English (United States)</td>\n",
       "      <td>English (United States)</td>\n",
       "      <td>female</td>\n",
       "      <td>22-40</td>\n",
       "      <td>1</td>\n",
       "    </tr>\n",
       "    <tr>\n",
       "      <th>4</th>\n",
       "      <td>4</td>\n",
       "      <td>dsl_data/audio/speakers/2BqVo8kVB2Skwgyb/5bbda...</td>\n",
       "      <td>2BqVo8kVB2Skwgyb</td>\n",
       "      <td>increase</td>\n",
       "      <td>volume</td>\n",
       "      <td>advanced</td>\n",
       "      <td>English (United States)</td>\n",
       "      <td>English (United States)</td>\n",
       "      <td>female</td>\n",
       "      <td>22-40</td>\n",
       "      <td>1</td>\n",
       "    </tr>\n",
       "    <tr>\n",
       "      <th>...</th>\n",
       "      <td>...</td>\n",
       "      <td>...</td>\n",
       "      <td>...</td>\n",
       "      <td>...</td>\n",
       "      <td>...</td>\n",
       "      <td>...</td>\n",
       "      <td>...</td>\n",
       "      <td>...</td>\n",
       "      <td>...</td>\n",
       "      <td>...</td>\n",
       "      <td>...</td>\n",
       "    </tr>\n",
       "    <tr>\n",
       "      <th>9849</th>\n",
       "      <td>9849</td>\n",
       "      <td>dsl_data/audio/speakers/vnljypgejkINbBAY/4fb3d...</td>\n",
       "      <td>vnljypgejkINbBAY</td>\n",
       "      <td>decrease</td>\n",
       "      <td>volume</td>\n",
       "      <td>native</td>\n",
       "      <td>English (United States)</td>\n",
       "      <td>English (United States)</td>\n",
       "      <td>male</td>\n",
       "      <td>22-40</td>\n",
       "      <td>3</td>\n",
       "    </tr>\n",
       "    <tr>\n",
       "      <th>9850</th>\n",
       "      <td>9850</td>\n",
       "      <td>dsl_data/audio/speakers/vnljypgejkINbBAY/59e6a...</td>\n",
       "      <td>vnljypgejkINbBAY</td>\n",
       "      <td>deactivate</td>\n",
       "      <td>lights</td>\n",
       "      <td>native</td>\n",
       "      <td>English (United States)</td>\n",
       "      <td>English (United States)</td>\n",
       "      <td>male</td>\n",
       "      <td>22-40</td>\n",
       "      <td>7</td>\n",
       "    </tr>\n",
       "    <tr>\n",
       "      <th>9851</th>\n",
       "      <td>9851</td>\n",
       "      <td>dsl_data/audio/speakers/vnljypgejkINbBAY/5c81c...</td>\n",
       "      <td>vnljypgejkINbBAY</td>\n",
       "      <td>deactivate</td>\n",
       "      <td>lights</td>\n",
       "      <td>native</td>\n",
       "      <td>English (United States)</td>\n",
       "      <td>English (United States)</td>\n",
       "      <td>male</td>\n",
       "      <td>22-40</td>\n",
       "      <td>7</td>\n",
       "    </tr>\n",
       "    <tr>\n",
       "      <th>9852</th>\n",
       "      <td>9852</td>\n",
       "      <td>dsl_data/audio/speakers/vnljypgejkINbBAY/5ef42...</td>\n",
       "      <td>vnljypgejkINbBAY</td>\n",
       "      <td>deactivate</td>\n",
       "      <td>lights</td>\n",
       "      <td>native</td>\n",
       "      <td>English (United States)</td>\n",
       "      <td>English (United States)</td>\n",
       "      <td>male</td>\n",
       "      <td>22-40</td>\n",
       "      <td>7</td>\n",
       "    </tr>\n",
       "    <tr>\n",
       "      <th>9853</th>\n",
       "      <td>9853</td>\n",
       "      <td>dsl_data/audio/speakers/vnljypgejkINbBAY/61b7a...</td>\n",
       "      <td>vnljypgejkINbBAY</td>\n",
       "      <td>increase</td>\n",
       "      <td>volume</td>\n",
       "      <td>native</td>\n",
       "      <td>English (United States)</td>\n",
       "      <td>English (United States)</td>\n",
       "      <td>male</td>\n",
       "      <td>22-40</td>\n",
       "      <td>1</td>\n",
       "    </tr>\n",
       "  </tbody>\n",
       "</table>\n",
       "<p>9854 rows × 11 columns</p>\n",
       "</div>"
      ],
      "text/plain": [
       "        Id                                               path  \\\n",
       "0        0  dsl_data/audio/speakers/2BqVo8kVB2Skwgyb/0a312...   \n",
       "1        1  dsl_data/audio/speakers/2BqVo8kVB2Skwgyb/0ee42...   \n",
       "2        2  dsl_data/audio/speakers/2BqVo8kVB2Skwgyb/1d9f3...   \n",
       "3        3  dsl_data/audio/speakers/2BqVo8kVB2Skwgyb/269fc...   \n",
       "4        4  dsl_data/audio/speakers/2BqVo8kVB2Skwgyb/5bbda...   \n",
       "...    ...                                                ...   \n",
       "9849  9849  dsl_data/audio/speakers/vnljypgejkINbBAY/4fb3d...   \n",
       "9850  9850  dsl_data/audio/speakers/vnljypgejkINbBAY/59e6a...   \n",
       "9851  9851  dsl_data/audio/speakers/vnljypgejkINbBAY/5c81c...   \n",
       "9852  9852  dsl_data/audio/speakers/vnljypgejkINbBAY/5ef42...   \n",
       "9853  9853  dsl_data/audio/speakers/vnljypgejkINbBAY/61b7a...   \n",
       "\n",
       "             speakerId           action  object Self-reported fluency level   \\\n",
       "0     2BqVo8kVB2Skwgyb  change language    none                     advanced   \n",
       "1     2BqVo8kVB2Skwgyb         activate   music                     advanced   \n",
       "2     2BqVo8kVB2Skwgyb       deactivate  lights                     advanced   \n",
       "3     2BqVo8kVB2Skwgyb         increase  volume                     advanced   \n",
       "4     2BqVo8kVB2Skwgyb         increase  volume                     advanced   \n",
       "...                ...              ...     ...                          ...   \n",
       "9849  vnljypgejkINbBAY         decrease  volume                       native   \n",
       "9850  vnljypgejkINbBAY       deactivate  lights                       native   \n",
       "9851  vnljypgejkINbBAY       deactivate  lights                       native   \n",
       "9852  vnljypgejkINbBAY       deactivate  lights                       native   \n",
       "9853  vnljypgejkINbBAY         increase  volume                       native   \n",
       "\n",
       "        First Language spoken Current language used for work/school  gender  \\\n",
       "0     English (United States)               English (United States)  female   \n",
       "1     English (United States)               English (United States)  female   \n",
       "2     English (United States)               English (United States)  female   \n",
       "3     English (United States)               English (United States)  female   \n",
       "4     English (United States)               English (United States)  female   \n",
       "...                       ...                                   ...     ...   \n",
       "9849  English (United States)               English (United States)    male   \n",
       "9850  English (United States)               English (United States)    male   \n",
       "9851  English (United States)               English (United States)    male   \n",
       "9852  English (United States)               English (United States)    male   \n",
       "9853  English (United States)               English (United States)    male   \n",
       "\n",
       "     ageRange  labels  \n",
       "0       22-40       5  \n",
       "1       22-40       6  \n",
       "2       22-40       7  \n",
       "3       22-40       1  \n",
       "4       22-40       1  \n",
       "...       ...     ...  \n",
       "9849    22-40       3  \n",
       "9850    22-40       7  \n",
       "9851    22-40       7  \n",
       "9852    22-40       7  \n",
       "9853    22-40       1  \n",
       "\n",
       "[9854 rows x 11 columns]"
      ]
     },
     "execution_count": 10,
     "metadata": {},
     "output_type": "execute_result"
    }
   ],
   "source": [
    "#df_development_increase_volume = df_development.loc[(df_development['action'] == 'increase') & (df_development['object'] == 'volume')]\n",
    "df_development['labels']=0\n",
    "\n",
    "#df_development_increase_volume = df_development.loc[(df_development['action'] == 'increase') & (df_development['object'] == 'volume')]\n",
    "df_development.loc[(df_development['action'] == 'increase') & (df_development['object'] == 'volume'), 'labels']=1\n",
    "df_development.loc[(df_development['action'] == 'increase') & (df_development['object'] == 'heat'), 'labels']=2\n",
    "\n",
    "df_development.loc[(df_development['action'] == 'decrease') & (df_development['object'] == 'volume'), 'labels']=3\n",
    "df_development.loc[(df_development['action'] == 'decrease') & (df_development['object'] == 'heat'), 'labels']=4\n",
    "\n",
    "df_development.loc[(df_development['action'] == 'change language') & (df_development['object'] == 'none'), 'labels']=5\n",
    "\n",
    "df_development.loc[(df_development['action'] == 'activate') & (df_development['object'] == 'music'), 'labels']=6\n",
    "df_development.loc[(df_development['action'] == 'deactivate') & (df_development['object'] == 'lights'), 'labels']=7\n",
    "\n",
    "df_development\n",
    "#df_development.labels.value_counts() #check"
   ]
  },
  {
   "cell_type": "markdown",
   "id": "f1ff0b6e",
   "metadata": {},
   "source": [
    "Now to generate a new dataset with recording and corresponding label assigned we need to extract every audio file looking ath the path column"
   ]
  },
  {
   "cell_type": "code",
   "execution_count": 11,
   "id": "5d276c90",
   "metadata": {},
   "outputs": [],
   "source": [
    "path_working_directory = r'C:/Users/andre/OneDrive/Documenti/GitHub/winter_exam_22_23'\n",
    "paths_recordings = df_development['path']"
   ]
  },
  {
   "cell_type": "code",
   "execution_count": 12,
   "id": "dc7d33a3",
   "metadata": {},
   "outputs": [],
   "source": [
    "# signals = []\n",
    "# sample_rates = []\n",
    "\n",
    "# for path in paths_recordings:\n",
    "#     file_path = f'{path_working_directory}/{path}'\n",
    "    \n",
    "#     signal, sr = librosa.load(file_path)\n",
    "    \n",
    "#     signals.append(signal)\n",
    "#     sample_rates.append(sr)\n",
    "    "
   ]
  },
  {
   "cell_type": "code",
   "execution_count": 13,
   "id": "a95783a2",
   "metadata": {},
   "outputs": [],
   "source": [
    "# labels = df_development['labels']\n",
    "# df = []\n",
    "# df.append(paths_recordings)\n",
    "# df.append(signals)\n",
    "# df.append(sample_rates)\n",
    "# df.append(labels)"
   ]
  },
  {
   "cell_type": "code",
   "execution_count": 14,
   "id": "340700bb",
   "metadata": {},
   "outputs": [],
   "source": [
    "# df=[]\n",
    "# name_file = r'/df.pickle'\n",
    "# print( path_working_directory+name_file)\n",
    "# with open(path_working_directory+name_file, \"wb\") as output_file:\n",
    "#     pickle.dump(df, output_file)"
   ]
  },
  {
   "cell_type": "code",
   "execution_count": 15,
   "id": "ee727798",
   "metadata": {},
   "outputs": [],
   "source": [
    "name_file = r'/df.pickle'\n",
    "\n",
    "with open(path_working_directory+name_file, 'rb') as f:\n",
    "        df = pickle.load(f)\n",
    "#df\n"
   ]
  },
  {
   "cell_type": "code",
   "execution_count": 16,
   "id": "391ecf7f",
   "metadata": {},
   "outputs": [
    {
     "name": "stdout",
     "output_type": "stream",
     "text": [
      "1.877324    525\n",
      "1.792018    500\n",
      "2.048027    493\n",
      "1.962721    462\n",
      "1.706712    448\n",
      "           ... \n",
      "6.826712      1\n",
      "5.120000      1\n",
      "0.682721      1\n",
      "6.656009      1\n",
      "5.290703      1\n",
      "Length: 124, dtype: int64\n",
      "0       1.857642\n",
      "1       1.393197\n",
      "2       1.950522\n",
      "3       1.764717\n",
      "4       2.414875\n",
      "          ...   \n",
      "9849    2.730703\n",
      "9850    2.645351\n",
      "9851    2.645351\n",
      "9852    2.304036\n",
      "9853    2.816009\n",
      "Length: 9854, dtype: float64\n"
     ]
    },
    {
     "data": {
      "image/png": "[encoded data removed]",
      "text/plain": [
       "<Figure size 864x864 with 1 Axes>"
      ]
     },
     "metadata": {
      "needs_background": "light"
     },
     "output_type": "display_data"
    }
   ],
   "source": [
    "length_audios = []\n",
    "length_audios_seconds = []\n",
    "indexes = []\n",
    "i = 0\n",
    "\n",
    "for item,sr in zip(df[1], df[2]):\n",
    "    length_audios.append(len(item))\n",
    "    length_audios_seconds.append(len(item)/sr)\n",
    "    if len(item)/sr  <=4:\n",
    "        indexes.append(i)\n",
    "    i = i+1\n",
    "        \n",
    "\n",
    "length_audios=pd.Series(length_audios)\n",
    "length_audios_seconds = pd.Series(length_audios_seconds)\n",
    "print(length_audios_seconds.value_counts())\n",
    "plt.figure(figsize=(12,12))\n",
    "length_audios_seconds.hist()\n",
    "print(length_audios_seconds)\n"
   ]
  },
  {
   "cell_type": "code",
   "execution_count": 17,
   "id": "c6ccb9e2",
   "metadata": {},
   "outputs": [
    {
     "data": {
      "text/plain": [
       "9464"
      ]
     },
     "execution_count": 17,
     "metadata": {},
     "output_type": "execute_result"
    }
   ],
   "source": [
    "len(indexes)"
   ]
  },
  {
   "cell_type": "code",
   "execution_count": 18,
   "id": "05200c9b",
   "metadata": {},
   "outputs": [],
   "source": [
    "# length_audios = []\n",
    "# length_audios_seconds = []\n",
    "# indexes_to_drop = []\n",
    "# i = 0\n",
    "\n",
    "# for item,sr in zip(df[1], df[2]):\n",
    "#     length_audios.append(len(item))\n",
    "#     length_audios_seconds.append(len(item)/sr)\n",
    "#     if len(item)/sr >= 4 and len(item)/sr <= 4.2:\n",
    "#         indexes_to_drop.append(i)\n",
    "#     i = i+1"
   ]
  },
  {
   "cell_type": "code",
   "execution_count": 19,
   "id": "d2be4476",
   "metadata": {},
   "outputs": [],
   "source": [
    "# indexes_to_drop"
   ]
  },
  {
   "cell_type": "code",
   "execution_count": 20,
   "id": "a8e28ebb",
   "metadata": {},
   "outputs": [
    {
     "data": {
      "text/plain": [
       "[Text(0.5, 1.0, 'Mel-frequency spectrogram')]"
      ]
     },
     "execution_count": 20,
     "metadata": {},
     "output_type": "execute_result"
    },
    {
     "data": {
      "image/png": "[encoded data removed]",
      "text/plain": [
       "<Figure size 432x288 with 2 Axes>"
      ]
     },
     "metadata": {
      "needs_background": "light"
     },
     "output_type": "display_data"
    }
   ],
   "source": [
    "spectogram = librosa.feature.melspectrogram(y=df[1][1752], sr=sr)\n",
    "\n",
    "fig, ax = plt.subplots()\n",
    "S_dB = librosa.power_to_db(spectogram, ref=np.max)\n",
    "img = librosa.display.specshow(S_dB, x_axis='time',\n",
    "                         y_axis='mel', sr=sr,\n",
    "                         fmax=8000, ax=ax)\n",
    "fig.colorbar(img, ax=ax, format='%+2.0f dB')\n",
    "ax.set(title='Mel-frequency spectrogram')"
   ]
  },
  {
   "cell_type": "code",
   "execution_count": 21,
   "id": "2b44b658",
   "metadata": {},
   "outputs": [
    {
     "data": {
      "text/plain": [
       "(128, 173)"
      ]
     },
     "execution_count": 21,
     "metadata": {},
     "output_type": "execute_result"
    }
   ],
   "source": [
    "spectogram.shape"
   ]
  },
  {
   "cell_type": "code",
   "execution_count": 23,
   "id": "2dfa49d3",
   "metadata": {},
   "outputs": [
    {
     "data": {
      "text/plain": [
       "22050    9854\n",
       "dtype: int64"
      ]
     },
     "execution_count": 23,
     "metadata": {},
     "output_type": "execute_result"
    }
   ],
   "source": [
    "s_rates = pd.Series(df[2])\n",
    "s_rates.value_counts()"
   ]
  },
  {
   "cell_type": "markdown",
   "id": "09e946c3",
   "metadata": {},
   "source": [
    "Every signal has the same sample rate of 22050."
   ]
  },
  {
   "cell_type": "code",
   "execution_count": 24,
   "id": "01fd1c5f",
   "metadata": {},
   "outputs": [],
   "source": [
    "sample_rate = 22050"
   ]
  },
  {
   "cell_type": "code",
   "execution_count": 25,
   "id": "af75e8b8",
   "metadata": {},
   "outputs": [
    {
     "name": "stdout",
     "output_type": "stream",
     "text": [
      "1.877324     525\n",
      "1.792018     500\n",
      "2.048027     493\n",
      "1.962721     462\n",
      "1.706712     448\n",
      "1.621315     434\n",
      "2.218730     401\n",
      "2.133333     395\n",
      "2.389342     338\n",
      "2.304036     323\n",
      "20.000000    300\n",
      "1.536009     296\n",
      "1.764717     250\n",
      "1.450703     245\n",
      "2.560000     244\n",
      "1.671837     241\n",
      "2.474694     228\n",
      "1.578957     214\n",
      "1.857642     196\n",
      "1.950522     185\n",
      "2.730703     180\n",
      "1.365351     176\n",
      "2.043401     167\n",
      "2.645351     165\n",
      "1.486077     163\n",
      "2.136281     143\n",
      "2.816009     131\n",
      "2.322041     121\n",
      "2.901315     114\n",
      "2.229161     112\n",
      "1.280000     110\n",
      "2.414875     105\n",
      "1.393197     103\n",
      "2.986712      91\n",
      "2.507755      90\n",
      "3.157324      81\n",
      "2.600635      73\n",
      "3.072018      73\n",
      "3.328027      71\n",
      "1.194694      64\n",
      "1.300317      59\n",
      "3.242721      55\n",
      "1.109342      54\n",
      "2.693515      53\n",
      "2.786395      38\n",
      "1.024036      36\n",
      "2.879274      34\n",
      "3.584036      33\n",
      "2.972154      30\n",
      "3.413333      29\n",
      "dtype: int64\n"
     ]
    },
    {
     "data": {
      "text/plain": [
       "9472"
      ]
     },
     "execution_count": 25,
     "metadata": {},
     "output_type": "execute_result"
    }
   ],
   "source": [
    "indexes\n",
    "\n",
    "length_audios_seconds[7767] #8140, 8228]\n",
    "print(length_audios_seconds.value_counts().iloc[:50])\n",
    "length_audios_seconds.value_counts().iloc[:50].keys().drop(20).max()\n",
    "length_audios_seconds.value_counts().iloc[:50].values.sum()\n",
    "#[1752, 3671, 4234, 4675, 5669, 7111, 7767, 7843, 8888]\n",
    "\n",
    "# cnt = 0\n",
    "# for i in length_audios_seconds.value_counts().keys():\n",
    "    \n",
    "#     if i >=4.95 and i <=5.05:\n",
    "#         print(i)\n",
    "#         print(cnt)\n",
    "#     cnt = cnt+1"
   ]
  },
  {
   "cell_type": "markdown",
   "id": "5bba3f98",
   "metadata": {},
   "source": [
    "## 2. Pre-Processing"
   ]
  },
  {
   "cell_type": "markdown",
   "id": "cac863e5",
   "metadata": {},
   "source": [
    "There exist 9464 audio files (-300 of 20 seconds long) whose length is below 4 seconds, since the total of samples is 9857, it seems reasonable to cut take only the files whose length is lower or equal to 4 and then, in order to obtain comparable spectogram matrixes for every audio signal, the signals that present length < 4 are zero padded in the end in order to reach all audio signal of the same length (4) so also the matrices will be of the same size."
   ]
  },
  {
   "cell_type": "code",
   "execution_count": 26,
   "id": "af713b01",
   "metadata": {},
   "outputs": [],
   "source": [
    "length_audios = []\n",
    "length_audios_seconds = []\n",
    "indexes_to_drop = []\n",
    "i = 0\n",
    "\n",
    "for item,sr in zip(df[1], df[2]):\n",
    "    length_audios.append(len(item))\n",
    "    length_audios_seconds.append(len(item)/sr)\n",
    "    if len(item)/sr > 4:\n",
    "        indexes_to_drop.append(i)\n",
    "    i = i+1\n",
    "        \n",
    "\n"
   ]
  },
  {
   "cell_type": "code",
   "execution_count": 27,
   "id": "411918ec",
   "metadata": {},
   "outputs": [
    {
     "data": {
      "text/plain": [
       "390"
      ]
     },
     "execution_count": 27,
     "metadata": {},
     "output_type": "execute_result"
    }
   ],
   "source": [
    "len(indexes_to_drop)"
   ]
  },
  {
   "cell_type": "code",
   "execution_count": 28,
   "id": "6107d475",
   "metadata": {},
   "outputs": [
    {
     "data": {
      "text/html": [
       "<div>\n",
       "<style scoped>\n",
       "    .dataframe tbody tr th:only-of-type {\n",
       "        vertical-align: middle;\n",
       "    }\n",
       "\n",
       "    .dataframe tbody tr th {\n",
       "        vertical-align: top;\n",
       "    }\n",
       "\n",
       "    .dataframe thead th {\n",
       "        text-align: right;\n",
       "    }\n",
       "</style>\n",
       "<table border=\"1\" class=\"dataframe\">\n",
       "  <thead>\n",
       "    <tr style=\"text-align: right;\">\n",
       "      <th></th>\n",
       "      <th>audio</th>\n",
       "      <th>label</th>\n",
       "    </tr>\n",
       "  </thead>\n",
       "  <tbody>\n",
       "    <tr>\n",
       "      <th>0</th>\n",
       "      <td>[0.0, 0.0, 0.0, 0.0, 0.0, 0.0, 0.0, 0.0, 0.0, ...</td>\n",
       "      <td>5</td>\n",
       "    </tr>\n",
       "    <tr>\n",
       "      <th>1</th>\n",
       "      <td>[0.0, 0.0, 0.0, 0.0, 0.0, 0.0, 0.0, 0.0, 0.0, ...</td>\n",
       "      <td>6</td>\n",
       "    </tr>\n",
       "    <tr>\n",
       "      <th>2</th>\n",
       "      <td>[0.0, 0.0, 0.0, 0.0, 0.0, 0.0, 0.0, 0.0, 0.0, ...</td>\n",
       "      <td>7</td>\n",
       "    </tr>\n",
       "    <tr>\n",
       "      <th>3</th>\n",
       "      <td>[0.0, 0.0, 0.0, 0.0, 0.0, 0.0, 0.0, 0.0, 0.0, ...</td>\n",
       "      <td>1</td>\n",
       "    </tr>\n",
       "    <tr>\n",
       "      <th>4</th>\n",
       "      <td>[0.0, 0.0, 0.0, 0.0, 0.0, 0.0, 0.0, 0.0, 0.0, ...</td>\n",
       "      <td>1</td>\n",
       "    </tr>\n",
       "    <tr>\n",
       "      <th>...</th>\n",
       "      <td>...</td>\n",
       "      <td>...</td>\n",
       "    </tr>\n",
       "    <tr>\n",
       "      <th>9849</th>\n",
       "      <td>[0.009223618, 0.010777138, 0.009321626, 0.0099...</td>\n",
       "      <td>3</td>\n",
       "    </tr>\n",
       "    <tr>\n",
       "      <th>9850</th>\n",
       "      <td>[0.00936052, 0.010867924, 0.009305291, 0.00991...</td>\n",
       "      <td>7</td>\n",
       "    </tr>\n",
       "    <tr>\n",
       "      <th>9851</th>\n",
       "      <td>[0.0014334349, 0.001723074, 0.0015384919, 0.00...</td>\n",
       "      <td>7</td>\n",
       "    </tr>\n",
       "    <tr>\n",
       "      <th>9852</th>\n",
       "      <td>[0.009742705, 0.011407773, 0.009794228, 0.0103...</td>\n",
       "      <td>7</td>\n",
       "    </tr>\n",
       "    <tr>\n",
       "      <th>9853</th>\n",
       "      <td>[0.009512647, 0.011129991, 0.00956014, 0.01007...</td>\n",
       "      <td>1</td>\n",
       "    </tr>\n",
       "  </tbody>\n",
       "</table>\n",
       "<p>9854 rows × 2 columns</p>\n",
       "</div>"
      ],
      "text/plain": [
       "                                                  audio  label\n",
       "0     [0.0, 0.0, 0.0, 0.0, 0.0, 0.0, 0.0, 0.0, 0.0, ...      5\n",
       "1     [0.0, 0.0, 0.0, 0.0, 0.0, 0.0, 0.0, 0.0, 0.0, ...      6\n",
       "2     [0.0, 0.0, 0.0, 0.0, 0.0, 0.0, 0.0, 0.0, 0.0, ...      7\n",
       "3     [0.0, 0.0, 0.0, 0.0, 0.0, 0.0, 0.0, 0.0, 0.0, ...      1\n",
       "4     [0.0, 0.0, 0.0, 0.0, 0.0, 0.0, 0.0, 0.0, 0.0, ...      1\n",
       "...                                                 ...    ...\n",
       "9849  [0.009223618, 0.010777138, 0.009321626, 0.0099...      3\n",
       "9850  [0.00936052, 0.010867924, 0.009305291, 0.00991...      7\n",
       "9851  [0.0014334349, 0.001723074, 0.0015384919, 0.00...      7\n",
       "9852  [0.009742705, 0.011407773, 0.009794228, 0.0103...      7\n",
       "9853  [0.009512647, 0.011129991, 0.00956014, 0.01007...      1\n",
       "\n",
       "[9854 rows x 2 columns]"
      ]
     },
     "execution_count": 28,
     "metadata": {},
     "output_type": "execute_result"
    }
   ],
   "source": [
    "df_pd = pd.DataFrame({'audio':df[1], 'label':df[3]})\n",
    "df_pd"
   ]
  },
  {
   "cell_type": "code",
   "execution_count": 29,
   "id": "fccede94",
   "metadata": {},
   "outputs": [
    {
     "data": {
      "text/html": [
       "<div>\n",
       "<style scoped>\n",
       "    .dataframe tbody tr th:only-of-type {\n",
       "        vertical-align: middle;\n",
       "    }\n",
       "\n",
       "    .dataframe tbody tr th {\n",
       "        vertical-align: top;\n",
       "    }\n",
       "\n",
       "    .dataframe thead th {\n",
       "        text-align: right;\n",
       "    }\n",
       "</style>\n",
       "<table border=\"1\" class=\"dataframe\">\n",
       "  <thead>\n",
       "    <tr style=\"text-align: right;\">\n",
       "      <th></th>\n",
       "      <th>audio</th>\n",
       "      <th>label</th>\n",
       "    </tr>\n",
       "  </thead>\n",
       "  <tbody>\n",
       "    <tr>\n",
       "      <th>0</th>\n",
       "      <td>[0.0, 0.0, 0.0, 0.0, 0.0, 0.0, 0.0, 0.0, 0.0, ...</td>\n",
       "      <td>5</td>\n",
       "    </tr>\n",
       "    <tr>\n",
       "      <th>1</th>\n",
       "      <td>[0.0, 0.0, 0.0, 0.0, 0.0, 0.0, 0.0, 0.0, 0.0, ...</td>\n",
       "      <td>6</td>\n",
       "    </tr>\n",
       "    <tr>\n",
       "      <th>2</th>\n",
       "      <td>[0.0, 0.0, 0.0, 0.0, 0.0, 0.0, 0.0, 0.0, 0.0, ...</td>\n",
       "      <td>7</td>\n",
       "    </tr>\n",
       "    <tr>\n",
       "      <th>3</th>\n",
       "      <td>[0.0, 0.0, 0.0, 0.0, 0.0, 0.0, 0.0, 0.0, 0.0, ...</td>\n",
       "      <td>1</td>\n",
       "    </tr>\n",
       "    <tr>\n",
       "      <th>4</th>\n",
       "      <td>[0.0, 0.0, 0.0, 0.0, 0.0, 0.0, 0.0, 0.0, 0.0, ...</td>\n",
       "      <td>1</td>\n",
       "    </tr>\n",
       "    <tr>\n",
       "      <th>...</th>\n",
       "      <td>...</td>\n",
       "      <td>...</td>\n",
       "    </tr>\n",
       "    <tr>\n",
       "      <th>9459</th>\n",
       "      <td>[0.009223618, 0.010777138, 0.009321626, 0.0099...</td>\n",
       "      <td>3</td>\n",
       "    </tr>\n",
       "    <tr>\n",
       "      <th>9460</th>\n",
       "      <td>[0.00936052, 0.010867924, 0.009305291, 0.00991...</td>\n",
       "      <td>7</td>\n",
       "    </tr>\n",
       "    <tr>\n",
       "      <th>9461</th>\n",
       "      <td>[0.0014334349, 0.001723074, 0.0015384919, 0.00...</td>\n",
       "      <td>7</td>\n",
       "    </tr>\n",
       "    <tr>\n",
       "      <th>9462</th>\n",
       "      <td>[0.009742705, 0.011407773, 0.009794228, 0.0103...</td>\n",
       "      <td>7</td>\n",
       "    </tr>\n",
       "    <tr>\n",
       "      <th>9463</th>\n",
       "      <td>[0.009512647, 0.011129991, 0.00956014, 0.01007...</td>\n",
       "      <td>1</td>\n",
       "    </tr>\n",
       "  </tbody>\n",
       "</table>\n",
       "<p>9464 rows × 2 columns</p>\n",
       "</div>"
      ],
      "text/plain": [
       "                                                  audio  label\n",
       "0     [0.0, 0.0, 0.0, 0.0, 0.0, 0.0, 0.0, 0.0, 0.0, ...      5\n",
       "1     [0.0, 0.0, 0.0, 0.0, 0.0, 0.0, 0.0, 0.0, 0.0, ...      6\n",
       "2     [0.0, 0.0, 0.0, 0.0, 0.0, 0.0, 0.0, 0.0, 0.0, ...      7\n",
       "3     [0.0, 0.0, 0.0, 0.0, 0.0, 0.0, 0.0, 0.0, 0.0, ...      1\n",
       "4     [0.0, 0.0, 0.0, 0.0, 0.0, 0.0, 0.0, 0.0, 0.0, ...      1\n",
       "...                                                 ...    ...\n",
       "9459  [0.009223618, 0.010777138, 0.009321626, 0.0099...      3\n",
       "9460  [0.00936052, 0.010867924, 0.009305291, 0.00991...      7\n",
       "9461  [0.0014334349, 0.001723074, 0.0015384919, 0.00...      7\n",
       "9462  [0.009742705, 0.011407773, 0.009794228, 0.0103...      7\n",
       "9463  [0.009512647, 0.011129991, 0.00956014, 0.01007...      1\n",
       "\n",
       "[9464 rows x 2 columns]"
      ]
     },
     "execution_count": 29,
     "metadata": {},
     "output_type": "execute_result"
    }
   ],
   "source": [
    "df_pd=df_pd.drop(indexes_to_drop).reset_index(drop=True) #reset_index because we have a new df and if we want to iterate over it is simpler\n",
    "df_pd"
   ]
  },
  {
   "cell_type": "markdown",
   "id": "75bef742",
   "metadata": {},
   "source": [
    "Now retireve the max length of samples characterizing audio file (should be around 4 seconds) in order to pad every other array with lower dimension til the same length in order to have all audio file of the same length."
   ]
  },
  {
   "cell_type": "code",
   "execution_count": 30,
   "id": "12b6170c",
   "metadata": {},
   "outputs": [
    {
     "data": {
      "text/plain": [
       "[Text(0.5, 1.0, 'Mel-frequency spectrogram')]"
      ]
     },
     "execution_count": 30,
     "metadata": {},
     "output_type": "execute_result"
    },
    {
     "data": {
      "image/png": "[encoded data removed]",
      "text/plain": [
       "<Figure size 432x288 with 2 Axes>"
      ]
     },
     "metadata": {
      "needs_background": "light"
     },
     "output_type": "display_data"
    }
   ],
   "source": [
    "spectogram = librosa.feature.melspectrogram(y=df[1][0], sr=sr)\n",
    "\n",
    "fig, ax = plt.subplots()\n",
    "S_dB = librosa.power_to_db(spectogram, ref=np.max)\n",
    "img = librosa.display.specshow(S_dB, x_axis='time',\n",
    "                         y_axis='mel', sr=sr,\n",
    "                         fmax=8000, ax=ax)\n",
    "fig.colorbar(img, ax=ax, format='%+2.0f dB')\n",
    "ax.set(title='Mel-frequency spectrogram')"
   ]
  },
  {
   "cell_type": "code",
   "execution_count": 31,
   "id": "c1cc706f",
   "metadata": {},
   "outputs": [
    {
     "data": {
      "text/plain": [
       "[Text(0.5, 1.0, 'Mel-frequency spectrogram')]"
      ]
     },
     "execution_count": 31,
     "metadata": {},
     "output_type": "execute_result"
    },
    {
     "data": {
      "image/png": "[encoded data removed]",
      "text/plain": [
       "<Figure size 432x288 with 2 Axes>"
      ]
     },
     "metadata": {
      "needs_background": "light"
     },
     "output_type": "display_data"
    }
   ],
   "source": [
    "spectogram = librosa.feature.melspectrogram(y=np.pad(df_pd.audio[0],(0,88064- len(df_pd.audio[9463])),mode='constant', constant_values=0), sr=sr)\n",
    "\n",
    "fig, ax = plt.subplots()\n",
    "S_dB = librosa.power_to_db(spectogram, ref=np.max)\n",
    "img = librosa.display.specshow(S_dB, x_axis='time',\n",
    "                         y_axis='mel', sr=sr,\n",
    "                         fmax=8000, ax=ax)\n",
    "fig.colorbar(img, ax=ax, format='%+2.0f dB')\n",
    "ax.set(title='Mel-frequency spectrogram')"
   ]
  },
  {
   "cell_type": "code",
   "execution_count": 32,
   "id": "91ddcddf",
   "metadata": {},
   "outputs": [
    {
     "data": {
      "text/plain": [
       "3566    88064\n",
       "4104    88064\n",
       "dtype: int64"
      ]
     },
     "execution_count": 32,
     "metadata": {},
     "output_type": "execute_result"
    }
   ],
   "source": [
    "# Find maximum length of the audio in the dataframe\n",
    "lengths = [len(audio) for audio in df_pd.audio]\n",
    "# idx = 45 #check\n",
    "# lengths[idx], len(df_pd.audio.iloc[idx])\n",
    "lengths = pd.Series(lengths)\n",
    "#lengths.max() #88064\n",
    "lengths[lengths == lengths.max()]"
   ]
  },
  {
   "cell_type": "code",
   "execution_count": 33,
   "id": "985b1719",
   "metadata": {},
   "outputs": [],
   "source": [
    "# def pad_audio(audio, max_length):\n",
    "#     t = max_length - len(audio)\n",
    "#     return np.pad(audio, pad_width=(0, t), mode='constant')"
   ]
  },
  {
   "cell_type": "code",
   "execution_count": 34,
   "id": "49ee9220",
   "metadata": {},
   "outputs": [
    {
     "name": "stderr",
     "output_type": "stream",
     "text": [
      "C:\\Users\\andre\\AppData\\Local\\Temp/ipykernel_5676/2611756987.py:6: SettingWithCopyWarning: \n",
      "A value is trying to be set on a copy of a slice from a DataFrame\n",
      "\n",
      "See the caveats in the documentation: https://pandas.pydata.org/pandas-docs/stable/user_guide/indexing.html#returning-a-view-versus-a-copy\n",
      "  df_pd.audio[i] = np.pad(df_pd.audio[i],(0,max_length- len(df_pd.audio[i])),mode='constant', constant_values=0)\n"
     ]
    }
   ],
   "source": [
    "max_length = 88064\n",
    "for i, audio in enumerate(df_pd.audio):\n",
    "    \n",
    "    #print(len(df_pd.audio[i]))\n",
    "    #audio_padded = np.resize(df_pd.audio[i], max_length)\n",
    "    df_pd.audio[i] = np.pad(df_pd.audio[i],(0,max_length- len(df_pd.audio[i])),mode='constant', constant_values=0)\n",
    "    \n",
    "    #print(len(df_pd.audio[i]))\n",
    "#     if i == 2:\n",
    "#         break"
   ]
  },
  {
   "cell_type": "code",
   "execution_count": 35,
   "id": "59cfa88e",
   "metadata": {},
   "outputs": [
    {
     "data": {
      "text/plain": [
       "88064    9464\n",
       "dtype: int64"
      ]
     },
     "execution_count": 35,
     "metadata": {},
     "output_type": "execute_result"
    }
   ],
   "source": [
    "lengths = [len(audio) for audio in df_pd.audio]\n",
    "lengths = pd.Series(lengths)\n",
    "lengths.value_counts()"
   ]
  },
  {
   "cell_type": "markdown",
   "id": "73dd4952",
   "metadata": {},
   "source": [
    "Test if audio has been correctly padded by checking if black background has been added on the right of the image"
   ]
  },
  {
   "cell_type": "code",
   "execution_count": 36,
   "id": "24e1ad96",
   "metadata": {},
   "outputs": [
    {
     "data": {
      "text/plain": [
       "[Text(0.5, 1.0, 'Mel-frequency spectrogram')]"
      ]
     },
     "execution_count": 36,
     "metadata": {},
     "output_type": "execute_result"
    },
    {
     "data": {
      "image/png": "[encoded data removed]",
      "text/plain": [
       "<Figure size 432x288 with 2 Axes>"
      ]
     },
     "metadata": {
      "needs_background": "light"
     },
     "output_type": "display_data"
    }
   ],
   "source": [
    "spectogram = librosa.feature.melspectrogram(y=df_pd.audio[9463], sr=sr)\n",
    "\n",
    "fig, ax = plt.subplots()\n",
    "S_dB = librosa.power_to_db(spectogram, ref=np.max)\n",
    "img = librosa.display.specshow(S_dB, x_axis='time',\n",
    "                         y_axis='mel', sr=sr,\n",
    "                         fmax=8000, ax=ax)\n",
    "fig.colorbar(img, ax=ax, format='%+2.0f dB')\n",
    "ax.set(title='Mel-frequency spectrogram')\n"
   ]
  },
  {
   "cell_type": "markdown",
   "id": "83060ecc",
   "metadata": {},
   "source": [
    "Now that every audio signal has the same size and been correctly padded we can compute the spectogram matrix for each of them"
   ]
  },
  {
   "cell_type": "code",
   "execution_count": 38,
   "id": "520d1333",
   "metadata": {},
   "outputs": [],
   "source": [
    "spectograms = []\n",
    "#the sprectograms obtained for these audios are 128x173 so we add 7 columns of 0 to get 128x180 matrices\n",
    "tmp = np.zeros((spectogram.shape[0], 7))\n",
    "for i, audio in enumerate(df_pd.audio):\n",
    "    spectogram = librosa.feature.melspectrogram(y=df_pd.audio[i], sr=sample_rate)\n",
    "    \n",
    "    #adjust spectogram size to get nice number of columns that are easy to divide3\n",
    "    spectogram= np.hstack((spectogram,tmp))\n",
    "    spectograms.append(spectogram)\n",
    "    #df_pd.audio['spectogram'] = spectogram\n",
    "    \n",
    "    #print(len(df_pd.audio[i]))\n",
    "#     if i == 2:\n",
    "#         break"
   ]
  },
  {
   "cell_type": "code",
   "execution_count": null,
   "id": "3fcd8e20",
   "metadata": {},
   "outputs": [],
   "source": [
    "# x= spectograms[0].copy()\n",
    "# tmp = np.zeros((spectograms[0].shape[0], 7))\n",
    "# x=np.hstack((x,tmp))\n",
    "# x.shape"
   ]
  },
  {
   "cell_type": "code",
   "execution_count": 39,
   "id": "ae312629",
   "metadata": {},
   "outputs": [],
   "source": [
    "df_pd['spectogram'] = spectograms"
   ]
  },
  {
   "cell_type": "code",
   "execution_count": 44,
   "id": "fb9798ff",
   "metadata": {},
   "outputs": [
    {
     "data": {
      "text/plain": [
       "(128, 180)"
      ]
     },
     "execution_count": 44,
     "metadata": {},
     "output_type": "execute_result"
    }
   ],
   "source": [
    "df_pd.spectogram[567].shape"
   ]
  },
  {
   "cell_type": "markdown",
   "id": "ce50064f",
   "metadata": {},
   "source": [
    "Now that we have obtained the spectogram of same dimension for every audio signal we can procede with the step of feature extraction."
   ]
  },
  {
   "cell_type": "markdown",
   "id": "abeb8b63",
   "metadata": {},
   "source": [
    "## 3. Feature Extraction"
   ]
  },
  {
   "cell_type": "markdown",
   "id": "a97f1848",
   "metadata": {},
   "source": [
    "For each spectogram of dimension RxC we need to divide it into a grid of rxc squares, each square will have dimensions R/r and C/c, so r and c will be hyperparameters.\n",
    "\n",
    "Let's start by choosing r = c."
   ]
  },
  {
   "cell_type": "code",
   "execution_count": 59,
   "id": "40147978",
   "metadata": {},
   "outputs": [],
   "source": [
    "R, C = df_pd.spectogram[0].shape\n",
    "width_row =  32 #128/8 = 16 -> each square will have height of 16\n",
    "width_col = 30 #173/8 = 21.625 -> each square has width of 21.625 "
   ]
  },
  {
   "cell_type": "code",
   "execution_count": 60,
   "id": "a373e9ec",
   "metadata": {},
   "outputs": [
    {
     "data": {
      "text/plain": [
       "(128, 180)"
      ]
     },
     "execution_count": 60,
     "metadata": {},
     "output_type": "execute_result"
    }
   ],
   "source": [
    "R, C"
   ]
  },
  {
   "cell_type": "code",
   "execution_count": 132,
   "id": "ed8a1393",
   "metadata": {},
   "outputs": [
    {
     "data": {
      "text/html": [
       "<div>\n",
       "<style scoped>\n",
       "    .dataframe tbody tr th:only-of-type {\n",
       "        vertical-align: middle;\n",
       "    }\n",
       "\n",
       "    .dataframe tbody tr th {\n",
       "        vertical-align: top;\n",
       "    }\n",
       "\n",
       "    .dataframe thead th {\n",
       "        text-align: right;\n",
       "    }\n",
       "</style>\n",
       "<table border=\"1\" class=\"dataframe\">\n",
       "  <thead>\n",
       "    <tr style=\"text-align: right;\">\n",
       "      <th></th>\n",
       "      <th>0</th>\n",
       "      <th>1</th>\n",
       "      <th>2</th>\n",
       "      <th>3</th>\n",
       "      <th>4</th>\n",
       "      <th>5</th>\n",
       "      <th>6</th>\n",
       "      <th>7</th>\n",
       "      <th>8</th>\n",
       "      <th>9</th>\n",
       "      <th>...</th>\n",
       "      <th>38</th>\n",
       "      <th>39</th>\n",
       "      <th>40</th>\n",
       "      <th>41</th>\n",
       "      <th>42</th>\n",
       "      <th>43</th>\n",
       "      <th>44</th>\n",
       "      <th>45</th>\n",
       "      <th>46</th>\n",
       "      <th>47</th>\n",
       "    </tr>\n",
       "  </thead>\n",
       "  <tbody>\n",
       "    <tr>\n",
       "      <th>0</th>\n",
       "      <td>0.364840</td>\n",
       "      <td>0.246298</td>\n",
       "      <td>1.296486e-03</td>\n",
       "      <td>0.000000</td>\n",
       "      <td>0.000000</td>\n",
       "      <td>0.0</td>\n",
       "      <td>0.005982</td>\n",
       "      <td>0.075857</td>\n",
       "      <td>2.407880e-06</td>\n",
       "      <td>0.000000e+00</td>\n",
       "      <td>...</td>\n",
       "      <td>2.443685e-03</td>\n",
       "      <td>0.000000e+00</td>\n",
       "      <td>0.000000e+00</td>\n",
       "      <td>0.0</td>\n",
       "      <td>5.648639e-03</td>\n",
       "      <td>6.861232e-03</td>\n",
       "      <td>1.321961e-03</td>\n",
       "      <td>0.000000e+00</td>\n",
       "      <td>0.000000e+00</td>\n",
       "      <td>0.0</td>\n",
       "    </tr>\n",
       "    <tr>\n",
       "      <th>1</th>\n",
       "      <td>0.251666</td>\n",
       "      <td>0.042410</td>\n",
       "      <td>4.938611e-09</td>\n",
       "      <td>0.000000</td>\n",
       "      <td>0.000000</td>\n",
       "      <td>0.0</td>\n",
       "      <td>0.003960</td>\n",
       "      <td>0.000463</td>\n",
       "      <td>1.675873e-09</td>\n",
       "      <td>0.000000e+00</td>\n",
       "      <td>...</td>\n",
       "      <td>1.984078e-09</td>\n",
       "      <td>0.000000e+00</td>\n",
       "      <td>0.000000e+00</td>\n",
       "      <td>0.0</td>\n",
       "      <td>3.643671e-03</td>\n",
       "      <td>3.624294e-06</td>\n",
       "      <td>8.694195e-10</td>\n",
       "      <td>0.000000e+00</td>\n",
       "      <td>0.000000e+00</td>\n",
       "      <td>0.0</td>\n",
       "    </tr>\n",
       "    <tr>\n",
       "      <th>2</th>\n",
       "      <td>0.008715</td>\n",
       "      <td>0.093598</td>\n",
       "      <td>1.493076e-03</td>\n",
       "      <td>0.000000</td>\n",
       "      <td>0.000000</td>\n",
       "      <td>0.0</td>\n",
       "      <td>0.000041</td>\n",
       "      <td>0.021074</td>\n",
       "      <td>1.352630e-03</td>\n",
       "      <td>0.000000e+00</td>\n",
       "      <td>...</td>\n",
       "      <td>9.152613e-04</td>\n",
       "      <td>0.000000e+00</td>\n",
       "      <td>0.000000e+00</td>\n",
       "      <td>0.0</td>\n",
       "      <td>7.505163e-08</td>\n",
       "      <td>7.911244e-08</td>\n",
       "      <td>7.991706e-04</td>\n",
       "      <td>0.000000e+00</td>\n",
       "      <td>0.000000e+00</td>\n",
       "      <td>0.0</td>\n",
       "    </tr>\n",
       "    <tr>\n",
       "      <th>3</th>\n",
       "      <td>0.131147</td>\n",
       "      <td>1.629733</td>\n",
       "      <td>3.029988e-03</td>\n",
       "      <td>0.000000</td>\n",
       "      <td>0.000000</td>\n",
       "      <td>0.0</td>\n",
       "      <td>0.156054</td>\n",
       "      <td>0.648627</td>\n",
       "      <td>8.353218e-05</td>\n",
       "      <td>0.000000e+00</td>\n",
       "      <td>...</td>\n",
       "      <td>1.192101e-05</td>\n",
       "      <td>0.000000e+00</td>\n",
       "      <td>0.000000e+00</td>\n",
       "      <td>0.0</td>\n",
       "      <td>2.570868e-04</td>\n",
       "      <td>2.963001e-02</td>\n",
       "      <td>8.442427e-08</td>\n",
       "      <td>0.000000e+00</td>\n",
       "      <td>0.000000e+00</td>\n",
       "      <td>0.0</td>\n",
       "    </tr>\n",
       "    <tr>\n",
       "      <th>4</th>\n",
       "      <td>0.000003</td>\n",
       "      <td>0.149189</td>\n",
       "      <td>1.141586e-01</td>\n",
       "      <td>0.005032</td>\n",
       "      <td>0.000000</td>\n",
       "      <td>0.0</td>\n",
       "      <td>0.000001</td>\n",
       "      <td>0.004752</td>\n",
       "      <td>2.098686e-03</td>\n",
       "      <td>3.281849e-05</td>\n",
       "      <td>...</td>\n",
       "      <td>1.445075e-04</td>\n",
       "      <td>3.359658e-06</td>\n",
       "      <td>0.000000e+00</td>\n",
       "      <td>0.0</td>\n",
       "      <td>2.160951e-08</td>\n",
       "      <td>8.289322e-08</td>\n",
       "      <td>1.490260e-07</td>\n",
       "      <td>3.992424e-08</td>\n",
       "      <td>0.000000e+00</td>\n",
       "      <td>0.0</td>\n",
       "    </tr>\n",
       "    <tr>\n",
       "      <th>...</th>\n",
       "      <td>...</td>\n",
       "      <td>...</td>\n",
       "      <td>...</td>\n",
       "      <td>...</td>\n",
       "      <td>...</td>\n",
       "      <td>...</td>\n",
       "      <td>...</td>\n",
       "      <td>...</td>\n",
       "      <td>...</td>\n",
       "      <td>...</td>\n",
       "      <td>...</td>\n",
       "      <td>...</td>\n",
       "      <td>...</td>\n",
       "      <td>...</td>\n",
       "      <td>...</td>\n",
       "      <td>...</td>\n",
       "      <td>...</td>\n",
       "      <td>...</td>\n",
       "      <td>...</td>\n",
       "      <td>...</td>\n",
       "      <td>...</td>\n",
       "    </tr>\n",
       "    <tr>\n",
       "      <th>9459</th>\n",
       "      <td>0.012853</td>\n",
       "      <td>6.952745</td>\n",
       "      <td>3.682347e+00</td>\n",
       "      <td>0.001756</td>\n",
       "      <td>0.000000</td>\n",
       "      <td>0.0</td>\n",
       "      <td>0.000009</td>\n",
       "      <td>1.703094</td>\n",
       "      <td>8.302670e-01</td>\n",
       "      <td>1.651449e-06</td>\n",
       "      <td>...</td>\n",
       "      <td>3.819006e-02</td>\n",
       "      <td>5.444499e-06</td>\n",
       "      <td>0.000000e+00</td>\n",
       "      <td>0.0</td>\n",
       "      <td>1.856905e-06</td>\n",
       "      <td>3.818845e-04</td>\n",
       "      <td>8.238495e-04</td>\n",
       "      <td>1.065495e-06</td>\n",
       "      <td>0.000000e+00</td>\n",
       "      <td>0.0</td>\n",
       "    </tr>\n",
       "    <tr>\n",
       "      <th>9460</th>\n",
       "      <td>0.012990</td>\n",
       "      <td>4.450835</td>\n",
       "      <td>1.474628e+00</td>\n",
       "      <td>0.001074</td>\n",
       "      <td>0.000000</td>\n",
       "      <td>0.0</td>\n",
       "      <td>0.000034</td>\n",
       "      <td>1.819652</td>\n",
       "      <td>1.175710e-01</td>\n",
       "      <td>8.244789e-07</td>\n",
       "      <td>...</td>\n",
       "      <td>5.899858e-02</td>\n",
       "      <td>1.414214e-05</td>\n",
       "      <td>0.000000e+00</td>\n",
       "      <td>0.0</td>\n",
       "      <td>7.371839e-03</td>\n",
       "      <td>2.236103e-02</td>\n",
       "      <td>7.198993e-02</td>\n",
       "      <td>2.385671e-06</td>\n",
       "      <td>0.000000e+00</td>\n",
       "      <td>0.0</td>\n",
       "    </tr>\n",
       "    <tr>\n",
       "      <th>9461</th>\n",
       "      <td>1.230466</td>\n",
       "      <td>5.840946</td>\n",
       "      <td>1.571063e+00</td>\n",
       "      <td>0.001638</td>\n",
       "      <td>0.000000</td>\n",
       "      <td>0.0</td>\n",
       "      <td>0.367966</td>\n",
       "      <td>0.883062</td>\n",
       "      <td>1.003203e+00</td>\n",
       "      <td>1.156632e-06</td>\n",
       "      <td>...</td>\n",
       "      <td>6.346407e-03</td>\n",
       "      <td>2.268972e-05</td>\n",
       "      <td>0.000000e+00</td>\n",
       "      <td>0.0</td>\n",
       "      <td>1.569939e-03</td>\n",
       "      <td>1.100701e-01</td>\n",
       "      <td>2.271419e-03</td>\n",
       "      <td>2.694301e-06</td>\n",
       "      <td>0.000000e+00</td>\n",
       "      <td>0.0</td>\n",
       "    </tr>\n",
       "    <tr>\n",
       "      <th>9462</th>\n",
       "      <td>0.013410</td>\n",
       "      <td>4.753314</td>\n",
       "      <td>2.246866e-03</td>\n",
       "      <td>0.000381</td>\n",
       "      <td>0.000000</td>\n",
       "      <td>0.0</td>\n",
       "      <td>0.000012</td>\n",
       "      <td>1.525422</td>\n",
       "      <td>7.369280e-04</td>\n",
       "      <td>3.601185e-07</td>\n",
       "      <td>...</td>\n",
       "      <td>2.310928e-03</td>\n",
       "      <td>2.426344e-07</td>\n",
       "      <td>0.000000e+00</td>\n",
       "      <td>0.0</td>\n",
       "      <td>2.203178e-06</td>\n",
       "      <td>7.470186e-02</td>\n",
       "      <td>6.608306e-04</td>\n",
       "      <td>7.110079e-08</td>\n",
       "      <td>0.000000e+00</td>\n",
       "      <td>0.0</td>\n",
       "    </tr>\n",
       "    <tr>\n",
       "      <th>9463</th>\n",
       "      <td>0.013305</td>\n",
       "      <td>6.671994</td>\n",
       "      <td>4.759538e-01</td>\n",
       "      <td>0.001234</td>\n",
       "      <td>0.000106</td>\n",
       "      <td>0.0</td>\n",
       "      <td>0.000012</td>\n",
       "      <td>2.646812</td>\n",
       "      <td>4.118652e-01</td>\n",
       "      <td>7.042407e-07</td>\n",
       "      <td>...</td>\n",
       "      <td>9.640097e-02</td>\n",
       "      <td>1.580658e-05</td>\n",
       "      <td>2.563102e-07</td>\n",
       "      <td>0.0</td>\n",
       "      <td>3.705558e-06</td>\n",
       "      <td>5.543012e-04</td>\n",
       "      <td>2.388229e-04</td>\n",
       "      <td>3.139595e-06</td>\n",
       "      <td>8.774465e-08</td>\n",
       "      <td>0.0</td>\n",
       "    </tr>\n",
       "  </tbody>\n",
       "</table>\n",
       "<p>9464 rows × 48 columns</p>\n",
       "</div>"
      ],
      "text/plain": [
       "            0         1             2         3         4    5         6   \\\n",
       "0     0.364840  0.246298  1.296486e-03  0.000000  0.000000  0.0  0.005982   \n",
       "1     0.251666  0.042410  4.938611e-09  0.000000  0.000000  0.0  0.003960   \n",
       "2     0.008715  0.093598  1.493076e-03  0.000000  0.000000  0.0  0.000041   \n",
       "3     0.131147  1.629733  3.029988e-03  0.000000  0.000000  0.0  0.156054   \n",
       "4     0.000003  0.149189  1.141586e-01  0.005032  0.000000  0.0  0.000001   \n",
       "...        ...       ...           ...       ...       ...  ...       ...   \n",
       "9459  0.012853  6.952745  3.682347e+00  0.001756  0.000000  0.0  0.000009   \n",
       "9460  0.012990  4.450835  1.474628e+00  0.001074  0.000000  0.0  0.000034   \n",
       "9461  1.230466  5.840946  1.571063e+00  0.001638  0.000000  0.0  0.367966   \n",
       "9462  0.013410  4.753314  2.246866e-03  0.000381  0.000000  0.0  0.000012   \n",
       "9463  0.013305  6.671994  4.759538e-01  0.001234  0.000106  0.0  0.000012   \n",
       "\n",
       "            7             8             9   ...            38            39  \\\n",
       "0     0.075857  2.407880e-06  0.000000e+00  ...  2.443685e-03  0.000000e+00   \n",
       "1     0.000463  1.675873e-09  0.000000e+00  ...  1.984078e-09  0.000000e+00   \n",
       "2     0.021074  1.352630e-03  0.000000e+00  ...  9.152613e-04  0.000000e+00   \n",
       "3     0.648627  8.353218e-05  0.000000e+00  ...  1.192101e-05  0.000000e+00   \n",
       "4     0.004752  2.098686e-03  3.281849e-05  ...  1.445075e-04  3.359658e-06   \n",
       "...        ...           ...           ...  ...           ...           ...   \n",
       "9459  1.703094  8.302670e-01  1.651449e-06  ...  3.819006e-02  5.444499e-06   \n",
       "9460  1.819652  1.175710e-01  8.244789e-07  ...  5.899858e-02  1.414214e-05   \n",
       "9461  0.883062  1.003203e+00  1.156632e-06  ...  6.346407e-03  2.268972e-05   \n",
       "9462  1.525422  7.369280e-04  3.601185e-07  ...  2.310928e-03  2.426344e-07   \n",
       "9463  2.646812  4.118652e-01  7.042407e-07  ...  9.640097e-02  1.580658e-05   \n",
       "\n",
       "                40   41            42            43            44  \\\n",
       "0     0.000000e+00  0.0  5.648639e-03  6.861232e-03  1.321961e-03   \n",
       "1     0.000000e+00  0.0  3.643671e-03  3.624294e-06  8.694195e-10   \n",
       "2     0.000000e+00  0.0  7.505163e-08  7.911244e-08  7.991706e-04   \n",
       "3     0.000000e+00  0.0  2.570868e-04  2.963001e-02  8.442427e-08   \n",
       "4     0.000000e+00  0.0  2.160951e-08  8.289322e-08  1.490260e-07   \n",
       "...            ...  ...           ...           ...           ...   \n",
       "9459  0.000000e+00  0.0  1.856905e-06  3.818845e-04  8.238495e-04   \n",
       "9460  0.000000e+00  0.0  7.371839e-03  2.236103e-02  7.198993e-02   \n",
       "9461  0.000000e+00  0.0  1.569939e-03  1.100701e-01  2.271419e-03   \n",
       "9462  0.000000e+00  0.0  2.203178e-06  7.470186e-02  6.608306e-04   \n",
       "9463  2.563102e-07  0.0  3.705558e-06  5.543012e-04  2.388229e-04   \n",
       "\n",
       "                45            46   47  \n",
       "0     0.000000e+00  0.000000e+00  0.0  \n",
       "1     0.000000e+00  0.000000e+00  0.0  \n",
       "2     0.000000e+00  0.000000e+00  0.0  \n",
       "3     0.000000e+00  0.000000e+00  0.0  \n",
       "4     3.992424e-08  0.000000e+00  0.0  \n",
       "...            ...           ...  ...  \n",
       "9459  1.065495e-06  0.000000e+00  0.0  \n",
       "9460  2.385671e-06  0.000000e+00  0.0  \n",
       "9461  2.694301e-06  0.000000e+00  0.0  \n",
       "9462  7.110079e-08  0.000000e+00  0.0  \n",
       "9463  3.139595e-06  8.774465e-08  0.0  \n",
       "\n",
       "[9464 rows x 48 columns]"
      ]
     },
     "execution_count": 132,
     "metadata": {},
     "output_type": "execute_result"
    }
   ],
   "source": [
    "import numpy as np \n",
    "\n",
    "# Define the number of rows and columns for each submatrix \n",
    "rows = width_row \n",
    "cols = width_col\n",
    "#df_means_stds = pd\n",
    "#for audio_spectogram in df_pd.spectogram:\n",
    "    \n",
    "data = []\n",
    "\n",
    "\n",
    "for audio_spectogram in df_pd.spectogram:\n",
    "    \n",
    "    means = []\n",
    "    stds = []\n",
    "\n",
    "    # Define the original matrix \n",
    "    original_matrix = audio_spectogram\n",
    "\n",
    "    # Divide the original matrix into submatrices \n",
    "    submatrices = np.array([original_matrix[i:i+rows, j:j+cols] for i in range(0, original_matrix.shape[0], rows) for j in range(0, original_matrix.shape[1], cols)]) \n",
    "\n",
    "    for sub in submatrices:\n",
    "        means.append(sub.mean())\n",
    "        stds.append(sub.std())\n",
    "    \n",
    "    row_to_add = means + stds\n",
    "    data.append(row_to_add)\n",
    "new_df = pd.DataFrame(data)\n",
    "new_df"
   ]
  },
  {
   "cell_type": "code",
   "execution_count": 139,
   "id": "60b91f29",
   "metadata": {},
   "outputs": [
    {
     "data": {
      "text/html": [
       "<div>\n",
       "<style scoped>\n",
       "    .dataframe tbody tr th:only-of-type {\n",
       "        vertical-align: middle;\n",
       "    }\n",
       "\n",
       "    .dataframe tbody tr th {\n",
       "        vertical-align: top;\n",
       "    }\n",
       "\n",
       "    .dataframe thead th {\n",
       "        text-align: right;\n",
       "    }\n",
       "</style>\n",
       "<table border=\"1\" class=\"dataframe\">\n",
       "  <thead>\n",
       "    <tr style=\"text-align: right;\">\n",
       "      <th></th>\n",
       "      <th>0</th>\n",
       "      <th>1</th>\n",
       "      <th>2</th>\n",
       "      <th>3</th>\n",
       "      <th>4</th>\n",
       "      <th>5</th>\n",
       "      <th>6</th>\n",
       "      <th>7</th>\n",
       "      <th>8</th>\n",
       "      <th>9</th>\n",
       "      <th>...</th>\n",
       "      <th>39</th>\n",
       "      <th>40</th>\n",
       "      <th>41</th>\n",
       "      <th>42</th>\n",
       "      <th>43</th>\n",
       "      <th>44</th>\n",
       "      <th>45</th>\n",
       "      <th>46</th>\n",
       "      <th>47</th>\n",
       "      <th>label</th>\n",
       "    </tr>\n",
       "  </thead>\n",
       "  <tbody>\n",
       "    <tr>\n",
       "      <th>0</th>\n",
       "      <td>0.364840</td>\n",
       "      <td>0.246298</td>\n",
       "      <td>1.296486e-03</td>\n",
       "      <td>0.000000</td>\n",
       "      <td>0.000000</td>\n",
       "      <td>0.0</td>\n",
       "      <td>0.005982</td>\n",
       "      <td>0.075857</td>\n",
       "      <td>2.407880e-06</td>\n",
       "      <td>0.000000e+00</td>\n",
       "      <td>...</td>\n",
       "      <td>0.000000e+00</td>\n",
       "      <td>0.000000e+00</td>\n",
       "      <td>0.0</td>\n",
       "      <td>5.648639e-03</td>\n",
       "      <td>6.861232e-03</td>\n",
       "      <td>1.321961e-03</td>\n",
       "      <td>0.000000e+00</td>\n",
       "      <td>0.000000e+00</td>\n",
       "      <td>0.0</td>\n",
       "      <td>5</td>\n",
       "    </tr>\n",
       "    <tr>\n",
       "      <th>1</th>\n",
       "      <td>0.251666</td>\n",
       "      <td>0.042410</td>\n",
       "      <td>4.938611e-09</td>\n",
       "      <td>0.000000</td>\n",
       "      <td>0.000000</td>\n",
       "      <td>0.0</td>\n",
       "      <td>0.003960</td>\n",
       "      <td>0.000463</td>\n",
       "      <td>1.675873e-09</td>\n",
       "      <td>0.000000e+00</td>\n",
       "      <td>...</td>\n",
       "      <td>0.000000e+00</td>\n",
       "      <td>0.000000e+00</td>\n",
       "      <td>0.0</td>\n",
       "      <td>3.643671e-03</td>\n",
       "      <td>3.624294e-06</td>\n",
       "      <td>8.694195e-10</td>\n",
       "      <td>0.000000e+00</td>\n",
       "      <td>0.000000e+00</td>\n",
       "      <td>0.0</td>\n",
       "      <td>6</td>\n",
       "    </tr>\n",
       "    <tr>\n",
       "      <th>2</th>\n",
       "      <td>0.008715</td>\n",
       "      <td>0.093598</td>\n",
       "      <td>1.493076e-03</td>\n",
       "      <td>0.000000</td>\n",
       "      <td>0.000000</td>\n",
       "      <td>0.0</td>\n",
       "      <td>0.000041</td>\n",
       "      <td>0.021074</td>\n",
       "      <td>1.352630e-03</td>\n",
       "      <td>0.000000e+00</td>\n",
       "      <td>...</td>\n",
       "      <td>0.000000e+00</td>\n",
       "      <td>0.000000e+00</td>\n",
       "      <td>0.0</td>\n",
       "      <td>7.505163e-08</td>\n",
       "      <td>7.911244e-08</td>\n",
       "      <td>7.991706e-04</td>\n",
       "      <td>0.000000e+00</td>\n",
       "      <td>0.000000e+00</td>\n",
       "      <td>0.0</td>\n",
       "      <td>7</td>\n",
       "    </tr>\n",
       "    <tr>\n",
       "      <th>3</th>\n",
       "      <td>0.131147</td>\n",
       "      <td>1.629733</td>\n",
       "      <td>3.029988e-03</td>\n",
       "      <td>0.000000</td>\n",
       "      <td>0.000000</td>\n",
       "      <td>0.0</td>\n",
       "      <td>0.156054</td>\n",
       "      <td>0.648627</td>\n",
       "      <td>8.353218e-05</td>\n",
       "      <td>0.000000e+00</td>\n",
       "      <td>...</td>\n",
       "      <td>0.000000e+00</td>\n",
       "      <td>0.000000e+00</td>\n",
       "      <td>0.0</td>\n",
       "      <td>2.570868e-04</td>\n",
       "      <td>2.963001e-02</td>\n",
       "      <td>8.442427e-08</td>\n",
       "      <td>0.000000e+00</td>\n",
       "      <td>0.000000e+00</td>\n",
       "      <td>0.0</td>\n",
       "      <td>1</td>\n",
       "    </tr>\n",
       "    <tr>\n",
       "      <th>4</th>\n",
       "      <td>0.000003</td>\n",
       "      <td>0.149189</td>\n",
       "      <td>1.141586e-01</td>\n",
       "      <td>0.005032</td>\n",
       "      <td>0.000000</td>\n",
       "      <td>0.0</td>\n",
       "      <td>0.000001</td>\n",
       "      <td>0.004752</td>\n",
       "      <td>2.098686e-03</td>\n",
       "      <td>3.281849e-05</td>\n",
       "      <td>...</td>\n",
       "      <td>3.359658e-06</td>\n",
       "      <td>0.000000e+00</td>\n",
       "      <td>0.0</td>\n",
       "      <td>2.160951e-08</td>\n",
       "      <td>8.289322e-08</td>\n",
       "      <td>1.490260e-07</td>\n",
       "      <td>3.992424e-08</td>\n",
       "      <td>0.000000e+00</td>\n",
       "      <td>0.0</td>\n",
       "      <td>1</td>\n",
       "    </tr>\n",
       "    <tr>\n",
       "      <th>...</th>\n",
       "      <td>...</td>\n",
       "      <td>...</td>\n",
       "      <td>...</td>\n",
       "      <td>...</td>\n",
       "      <td>...</td>\n",
       "      <td>...</td>\n",
       "      <td>...</td>\n",
       "      <td>...</td>\n",
       "      <td>...</td>\n",
       "      <td>...</td>\n",
       "      <td>...</td>\n",
       "      <td>...</td>\n",
       "      <td>...</td>\n",
       "      <td>...</td>\n",
       "      <td>...</td>\n",
       "      <td>...</td>\n",
       "      <td>...</td>\n",
       "      <td>...</td>\n",
       "      <td>...</td>\n",
       "      <td>...</td>\n",
       "      <td>...</td>\n",
       "    </tr>\n",
       "    <tr>\n",
       "      <th>9459</th>\n",
       "      <td>0.012853</td>\n",
       "      <td>6.952745</td>\n",
       "      <td>3.682347e+00</td>\n",
       "      <td>0.001756</td>\n",
       "      <td>0.000000</td>\n",
       "      <td>0.0</td>\n",
       "      <td>0.000009</td>\n",
       "      <td>1.703094</td>\n",
       "      <td>8.302670e-01</td>\n",
       "      <td>1.651449e-06</td>\n",
       "      <td>...</td>\n",
       "      <td>5.444499e-06</td>\n",
       "      <td>0.000000e+00</td>\n",
       "      <td>0.0</td>\n",
       "      <td>1.856905e-06</td>\n",
       "      <td>3.818845e-04</td>\n",
       "      <td>8.238495e-04</td>\n",
       "      <td>1.065495e-06</td>\n",
       "      <td>0.000000e+00</td>\n",
       "      <td>0.0</td>\n",
       "      <td>3</td>\n",
       "    </tr>\n",
       "    <tr>\n",
       "      <th>9460</th>\n",
       "      <td>0.012990</td>\n",
       "      <td>4.450835</td>\n",
       "      <td>1.474628e+00</td>\n",
       "      <td>0.001074</td>\n",
       "      <td>0.000000</td>\n",
       "      <td>0.0</td>\n",
       "      <td>0.000034</td>\n",
       "      <td>1.819652</td>\n",
       "      <td>1.175710e-01</td>\n",
       "      <td>8.244789e-07</td>\n",
       "      <td>...</td>\n",
       "      <td>1.414214e-05</td>\n",
       "      <td>0.000000e+00</td>\n",
       "      <td>0.0</td>\n",
       "      <td>7.371839e-03</td>\n",
       "      <td>2.236103e-02</td>\n",
       "      <td>7.198993e-02</td>\n",
       "      <td>2.385671e-06</td>\n",
       "      <td>0.000000e+00</td>\n",
       "      <td>0.0</td>\n",
       "      <td>7</td>\n",
       "    </tr>\n",
       "    <tr>\n",
       "      <th>9461</th>\n",
       "      <td>1.230466</td>\n",
       "      <td>5.840946</td>\n",
       "      <td>1.571063e+00</td>\n",
       "      <td>0.001638</td>\n",
       "      <td>0.000000</td>\n",
       "      <td>0.0</td>\n",
       "      <td>0.367966</td>\n",
       "      <td>0.883062</td>\n",
       "      <td>1.003203e+00</td>\n",
       "      <td>1.156632e-06</td>\n",
       "      <td>...</td>\n",
       "      <td>2.268972e-05</td>\n",
       "      <td>0.000000e+00</td>\n",
       "      <td>0.0</td>\n",
       "      <td>1.569939e-03</td>\n",
       "      <td>1.100701e-01</td>\n",
       "      <td>2.271419e-03</td>\n",
       "      <td>2.694301e-06</td>\n",
       "      <td>0.000000e+00</td>\n",
       "      <td>0.0</td>\n",
       "      <td>7</td>\n",
       "    </tr>\n",
       "    <tr>\n",
       "      <th>9462</th>\n",
       "      <td>0.013410</td>\n",
       "      <td>4.753314</td>\n",
       "      <td>2.246866e-03</td>\n",
       "      <td>0.000381</td>\n",
       "      <td>0.000000</td>\n",
       "      <td>0.0</td>\n",
       "      <td>0.000012</td>\n",
       "      <td>1.525422</td>\n",
       "      <td>7.369280e-04</td>\n",
       "      <td>3.601185e-07</td>\n",
       "      <td>...</td>\n",
       "      <td>2.426344e-07</td>\n",
       "      <td>0.000000e+00</td>\n",
       "      <td>0.0</td>\n",
       "      <td>2.203178e-06</td>\n",
       "      <td>7.470186e-02</td>\n",
       "      <td>6.608306e-04</td>\n",
       "      <td>7.110079e-08</td>\n",
       "      <td>0.000000e+00</td>\n",
       "      <td>0.0</td>\n",
       "      <td>7</td>\n",
       "    </tr>\n",
       "    <tr>\n",
       "      <th>9463</th>\n",
       "      <td>0.013305</td>\n",
       "      <td>6.671994</td>\n",
       "      <td>4.759538e-01</td>\n",
       "      <td>0.001234</td>\n",
       "      <td>0.000106</td>\n",
       "      <td>0.0</td>\n",
       "      <td>0.000012</td>\n",
       "      <td>2.646812</td>\n",
       "      <td>4.118652e-01</td>\n",
       "      <td>7.042407e-07</td>\n",
       "      <td>...</td>\n",
       "      <td>1.580658e-05</td>\n",
       "      <td>2.563102e-07</td>\n",
       "      <td>0.0</td>\n",
       "      <td>3.705558e-06</td>\n",
       "      <td>5.543012e-04</td>\n",
       "      <td>2.388229e-04</td>\n",
       "      <td>3.139595e-06</td>\n",
       "      <td>8.774465e-08</td>\n",
       "      <td>0.0</td>\n",
       "      <td>1</td>\n",
       "    </tr>\n",
       "  </tbody>\n",
       "</table>\n",
       "<p>9464 rows × 49 columns</p>\n",
       "</div>"
      ],
      "text/plain": [
       "             0         1             2         3         4    5         6  \\\n",
       "0     0.364840  0.246298  1.296486e-03  0.000000  0.000000  0.0  0.005982   \n",
       "1     0.251666  0.042410  4.938611e-09  0.000000  0.000000  0.0  0.003960   \n",
       "2     0.008715  0.093598  1.493076e-03  0.000000  0.000000  0.0  0.000041   \n",
       "3     0.131147  1.629733  3.029988e-03  0.000000  0.000000  0.0  0.156054   \n",
       "4     0.000003  0.149189  1.141586e-01  0.005032  0.000000  0.0  0.000001   \n",
       "...        ...       ...           ...       ...       ...  ...       ...   \n",
       "9459  0.012853  6.952745  3.682347e+00  0.001756  0.000000  0.0  0.000009   \n",
       "9460  0.012990  4.450835  1.474628e+00  0.001074  0.000000  0.0  0.000034   \n",
       "9461  1.230466  5.840946  1.571063e+00  0.001638  0.000000  0.0  0.367966   \n",
       "9462  0.013410  4.753314  2.246866e-03  0.000381  0.000000  0.0  0.000012   \n",
       "9463  0.013305  6.671994  4.759538e-01  0.001234  0.000106  0.0  0.000012   \n",
       "\n",
       "             7             8             9  ...            39            40  \\\n",
       "0     0.075857  2.407880e-06  0.000000e+00  ...  0.000000e+00  0.000000e+00   \n",
       "1     0.000463  1.675873e-09  0.000000e+00  ...  0.000000e+00  0.000000e+00   \n",
       "2     0.021074  1.352630e-03  0.000000e+00  ...  0.000000e+00  0.000000e+00   \n",
       "3     0.648627  8.353218e-05  0.000000e+00  ...  0.000000e+00  0.000000e+00   \n",
       "4     0.004752  2.098686e-03  3.281849e-05  ...  3.359658e-06  0.000000e+00   \n",
       "...        ...           ...           ...  ...           ...           ...   \n",
       "9459  1.703094  8.302670e-01  1.651449e-06  ...  5.444499e-06  0.000000e+00   \n",
       "9460  1.819652  1.175710e-01  8.244789e-07  ...  1.414214e-05  0.000000e+00   \n",
       "9461  0.883062  1.003203e+00  1.156632e-06  ...  2.268972e-05  0.000000e+00   \n",
       "9462  1.525422  7.369280e-04  3.601185e-07  ...  2.426344e-07  0.000000e+00   \n",
       "9463  2.646812  4.118652e-01  7.042407e-07  ...  1.580658e-05  2.563102e-07   \n",
       "\n",
       "       41            42            43            44            45  \\\n",
       "0     0.0  5.648639e-03  6.861232e-03  1.321961e-03  0.000000e+00   \n",
       "1     0.0  3.643671e-03  3.624294e-06  8.694195e-10  0.000000e+00   \n",
       "2     0.0  7.505163e-08  7.911244e-08  7.991706e-04  0.000000e+00   \n",
       "3     0.0  2.570868e-04  2.963001e-02  8.442427e-08  0.000000e+00   \n",
       "4     0.0  2.160951e-08  8.289322e-08  1.490260e-07  3.992424e-08   \n",
       "...   ...           ...           ...           ...           ...   \n",
       "9459  0.0  1.856905e-06  3.818845e-04  8.238495e-04  1.065495e-06   \n",
       "9460  0.0  7.371839e-03  2.236103e-02  7.198993e-02  2.385671e-06   \n",
       "9461  0.0  1.569939e-03  1.100701e-01  2.271419e-03  2.694301e-06   \n",
       "9462  0.0  2.203178e-06  7.470186e-02  6.608306e-04  7.110079e-08   \n",
       "9463  0.0  3.705558e-06  5.543012e-04  2.388229e-04  3.139595e-06   \n",
       "\n",
       "                46   47  label  \n",
       "0     0.000000e+00  0.0      5  \n",
       "1     0.000000e+00  0.0      6  \n",
       "2     0.000000e+00  0.0      7  \n",
       "3     0.000000e+00  0.0      1  \n",
       "4     0.000000e+00  0.0      1  \n",
       "...            ...  ...    ...  \n",
       "9459  0.000000e+00  0.0      3  \n",
       "9460  0.000000e+00  0.0      7  \n",
       "9461  0.000000e+00  0.0      7  \n",
       "9462  0.000000e+00  0.0      7  \n",
       "9463  8.774465e-08  0.0      1  \n",
       "\n",
       "[9464 rows x 49 columns]"
      ]
     },
     "execution_count": 139,
     "metadata": {},
     "output_type": "execute_result"
    }
   ],
   "source": [
    "new_df['label'] = df_pd.label\n",
    "new_df"
   ]
  },
  {
   "cell_type": "code",
   "execution_count": 136,
   "id": "0218f42a",
   "metadata": {},
   "outputs": [],
   "source": [
    "#Check that mean and std are computed correctly\n",
    "means = []\n",
    "stds = []\n",
    "\n",
    "# Define the original matrix \n",
    "original_matrix = df_pd.spectogram[2]\n",
    "\n",
    "# Divide the original matrix into submatrices \n",
    "submatrices = np.array([original_matrix[i:i+rows, j:j+cols] for i in range(0, original_matrix.shape[0], rows) for j in range(0, original_matrix.shape[1], cols)]) \n",
    "\n",
    "for sub in submatrices:\n",
    "    means.append(sub.mean())\n",
    "    stds.append(sub.std())\n",
    "\n",
    "row_to_add = means + stds\n",
    "#row_to_add"
   ]
  },
  {
   "cell_type": "markdown",
   "id": "0444ccf1",
   "metadata": {},
   "source": [
    "## 4. Training and Validation"
   ]
  },
  {
   "cell_type": "code",
   "execution_count": 146,
   "id": "0f29ebfa",
   "metadata": {},
   "outputs": [],
   "source": [
    "y = new_df['label']\n",
    "X = new_df.drop(columns='label')\n",
    "seed = 42"
   ]
  },
  {
   "cell_type": "code",
   "execution_count": 148,
   "id": "fb430a59",
   "metadata": {},
   "outputs": [
    {
     "data": {
      "text/plain": [
       "((7571, 48), (1893, 48), (7571,), (1893,))"
      ]
     },
     "execution_count": 148,
     "metadata": {},
     "output_type": "execute_result"
    }
   ],
   "source": [
    "from sklearn.model_selection import train_test_split\n",
    "X_train, X_test, y_train, y_test = train_test_split(X, y, test_size=0.2, random_state=seed)\n",
    "X_train.shape, X_test.shape, y_train.shape, y_test.shape "
   ]
  },
  {
   "cell_type": "code",
   "execution_count": 151,
   "id": "a9629e38",
   "metadata": {},
   "outputs": [
    {
     "name": "stdout",
     "output_type": "stream",
     "text": [
      "Fitting 10 folds for each of 8 candidates, totalling 80 fits\n",
      "{'criterion': 'gini', 'max_features': 'log2', 'n_estimators': 50}\n",
      "0.4246424749828339\n"
     ]
    }
   ],
   "source": [
    "### RandomForest Regression ###\n",
    "from sklearn.ensemble import RandomForestClassifier\n",
    "from sklearn.model_selection import GridSearchCV\n",
    "\n",
    "def randforest_classifier(input_x, input_y, cv=10, seed = seed):\n",
    "    ## Defining parameters\n",
    "    model_RF= RandomForestClassifier(random_state =seed)\n",
    "\n",
    "    parameters = {'n_estimators':[10, 50], \n",
    "                  'criterion':['gini', 'entropy'],\n",
    "                  'max_features':['sqrt', 'log2']}\n",
    "\n",
    "    ## Building Grid Search algorithm with cross-validation and Mean Squared Error score.\n",
    "\n",
    "    grid_search_RF = GridSearchCV(estimator=model_RF,  \n",
    "                         param_grid=parameters,\n",
    "                         scoring='accuracy',\n",
    "                         cv=cv,\n",
    "                         n_jobs=-1,\n",
    "                        verbose = 15)\n",
    "\n",
    "    ## Lastly, finding the best parameters.\n",
    "\n",
    "    grid_search_RF.fit(input_x, input_y)\n",
    "    best_parameters_RF = grid_search_RF.best_params_  \n",
    "    best_score_RF = grid_search_RF.best_score_ \n",
    "    print(best_parameters_RF)\n",
    "    print(best_score_RF)\n",
    "    results = grid_search_RF.cv_results_\n",
    "    \n",
    "    return best_parameters_RF, results\n",
    "\n",
    "best_params, RF_CV_results = randforest_classifier(X_train, y_train, 10, seed)"
   ]
  },
  {
   "cell_type": "markdown",
   "id": "b8037569",
   "metadata": {},
   "source": [
    "## Esperimenti a caso"
   ]
  },
  {
   "cell_type": "code",
   "execution_count": 24,
   "id": "97811795",
   "metadata": {},
   "outputs": [],
   "source": [
    "# frame = 1024\n",
    "# hop = frame//2 #integer division\n"
   ]
  },
  {
   "cell_type": "code",
   "execution_count": 39,
   "id": "d2fb2332",
   "metadata": {},
   "outputs": [
    {
     "name": "stdout",
     "output_type": "stream",
     "text": [
      "[ 0.0000000e+00  0.0000000e+00  0.0000000e+00 ... -1.9318040e-06\n",
      "  3.8942535e-06  0.0000000e+00] 22050\n"
     ]
    }
   ],
   "source": [
    "# df[2]\n",
    "# s_rate=pd.Series(df[2])\n",
    "# s_rate.value_counts()\n",
    "\n",
    "for item,sr in zip(df[1], df[2]):\n",
    "    print(item, sr)\n",
    "    break"
   ]
  },
  {
   "cell_type": "code",
   "execution_count": 149,
   "id": "415a3020",
   "metadata": {},
   "outputs": [
    {
     "name": "stdout",
     "output_type": "stream",
     "text": [
      "1\n",
      "86016\n"
     ]
    },
    {
     "data": {
      "text/html": [
       "\n",
       "                <audio  controls=\"controls\" >\n",
       "                    <source src=\"data:audio/wav;base64,UklGRsLnAQBXQVZFZm10IBAAAAABAAEAgD4AAAB9AAACABAAZGF0YZ7nAQAAAAAAAAAAAAAAAAAAAAAAAAAAAAAAAAAAAAAAAAAAAAAAAAAAAAAAAAAAAAAAAAAAAAAAAAAAAAAAAAAAAAAAAAAAAAAAAAAAAAAAAAAAAAAAAAAAAAAAAAAAAAAAAAAAAAAAAAAAAAAAAAAAAAAAAAAAAAAAAAAAAAAAAAAAAAAAAAAAAAAAAAAAAAAAAAAAAAAAAAAAAAAAAAAAAAAAAAAAAAAAAAAAAAAAAAAAAAAAAAAAAAAAAAAAAAAAAAAAAAAAAAAAAAAAAAAAAAAAAAAAAAAAAAAAAAAAAAAAAAAAAAAAAAAAAAAAAAAAAAAAAAAAAAAAAAAAAAAAAAAAAAAAAAAAAAAAAAAAAAAAAAAAAAAAAAAAAAAAAAAAAAAAAAAAAAAAAAAAAAAAAAAAAAAAAAAAAAAAAAAAAAAAAAAAAAAAAAAAAAAAAAAAAAAAAAAAAAAAAAAAAAAAAAAAAAAAAAAAAAAAAAAAAAAAAAAAAAAAAAAAAAAAAAAAAAAAAAAAAAAAAAAAAAAAAAAAAAAAAAAAAAAAAAAAAAAAAAAAAAAAAAAAAAAAAAAAAAAAAAAAAAAAAAAAAAAAAAAAAAAAAAAAAAAAAAAAAAAAAAAAAAAAAAAAAAAAAAAAAAAAAAAAAAAAAAAAAAAAAAAAAAAAAAAAAAAAAAAAAAAAAAAAAAAAAAAAAAAAAAAAAAAAAAAAAAAAAAAAAAAAAAAAAAAAAAAAAAAAAAAAAAAAAAAAAAAAAAAAAAAAAAAAAAAAAAAAAAAAAAAAAAAAAAAAAAAAAAAAAAAAAAAAAAAAAAAAAAAAAAAAAAAAAAAAAAAAAAAAAAAAAAAAAAAAAAAAAAAAAAAAAAAAAAAAAAAAAAAAAAAAAAAAAAAAAAAAAAAAAAAAAAAAAAAAAAAAAAAAAAAAAAAAAAAAAAAAAAAAAAAAAAAAAAAAAAAAAAAAAAAAAAAAAAAAAAAAAAAAAAAAAAAAAAAAAAAAAAAAAAAAAAAAAAAAAAAAAAAAAAAAAAAAAAAAAAAAAAAAAAAAAAAAAAAAAAAAAAAAAAAAAAAAAAAAAAAAAAAAAAAAAAAAAAAAAAAAAAAAAAAAAAAAAAAAAAAAAAAAAAAAAAAAAAAAAAAAAAAAAAAAAAAAAAAAAAAAAAAAAAAAAAAAAAAAAAAAAAAAAAAAAAAAAAAAAAAAAAAAAAAAAAAAAAAAAAAAAAAAAAAAAAAAAAAAAAAAAAAAAAAAAAAAAAAAAAAAAAAAAAAAAQABAAEAAQABAAEAAQABAAEAAQABAAEAAQABAAEAAQABAAIAAQACAAEAAAAAAAAAAAAAAAEAAQABAAIAAQAAAAAAAQABAAEAAQABAAEAAQACAAEAAwAEAAEAAgABAAEAAgABAAAAAgABAAIAAQABAAEAAQABAAEAAQACAAEAAgABAAAAAgABAAAAAAAAAAAAAAAAAAAAAAAAAAAAAAAAAAAAAAAAAAIAAQAAAAAAAQABAAEAAQACAAEAAgABAAAAAAAAAAAAAAAAAAAAAAAAAAAAAAAAAAAAAAAAAAAAAAAAAAAAAAAAAAAAAAAAAAAAAAAAAAAAAQABAAIAAQACAAEAAAAAAAAAAAAAAAAAAAD///7/AAAAAAAAAAAAAAAAAAD///7/AAAAAAAAAAAAAAAAAAAAAAAAAAAAAAAAAAAAAAAAAAD+//7//v/+//7//v/+//7//v/9//7//f/+/wAAAAAAAAAAAAAAAAAAAAAAAAAAAAAAAAAAAAAAAAAAAAAAAAAAAAABAP////////7/AAAAAAAA/f///wAAAAAAAAAAAAAAAP3///8AAAAAAAAAAAAAAAAAAAAAAAAAAAAAAAAAAAAAAAAAAAIAAQAAAAAAAAAAAAAAAAAAAAAAAAAAAAAAAAAAAAAAAAAAAAAAAAAAAAAAAAAAAAAAAAAAAAAAAAAAAAAAAAAAAAAAAAAAAAAAAAAAAAAAAAAAAAAAAAAAAAAAAAAAAP////8AAP3//v/9//7//f/+//3//v8AAAAAAAAAAAAAAAAAAAEAAQABAAIAAQAAAAAAAAAAAAAAAAAAAAAAAAAAAAAAAAAAAAAAAAAAAAAAAAAAAAAAAAAAAAAAAAAAAAAAAAAAAAAAAAAAAAAAAAAAAAAAAAAAAAAAAAAAAAAAAAAAAAAAAAAAAAAAAAAAAAAAAAAAAAAAAAAAAAAAAAAAAAAAAAAAAAAAAAAAAAAAAAAAAAAAAAAAAAAAAAAAAAAAAAAAAAAAAAAAAAAAAAAAAAAAAAAAAAAAAAAAAAAAAAAAAAAAAAAAAAAAAAAAAAAAAAAAAAAAAAAAAAAAAAAAAAAAAAAAAAAAAAAAAAAAAAAAAAAAAAAAAAAAAAAAAAAAAAAAAAAAAAAAAAAAAAAAAAAAAAAAAAAAAAAAAAAAAAAAAAAAAAAAAAAAAAAAAAAAAAAAAAAAAAAAAAAAAAAAAAAAAAAAAAAAAAAAAAAAAAAAAAAAAAAAAAAAAAAAAAAA/////wAA/f/+//3//f/+/wAAAAAAAAAAAAAAAAAAAAAAAAAAAAAAAAEAAgABAAAAAAAAAAAAAAAAAAAAAAD///7/AAAAAAAAAAAAAAAAAAAAAAAAAAAAAAAAAQAAAAAAAQABAAIAAQACAAEAAAAAAAAAAAAAAAAAAAAAAAAAAAAAAAAAAAAAAAAAAAAAAAAAAAAAAAAAAAAAAAAAAAD+//7//f/+//3//v8AAAAAAAAAAAAAAAAAAAAAAAAAAAEAAAAAAAAAAAAAAAAAAAAAAAAAAAAAAAAAAAAAAAAAAAAAAAAAAAAAAAAAAAAAAAAAAAAAAAAAAAAAAAAAAAAAAAAAAAAAAAEAAQABAAIAAQAAAAAAAAAAAAAA/v/+//7//v/+//7//v/+//7//v/+//7//v/+//7//f/+//3//v8AAAAAAAAAAAAAAAAAAAAAAAAAAAAA/f/+//3///8AAAAA/////wAA/f/9//7/AAAAAAAAAAAAAAAAAAABAAEAAQABAAEAAQABAAEAAQABAAEAAQACAAEAAgABAAAAAAAAAAAAAAAAAAAAAAAAAAAAAAAAAAAAAAAAAAAAAAAAAAIAAQACAAAAAAABAAAAAAABAAEAAQABAAEAAQABAAEAAQABAAEAAQABAAEAAQABAAEAAgABAAIAAQAAAAAAAAABAAEAAAAAAAAAAAAAAAAAAAAAAAAAAQABAAEAAQABAAEAAQABAAEAAgABAAIAAQAAAAAAAAAAAAAAAAAAAAAAAAAAAP3//v/9//7//f///////v8AAAAAAAAAAAAAAAAAAAAAAAAAAAAAAAAAAAAAAAAAAAAAAAABAP////8AAP3//v/9//7//v/9//7/AAAAAAAAAAAAAAAAAAAAAAAAAAAAAAAAAAACAAEAAgABAAAAAAAAAAAAAAAAAAAAAAAAAAAAAAAAAAAAAAAAAAAAAAAAAAAAAAABAAEAAQABAAEAAQABAAEAAQABAAIAAQACAAEAAAAAAAAAAAACAAEAAAAAAAAAAAAAAAAAAAAAAAAAAAAAAAAAAAAAAAAA/f///wAAAAAAAAAAAAAAAAAAAAAAAAAAAAAAAAAAAgABAAIAAQAAAAAAAAAAAAIAAQACAAEAAAAAAAAAAAAAAAAAAAAAAAAAAAAAAAAAAAAAAAAAAAAAAAAAAAAAAAAAAAAAAAAAAAABAAEAAQACAAEAAgABAAAAAAAAAAAAAAAAAAAAAAAAAAAA///+//3///////7/AAAAAAAAAAAAAAAAAAAAAAAAAAAAAAAAAAAAAAAAAAAAAAAA/v/9//7/AAAAAAAAAAAAAP3//v/9//7/AAAAAAAAAAAAAAAAAAAAAAAAAQAAAAAAAAAAAAAAAAAAAAAAAAAAAAAA/////wAA/v8BAP////8AAP///f///wAAAAAAAAAAAAAAAAAAAAAAAAAAAAAAAAAAAAAAAAAAAAAAAAAAAAAAAAAAAgABAAIAAQACAAEAAAAAAAAAAAAAAAAAAAAAAAAAAAAAAAAAAAAAAAAAAAAAAAAAAAAAAAAAAAAAAAAAAAAAAAAAAAAAAAAAAAAAAAAAAAAAAAAAAAD/////AAD9//7//f/+//7//v/+//7//v/+//7//v/+//3//v/9//7/AAAAAAAAAAAAAAAAAAAAAAAAAAAAAAAAAAAAAAAAAAAAAAAAAAAAAAAAAAD9////AAAAAAAAAAAAAAAAAAAAAAEAAAAAAAAAAAAAAAAAAAACAAEAAAAAAAAAAAAAAAAAAAAAAAAAAAAAAAAAAAAAAAAAAAAAAAAAAAAAAAAAAAAAAAAAAAACAAEAAgABAAAAAAABAAEAAAAAAAAAAAAAAAAAAAAAAAAAAAAAAAAAAAAAAAAAAAAAAAAAAAAAAAAAAAAAAP7//f/+/wAAAAAAAAAAAAAAAAAAAAAAAAAAAAABAAEAAgABAAIAAQAAAAAAAAAAAAAAAAAAAAAAAAAAAAAAAAAAAAAAAAAAAAAAAAAAAAAAAAAAAAAAAAAAAAAAAAAAAAAAAQABAAEAAQACAAEAAgABAAAAAAAAAAAAAAAAAAAAAAAAAAAAAAAAAAAAAAAAAAAAAAAAAAAAAAABAAAAAQABAAAAAAAAAAIAAQAAAAAAAAAAAAAAAAAAAAAA///+/wAAAAAAAAAAAAAAAP3///8AAAAAAAAAAAAAAAAAAAAAAAABAAIAAQAAAAAAAAAAAAAAAAAAAAAAAAAAAAAAAAD9//7//f/+/wAAAAAAAAAAAAAAAAAAAAAAAAAAAAAAAAAAAAAAAAAAAAAAAAAAAAAAAAAAAAAAAAAAAAAAAAAAAQACAAEAAAAAAAAAAAAAAAAAAAAAAAAAAAAAAAAAAAAAAAAAAAAAAAAAAAAAAAAAAAD9////AAAAAAAAAAAAAAAAAAAAAAAAAAAAAP///v8AAAAAAAAAAAAA/f///wAA/f///wAA/f/+//7//v/+//3//v/9//7/AAAAAAAAAAAAAAAAAAAAAAAAAAAAAAAAAAAAAAAAAAAAAAAAAAAAAAAAAAAAAP7//f/+/wAAAAAAAAAAAAAAAAAAAAAAAAAAAAAAAAAAAAAAAAAAAAAAAAAAAAAAAAAAAAAAAAAAAAD+//7//v/+//3//v/9//7/AAAAAAAAAAAAAAAAAAAAAAAAAAAAAAAAAAAAAAAAAAACAAEAAgABAAAAAAAAAAEAAAAAAAIAAQACAAEAAQABAAEAAQABAAIAAQACAAEAAAAAAAAAAAAAAAAAAAAAAAAAAAAAAAAAAAACAAEAAgABAAEAAQABAAEAAQABAAEAAQACAAEAAgABAAAAAAAAAAAAAAAAAAAAAAAAAAAAAAACAAEAAAAAAAAAAAABAAEAAQABAAEAAQABAAEAAQABAAEAAQABAAEAAgABAAIAAQAAAAAAAAAAAAAAAAAAAAAAAAAAAAAAAAAAAAAAAAAAAAAAAAAAAAEAAQABAAIAAQAAAAAAAAAAAAAA///+/wAAAAAAAAAAAAAAAAAAAAD9////AAAAAAAAAAAAAAAAAAACAAEAAgABAAAAAAAAAAAAAAABAAIAAQAAAAAAAAAAAAAAAAAAAAAAAAAAAAAAAAAAAAAAAAAAAAAAAQABAAAAAAAAAAAAAAAAAAAAAAAAAAAAAAAAAAAAAAAAAAEAAAAAAAEAAQACAAEAAgABAAAAAgAAAAAAAAABAAEAAAABAAAAAQABAAAAAAAAAAAAAAAAAAAAAAAAAAAAAAAAAAAAAAAAAAAAAAAAAAAAAAAAAAAAAAAAAAAAAAAAAAAAAAAAAAAAAAAAAP7//v/+//3//v/9//7/AAAAAAAAAAAAAAAAAAAAAAAAAgABAAIAAAAAAAIAAQACAAEAAAAAAAAAAAAAAAAAAAAAAAAAAAAAAAAAAAAAAAAAAAAAAAAAAAAAAAAAAAAAAAAAAAAAAAAAAAAAAAAAAAAAAAAAAAD/////AAD8////AAAAAAAAAAAAAAAAAAAAAAAAAAAAAAAAAAAAAAAAAQABAAAAAAAAAAAAAAAAAAAAAAAAAAAAAAAAAAAAAAAAAAAAAAAAAAAAAAAAAAAAAAAAAAAAAAAAAP7//v/+//7//f/+//3//v8AAAAAAAAAAAAAAAAAAAAAAAAAAAAAAAAAAAAAAAAAAAAAAAAAAAAAAAAAAAAAAAAAAAAAAAAAAAAAAAAAAAAAAAAAAAAAAAAAAAAAAAAAAAAAAAAAAAAAAQABAAIAAQACAAEAAgABAAAAAgAAAAEA//////////8AAP3//v/9//3///8AAAAA///+/wAAAAAAAAAAAAAAAAAAAAAAAAAAAAAAAAAAAAAAAP7//v/9//7//f///wAAAAAAAP3//v/9////AAAAAAAAAAAAAAAAAAAAAAAAAAAAAAAAAAAAAAAAAAAAAAAAAAAAAAAA/v/+//7//v/9//7//f/+/wAAAAAAAAAAAAAAAAAAAAAAAAAAAAAAAAAAAAAAAAAAAAAAAAAAAAAAAAAAAAAAAAAAAgABAAIAAQACAAEAAAAAAAAAAAAAAAAAAAAAAAAAAAAAAAAAAAAAAAAAAAAAAAAAAAAAAAAAAAAAAAAAAAAAAAAAAAAAAAAAAAAAAAAAAAAAAAAAAAAAAAAAAAAAAAAAAAAAAP7//v/+//7//v/+//7//f/+//3//v8AAAAAAAAAAAAAAAAAAAAAAQAAAAAAAQAAAAEAAAACAAEAAAAAAAAAAAAAAAAAAAAAAAAAAAAAAAAAAAAAAAAAAAAAAAAAAAAAAAAAAAAAAAAAAQACAAEAAAAAAAAAAAAAAAAAAAAAAAAAAAAAAAAAAAAAAAAAAAAAAAAAAAAAAAAAAAAAAAAAAAABAAEAAQACAAEAAgABAAAAAAAAAAAAAAAAAAAAAAAAAAAAAAAAAAAAAAAAAAAAAAAAAAAAAAAAAAAAAAAAAP3///8AAAAAAAAAAAAAAAAAAAAAAAAAAAEAAQABAAEAAQACAAEAAgABAAAAAAABAAEAAQACAAEAAAAAAAAAAAAAAAAAAAAAAAAAAAAAAAAAAAABAAEAAQABAAEAAQABAAEAAQABAAEAAQABAAEAAQABAAEAAgABAAIAAQAAAAAAAAAAAAAAAAAAAAAAAAAAAAAAAAAAAAAAAAAAAAAAAAAAAAAAAAABAAEAAAAAAAAAAAAAAAAAAAAAAP3///8AAAAAAAAAAP7//v/+//7//f/+//3//v8AAAAAAAAAAAAAAAAAAAAAAAAAAAAAAAAAAAAAAAAAAAAAAAAAAAAAAAAAAP///v8AAAAAAAAAAAAAAAAAAAAAAAAAAAAAAAAAAAAAAAAAAAAAAAAAAAAAAAAAAAAAAAAAAAAAAAAAAAAAAgABAAAAAAAAAAAAAAAAAAAAAAAAAAAAAAAAAAAAAAAAAAAAAAAAAAAA///+/wAAAAAAAAAAAAAAAAAAAAAAAAAAAAAAAAAAAAAAAAAAAAAAAAAAAAAAAAAAAAAAAP7//v/+//7//v/9//7//P/7//7//f/+//3//f/+//3//v8AAAAAAAAAAAAAAAAAAAAAAAAAAAAAAAAAAP7//v/+//7//v/+//7//v/+//7//f/+//3//v8AAAAAAAAAAAAAAAAAAAAAAAAAAAAAAAAAAAAAAAAAAAAAAAAAAAAA///+//3//v8AAAAAAAAAAAAAAAAAAAAAAAAAAAAAAAAAAAIAAQACAAEAAQABAAEAAQABAAEAAQABAAEAAQABAAEAAQABAAEAAQABAAEAAQABAAEAAQABAAEAAgABAAIAAQAAAAAAAAACAAEAAQABAAEAAQABAAIAAQACAAEAAwAEAAEAAgABAAEAAgABAAMABAABAAIAAQACAAEAAQABAAEAAQABAAEAAQABAAEAAQABAAEAAQABAAEAAQABAAEAAQABAAEAAQABAAEAAgAEAAQABAABAAMABAABAAIAAQACAAAAAAACAAEAAgABAAAAAAAAAAAAAAAAAAAAAAAAAAAAAAAAAAAAAAAAAAAAAAAAAAAA/////wAA/f/+//3//v/+//7//v/+//7//v/+//7//v/+//7//v/+//7//v/+//7//v/+//7//v/+//7//v/+//7//v/+//7//v/+//3/+v/8//7//f/+//7//v/+//7//v/+//7//v/+//7//v/+//7//v/+//7//v/9//7//f/+/wAA///+//3//v8AAAAAAAAAAAAAAAAAAAAAAAD+//7//v/+//7//v/+//7//v/+//7//v/+//7//v/+//7//v/+//7//v/+//7//v/+//7//v/+//7//v/+//7//v/+//7//v/+//7//v/+//3//v/8//z//v/9//7//f/+//7//f/+//3//v8AAAAAAAAAAAAAAAAAAAEAAQAAAAAAAAABAAAAAAAAAAAAAAAAAAAAAAAAAAAAAAAAAAAAAAABAAEAAQABAAEAAQABAAEAAQABAAEAAQACAAUAAwABAAIAAQACAAEAAQABAAEAAQABAAEAAQABAAEAAQABAAEAAQABAAEAAQABAAEAAQABAAEAAQABAAEAAQABAAEAAQABAAEAAQABAAEAAQABAAEAAQABAAEAAQABAAEAAQABAAIAAQACAAEAAAAAAAAAAAAAAAAAAAAAAAAAAQAAAAEAAAAAAAIAAQACAAEAAgABAAIAAQADAAQAAQACAAEAAgABAAEAAQABAAIAAQACAAAAAAACAAEAAgABAAEAAQABAAEAAQABAAEAAQABAAEAAQABAAEAAQABAAIABQADAAEAAgACAAEAAgABAAAAAgAAAAEAAQAAAAAAAAABAAEAAAAAAAAAAAAAAAAAAAAAAAAAAAACAAAAAQABAAAAAAAAAAAAAAAAAAAAAAD///7/AAAAAAAAAAAAAAAA/f///wAAAAAAAAAAAAAAAAAAAAAAAAAAAAAAAAAAAAD///7/AAAAAAAAAAAAAAAAAAAAAP7//v/+//7//v/9//7//f///////v8AAAAAAAAAAAAA///+/wAAAAAAAP///v8AAAAAAAAAAAAAAAAAAAAAAAAAAAAAAAAAAAAAAAAAAAAAAAD///7/AAAAAAAAAAAAAAAAAAAAAAAAAAAAAAAA/v/+//3//v/9//7/AAAAAAAAAAAAAAAAAAAAAAAAAAAAAAAAAAAAAAAA///+/wAAAAAAAAAAAAAAAAAA/v/+//7//f/+/wAAAAAAAAAAAAAAAAAAAAAAAAAAAAAAAAEAAQAAAAAAAAABAAAAAAAAAAAAAAAAAAAAAAAAAAAAAAAAAAAAAAAAAAAAAAAAAAAAAAAAAAAAAAAAAAAAAgABAAIAAQAAAAAAAAAAAAAAAAAAAAAAAAAAAAAAAAAAAAAAAAAAAAAAAAAAAAAAAAAAAAAAAAAAAAAAAAAAAAAAAAAAAAAAAQABAAAAAAAAAAAAAAAAAAAAAAAAAAAAAAAAAP7//v/+//7//v/+//7//v/+//7//v/+//7//v/+//7//v/+//7//f/+//3//v8AAAAAAAAAAAAAAAAAAAAA/f///wAAAAAAAAAAAAD+//7//v/+//3//v/9//7//f///wAAAAAAAAAA///+/wAAAAAAAAAAAAAAAAAAAAAAAAIAAQAAAAAAAAAAAAAAAAAAAAAAAAAAAP3///8AAP7///////7/AAAAAAAAAAAAAAAAAAAAAAAAAAAAAAAAAAAAAAAAAAAAAAAAAAAAAAAAAAAAAAAAAAAAAAAAAAD///7/AAAAAAAAAAAAAAAAAAAAAAAAAgABAAIAAQAAAAAAAAABAAAAAAABAAAAAAAAAAAAAAAAAAAAAAAAAAAAAAAAAAAAAAAAAAAAAAAAAAAAAAAAAAAAAAACAAEAAAAAAAAAAAAAAAAAAQABAAEAAQABAAEAAQABAAEAAQABAAEAAQABAAEAAQABAAEAAgABAAIAAQACAAAAAQABAAAAAAAAAAAAAAAAAAAAAAAAAAAAAAAAAAAAAAAAAAAAAAAAAAAAAAAAAAAAAAAAAAAAAAAAAAAAAAAAAAAA/////wAA/f/9//7/AAAAAAAAAAAAAAAAAAAAAAAAAAAAAAIAAQACAAEAAAAAAAEAAQAAAAAAAAAAAAAAAAAAAAAAAAAAAAAAAAAAAAAAAAAAAAAAAAAAAAAAAAAAAAAAAAAAAAAAAQABAAAAAAAAAAAAAAAAAAAAAAAAAAAAAAAAAAAAAAAAAAAAAAAAAAAAAAAAAAAAAAAAAAAAAAAAAAEAAgABAAAAAAAAAAAAAAAAAAAAAAAAAAAAAAAAAAAAAAAAAAAAAAAAAAAAAAAAAAAAAAAAAAAAAAD+//7//v/+//3//v/9//7/AAAAAAAAAAAAAAAAAAAAAAAAAAAAAAAAAAAAAAAAAAAAAAAAAAAAAAAAAAAAAAAAAAAAAAAAAAAAAAAAAAAAAAAAAAAAAAAAAAAAAAAAAAAAAAEAAQABAAEAAQABAAEAAgABAAIAAQAAAAAAAAAAAAAAAAAAAAAAAAAAAAAAAAAAAAAAAAAAAAAAAAAAAAAAAAAAAAAAAAABAAIAAQAAAAAAAAAAAAAAAAAAAAAAAAAAAAAAAAAAAAAAAAD9////AAAAAAAAAAAAAAAAAAAAAAAAAQABAAAAAAAAAAAAAAAAAAAAAAAAAAAAAAAAAAAAAAAAAAAAAAAAAAAAAAAAAAAAAAAAAAAAAAAAAAAAAAAAAAAAAAAAAAAAAAAAAAAAAAAAAAAAAAAAAAAAAAABAAEAAQABAAEAAgABAAIAAAABAAEAAAAAAAEAAQAAAAAAAAAAAAAAAAAAAAAAAAAAAAAAAAAAAAAAAAAAAAAAAAAAAAAAAAAAAAAAAAAAAAAA/v/+//7//v/+//7//v/+//7//v/+//7//v/+//7//v/+//7//f/+//3//v8AAAAAAAAAAAAAAAAAAAAAAAAAAAAAAAAAAAAAAAAAAAAAAAAAAAAAAAAAAAAAAAAAAAAAAAAAAAAAAAAAAAAAAAAAAAAAAAAAAAAAAAACAAEAAAAAAAAAAAAAAAAAAAAAAAAAAAAAAAAAAAAAAAAAAAAAAAAAAAAAAAAAAAAAAAAAAAAAAAAAAAAAAAAAAAAAAAAAAAAAAAAAAAAAAAAAAAAAAAEAAAAAAAEAAAAAAAAAAAAAAAAAAAAAAAAAAAAAAAAA///+/wAAAAAAAAAAAAAAAAAAAAAAAAAAAQABAAIAAQACAAEAAAAAAAAAAQAAAAAAAgACAAEAAAAAAAAAAAAAAAAAAAAAAAAAAAAAAAAAAAAAAAAAAAAAAAAAAAAAAAAAAQABAAEAAQABAAEAAgABAAIAAQACAAEAAAAAAAAAAAAAAAAAAAAAAAAAAAAAAAAAAAAAAAAAAAAAAAAAAAAAAAAAAAAAAAAAAAAAAAAAAAAAAAAAAAAAAAAA/f///wAAAAAAAAAAAAAAAP3///8AAAAAAAAAAAAAAAAAAAAAAAAAAAAAAAAAAAAAAAAAAAAAAAAAAAAAAAAAAAAAAAAAAP///v/9//7/AAAAAAAAAAAAAAAAAAAAAAAAAAAAAAAAAAAAAAAAAAAAAAAAAAAAAAAAAAAAAAAAAAAAAAAAAQABAAAAAAAAAAAAAAAAAAAAAAAAAAAAAAAAAAAAAAAAAAAAAAAAAAAAAAAAAAAAAAAAAAAAAAAAAAAAAAAAAAAAAAAAAAAAAAAAAAAAAAAAAAAAAAAAAAAAAAAAAAAAAAAAAAEA/////wAA/f/+//3///////7/AAAAAAAAAAAAAAAAAAAAAAAAAAABAAIAAQAAAAIAAQAAAAAAAAAAAAAAAAAAAAAAAAAAAP///v8AAAAAAAAAAAAAAAAAAAAAAAAAAAAAAAAAAAAAAAAAAAAAAAAAAAAAAAAAAAAAAAAAAAAA/f8AAP///v8AAAAAAAAAAAAAAAAAAAAAAAAAAAAAAAAAAAAAAAABAAEAAAAAAAAAAAAAAAAAAAAAAAAAAAAAAAAAAQABAAAAAAAAAAAAAAAAAAAAAAAAAAAAAAAAAP///v8AAAAAAAAAAAAAAAAAAAAAAAAAAAAAAAAAAAIAAQAAAAAAAAAAAAIAAQACAAEAAAAAAAAAAAAAAAAAAAAAAAAAAAAAAAAAAAAAAAAAAAAAAAAAAAAAAAAAAAAAAAAAAAABAAEAAQABAAIAAQACAAEAAAAAAAAAAAAAAAAAAAAAAAAAAAAAAAAAAAAAAAAAAAAAAAAAAAAAAAAAAAAAAAAAAQABAAAAAAAAAAAAAAAAAAAAAAAAAAAAAAAAAAAAAAAAAAAAAAAAAP3///8AAAAAAAAAAAAAAAAAAAAAAAABAAIAAQAAAAAAAAAAAAAAAAAAAAAAAAAAAAAAAAD///7/AAAAAAAAAAAAAAAAAAAAAAAAAAAAAAAAAAAAAAAAAAAAAAAAAAAAAAAAAAAAAAAAAAAAAAAAAAAAAAEAAQABAAIAAQAAAAAAAgABAAIAAQAAAAAAAAAAAAAAAAAAAAAAAAAAAAAAAAAAAAAAAAAAAAAAAAAAAAAAAAAAAAAAAAAAAAAAAAAAAAAAAAAAAAAAAAAAAAAAAAAAAAAAAAD+//7//v/+//7//v/+//3//v/9//7/AAAAAAAAAAAAAAAAAAAAAAAAAAAAAAAAAAAAAAAAAAAAAAAAAAAAAAAAAAAAAP7//v/9//7//f///wAAAAAAAAAAAAAAAAAAAAAAAAAAAAAAAAEAAgABAAAAAAAAAAAAAAAAAAAAAAAAAAAAAAAAAAAAAAAAAAAAAAAAAAAAAAAAAAAAAAABAAEAAQABAAEAAgABAAIAAAABAAEAAAACAAEAAAAAAAAAAAAAAAAAAAAAAAAAAAAAAAAAAAAAAAAAAAAAAAAAAAAAAP3///8AAAAAAAAAAAAAAAAAAAAAAAAAAAEAAQABAAEAAgABAAIAAQAAAAAAAgABAAAAAAAAAAAAAAAAAAAAAAAAAAAAAAD///7/AAAAAAAAAAAAAAAAAAAAAAAAAAAAAAAAAAABAAAAAAACAAIAAQAAAAAAAAABAP////8AAP3//v/9//7//v/+//7//f/+//3//v8AAAAAAAAAAAAAAAAAAAAAAQABAAAAAgAAAAEAAQAAAAAAAAAAAAAAAAAAAAAAAAAAAAAA///+/wAAAAAAAAAAAAAAAAAAAAAAAAAAAQACAAAAAQABAAAAAAAAAAAAAAAAAAAAAAAAAAAAAAD///7/AAAAAAAAAAAAAAAAAAAAAAAAAAAAAAAAAAAAAAAAAAAAAAAAAAAAAAAAAAAAAAAAAAAAAAAAAAABAAEAAQABAAIAAQACAAEAAgABAAAAAAAAAAEAAQAAAAAAAAAAAAAAAAAAAAAAAAAAAAAAAAAAAAAAAAAAAAAAAAAAAAAAAAAAAAAAAAAAAAAAAAAAAAAAAAAAAAAAAAD/////AAD9//7//f/+//7//v/9//7//f/+//3//v8AAAAAAAAAAAAAAAAAAAAAAAAAAAAAAAAAAAAAAAAAAAAA/v/+//7//v/+//7//f/+//3//v/9//7/AAAAAAAA///+//7//v/9//7/AAAAAAAAAAAAAAAAAAAAAAAAAAAAAP7//v/+//3///8AAAAAAAAAAP///v8AAAAAAAAAAAAAAAAAAAAAAQAAAAAAAgACAAAAAAACAAEAAgAAAAAAAgABAAIAAQAAAAEAAQAAAAAAAAAAAAAAAAAAAAAAAAAAAAAA/////wAAAAAAAAAAAAAAAAAAAAAAAAAAAQABAAEAAgABAAAAAAAAAAAAAAAAAAAAAAAAAAAAAAAAAAAAAAAAAAAAAAAAAAAAAAAAAAAAAAAAAAAAAAAAAAAAAAAAAAAAAAABAAEAAQABAAEAAgABAAIAAQAAAAAAAAAAAAAAAAAAAAAAAAAAAAAAAAAAAAAAAAAAAAAAAAAAAAEAAAAAAAIAAgABAAAAAgAAAAAAAgABAAAAAAAAAAAAAAAAAAAAAAAAAAAAAAAAAAAAAAAAAAEAAAAAAAIAAQACAAEAAQABAAEAAgABAAIAAQAAAAAAAQABAAAAAAAAAAAAAAAAAAAAAAAAAAAAAAAAAAAAAAAAAAAAAAAAAAAAAAAAAAAAAAAAAAAAAAAAAAAAAAAAAAAAAAAAAAAAAAAAAAEAAQABAAEAAQABAAEAAgABAAIAAQAAAAAAAAAAAAAAAAAAAAAAAAAAAAAAAAAAAAAAAAAAAAAAAAAAAAAAAAAAAAAAAAAAAAAAAAAAAAAAAAAAAAAAAAAAAAAAAAAAAAAAAAD9/wAAAAD9//7//v/+//7//v/+//3//v/9////AAAAAAAAAAAAAAAAAAAAAAAAAAAAAAAAAAAAAAAAAAAAAAAA/f/+//z/AAD////////+/wAAAAAAAAAAAAAAAAAAAAAAAAAAAAAAAAAAAAAAAAAAAAAAAAAAAAAAAAAAAAD+//7//v/+//7//v/+//7//v/+//3//v/9////AAAAAAAAAAAAAAAAAAAAAAAAAAAAAAAAAAAAAAAAAAAAAAAAAAAAAAAAAAAAAAAAAAAAAAAAAAAAAAAAAAAAAAAAAAD+//7//v/9//7//f///wAAAAAAAAAAAAAAAAAAAAAAAAAAAgABAAAAAAAAAAAAAAACAAEAAgAAAAEAAQAAAAAAAAAAAAAAAAAAAAAAAAAAAAAAAAAAAAAAAAAAAAAAAAAAAAAAAQABAAEAAQABAAEAAQACAAEAAgABAAAAAAAAAAAAAAAAAAAAAAAAAAAAAAAAAAAAAAAAAAAAAAAAAAAAAAAAAAAAAQABAAEAAQACAAEAAgABAAAAAAAAAAAAAAAAAAAAAAAAAAAAAAAAAAAAAAAAAAAAAAAAAAAAAAAAAAEAAQABAAIAAQAAAAAAAgABAAAAAAAAAAAAAAAAAAAAAAAAAAAAAAAAAAAAAAAAAAAAAAAAAAAAAAAAAAAAAAAAAAAAAAAAAAAAAAAAAAAAAAAAAAAAAAAAAAAAAAAAAAEAAQACAAEAAgABAAAAAQABAAAAAAAAAAAAAAAAAAAAAAAAAAAAAAAAAAAAAAAAAAAAAAAAAAAAAAAAAAAAAAAAAAAAAAAAAAAAAAAAAAAAAAAAAAAAAAAAAP////8AAAAAAAD9//7//v/+//7//v/+//3//v/9////AAAAAAAAAAAAAAAAAAAAAAAAAAAAAAAAAQABAAAAAAAAAAAAAAAAAAAAAAAAAAAAAAAAAAAAAAAAAAAAAAAAAAAAAAAAAAAAAAAAAAAAAAAAAAAAAgABAAAAAAAAAAAAAAAAAAAAAAAAAAAAAAAAAAAAAAAAAAAAAAAAAAAAAAAAAAAAAAAAAAAAAAAAAAAAAAAAAAAAAAAAAAIAAQAAAAAAAAAAAAAAAAAAAAAAAAAAAAAAAAAAAAAAAAAAAAAAAAAAAAAAAAD9//7//f8AAP////////7/AAAAAAAAAAAAAAAAAAAAAAAAAAAAAAAAAAAAAAAAAAAAAAAAAgABAAAAAAAAAAAAAAAAAAAAAAAAAAAAAAABAAEAAAAAAAAAAAABAAAAAAACAAEAAgABAAEAAQABAAIAAQACAAEAAAAAAAAAAAAAAAAAAAAAAAAAAAAAAAAAAAAAAAAAAAAAAAAAAAAAAAAAAAAAAAAAAAAAAAAAAAAAAAAAAAAAAAAAAAD9//7//f///wAAAAAAAAAAAAD9////AAAAAAAAAAAAAAAAAAD///z//f/7//3/AAAEAAwADwAPAAkAAgD6//X/9f/7/wAABAAFAAEA///8//z//f8GAAsADAAFAP3/8//n/+b/6P/0/wEABQANAAwABgACAPv/+v/3//r///8DAAsADwATABIADgAGAAAA9v/w//H/+/8DAAwAEgAPAAcAAAABAAwAIQAwACwABgDC/3j/T/9e/6v/IgCJALwApQBEAMr/aP9H/2//yf8yAHoAhwBYAAoAw/+R/4T/lP+q/7n/xP/W/wkAbwAJAaEB+wHPAQkB1f+I/pT9S/3T/fb+WgCPATECIQJ0AXgAkP/5/tn+Iv+l/ykAhwCZAGUACwCr/23/cf+r/wIAWACIAIEARwDy/5X/Wf9X/47/8v9hALMAyQCUACMAof8z/wb/MP+i/zoAwQACAdoAVQCg/wT/xv77/or/MgCtANIAlQASAIX/HP/8/hb/XP+p/wAAeAAkAQYC1AIiA4QC9ADP/rz8f/uQ+/b8S//EAZwDSQSaA/cBAwBs/rH93/22/sn/rwAgAQMBeQDC/zL/Dv9e/wQAuQAoASQBpwDa/wP/bf5X/sX+nf+VAFoBqQFxAcUA2P/t/kn+If6G/lv/VgA9AcsB5gGMAbwAm/9k/nn9Kf2S/ZD+vv+4ADABGwGRAM7/H//A/tD+M//E/2sAUQGTAg0ELgUNBT0DAQBa/KL51fg++mb9PgGDBDEG3QXNA/MAef4m/TL9Q/62/+oAfgFQAX8AbP+I/j/+t/7G//QAyAHxAVcBLgDa/sn9ZP3b/f/+dAC5AVgCKwJMAQoAzv75/cb9Qf48/1gANwGXAVwBogCj/6j+A/7m/Ur+Af/A/z0AXAAhALn/U/8g/zD/cv/n/4sAgQHXAloEbAU6BVAD6/8c/D75W/ja+TL9OwG1BIYGNgYgBCMBa/7w/O78FP63/xYBvQGLAZoAV/9Z/v39fP6y/wQB7wESAlYBDACm/pP9Nv26/fL+fADYAX4CSwJZAff/lv6W/Sv9d/1V/nP/fwAfAR4BngDg/yf/rP54/o3+2P44/4r/sf+z/7H/yP8JAHsALwFHAscDXAU8BocF9QIg/0L7yviV+Kz6Wv5tApwF7QYqBrwDswBD/hv9Wv2T/gQADgFlAfYA9v/e/iT+HP7c/g0AMQHWAaoBxwCG/0f+f/19/UP+k//+AO4BBgJAAeD/XP4u/bD8+vz1/UD/aQASARABjADO/yX/u/6e/sP+CP9I/2j/aP9b/2z/sP8xAPUABwJxAwMFNAY2BocESwF8/Vv68/jK+YH8JwCUA7AF5AVgBOQBgP8b/vr91v4VABEBYAH8AA8A/P5D/i3+yv7t/xQBxwHIAQQB0f+a/sL9p/1T/oH/twB8AXkBsgB0/zP+Zv0//b39pv6b/0IAeABMAOf/ff84/x7/K/9E/03/Nf8N//b+C/9p/wgA5AAFAnED9AQLBgIGZwR0ARX+Y/s9+gn7U/1HAPgCgQSCBDkDTQGb/9P+Cf/m/9gAUgEcAUsAMf84/sX9BP7i/hEAEwGEAToBTgAq/zb+zf0Q/uX+9f/SACEBtACy/4T+mv1H/ZP9UP4s/87/DADk/4X/MP8S/zX/ff+9/9H/of9C/9v+pP7K/ln/TQCMAQkDrAQlBs0GCgaiAxkAn/xb+hT6zvvA/uABLgTnBA0EKgIdANP+tv6U/84ArwG9AfcAtf9z/q79uP2F/tX/JgHkAb8BzQBt/y3+iP2q/Yf+wf/YAGEBDwH9/5H+YP3l/Dv9LP5B/wsASQAGAH3/Af/X/gv/ev/f/wUAzP9D/6z+S/5j/vn+9v8xAYsC/gNrBVsGNQaMBIkBGf5n+2b6XfvJ/bIAHQNBBOADZwKUAEL/Bv/D/+0AzwHeAQkBrv9S/nH9X/0g/mP/rAB5AXIBqQBr/0D+n/2+/YX+o/+hAAwBqwCl/2j+ff1C/b79n/56//j//P+g/yf/5P76/mf/9f9XAFYA8P9K/6z+Xf6B/hb/+P/3AAMCKANuBKsFVgbNBcwDrABu/TH7wfo3/OT+uwHAA0wEWQOUAdb/7/48/1kAnAFKAuwBrQAU/7z9Lv2U/bf+IgBCAaYBLQEMAML+3v26/VX+Wv9BAJgAOgBZ/2X+yv3K/Uj++/6U/8X/g/8C/5L+eP7M/m//DABdADkAtf8M/33+Qv53/gr/1v/BALkBzAIOBE0FBQaOBaEDsQC4/dD7lfv2/Dr/cQHbAhYDQQLqANP/iv8vAFEBQAJpApQBHACX/pL9Yf39/Rz/QgD/AAQBXABZ/3H+Ev5Y/v7+o//j/6r/K/+y/nb+jP7g/kn/jf+G/zn/zP5+/of+9f6a/zMAhwB7ACAApv86/wD/CP9U/9H/ZAARAd4B9wJgBMIFaAaZBUQDFgA6/cT7E/zL/RcAAQLqAqQCgQEzAHX/uv/KAAUCrgJJAvUAOf/D/Rb9XP1e/qb/pgD9AJAAo/+w/h3+F/5z/uD+JP8w/x7/Bf/9/gD/B/8Q/wv/7/6x/nf+V/5z/sr+Nv+c/9j/6//c/77/lP9j/0H/O/9n/9L/dwBoAbwCZATrBYcGkgX7ArT/Cf3++9f86f4ZAYcCzgL5AaYAlv9Z/yEAkwHXAjADWwKnANf+o/1u/R/+Uf9zAAgB3QAMAPv+Hv7H/RD+vv5z/+D/5P+K/wr/ov58/pn+3/4b/yH/6v6T/lD+VP6r/jv/0P80AE4AJQDd/5D/XP9Y/4z/7/93ACMBBQI/A8EEEwZsBjEFgQJP/9n8C/z+/AD/DAFFAlgCfAFKAH3/j/+GAOIBzwK7Ao0Bt/8E/h79Pf0s/mj/YAC2AFcAfv+C/sT9g/3D/Vz+Av9w/4f/Vf///rb+ov68/uD+9v7d/p/+Xv47/lX+t/48/7r/FgA3ACkA/f/K/7D/yf8dAKgAWgFNApADBAUtBkQGzQT/AfH+4vyK/Nf97f+tAXMCGgIKAQQAp/8xAHkBxQJWA78CIQEz/8L9Uf3k/Qb/HgCvAIsA3f/z/iv+zv3t/Wn++v5X/1//IP/J/o/+jP6v/uD+//7x/rr+af4l/hL+Q/6t/in/j//K/+H/2f/G/7j/wP/3/10A7QCpAaIC6QNIBSEGwQXMA9gAHP6y/BT9wv6pAN0B/wEuARoAev+y/8UAMAIrAxsD4QEEAFX+eP2g/Xn+d/8eACsAr//l/ib+wf3X/VL+6/5Q/1P/Cf+t/oL+m/7i/h7/Jv/3/p3+Q/4O/hz+a/7g/lb/pv/K/8r/y//a//v/MAB2ANMAQgHPAaMC2gNIBVAGOQZ9BJwBwv4c/Un9zP6ZALkBxwH/AAoAmP8AACwBjwJtAzUD5QETAIP+1P0a/t3+lv/b/5H/8/5T/uz94v02/rz+Mf9R/wn/kP43/jb+jf4B/0L/Mf/U/lf+7/3H/en9P/63/hz/XP96/4b/lf+v/9n/CQBRAK4AHQGsAYACpgP5BPUF0wUoBHUB3/57/c79P//IAIwBQAFWAIP/XP8YAHYB1QKGAxMDrAHz/6P+PP6j/lb/zv+6/zT/jP4M/t/9D/6D/gb/WP9c/xL/sf6C/qT++v5Q/2v/OP/W/mz+Iv4W/kX+nf78/j3/X/91/5b/xP/+/z0AegC9AAsBcQH7AcwC8gM1BQMGnwXJAyUB2f7j/XH+z//7AEEBqADD/0D/i/+WAPQBCgNIA4MCIAG8/+v+4v47/33/WP/F/hr+oP17/aT9Af52/tL+9v7a/pP+Yv5t/q7+A/8w/xv/yP5j/hr+/v0V/k/+lf7U/gT/I/8+/2r/m//O/wkASgCgABEBkwEvAg0DNARiBQUGWwVcA84A1v5a/j3/nQBnASIBKAA2/wT/x/8oAY8CYQMyAycC0QDB/2f/q/8GAAEAev+l/u/9kf2X/ej9Uv6x/uj+8f7N/qf+pv7Z/ib/Xf9h/yn/zv50/jv+Jf4u/k/+ef6g/sH+6v4f/2X/q//i/xMAVQC8ADoB2AGPAm4DeARSBXUFZQRlAksABv8C/8//igCHANn//v6X/gz/MACIAZMC5QJpAn4BnAAqACgAQwAdAI//vv71/Xf9SP1c/Z397v06/mj+b/5t/n/+v/4Z/2b/fv9a/w3/uf57/ln+Tf5S/mj+hv6r/t/+J/93/8L/+v8qAGsAzABRAeYBkAJmA20EaAXCBf4ENAMnAcn/lv86ANoAzwAQACT/rv4J/w0ATgFNArcCdQLQATYB5gDfANkAhQDM/+L+DP57/UD9O/1i/Z392/0L/iH+Nf5g/rX+Ev9S/13/Mv/2/sH+m/5//mj+Uv5E/j/+R/5n/qT+8f5F/5T/2v8vAKMANgHhAaYClwOqBIMFkQWFBK0C7wARADIAvwDcADkALv9j/lz+HP9AAEYB3wH4AbsBcwFcAXIBgwFFAZkAtf/U/i3+y/2T/Xf9eP2P/bP93v0H/jD+ef7T/iv/bP+A/23/Rf8V/+r+yP6r/pT+fv5s/mn+gP6x/vj+T/+o/xAAlwA0AdgBewI4AyQEKQW6BVoFAQRDAgwBwQALATEBpQCX/6X+U/7A/qD/gAATAUgBQQEzAU4BjAG/AacBKAFZAHf/wP4r/q39Pf3n/M385/wk/WH9m/3X/SD+ev7b/ib/Tf9K/yb/9f7I/q3+nv6Z/ov+eP5r/nP+mf7N/hX/c//4/6EAWgEYAuoC5QPgBHcFMgUZBMkC7gHGAesBugHiALP/0v6Z/v7+rP85AIwAsQDRAAoBZAHEAfcB4wF+Ae0AWgDK/y//ef7K/Uv9Ev0T/S79RP1W/YL90v1B/rD+Bv82/z7/Nv8m/xr/F/8I/+P+u/6d/pL+o/7K/vL+H/9h/8n/WwALAcsBnQKjA54EFAW3BK4DqQIxAkICVwLfAc0ApP/0/uT+PP+Y/8D/1/8BAEwArAAQAVsBdQFeAR4B1QCBAA0AaP+g/vD9fP1E/Sv9Cf3Z/MH86PxO/cz9P/6L/r7+4/4G/yj/Qv9S/0z/LP8M//v+/P4M/yL/NP9S/4v/9P+JADcB/gHpAt4DlgSyBCgEagMDAxUDOwPvAgQC2QAEAL3/1P/0/+n/yv/P/woAaQDLAA0BKgEoARQBAgHpAKQAHQBk/6n+J/7l/bb9e/0i/cr8rfzc/DX9i/3P/QD+N/50/rT+6P4M/xr/G/8W/xH/Ff8Y/xf/GP8m/1P/pf8QAI0AIgHeAcEClgMABNUDSQPpAvUCMgMoA4ICggGrAE0ATABIAA8Avv+S/7b/DwBqAKQAugC9AMIAzQDRALYAZADc/0r/4P6h/m3+HP6t/Uf9Gv0u/WL9lP2q/cD98P01/n3+sv7U/uX+/P4a/zn/UP9a/13/YP9q/4//1P80AKkAKwHNAZoCZQPdA8cDTgP5AhQDbQN+A/EC+QElAc0AxwDBAHQAAwDD/9X/GwBeAHYAaABYAFsAdgCGAGoAGgCk/yv/0/6f/mD+Bf6O/SD98vz//CX9O/1B/U79ev28/QH+Ov5d/nv+nf7D/uv+Cv8Z/yL/L/9I/3X/tf8EAGcA4QCBAU0CHQOeA5wDRAP7AiADfgOjAz0DZQKnAVIBSAEzAeEAbwAlAC8AZACJAIoAcQBuAIwAsgDDAKAATwDp/4j/Rv8Z/9b+df78/Y/9V/1M/VP9UP1E/Uf9a/2j/df9+f0S/jb+cv6z/uX+Bf8S/x//N/9V/3//uv8EAF4AyABWAQsCxwJCA0oDAQPUAgIDVwNnA/sCSAK0AX8BbQE3AcsAVwAkAEQAfgCQAHYAUgBJAF4AeQB9AFkAFgDJ/3b/Nf/0/qX+R/7g/Yn9Wf1N/UH9Lf0V/RP9Nf1t/aX9yf3m/Q/+Sv6N/sf+8/4Q/zD/VP99/7H/5/8wAIoA8wCCATAC2gJGA08DKgMlA2YDtQO3A0YDmwIjAgEC9QG2AT4BygCXAKgAyQDCAJgAdQB4AJsAsQCgAGgAHgDZ/5f/W/8V/73+XP74/ab9b/1O/TX9Ev30/Ov8AP0t/Vj9df2P/bX97v0v/mn+nf7B/uv+F/9C/2//pP/r/0UAwgBTAf4BnQL3Av0C3wLsAjYDfANvAwADbwIaAggC7wGhASUBvACeALoAzQCvAHwAZQB4AJcApACFAFAAHQDv/77/gf85/+r+l/5N/gb+yf2h/YH9Yf1F/Tf9O/1P/XD9i/2s/dX9B/5A/nL+pf7W/gD/Lv9a/43/zf8ZAHQA3wBmAQcCngLzAv8C8gIbA24DqgOOAxcDnAJkAlkCMwLOAUkB8ADhAPMA6ACyAHwAaQB6AIsAdgBCAAoA4P+5/4j/O//l/pX+Uv4a/tn9mP1Z/S/9Gf0N/QX9B/0R/Sr9Sv1v/Zj9yf39/Sz+Yf6V/sT+7v4b/0z/jf/i/z4ApwArAc0BYAK7As8CzAL3AlIDkgN8AxcDpwJ+AnwCYAIBAosBPgEyAUcBMgH3AL4ArgDAAMkAqwBwADwAIgAQAOv/ov9J//r+uv6H/kf++/20/YP9ZP1O/T39LP0q/Tn9VP16/aD9y/33/Sb+Xv6W/sj+8v4f/1b/lv/f/y4AiAABAZQBJgKHAqMCpgLOAh8DWgNFA+kCjAJnAl8CNALTAV0BDwEEAQwB9gC4AIMAdgCDAJAAdAA/ABAA+P/o/8H/gP8x/+z+uv6I/kb+9P2p/Xj9Wf1E/TP9IP0b/Sb9PP1g/YT9qf3b/RL+Tv6R/sb+8v4e/0//kf/g/y8AiAD3AH0BEgKIAsICzwLmAi4DfAORA1wDAAPFAsACsAJjAusBhAFbAWEBWQEfAdQAsgC0AMMAtACAAEYAIwAVAPf/tv9k/xj/4P6y/nP+If7Q/ZH9bv1X/Tz9H/0O/Q79GP0o/Tz9Wv2I/bv98v0r/l3+jP6+/u7+LP94/8b/GwCAAP4AkAETAmICfQKYAtsCLANZAzsD7AKvAqAClQJbAvIBiwFUAU8BSAEZAdQAqQCnALYArQB/AEcAJwAcAAoA2f+P/0z/Gv/z/sH+e/4w/vH9zv2w/ZL9dv1d/VL9Wf1v/YL9mP25/eP9D/5C/nb+rP7e/g3/Qv+A/8r/EwBnANAATgHYAUcCgwKgAtICIwNoA3UDRAMBA94C2AK0AlgC6gGWAXYBagFHAQEBvwClAKkAoAB1ADYABgD0/97/tf9r/xz/5P66/oj+Q/70/bX9kP14/Vf9L/0W/Qr9EP0h/TP9Sv1l/Yr9t/3q/SX+WP6I/rn+7f4q/3X/x/8ZAHwA+gCDAQACVgKEArAC/gJRA3IDWwMkA/wC7wLdApoCNQLjAcABtwGbAV4BFwHwAO8A7ADHAI0AWAA6AC0ADQDP/4b/SP8g//P+sf5h/hr+6P3J/aL9dP1M/TP9K/0v/Tr9RP1Y/Xz9qv3a/Qz+P/5t/qH+1/4P/1j/pP/0/00AuAA5AbkBGAJNAncCuAIGAzsDMgMBA9QCwgK0An0CHwLFAZUBhAFsATYB8ADEALYAtACcAGkANwAeABQA/f/H/3//Q/8Z//H+vP5x/ij+9f3O/ab9c/1E/Sj9HP0h/Sr9N/1N/Wz9lv3B/fb9LP5h/pn+0P4F/0X/l//u/0YAqQAlAbABKQJvApwC2AIrA24DfANXAyUDFgMTA+0CmQI6AvwB4AHKAZYBUAEaAQEB+wDfAKoAcQBJADcAIQDw/6b/Zf82/w//2P6K/kH+B/7c/a/9ev1E/R39DP0F/Qb9Cv0U/S39Tf1x/Zv9zf0B/jr+c/6o/un+PP+V/+7/UwDIAEwBwgEZAlECigLcAiIDQQMuAwkD+ALzAuACoAJKAgcC5QHMAaABXwEiAQIB+ADiALMAfABRADwAJgD//8P/hP9X/zT/Af++/nb+Pf4V/u79wP2O/Wv9Wv1O/Uf9RP1N/WP9gf2f/cP98v0h/lb+hf65/vz+R/+c/+3/QwCvAC8BrwERAlACjgLfAi0DXwNeA0MDMQMuAx0D4QKMAj8CEQLxAccBhgFBARcBAAHnALUAdgBCACMADgDf/5j/U/8g//f+wf55/in+7P3F/Z39cP07/Rf9Cv0C/fb88/z//Bf9OP1a/X79q/3h/Rj+Tv6F/sP+Dv9h/7X/DAB4APYAdwHlATECcgLBAhoDWwNrA1sDSwNJA0IDFQPJAn4CSwIvAgsC1gGbAWwBUAEyAQMByQCZAHMAUwAoAOj/n/9n/zz/A/+8/m/+Mv4G/t39qP1x/Ur9MP0k/RT9Bv0H/Rj9N/1S/W/9lv3L/Qf+Pv51/rT+/f5U/6v/AQBmAN0AXQHKARkCXAKrAv0CNwNHAzsDKAMiAxcD6AKdAlACGALzAcwBjgFPASIBCAHxAL8AhwBaADgAHAD1/7b/ff9O/yT/7P6o/mf+Lf4D/tf9ov1v/Ub9Lv0Y/QH99Pzz/AX9If1A/WP9jv3E/QH+PP55/sT+F/9u/8n/JwCWABIBkAH+AVMCpAL9Ak0DhgObA5QDigOGA3QDQQP3ArACegJOAiAC4gGkAXEBTAEmAfIAtwCEAFwAMAD+/8H/gP9H/xL/0/6R/k7+FP7h/az9dv1D/Rn9+vzf/Mf8tvy4/MT83Pz7/CH9TP19/bX98P0z/oL+2f4y/5L//f9zAPIAbwHaATMChgLeAi4DYgN0A3ADbgNnA1QDJQPgAqMCcgJJAhoC3wGhAXUBUwEoAfIAugCFAFgALAD6/8H/hP9O/xb/3P6f/mH+Kf73/cX9lf1o/UP9Jv0L/fz89fz4/AX9HP09/WX9lv3J/QL+P/6I/t3+Lf+E/+X/TwDIAEUBsgEQAmoCwAIWA1oDewOEA4kDjAOBA14DJQPlAq4CgQJPAg8CzwGUAWIBMwH/AMEAggBMABQA3v+g/17/H//j/qf+Zv4l/uj9sv18/Uv9Hv3t/Mn8r/yh/J38nfyn/L783/wP/UL9dv26/f79Tv6j/vz+WP+7/ycAmQAUAYYB7gFMAqYC/gJJA30DlwOkA6gDpQOWA24DOQMHA9gCrQJ5AkACBQLPAZ8BbAEzAfUAugCEAE0ADQDG/37/O//7/rv+dv4x/u39sv1//VH9H/3v/Mz8tfym/KH8pfyt/Mb86/wX/Uz9hf3F/Q/+Y/6+/hv/e//o/1sA1wBMAbQBEQJnAsACDwNJA2oDeAN+A4EDcwNNAxwD4QKwAoECSgIMAswBmAFjAS4B9gC2AHwARgASAN7/oP9k/yX/6f6s/m/+Nf75/cX9lv1j/TX9C/3p/M78uPyw/LP8v/zV/Pb8HP1Q/Y790v0f/nD+yf4o/4z/+P9pAOQAWwHLAS4CjwLqAj0DewOkA74DyQPQA8EDpANwAz8DDgPUApwCWwIbAuABqAFsASgB5AClAGgAKQDo/6D/WP8U/9P+k/5P/g/+1P2g/W/9Of0G/dv8tvyb/Ij8efx1/H78lPy2/Nv8Cf1B/YL9z/0h/nf+0/44/6P/FQCMAAEBeAHgAUICowL9AkgDdwOVA6oDtgOyA5oDbgM7Aw8D4AKuAnACMQL7AccBjwFOAQgBxgCLAFEAEQDK/4H/P/8B/8H+fP48/gL+0/2k/XT9Qf0W/fT82PzG/Lb8svy3/Mz86vwP/UD9ff2+/Qn+Wf6v/g//cf/d/0wAvQAtAZUB9wFTAqwC/AJCA3IDjgOdA6MDmwN/A1UDJAPwAsQCkwJXAhwC4wGsAXABLQHoAKQAZgAmAN//lv9K/wf/xv6D/kD+/f3H/Zf9Z/01/Qb93vy4/KH8jvyA/H/8h/yg/ML86fwh/WT9sP38/VT+r/4R/3z/7/9lANoAUQG+AScCiwLmAjcDdAOhA74DzAPRA8MDpAN8A1ADIwP4AsYCjQJbAioC8gG1AXIBLwHwAK0AaAAaAM7/hP87//b+rP5j/iX+7/20/Xn9Qv0Q/eH8vfya/ID8cvxt/Hb8i/yr/Nn8EP1R/Z396v09/pv+/P5o/9v/UADKADoBpQELAmwCyQIXA1IDegOVA6UDpgOPA20DQQMTA+YCugKEAk4CHALoAbIBcAEtAe8AsQBuACgA4P+X/1P/Cv/A/nr+Of4B/s39mP1m/TP9B/3h/MD8pvyV/I78l/yq/Mj87/wi/WD9pP3w/UP+mf74/l//zf9AALQAIgGPAfUBVwK4AhADVgOJA6kDvwPJA7oDnQNyA0QDGQPqArgCgwJPAhkC3wGiAV8BHQHdAJUATgACALL/aP8c/87+fv40/vL9sv15/T/9Cv3W/Kj8g/xn/FL8RvxK/Fv8dvyb/M38Cf1M/Zj96/1A/qD+Bf9t/+L/VgDNAD8BpgEMAnIC0AIeA1kDhwOjA7MDsgOfA4EDXQM6AxQD6gK6AocCWAInAuoBqwFpASQB2wCUAEcA+f+s/1//D/+9/m/+KP7r/a39dP06/QL90/ys/I78cvxi/GD8cPyK/LH83fwX/Vv9pP3x/Uf+pv4K/3f/5/9bAM4AQQGrARACdgLPAhoDVgOCA6EDtAOzA58DfQNWAy4DBgPbAqkCdAJAAgwCzwGKAUAB+wC2AGoAHgDS/4P/Of/0/qD+Uv4N/sr9kf1S/Rj94fy2/JL8cvxb/E78Ufxk/IH8pfzX/BP9Xv2v/QH+V/62/hz/jf8AAHEA5gBVAcQBLwKTAu4CPgN6A6oDyAPZA94DzAOxA48DZwNAAxUD4gKvAnsCPwL/AboBbwElAd4AlABDAPH/oP9Q/wL/q/5g/hb+1f2X/Vr9H/3i/LH8ivxm/En8Nvw0/EH8Wvx7/Kv85/wq/XT9xf0Z/nn+5f5T/8n/PgC0ACgBlQEBAmkCyAIVA1ADfgOhA7YDuwOvA5QDcANGAyMD9QLDApUCYwIsAu4BrgFnASAB3gCVAEgA/f+v/2L/Ff/F/nj+MP7v/az9cf02/fr8z/ym/H/8ZvxV/FL8X/x4/Jr8yfwG/Uj9lP3m/T3+nv4G/3j/7/9nAN0ATgG9ASkCiwLiAi8DZwOTA7UDxwPFA7QDkwNvA0gDHAPuArwCiAJVAh4C3wGbAU8BBQG+AHQAJQDX/4n/PP/t/pn+S/4G/sH9hv1L/RD93fys/IX8YfxF/Dr8O/xK/F78e/yq/Of8L/18/c/9Jf6H/vT+af/d/1IAywA/AbEBIQKEAt4CLgNsA5wDvwPUA9kDzQOzA5MDcANKAxsD7AK5AoACSwINAsoBggE4AfAAnwBUAAcAtv9m/xP/wf52/jH+7v2v/Wz9Mv37/Mn8nvx1/Fv8TfxL/FX8aPyC/K/86/wu/Xn9zP0i/ob+7v5c/9L/SAC7AC0BmQEBAmUCvwIRA0sDdwOWA6sDsgOnA5ADcQNRAysDAAPOApsCZgIsAu8BrgFoASEB1wCKAD0A8/+i/1T/BP+y/mT+H/7d/Zr9XP0f/ej8uPyP/G78VPxJ/Er8WPxu/JH8wfz4/ED9iv3c/TX+mP4C/3T/7P9iANsATgG7ASkCjQLrAj4DegOpA8oD3QPiA9UDvAOdA3cDSQMZA+MCrQJxAjAC8gGvAWQBGAHNAH4ALgDe/47/QP/s/p3+Uv4J/sL9gf0//QH9yfyb/HD8S/wz/Cb8I/wt/EL8Y/yP/Mj8Bv1P/aL9+P1a/sX+NP+o/yEAngATAYgB+AFgAr0CDgNQA4YDrQPCA84DyAO5A5sDfANZAzADAQPOApgCXAIYAtEBiAE7AfEAoQBSAP//q/9Z/wj/u/5y/ir+5P2m/Wn9Lf3+/NH8q/yL/HX8a/xp/HL8iPyo/NL8Bf1D/Yn91f0q/oX+4/5L/7r/KQCZAAYBdQHfAUAClQLjAigDXwOGA58DrgOsA6EDjgNyA1IDKwP/As4ClAJUAg4CwwF1ASUB1gCCAC4A2f+F/zH/4v6W/k3+DP7K/Y79Xv0l/ff80fyx/J38jvyJ/JD8m/y0/NL8+/wu/WX9qP3s/Tb+hv7b/jb/mP8AAGcA0QA6AaEBAAJYAqwC9wI4A2oDjAOjA7EDsAOoA5sDhQNpA0cDHgPsArICcwItAuABkgFAAe0AlgA8AOb/kP86/+n+mv5T/g7+zP2T/Vn9Iv3x/Mb8qPyQ/H78dvx5/Ib8mvy6/OH8Ff1N/Yv90/0c/nT+0/42/57/CgB8AOsAWQHCASUCgQLRAhkDUgN7A5YDpQOrA6IDlAN8A14DPAMNA9oCoQJfAhcCywF4ASUB0QB8ACYA0/95/yX/1P6I/kL+//3F/Y39W/0n/fr81fy0/Jz8j/yI/I38l/yr/M389fwl/V79nP3h/TH+iv7q/lL/u/8qAJ4ADgF7AecBSwKnAvgCPgN6A6QDwwPRA9UDzgO/A6gDigNjAzID+AK6AnQCIgLLAXQBGgHBAGQABACn/0n/8/6g/lH+CP7H/Yr9T/0X/eP8ufyR/Hb8Y/xU/FD8Vfxl/Hv8mfzE/Pf8L/1u/bf9Bv5e/r7+KP+W/wQAfQDyAGQB0QE4ApQC6gI0A3MDpAPFA9kD3wPfA9IDvwOnA4cDXAMoA+kCogJTAgICrQFVAfsAoABAAOH/hP8t/9r+jf5C/vz9uP16/UP9Dv3e/Lf8k/yB/HL8a/xw/H78mPy3/OL8Fv1S/ZT93/0x/or+6f5O/7z/KACVAAMBcwHYAToCkQLfAigDYwONA6sDuwO+A7cDpQOMA2wDSQMeA+kCrQJlAhwCzgF6ASUBzAB0ABoAxP9s/xT/xP5z/ib+4v2h/WP9K/33/M38pfyH/HL8Y/xe/GX8dfyP/LP84vwY/VT9nv3s/T/+nf7//mr/2P9JALsALgGeAQkCbgLJAh0DZAOiA8kD5wP0A/YD7gPXA70DmgNvAz4DBQPEAnsCKQLXAYIBKwHQAHUAGgC//2T/Dv+6/mn+IP7X/Zj9W/0g/e38uvyQ/HH8VvxH/ED8QvxR/Gn8ivy3/Ov8KP1o/bT9Bf5e/sP+Lv+f/xAAhwD+AG8B3QFCAqQC+QJCA30DqAPGA9gD2wPSA8IDpwOKA2EDMwP7ArwCdwIrAtkBgQEqAdEAeQAeAML/av8T/77+cP4n/uT9pf1q/TP9/PzQ/Kj8i/x4/G38b/x3/Ib8pPzL/Pf8Lf1u/bb9//1R/qj+Bf9o/9T/QACvAB0BiAHyAVQCrgL8AkQDfAOkA8ID0wPZA9IDwQOoA4oDYwMyA/kCuAJvAh8CywFzARoBvgBhAAQAqP9P//L+nP5P/gP+vv1//UT9C/3Z/Kr8hfxl/E/8RfxE/E38X/x7/KL80PwG/Ub9jf3e/TT+kf71/lv/yv8+ALAAIgGVAQACYgK+Ag8DVQOPA7sD3gPxA/gD9gPmA84DsgONA2ADKwPuAqkCXQILArQBWwH+AKQASADu/5T/Ov/n/pj+Sf4C/r39ef08/QT9zvyg/Hz8XvxP/Ej8SvxZ/HL8kPy8/O38Kf1v/bz9Df5p/sr+MP+a/wYAdwDpAFoBwgElAoAC0gIbA1YDiAOpA7oDwQO+A68DngOCA18DNAMBA8cCgQI1AuQBkgE8AeQAiwAyANj/gP8r/9n+i/5C/gH+vv2B/Uv9Ff3m/L78nPyG/Hj8c/x4/If8nvy8/On8Gf1P/ZH91/0k/nb+0P4u/5T///9rAN4ATAG2ARwCfQLUAiIDZAOYA8ID3wPpA+kD3gPKA7IDjgNkAzID/AK1AmsCGgLAAWgBCQGrAE4A8v+S/zn/4P6M/j7+9f2y/XP9OP3//Mz8ofx7/Fr8SfxB/ED8Sfxb/Hj8nfzK/P/8O/2A/cv9G/5y/s/+M/+b/wcAeADnAFYBwwEqAoYC2gIlA18DkgO5A9ID3wPiA9sDyQOxA48DagM6A/wCuAJsAhUCvQFjAQYBqgBMAPL/l/8+/+n+lv5K/gT+xv2I/VD9Gf3n/L78mPx9/Gz8afxt/Hr8j/y0/Nv8B/1C/X/9xf0S/mP+t/4U/3v/5v9QAMAALwGXAQACXgKyAv0CPwN2A50DvAPKA80DxwO0A58DfwNYAykD8wKzAmYCGQLCAWQBDAGxAFcA/P+f/0X/7f6a/k3+Cv7I/Yr9Tv0Z/eX8tvyT/Hb8YfxZ/Fv8Zfx7/Jb8uPzo/B39Vf2X/d79MP6E/uD+QP+n/xYAiAD8AGwB2AFAAqEC+gJIA4YDvgPiA/oDBgQEBPoD5APKA6cDewNGAwoDwwJzAiACxgFqAQ4BtABZAPv/n/9G//H+nf5T/gn+xv2K/VD9Ff3f/LL8ivxx/F38VvxX/GL8cfyN/LD82vwP/Uv9jv3W/Sb+fv7f/kf/sv8kAJcABgF1Ad0BQwKdAvECOgNxA54DvwPNA9EDyQO5A6UDiANjAzYDAAO+AngCKALQAXkBIAHLAHMAGQDC/2z/F//E/nj+M/7u/bH9ef1B/Q/94fy5/Jf8gfx6/Hn8f/yU/Kz8y/z2/CX9Xv2f/ef9N/6J/uX+Rv+s/xYAhADzAGMBzQExApEC5gIzA3EDoAPBA9cD4APdA9ADuwOeA3kDTQMXA9wClAJGAvIBmAE/AeQAiwAxANv/g/8p/9b+h/45/vb9s/13/T/9CP3Y/Kn8g/xn/FL8SvxM/FX8Z/yE/Kr81PwG/UP9h/3V/Sb+f/7e/kP/r/8eAI4AAwF1Ad0BQgKdAu4CNgNxA6MDxQPVA+AD3APTA74DogOCA1cDIgPmAp4CUgIDArABWQECAa8AVwD//6b/Uv///qz+Yf4b/tf9mv1i/Sj99vzH/KL8ifx5/HT8dvyF/Jf8s/zW/AL9NP1v/bL9+v1J/p/++v5b/8T/LwCbAAoBdgHbAToCkgLeAh8DVwOCA6UDtwO+A7oDpgOWA3oDUgMnA/ECswJpAhkCxwFxARcBwgBqABIAvv9n/xP/wP50/i/+6v2u/XT9QP0M/d78uvyX/ID8dPx0/Hz8j/ym/Mb87fwa/VT9k/3Y/SX+eP7P/iz/kv/7/2MA1ABDAawBEwJvAsMCDgNOA38DpgPDA9QD2QPRA8IDqwOLA2YDOQMCA8gChgI5AucBjwE5Ad4AgwAqANL/dv8g/8v+fP4x/uz9rf1z/Tj9BP3V/Kr8ivxz/GX8Yfxn/HT8ifyn/Mr89Pws/Wj9qv3y/UT+mv7x/lX/u/8kAJAA/wBrAc8BLwKDAtACEgNNA3oDngOyA7kDtQOqA5cDewNbAzID/wLCAn0CMALfAYsBNgHkAJEAOgDp/5X/RP/2/qz+ZP4n/u39uP2I/Vb9J/0B/d38xfy1/K78sPy7/Mr84vwC/Sn9WP2N/cr9D/5b/qr+/v5c/8H/JgCQAP4AbAHVATUCjQLbAh8DVgOEA6kDugPDA78DrQOUA3MDSgMZA+cCqwJnAh0CzQF2ASEBywByAB4Ayf9y/x3/zP6D/jz++v3A/Yf9V/0o/f781/y5/KP8kvyQ/JT8nvyx/Mr87fwV/UH9dv2z/fr9Q/6R/uT+PP+Y//r/YgDMADoBoAEEAmACswL/Aj4DdAOfA7kDyAPOA8YDtQObA3wDVgMqA/cCuQJ2Ai0C3wGLATcB4wCNADkA4f+I/zr/7/6j/l/+IP7n/bL9f/1Q/ST9+vzY/L/8sPyo/Kn8svzA/Nb89Pwa/Uf9ev20/fX9Pf6I/tr+Mf+P/+//VQC9ACEBgwHjAToChgLOAgkDOQNeA3cDhAOGA3kDZwNJAygD/wLSAp8CYgIgAtcBigE5AekAmABGAPf/qP9b/xH/y/6I/kv+D/7b/an9fP1T/Sr9Bf3m/NL8xPzB/Mf81fzq/AP9Jv1O/X/9uv35/T3+hf7U/ib/ev/U/zUAlwD/AGgBzgEvAoUC1AIXA1ADewOZA68DtgOuA58DggNfAzoDCwPfAqoCbgIrAuQBlAFCAfAAnABMAPv/qP9Y/wj/vP52/jP+9f3C/Y/9W/0u/QP92vy8/Kj8mvyW/J38qvy7/Nb89/wi/VD9iv3G/Qb+Tf6V/t7+Lf+I/+j/SwC3ACIBhgHkATsCiwLQAg8DQQNlA34DigOLA4IDbwNXAzgDEwPrAr8ChwJFAgICtgFoARoByAB5ACsA3f+P/0X/Av/B/oP+UP4g/u79wf2S/Wn9RP0l/Qz9/vz3/PX8/PwK/SH9Pv1i/Yv9wf37/Tf+d/68/gT/Uf+l////YQDGACoBjAHqAT8CigLMAgcDPANjA3oDhAOAA3QDWwM9AxoD8QLGApUCWAIUAs0BfAEqAdsAhwA5AOr/mf9L//3+sv5u/i/+9/3B/ZD9Y/04/Qz95/zK/Lf8rPyv/Ln8yfzj/AD9J/1M/X39tv30/Tb+fP7C/gv/Wv+z/xAAcgDcAEcBsAEOAmYCswL3AjUDaQOPA6gDtgO0A6cDkAN2A1gDMwMLA94CpwJkAh0CzQF8ASgB1wCIADcA7P+a/0r//f6y/m3+Mf76/cf9lv1k/Tb9D/3v/NX8x/zB/MX8zvzd/PL8DP0v/Vb9hP27/ff9NP52/r/+C/9g/77/IwCMAPUAWgG4AQwCVwKcAtYCCQMvA0gDVANYA04DOAMhAwAD3gK4Ao0CWAIbAtkBkAFCAfgArABiABoA0v+M/0T/Af/A/oP+Tv4b/u39wf2S/Wn9Rv0j/Qn99/zx/PH8+fwL/R79O/1f/Yj9u/3y/TH+dP63/gH/Uv+k/wAAXgDCACsBkAHyAUwCmALdAhgDSgNzA40DnAOaA44DdwNVAzEDCAPbAqwCcwIzAuwBoAFUAQUBtQBqAB4A0/+J/z7/9f6u/m7+NP79/cv9mv1q/Tr9EP3q/Mv8tvyr/Kn8sfy9/ND85/wI/S/9X/2X/dT9E/5Z/qP+8P5E/53/AABoANEAPQGkAf8BVAKfAuICGQNGA2YDfQODA34DbQNUAzcDFgPwAskCmwJkAiQC4QGdAVABBgG8AHUALQDl/5//V/8U/9P+mP5l/jL+BP7Y/an9gP1c/Tz9JP0T/Qr9C/0V/SD9N/1Q/XD9mf3H/fv9Nf51/rT+/P5E/5X/7f9KAKoADAFvAcwBIgJqAqoC5AIUAzgDUQNcA1kDUQM8Ax8D/gLZArAChQJRAhMCzwGFATcB6ACbAE0AAgC2/2n/IP/Z/pf+WP4g/uz9vf2S/Wn9Qf0e/QD96fze/NX82Pzl/Pb8E/0x/Vr9hP21/e39Jv5h/p3+3/4n/3P/w/8fAIMA6QBUAbcBFQJrArQC9QItA1oDeQONA5cDkwOGA28DUQMzAxAD5QK1AoACQAL7AbUBagEdAdEAggA3AO7/ov9Z/xT/0v6T/lr+I/7x/bz9iP1h/Tf9F/38/On84Pzh/Ov89/wL/ST9Q/1n/ZL9w/34/S7+af6q/uz+Nv+O/+j/TAC0ABgBfAHZASgCbQKnAtkCAQMdAy4DMgMtAxsDBAPoAskCqQKCAlMCHgLkAaEBXgEWAc8AigBJAAQAwv+C/0T/DP/T/p/+cP5A/hH+5/2+/Zb9cv1T/Tr9Lf0m/SX9Kv03/U39ZP2E/ar90v0A/jX+bv6q/un+Lv99/9H/LgCOAPcAXQHAAR4CbwK2AvECIwNMA2YDdgN5A24DXgNAAx0D+ALPAqMCagIwAu4BpwFbARIBzACAADsA+f+w/27/LP/t/rH+ef5F/hP+4/21/Yn9XP02/RX9+Pzn/Nz81vzc/Oj8/PwU/TX9Wf2C/bT96P0f/l3+of7q/jj/kv/v/1MAuQAiAYkB6AFCAokCzAIBAywDSwNeA2QDXwNPAzUDGAP2AtICqAJ7AkkCDgLLAYcBQQH9ALwAeQA5AP3/uv98/z//Av/N/pr+bP46/g/+5P26/Zb9df1a/Ub9Of02/Tb9QP1R/WX9gf2j/cj98f0g/lL+iP7F/gX/T/+f//T/VQC3ABkBfgHXASgCagKlAtkCAQMdAzADNwMuAx4DCAPoAsQCogJ7AkwCFQLYAZcBTwEJAcMAfwA8APj/tv9x/zP/+P69/oj+U/4h/vL9yP2d/Xj9Wf07/SP9FP0I/Qf9EP0e/Tf9Uf14/aH9zP3+/Sv+Xf6Y/tf+HP9p/7j/FQB4AN4ASQGtAQsCXAKkAtsCDQMzA00DXANeA1YDQgMpAwsD6wLIAqUCfgJPAhcC2wGgAWEBHwHbAJsAVQANAMr/gf9B//7+wP6C/kb+D/7X/aT9d/1O/SX9Cv3x/N38z/zE/MT80vz1/Bj9OP1Y/YD9t/33/Uv+pv79/lb/uv8vAK0AMQGqAQ8CZQKzAvoCMQNUA2IDXwNUA0IDJwMFA9gCqAJ1AkgCHQLvAcIBjQFQARQB3wCtAHkAQgAJAND/lf9e/yr/8P6w/nX+O/7//cP9j/1e/Sv9Af3i/M38x/zF/M783fz2/Bz9Sv19/bD96v0p/mz+u/4Q/23/0f9HAMcASAHCAS0CiQLiAjsDhQOyA7wDvAOyA6kDlwNqAy8D7gK5AokCVQIeAtoBmwFhAScB7ACtAHIANwD7/8T/jP9R/xP/1v6W/lv+IP7l/af9b/07/Q394/y+/KH8lPyS/Jj8pfy6/Nr8Bf00/Wj9oP3e/SH+b/6+/hP/df/k/14A4ABfAc4BMQKOAusCQQN4A5ADlwOSA4sDewNYAx8D5wK6ApQCagIxAvoBxgGgAXoBRgELAdAAlwBmADcAAAC+/3j/Pf8A/77+gf4//v79xv2R/WP9M/0H/ev82vzQ/M781Pzi/P/8Iv1O/YD9s/3y/TL+gf7R/iT/hv/w/2cA5gBgAcUBGQJ0AtUCJgNUA14DXANgA2cDVwMeA9wCqAKKAmkCMALzAbcBkgFvAUABBAHGAJgAbQA9AAUAxv+H/0v/Df/Q/o/+Tf4I/sn9lP1h/S79+/zR/Ln8qvyn/Kn8rvzE/Of8E/1C/Xb9tP34/UX+l/7o/kX/q/8fAKQAJgGaAfkBVQK4Ah0DagOFA4gDigOZA54DegM3A/QCzgK5ApICUwITAuoB0AGxAXsBOAEEAdsAsAB5ADkA9/+6/3j/Mv/v/qX+X/4c/tn9nP1e/SH96fzC/Kn8mPyR/I38l/ys/Mr89fwj/Vb9lv3d/Sb+eP7U/jb/pv8mAKsAKAGSAfEBVQK/AhUDQgNMA04DXANmA04DEgPRAqMCiQJlAjAC8QHFAaoBjwFgASYB9ADNAKwAgABEAA8A3v+n/2v/J//l/qr+bP4r/uv9q/1y/T79DP3m/M/8wfy6/Lv8xvzm/BL9Of1l/Zr93f0u/oT+3v47/6v/KACyADMBnAH4AVsCzQIoA1gDZgNrA4EDkgN7A0AD/gLUAroClQJVAhMC6QHSAbYBfwE6AQMB2wC0AH0AOgD4/8X/jf9Q/wb/uf58/jz+/P23/X39Qf0O/dz8tPyd/JH8jvyM/JT8rvzT/AH9Mf1b/Zj95v08/pX+9P5c/9v/aADwAF0BugEfApMC9wIqAzsDSQNjA3kDbQM4A/4C4QLRArACcwI0AhAC/wHmAa4BbQE9ASAB+gDCAHwAQAAVAOb/o/9S/wj/y/6R/kr++v21/Xz9Sf0V/eH8v/yx/K/8sfy0/Mf86vwa/U79e/21/QL+WP6z/g3/cf/q/3IA9ABbAa4BEAKBAtsCCAMVAx8DOANKAzED+QLCAqUCkwJsAjUC+gHYAckBrwF8AT0BFQH7ANkAoABgACcA/P/Q/4j/OP/v/rj+gP44/uv9o/1o/Tf9Bv3Q/Kj8nPyc/J/8pfy0/Nf8C/1C/XT9r/3+/Vj+tf4V/3r/+v+JAA8BdwHSATsCtQIMAzQDQwNWA3YDiANwAy0D9wLgAtECqQJsAjECEgIBAuQBrQFsAUUBKgEFAcwAiQBQACQA9v+y/1z/EP/X/p3+Uf7+/bb9eP1F/Q390vyk/JH8jvyM/In8k/yv/N38EP0//Xr9yP0m/oH+2P5A/8H/UADWADwBlQH9AXICzgLyAv4CFAM0A0kDLgPxAsMCswKlAnwCQAIOAvEB5AHHAYwBTgErAREB7ACxAHQARgAfAPT/rf9d/x7/7f60/mr+Hf7d/af9ev1E/Qv95fzW/NP80PzP/N78/vwo/Vr9iP3C/Q7+Zf67/hD/ev/4/3wA9gBRAaUBGQKQAt4C/wIPAyoDVANkAz8DAwPaAssCrwJ7AkACDwL0AeMBvAF7AUQBJQEKAdgAmwBeAC0AAgDO/3//Jv/i/q3+bv4d/sv9h/1V/Sf99Py4/JP8kPyV/JL8lfys/NP8Bf05/Wv9qv0D/mH+s/4J/3b//f+FAPQASQGgARoCkALQAuoC/wIjA04DWAMwA/YC2wLXAr4CigJSAi4CIAISAugBqwF8AWcBTQEXAdgAnwBvAEQABQCx/1v/G//n/qD+SP76/br9if1Z/Rz93vy4/K78q/yg/KP8t/ze/BH9PP1r/bH9EP5w/sH+Gv+M/xIAmQAEAU8BpQEbAocCuwLMAuACAgMnAygD+QLBAqkCogJ9Aj4CCALmAdgBwQGMAU8BLQEaAfwAygCRAGMAPQAbAN3/hf88/wn/2f6R/j7+9/27/Yv9XP0e/eT8xfy9/Lj8qvyv/Mf88Pwj/VP9hv3S/TT+jf7i/kH/wf9KAMQAJQF3AecBYgK5AuMC+gIfA0kDZQNWAx4D9wLtAtYCpQJoAjUCGgIJAucBqgFvAU8BOgEOAdMAlgBoAEQADwDG/23/Jv/1/rr+av4T/sj9l/1m/S395/yy/KD8l/yI/H/8ivym/ND8/Pwn/WD9t/0U/mn+wP4u/6//MgClAPsAWQHWAUoCjgKxAtMC/gItAz4DHAPnAs8CyQKtAnwCRgIiAhYCBQLbAZ0BcQFdAUUBEQHYAKUAfABWABsAyv91/zj/Bf/G/nP+If7j/bP9g/1I/Qj93vzR/Mr8vPy7/Mr87fwc/U39ef25/RL+a/68/hv/i/8LAIkA5gA1AZoBEQJvAp0CuQLeAgsDMAMkA/ECxQK4AqoCfgJGAhMC+gHtAdEBmwFhAUEBLgEPAdgAngBvAEwAIgDc/4L/PP8K/9T+if4x/ub9sf2E/U39Cf3N/LH8qvyf/I78kPyq/NX8A/02/XD9w/0m/oH+2v5K/83/UwDIAB4BewHzAWcCsQLSAusCEwNCA1ADLQP2AtkC0AK3AocCUQIsAiECFALrAbEBiQF3AWABMgH4AMcAnQB1ADsA6v+T/1X/Iv/d/oj+MP7u/bb9ff04/e78vPyo/J78iPx//I78rfzZ/Ar9Qf2L/eT9Pv6X/vz+ev8CAHoA1wArAZoBFQJsApYCsgLXAgYDJAMSA9wCuwKxApsCbAI2AhAC/wHyAc4BlgFqAVcBRgEgAe0AuQCSAHMAPwDy/6D/W/8j/+P+lv5B/gD+x/2R/VD9DP3W/L78t/ym/J78p/zF/PL8IP1T/Zn97/1M/qX+D/+K/wwAhwDoAEEBqQEgAnYCogLEAusCFwM0AyED7gLNAr0CpwKAAk0CHwIKAgAC3wGqAXwBZQFRATEBAQHHAJ4AeQBHAPv/o/9c/yD/2/6H/jH+5v2t/Xb9Mf3m/K/8mfyJ/HT8aPxz/JP8wPzw/CD9Y/27/RT+a/7T/lT/2/9TALcAEQGCAfoBTwKCAqECzQIAAx8DEQPiAsUCugKjAnkCSgInAhkCEgLuAbkBmAGJAXYBTQEcAesAxgCkAG4AHwDM/4n/Tf8E/6v+VP4R/tX9l/1Q/Qb91fy+/Kr8kvyG/JL8svzf/A79QP2G/d39N/6P/vf+eP/4/2kAxQAjAZkBDAJWAoICpQLUAgMDFgMBA9UCvwK2ApoCbQI6AhwCDgL7Ac0BnAF5AWcBTAEhAesAuQCZAHMAOQDr/6L/X/8h/9f+hP4y/vL9uf15/S397fzI/K38mvyE/IL8lfy4/Ob8F/1U/af9BP5e/sL+Pv/E/0IApQD+AHIB6QFGAn0CoQLOAgQDKgMgA/wC4gLZAskCnwJsAkMCMgIrAgcCzwGlAZABegFWASEB7ADCAKMAcwAnANf/lP9Z/w3/tf5l/h7+3P2c/VD9Bv3S/LD8kfx2/Gz8cvyJ/K783PwW/WD9sf0H/mn+2f5e/97/SQCmABIBkwH8AUACcAKhAtoCCAMPA/MC1QLOAsICngJrAj4CJgIcAgACzAGcAYIBcQFSASAB8ADIAKcAegA6AO//rf9w/y3/2v6K/kP+BP7F/Xz9Nv0A/dr8uvyf/Iv8i/yd/Ln84fwW/Vv9q/0A/mH+0f5W/9b/QQCmABYBkwH9AUYCdgKlAuQCFAMYA/oC3wLTAsgCpgJ0AkYCKQIbAv0ByQGbAXsBZAFCARUB5AC5AJkAagAmANz/mf9X/xD/w/52/i/+8f2y/WX9Hv3w/M78rfyR/ID8g/yb/Lv84vwa/WL9tv0O/nn+8/51/+//WADAADQBrgELAk4CgQK3AvICGAMVA/gC6QLiAs4CpwJ6AlQCQAIwAgcC1AGnAYsBcQFIARkB6QDDAJ4AaQAiANj/lP9V/xH/wP5z/jD+9P2y/W/9Lf31/NH8tvyi/Jf8nPyz/Nb8Cv1I/Y793f07/q/+L/+t/xsAgADvAGcBzgEYAk0CgAK4AuoC9gLiAs8CxQK6ApsCawI9AikCHgIAAs4BnQF8AWYBQgEOAdYAsACPAGYAJQDb/5b/Wf8Z/87+gf47/vj9vP14/Tf9/vza/MD8qPyi/KX8ufzg/BT9Uv2a/e79Uv7F/kL/uP8lAI4AAAFzAdMBGwJVAo8CxwLwAvsC6gLgAt0CzwKrAn8CVwI+Ai0CBgLRAaEBfgFZASoB8AC3AI4AaAAyAO7/pf9o/y//7P6c/k7+D/7T/Zb9Uf0P/dr8tPya/IX8evyE/KL80PwL/VL9nv39/W7+6P5m/9j/QwC5ADEBmwHuAS8CbQKqAt0C8wLwAuwC6QLkAs4CpgJ7Al8CSwInAvUBwgGdAXgBSwETAdgAqgCBAE4AEgDR/5P/Vf8U/9D+iP5G/gf+yP2M/U39F/3q/M38vfyx/Lv80vwC/T79f/3N/Sb+lf4N/4H/5v9KAL0ALwGOAc0BCAJFAoQCsAK6ArECqwKzAqsCjgJiAj0CLQIbAvgBxgGTAW0BSwEgAeoAsQB/AFgALwDy/7H/cP8y//z+u/50/jD+9f29/YH9Rf0S/ev81fzF/L78yvzy/C39dP2+/Q/+fv78/nb/3f8/AK0AJwGPAdYBDwJLApACwwLWAtIC0gLgAuYCzgKgAnsCZwJUAioC8QG2AYsBZAEuAewApwB2AEsAGgDY/5L/XP8n/+3+o/5X/hn+5f2q/Wf9Kv33/Nj8xfyt/KH8svzh/B79Wf2g/f/9dP7u/mD/wf8sAKIAEwFqAagB5QEqAmoCkAKYApwCqAKxAq4ClAJ1AloCRgIrAv4BzQGgAXkBSQESAdcAogB5AEkADwDU/5//b/85//X+sv55/kT+Bv7G/Yn9W/08/R39Bv39/Az9N/1n/Z/95P1B/rD+Gf94/9H/OQCoAAYBTwGKAcgBCgI7AkwCTgJYAmQCaAJYAjYCHAILAvcB0AGcAWoBQQEbAewAsQB8AFMALAAAAMr/mf9r/z//DP/R/pb+X/4t/vT9vv2O/Wf9Sv0x/S79Of1U/YH9t/0C/lr+v/4f/3T/0v84AJ8A9AA4AXMBswHzASECOwJHAlcCbwJ2Am4CVQI/AjACFwL3AccBlwFrATsBCQHSAJYAYAAvAP7/yv+T/17/J//0/r/+iP5Q/hr+5v22/Y/9bP1U/UX9SP1d/X39qv3i/S7+jv7t/kb/mP/x/1IArgDxACsBYgGbAdAB6gH0Af8BEgIhAh4CDgL9Ae4B5QHOAakBfwFcATcBDAHaAKYAdABNACgA9P/B/43/YP81/wX/zf6U/mT+O/4W/uv9wf2q/aH9q/28/dT9+v01/oj+3P4u/3T/wv8dAHUAvQDxACEBVgGOAbcBxQHMAdUB4wHuAekB2AHDAbkBrgGWAW4BRAEaAfQAzACaAGEAMgAJAOD/sP93/0b/Gf/y/sT+j/5d/jH+Ev7t/cj9qf2Z/Z79r/3L/e79Hf5m/sH+F/9q/7D/BQBoAMIACQE6AW8BpQHWAfAB9AH1AfwBCAIIAvYB3AHIAboBqgGGAVYBJwEFAecAuACBAEwAIAD//9D/l/9d/y7/Bf/W/qD+af45/g/+6/3F/Zz9hP2D/ZL9r/3N/fz9QP6X/u/+Pv+K/97/OgCUAOAAGgFMAYABswHbAekB6wHxAfkB/gH0AeABzQHBAa4BkgFrAT4BFwHyAMwAnQBsAEAAGADu/73/gv9P/yH/8/6//of+V/4t/gr+5f3D/aj9of2s/cf95/0T/lP+p/7//k//mv/o/z0AlwDhABgBQAFxAaMByAHWAdkB2wHjAeoB4QHTAcEBtAGlAYsBZQE0AQgB4AC1AIIATQAeAPL/wf+O/1v/Kv///tL+nv5u/kP+HP71/dn9vf2n/aT9sP3H/en9HP5i/rX+Cf9X/6D/7P89AJIA0wADATEBYgGTAbYBygHOAdUB4QHrAesB2QHKAb8BsgGbAXMBRAEWAfIAxwCSAFsAKQAAANH/n/9q/zX/B//U/qD+bf4//hr+9v3T/bX9qP2s/cH93f0E/jn+g/7W/in/d//B/wsAWwCnAN0ACgExAVsBgwGeAaoBsAG4AcMBygHHAbwBsAGhAZABdQFSAS4BBwHeALIAhABWACcA/f/Q/6L/cv9H/xv/6v69/o/+Z/4+/hj+/P3k/dv95P34/RX+P/53/rr+Bv9O/5T/2f8aAGQApgDaAAABJAFLAWgBgAGNAZgBoAGmAawBqgGkAZcBiAFxAVEBMQEPAecAvwCSAGcAOwANAOH/sP9//1H/Iv/0/sn+m/5y/k3+KP4H/vD94/3i/e/9Cf4n/lT+j/7S/hz/Yf+i/+P/KgBvAKwA4wAUAUEBaAGIAZwBqgG4AcEBxAG/Ab0BsgGoAZMBdwFXAS8BBgHhALQAgwBYACwA///Q/6L/c/9D/xf/6v7B/pf+cv5R/jD+E/4A/vf99v0B/hn+Ov5k/pb+1P4R/1H/kf/I/wAAPgB6ALIA3gALATIBVQFxAY4BpwGyAbwBwAHCAcABtwGqAZQBdAFVATABBgHfALIAhABWACoA+v/K/5n/Z/85/wj/3f60/oz+aP5I/i3+GP4M/gb+DP4X/i7+T/50/p3+zf4C/zz/ef+y/+//KwBjAJ8A1gAJATYBYAGGAaYBwwHZAekB8gH5AfgB6wHbAcUBpQGAAVMBJAHvALkAgwBGAAcAzv+X/1//Kf/4/sb+mP5z/lH+M/4b/gT+9/3x/fH99f0C/hf+N/5h/o3+wf76/jr/ev+3//b/MQBtAKcA2wAQAUMBcwGdAcAB4QH9ARECHQIiAh0CFgIEAuwBzAGjAXQBPQEGAcwAiwBNAAsAzv+T/1r/Iv/r/rj+iv5j/j/+H/4B/uv94P3Z/dj93v3v/Qn+K/5T/oL+uv74/jj/fP+5//X/MwBxAKoA4QATAUQBcgGZAb4B3AHyAQcCFgIZAhcCCwL6AeQBxQGeAXABPgEIAdAAlABVABkA4P+m/3H/Pf8J/9b+qf6C/lz+Of4e/gv+/P32/ff9/v0M/iX+Rf5t/pv+zP4D/zv/eP+1/+v/IwBdAJMAzQD/ADEBXQGJAasBywHkAfYBAQIJAgQC+gHpAdEBrwGIAVwBLAH4AL8AhgBMABAA1P+b/2T/K//4/sb+mf5y/k7+Lf4R/gD+9v3w/fX9/f0O/in+Sv5v/pr+zf4D/zz/dP+y/+z/KABmAJ8A1gAHATkBZgGPAbABzAHmAfoBBgIKAgcC/AHoAc8BswGOAWQBNgEEAc8AmABdACcA8P+0/3r/Rv8S/97+sv6I/l7+P/4n/hH+AP76/fv9A/4Z/i3+TP5v/pj+xP70/ir/Xf+W/8//CQBBAHkArwDiABcBQwFsAY4BqwHEAdYB4wHmAeYB2gHMAbcBmQF2AVMBKQH+AMwAmQBmAC8A+//D/43/W/8u/wH/1v6t/oz+b/5Y/kb+PP42/jf+Qv5O/mP+ff6b/r3+5/4T/z//bv+j/9n/DAA/AHMApQDTAP0AJwFNAWoBhQGeAasBtwG1AbQBrQGbAYsBcgFUATEBCwHgALMAggBTACMA8//F/5T/Z/87/xH/5/7C/qL+iP50/mL+Vf5N/k/+VP5h/nH+hf6g/r/+4f4K/zX/YP+O/7z/7P8eAE4AfgCuANgAAwEpAU8BagGBAZUBogGqAakBogGZAYcBdAFZATgBFQHxAMcAnABxAEEAFADl/7n/iv9e/zf/D//t/sz+tP6b/oz+gP56/nb+ef6C/o3+o/68/tb+9/4X/zz/Xv+F/6z/1/8DACsAUwB9AKQAyQDqAA4BKAE/AVEBYAFrAXABcAFoAV4BTAE4ASABAwHpAMgApwCDAFoAMQAMAOb/v/+W/3H/S/8q/xH/9v7g/tH+wv62/rX+tf67/sT+0f7l/vr+Ef8q/0X/Zv+H/6z/0f/0/xsAQABkAIgAqwDJAOQA+wASASQBMAE4AT4BOwE3AS0BIAEPAfoA4wDJAK4AjQBsAEYAIgAAAN3/uf+Y/3f/Wf87/yP/Df/8/u/+4v7a/tb+1v7Z/uH+7P78/gz/If88/1X/cv+Q/7H/0v/v/xAAMgBOAG4AiwCpAMIA1gDqAPkABQEMARMBFgEQAQ0BAQH2AOkA1wDDAKwAlAB1AFcAOAAYAP7/3//C/6X/jP9x/1j/Q/8v/yD/F/8R/w3/DP8L/w//F/8g/y7/Qf9S/2b/f/+X/6//zv/q/wQAIAA7AE8AaAB7AI4AoACrALsAwwDKAMoAywDIAMIAugCvAKMAlACEAHEAXwBIADUAHgAJAPf/4//P/73/rP+d/5D/hv98/3b/cP9t/2z/bf9v/3P/fP+I/5H/oP+s/7n/yf/Z/+b/8/8CABIAIAArADkAQgBNAFgAXgBjAGgAawBsAGsAaABjAF4AWgBPAEcAPQAxACgAHwASAAkAAAD0/+z/4P/Y/9P/yf/D/7//uv+3/7f/tf+4/7j/vP/C/8T/y//R/9P/2v/f/+X/7f/0//z/AgALABEAFAAbACIAJAAkACcAKQApACsAKAAnACYAIgAcABYAFAANAAcABAAAAP3/+f/1//H/7P/r/+j/5v/m/+X/5P/n/+j/6v/r/+7/7v/y//j//f8DAAQABwAJAAoAEAAQABMAFgAVABYAFgAWABYAFwAUABQAEgAOAAkACAAHAAMAAAD9//r/8//s/+z/6P/n/+T/4v/i/+L/4f/h/+D/4//k/+b/6P/p/+7/7v/z//n//P8AAAIABgAJABEAFAAVABsAGwAfACAAIgAlACQAJwAqACcAJgAnACQAIwAiAB0AGwAWABQADQAIAAIA/f/7//P/7v/q/+b/4v/e/9n/2P/V/9L/0v/R/9P/1P/W/9r/3f/h/+T/6v/w//P/+v///wIABQAMABEAFgAWABsAIgAmACgAKgAuACsAKwAoACcAJQAgACAAHgAaABcADwANAAsABQAAAP///f/5//X/8P/v/+3/5//n/+P/4//n/+L/5P/m/+X/5f/k/+f/6f/n/+v/6//t//H/9f/5//3/AAD//wAAAQACAAcACgAPABEAEQARABMAFgAVABkAGQATABMAEgATABEADwAOAAgACAAFAAQAAgAAAAIA///+//v/+v/4//X/9//z//H/8f/x//H/8f/x//H/7//z//T/9//2//b/+f/3//v/+//+/wAA//8BAAEABAAGAAYABgAGAAYABgAIAAsABwAJAAgABgAHAAYABwAGAAcABgAHAAUAAgAEAAEAAAAAAAAAAAAAAAEA///9//3//f/9//3//f/9//3//f/9//z//v/6//v//f/9//v/+P/7//z//f/8//3/+v/7//3//P/8//7/AAD//wEAAgACAAIAAgACAAIAAgACAAIAAgACAAIAAwADAAMAAQAAAAIAAQAAAAAAAAAAAAAAAAAAAAAAAAAAAAAAAAAAAAAA///8//3//P///wAAAAAAAAAAAAAAAAEA/v///wEA/v/9//3//P/9//v///8AAAAAAAAAAAAAAAACAAEAAAAAAAAAAAABAAIAAgACAAIAAgACAAIAAgACAAIAAgACAAIAAgADAAIAAwABAAAAAAAAAAIAAAACAAEAAAAAAAAAAAAAAP3///8AAAAAAAAAAAAAAAAAAAAAAAAAAAEAAwACAAMAAQAAAAAAAAAAAAAAAQADAAIAAwABAAAAAAAAAAAAAAAAAAAAAAAAAP7///8AAAAAAAAAAAAAAAAAAAAAAAAAAAEAAgACAAEABQAEAAIAAgAFAAUAAgADAAIAAwADAAEAAAABAAIAAwABAAAAAAAAAAAAAAAAAAAAAgABAAAAAAAAAAAAAAAAAAAAAAAAAAAAAQD///3//f/9//3//P/9//z/AAD+//z//f/8//z//v8AAAAAAAAAAAAAAAABAAIAAgACAAMAAQAAAAEAAwABAAAAAAAAAAAAAAAAAAAAAAAAAAAAAQD///3//f/9//3//f/9//3//f/9//3//f/9//z//P/8//7/AQD9////AAAAAAAAAAAAAAAAAAABAAIAAgACAAIAAgACAAMAAgADAAEAAAAAAAAAAAABAAIAAgACAAMAAQAAAAAAAAAAAAAAAAAAAAAAAAAAAAAAAAAAAAAAAAAAAAAAAAAAAAAAAAAAAAAAAAAAAAEA/v8AAP///P/9//z//f/8//3//P/9//z///8AAAAAAAAAAAAAAAAAAAAAAAAAAAAAAAAAAAAAAAAAAAAAAAAAAAAAAAAAAAAAAAD///z///8AAAAAAAAAAAAAAAAAAAAAAAAAAAAAAAAAAAAAAAABAAIAAwABAAAAAAAAAAAAAAAAAAAAAAAAAAAAAAAAAAAAAAAAAAAAAAABAAMAAAABAAMAAwABAAAAAQACAAIAAgACAAIAAgACAAIAAgACAAMAAgADAAEAAAAAAAIAAQAAAAAAAAACAAEAAAAAAAAAAAAAAAAAAAAAAAAAAAAAAAAAAAAAAAAAAAAAAAAAAQACAAIAAwACAAMAAAACAAEAAAAAAAEAAwACAAMAAQAAAAAAAAAAAAAAAAAAAAAAAAAAAAAAAAAAAAIAAQAAAAAAAAABAAIAAgACAAIAAgACAAIAAgACAAIAAwACAAMAAQAAAAAAAAAAAAAAAAAAAAAAAAAAAAAAAAAAAAAAAAAAAAAAAAAAAAAAAAAAAAAAAAACAAEAAAAAAAAAAAABAP3/AAD+//7/AAAAAAAAAAD///3//f/8//3//P///wAAAAAAAAAAAAAAAAAAAAAAAAAAAAAAAAAAAAAAAAAAAAAAAAAAAAAAAAAAAAAAAAAAAAAAAAAA/v///wAAAAAAAAAAAAAAAAAAAAAAAAAAAAAAAAAAAAAAAAAAAAAAAAAAAAAAAAEAAgACAAMAAgADAAEAAAAAAAAAAAAAAAAAAAAAAAAAAAAAAAAAAAAAAAAAAAD+////AQD+//3//P///wAAAAAAAAAAAAAAAAAAAAAAAAAAAAAAAAAAAAAAAAAAAAAAAAAAAAAAAAAAAAABAP///f/9//z//f/8////AAAAAAAAAAAAAAAAAAAAAAAAAQACAAIAAgADAAIAAwABAAAAAAAAAAAAAAAAAAAAAAAAAAAAAAAAAAAAAAAAAAAAAAAAAAAAAAAAAAAAAAAAAAEAAwACAAMAAQAAAAAAAAAAAAAAAgABAAAAAQD9////AAAAAAAAAAAAAAAAAAAAAAAAAAAAAAAAAAAAAAAAAAAAAAAAAAAAAAAAAAAAAAAAAAAAAAAAAAAAAAAAAAAAAAAAAAAAAAAAAAAAAAAAAAAAAAAAAAAAAAAA/f///wAAAAAAAAAAAAAAAAAAAAAAAAEAAgACAAIAAwACAAMAAQAAAAAAAQACAAIAAgADAAIAAwABAAAAAAAAAAAAAAAAAAAAAAAAAAAAAAAAAAAAAAABAAIAAgACAAIAAgACAAIAAgACAAIAAgADAAIAAwABAAAAAAAAAAAAAAAAAAAAAAAAAAAAAAD9////AAAAAAAAAAAAAAAAAAAAAAAAAAAAAAAAAAAAAAAAAAAAAAAAAAABAP3///8AAAAAAAAAAAAAAAAAAAAAAAAAAAAAAAAAAAAAAAAAAAEAAwACAAMAAQAAAAEAAwACAAMAAQAAAAAAAAAAAAAAAAAAAAAAAAAAAAAAAQD///3//f/9//3//P/9//v///8AAAAAAAAAAAAAAAAAAAAAAAAAAAAAAAAAAAAAAAAAAAAAAQACAAIAAgACAAIAAwACAAMAAQAAAAAAAAAAAAIAAQAAAAAAAAAAAAAAAAAAAAEA/v/9//3//P/8//7/AQD9////AAAAAAAAAAAAAAAAAAAAAP7///8AAAAAAAAAAAAAAQD+/wAA///8//3//P/9//z//f/8////AAAAAAAAAAAAAAAAAAAAAAEAAgACAAIAAwACAAMAAQAAAAAAAAAAAAAAAAAAAAEA/f///wAAAAAAAAAAAAAAAAAAAAAAAAAAAAAAAAAAAAABAAIAAgADAAIAAwABAAAAAAABAAMAAQAAAAAAAAAAAAAAAAAAAAAAAAAAAAAAAAAAAAAAAAAAAAAAAAAAAAAAAQACAAIAAgACAAIAAgACAAIAAgADAAIAAwABAAAAAAAAAAAAAAAAAAIAAQAAAAAAAAAAAAAAAAD9////AAAAAAAAAAAAAAAAAAAAAAAAAAAAAAAAAgABAAAAAAAAAAIAAQAAAAEAAwACAAMAAQAAAAAAAAAAAAAAAAAAAAAAAAAAAAAAAAAAAAAAAAAAAAAAAgABAAAAAAD//wIAAAACAAAAAQADAAIAAwABAAAAAAAAAAAAAAAAAAAAAAAAAAAAAQD+//3//f/9//z///8AAAAAAAAAAAAAAAAAAAAAAAAAAAAAAAAAAAAAAAAAAAAAAQD+////AAAAAAAAAAABAP7//f/8////AAAAAAAAAAAAAAAAAAAAAAAAAAACAAEAAAAAAAAAAAAAAAAAAAAAAAAAAAAAAAAAAAAAAAAAAAAAAAAAAQD+//3//P///wAAAAAAAAAAAAAAAAAAAAAAAAAAAAAAAAAAAAAAAAAAAAAAAAAAAAABAAIAAgACAAMAAgADAAAAAgABAAAAAAAAAAAAAAAAAAAAAAAAAAAAAAAAAAAAAAAAAAAAAAAAAAAAAAAAAAAAAAAAAAAAAAAAAAAAAAAAAAAAAAAAAAAAAAAAAAAAAAAAAAAAAAABAP///f/9//z//f/8////AAAAAAAAAAAAAAAAAAAAAAAAAAAAAAIAAQAAAAAAAAAAAAAAAAAAAAAAAAAAAAAAAAAAAAAAAAAAAAAAAAAAAAAAAAAAAAAAAAAAAAAAAAAAAAAAAAABAAIAAwABAAAAAAAAAAAAAAAAAAAAAAAAAAAAAAAAAAAAAAAAAAAAAAAAAAAAAAAAAAAAAAAAAAAAAAAAAAAAAAAAAAAAAQADAAEAAAAAAAAAAAAAAAAAAAAAAAAAAAAAAAAAAAAAAAAAAAAAAAAAAAAAAP///P/9//z///8AAAAAAAAAAAAAAAAAAAAAAAAAAAAAAAAAAAIAAQAAAAAAAAAAAAAAAAAAAAAAAAAAAAAAAAAAAAAAAAAAAAAAAAAAAAAAAAAAAAAAAAAAAAAAAAAAAAAAAAAAAAAAAQACAAIAAwACAAMAAQAAAAAAAAAAAAEA/f8AAP///P/9//3//f/9//3//P/9//z//f/8////AAAAAAAAAAAAAAAAAAAAAAAAAAABAP7/AAD///z//f/9//3//f/9//3//f/9//3//f/8//3//P///wAAAAAAAAAAAAAAAAAAAAAAAAAAAAAAAAAAAAAAAAAA///8/wAA/v/8//3//f/9//3//f/9//3//f/9//3//f/8//3//P8AAP7//P/9//z//P///wAAAAAAAAAAAAAAAAAAAAAAAAAAAAACAAEAAAAAAAAAAAAAAAAAAAAAAAAAAAAAAAAAAAAAAAAAAAAAAAAAAAAAAAAAAAAAAAAAAAAAAAAAAAAAAAAAAAAAAAAAAAAAAAAAAAAAAAAAAAAAAAAAAAAAAAAAAAAAAAAAAQD+//3//f/9//3//f/9//z//f/8////AAAAAAAAAAAAAAAAAAAAAAAAAAAAAAAAAAAAAAAAAAAAAAAAAAAAAAAAAAAAAAAAAAAAAAAAAAAAAAAAAAAAAAAAAAAAAAAAAAAAAAAAAQACAAMAAQAAAAAAAAAAAAAAAAAAAAAAAAAAAAAAAAAAAAAAAAAAAAAAAAAAAAAAAAAAAAAAAAABAAIAAwABAAAAAAAAAAAAAAAAAAEAAgACAAIAAgADAAAAAAAFAAYABgAHAAQAAwABAAEAAwACAAQAAgD///v/+P/6////AAAAAAAA/f///wAAAQACAAIAAgACAAIAAgACAAIAAwACAAMAAgAEAAEAAQD+//3/+/8AAAIABQAFAAEAAAD6//r///8AAAYABQABAP//+v/4//r//v8AAAQABwAEAAEA/f/9/wMACQALAAkABQADAP3/9//z//j///8GAAsACQAFAP3/9//z//v/AwANABIACQD2/9H/sP+w/9L/BwAwAC4ACwDj/8j/1P/1/xQALgAwABMA1/+b/4v/tP/x/xYAEADu/8r/uP+6/9P/+/8mAD8AMwAQAO//4P/s/wUAKABBAEQALgANAPX/7v/3/wcAGgAoACMADQDy/+H/4P/s//v/CAAJAAUA/f/x/+T/2f/Z/+n/AgATABQABwDx/+T/5//6/xwANAAuAAoA2f+2/7b/0f///yYANQAfAPr/5v/y/xoASABoAGwAWQA8ACcAJQA1AEUARwBCADEAEwD4/+//+v8GAA4ADgD//+//5v/k/+r//f8VACcAJwAOAOn/x/+5/7v/x//O/8j/rf+B/2D/W/92/6n/3P/3//n/4//M/8z/4P8KADYARwAwAAIA3//W//v/OwB4AJcAjABnAE0AVQCKANsAJwFHASMBzQBxAEIATwCCAKcAmABCAMP/SP8B//r+IP9G/07/KP/c/pH+Y/5f/n/+rf7R/ub+6/70/g7/Rv+S/+X/RgCjAO8AGgEUAfQAzwDFAOcAIAFMAVEBIQHBAFoAFAADACUAXgCHAIEARgD0/6P/ev96/4//pP+c/3H/L//u/sr+0P4G/1L/lv+6/7X/lf96/3P/iP+x/9v/+P///+n/xP+l/5r/tv/t/zoAmQD/AGMBuAH3ASICRQJxAp8CvQLKAq0CZQL7AX4BCQGkAFsAKAD7/7f/V//i/nT+If71/fb9F/5K/nD+e/5s/lH+O/5C/mv+rf7q/gb///7b/rP+l/6J/pL+o/6n/qT+lf5//n/+nv7p/mr/DQDIAIIBOALWAlEDmQO/A94DBgRBBGsEcQQ8BNUDSAO5AjkC0AGBAT0B+QCjADgAt/85/9L+k/52/m3+af5h/k7+Mv4M/vP96/0C/i/+Xf53/nX+WP40/hX++/3y/e796f3r/fP9Av4c/kn+kf77/on/LQDkAKQBYwIKA4IDxwPnA/wDFwQ3BEwEQAQLBKADCQNgArMBEwGHAB0Av/9e/+3+aP7l/XH9Iv35/PX8C/0q/Un9Yf1r/W/9gP2r/fL9QP6B/q3+u/61/qL+i/56/nf+fP6R/rL+zf7e/vr+MP+O/xMAuQB8AUsCHgPOA0YEgQSLBIIEhASMBIsEcQQoBK4DBwM8AmYBogAAAIn/LP/S/mj+4v1S/dH8c/w6/C78Rvxy/KL8yvzj/PL8CP0x/XH9u/0B/i7+Rv5I/jv+HP73/dz90/3p/Q/+Rv6F/tL+Pf/I/3cARgE1AjcDNAQJBZsF5QX+BQYGDQYTBhAG6QWXBQ8FVAR8A40CqwHqAEkAv/86/6v+FP6A/fX8hPwy/AX89/sI/C78V/yB/KX80fwG/Ub9g/25/ez9Gv44/kL+N/4i/gv+/v0D/hr+QP53/sL+Kv+n/z4A8QDDAaMCfgMxBKgE4ATwBPAE7gTtBNwEuARwBAMEbgO6AvMBMwGPAAoAmv80/9L+b/4P/rb9bv03/Rj9E/0q/U/9dv2g/cL95f0J/ib+Pv5R/mb+dP51/mz+Wf43/hT+9/3n/eL98P0T/lj+u/5B/+f/pAB7AVwCNAPoA2AEpQTCBMoEyQS7BJoEYwQPBJgDBgNXApMB3QA6ALX/Rv/n/pD+Of7s/af9aP05/SD9Gf0r/Ub9af2T/bz97f0Y/jz+WP5u/n/+gf56/mz+U/4//iz+Iv4i/ir+QP5o/qn+B/+F/yMA5QDEAbMCnANfBOQELwVIBUoFNgUXBe0ErQRWBNwDPgOBAq0B0AANAGj/5P58/ib+3f2a/WH9Lv0Q/QL9DP0o/U79ev2o/d79E/5J/n7+p/69/sf+xf6w/pf+ff5e/kX+Lv4a/g7+DP4d/kz+oP4e/7n/cQBGAS0CEQPXA24EyAT4BAYF9ATRBJUESgTuA38D/QJlAroBBQFVALL/G/+P/hv+u/13/Uf9K/0d/Rb9Gv0j/TL9Sf1m/ZP9xv0E/j/+dP6c/rD+sP6d/oT+YP44/hX+//33/fz9D/4p/l3+rP4Y/6n/XAA0ASoCJQMHBLkEKAVeBWoFVQUoBewEogRFBN8DYQPRAiwCdgHCABIAdv/h/l7+7/2Y/V39Pf0y/Tb9RP1S/WP9ff2X/bv96f0i/lv+kf65/s3+yP62/pD+Y/4u/v792v3C/br9wv3m/SD+ev7w/oj/OwAMAfYB8ALcA6IEMgWDBaEFjwVcBQsFpQQ2BMQDTAPCAikChAHZACoAgP/g/k3+1P17/T/9Hf0T/Rv9K/1C/Vf9df2U/bz97P0l/l7+lP67/tP+1v7E/qf+ef5G/hT+6f3N/b79xv3e/RP+Zv7X/mj/FgDgAMIBuAKhA2kE+gRVBX0FcQVBBfAEjAQaBJsDGgOKAvQBVQGyABIAc//b/k/+2P2F/VP9PP1A/VD9a/2K/aX9xv3n/Q/+Of5o/pf+vv7e/vD+8f7m/sv+qf59/kv+Gv7y/db9zf3i/RD+Yf7X/mv/GgDgALsBqAKIA0sE3wQ7BWEFXAUpBdoEbwT2A20D1gI2AooB4wBEAK7/KP+u/jz+3P2U/WD9Q/1A/VL9bv2R/bT91v32/Rb+Ov5j/pP+xP7v/gz/HP8X/wP/3/62/oT+Uv4q/gv+//0I/iv+bv7N/kr/5f+VAGEBPQIYA98DfgTpBBgFFgXoBJwENATEA1ID4QJqAu4BZAHYAEgAt/8m/57+K/7N/ZL9c/1u/YD9m/3B/ej9EP4y/lL+cP6N/qr+y/7j/vb+AP/7/uv+zf6h/mr+M/4D/t39x/3K/eb9If6A/gL/of9fADUBHQIHA9gDfwTrBBwFGAXpBJ4EOQTLA1MD1wJZAtQBTAHAADMApP8V/43+GP66/Xn9WP1U/WT9hP2o/cv97P0T/jf+W/5//qf+x/7i/vP+9v7t/tr+u/6S/mT+Mf4H/uj92/3n/Qr+Tf6v/i//zP9/AE4BMAIbA/QDqAQkBWQFaQVEBfgEkgQdBKMDJwOjAh8CjQH2AF0Avf8h/4/+Cf6h/Vb9Lf0b/SX9PP1a/X/9o/3N/fX9H/5K/nH+mP62/sj+z/7K/rf+nf54/lD+Lv4N/vr9+v0F/ib+af7I/kv/7P+rAIUBbQJUAyYEzAQ6BXEFcQVABe0EewT1A2YD1gJFArIBHQGMAPj/Yf/Q/kj+zv1z/Tf9Ff0T/Sj9SP1z/Z79yf3y/Rv+Q/5k/oH+mv6n/qv+pv6c/ov+c/5T/iz+B/7n/dn93P33/Sz+hv4A/5v/VwAzASwCMwMqBAAFnwX8BRgGBAbBBWAF6gRmBNcDQwOrAhYCfQHiAEMAov/9/l/+0/1f/RL95PzT/OH8+/wg/Uj9av2Q/a79zv3u/Qr+If4v/jn+PP42/iv+GP79/d39vv2o/aL9tf3i/TD+o/4z/+T/rgCSAY4CjQN7BEQF0gUjBjgGGgbUBWsF8ARlBNEDOQOZAvgBVAGzAA4AbP/L/jL+rv1E/fr8zPy9/MX83fz9/CT9TP17/aX90P3z/RL+Kv48/kz+Uf5V/kr+OP4f/gH+6P3R/cj92P3+/Ub+t/5J////0AC7AbACoQN2BBYFegWeBYIFOgXQBFAEyAM5A7ACKQKiAR4BnAAXAJD/Cf+J/hr+wP2A/WP9Yf13/aH90f0E/jT+Xv5//pb+pv6s/q/+qP6i/pj+iP50/ln+N/4a/v396/3h/eP99v0e/mP+yP5W/woA4wDTAc4CtQNuBPEENAU7BQkFrQQ3BLgDPAPEAlAC4AFoAeYAXQDI/yz/k/79/Xv9G/3a/MP8y/zu/Cj9Zf2h/dv9Cv4z/lL+a/5+/or+kv6Y/pz+mf6Q/oH+bv5a/kz+Sf5Y/n7+wP4g/57/OgDzAMwBuQKrA5AESwXLBQoGCAbNBWkF4wRNBLEDGgODAu8BXAHDACoAi//n/kn+uf05/dn8n/yH/I78sPzi/B39Wv2P/bz95P0J/ij+Pf5L/lP+Wf5d/l3+Vv5H/jn+KP4a/g/+Ev4q/lz+rf4k/7z/egBYAVACVANNBCUFxQUkBj0GHgbMBVUFxwQrBI0D8wJYAsABJwGJAPD/UP+0/iD+ov09/ff81PzP/OX8DP1A/Xn9rf3c/f79Hf4x/j/+Qf4//j3+Pv45/jP+Jf4V/gT+9P3u/ff9E/5P/qf+I//D/30AUgE+AjEDFATXBGQFtgXDBZYFOgW1BB8EgwPoAlgCzQFKAccAQgDA/zP/o/4Y/pn9Mf3u/Mz8z/zw/CT9af2u/e/9Jv5S/nT+kf6r/r7+yP7Q/tT+zP69/qL+gv5k/kr+PP48/lP+gv7S/kL/2v+QAGoBWwJNAzME8QR0BbsFxgWWBTgFtwQkBH4D0wIwApAB9QBZAMT/KP+Q/vn9cv0B/a/8fvxx/IH8qfzk/C39d/28/QD+Nf5h/oP+mP6i/qr+r/6v/qz+ov6N/nP+Vv49/jD+NP5J/n/+2f5U//j/xACwAbICuwOsBG0F7QUlBh8G4QV4BfIEWgS6AxYDcgLOASsBkAD4/2L/zf4+/rv9Sf37/ND8xPzS/PD8HP1N/Xv9o/3N/fL9G/5C/l7+bv53/n3+fP51/mb+Tf4x/hb+/f3u/fX9Ff5b/sb+Uv/+/8sAswGsAqcDkARRBdQFEQYMBsoFWwXUBEMEsAMdA4wC9AFYAbsAJgCa/w7/jP4e/sL9g/1l/WT9gf2z/e39Jf5T/nP+jP6a/qD+o/6e/ov+cf5T/jD+B/7c/av9e/1R/S39Gf0c/UL9iP31/Yv+Pv8SAAMBBAIEA+4DpQQdBVkFVAUbBb8ETATRA1sD5AJnAuQBWwHPAEcAv/8+/8f+Y/4W/uL90f3Y/fD9GP5I/nj+n/6+/tP+3/7t/vL+5P7U/rj+l/5z/kr+IP76/dj9vP2p/aT9uP3q/T7+sv5K/wUA2AC7AaoCiwNPBOUEQQViBUcF9wSKBAYEgAP+An0C+gFvAdkAQgCu/xz/mP4h/sH9fv1V/Ur9WP16/a394P0L/iv+Qv5N/lX+V/5T/kv+Q/48/jP+Jf4V/gT+8P3g/dH9yv3S/e79LP6M/hL/vf+KAHMBZwJTAyQExAQuBVsFTQUSBbQEQgTFA0cDygJUAtgBWQHPAEIAsf8n/6n+N/7k/aj9i/2J/Zv9u/3i/RD+Nv5U/mH+aP5j/ln+Tf5E/j/+P/47/jT+KP4U/vz95P3W/db96/0d/nb+8/6Z/2YATgFFAjwDHgTUBFAFigWKBVYF/wSQBBUElAMQA4wCAgJuAdcAQQCq/xj/lv4q/tn9qv2b/az9zv0B/jP+Yf6P/qv+vf7D/rr+pP6F/mL+Of4Z/gD+6P3M/a79iv1n/VH9Sv1e/Zr99f13/hf/zv+bAHwBYgJAAwUEoQQRBUIFQQUTBcIEWgTpA20D7QJqAuEBVQG+ACoAnv8e/6/+Wv4g/v398f38/RP+N/5b/nn+kf6Y/pT+fv5h/kT+KP4N/vH92P29/aD9gf1l/Uz9Nv0y/UL9cP3G/UD+4P6l/4EAagFTAjYDAASaBAgFPwU8BREFvgRXBOQDbgP3An0CAAJ9AfcAbwDq/3T/D/+//of+Z/5c/mL+ev6Y/rv+1f7n/un+2/7E/qH+fv5d/jz+IP4C/uT9vv2W/W/9R/0p/Rv9Jf1M/Zr9Cf6f/lX/JQADAegBwgKBAxUEfgS3BL8EnwRgBAUElQMUA4wC/gFuAeMAXwDi/3L/D/++/of+ZP5X/lz+cv6R/rf+3v4B/xv/J/8o/xr/A//j/rr+kv5q/kT+Iv4A/uf9zP24/av9p/20/dz9I/6K/hH/uf95AFABKQL6ArsDWATLBAwFFQXuBKYEPwTIA0YDuwIvAp4BBQFuAN3/Uv/Z/nv+Lf7//ef94P34/Rn+Rf51/pv+r/6q/oz+Wf4d/t/9qf18/Vn9Pf0h/Qf98/zg/Nf83Pzs/Br9Z/3W/WX+G//y/9kA0QHGAqkDcQQMBXUFpQWfBXAFHAWxBD8EyANSA9oCWwLYAVMBzABLANX/av8b/+j+0P7Q/uX+B/8s/0r/Vf9J/yj/8f6q/lv+C/69/X39Rv0Z/fL80/y6/KT8m/ym/MX8BP1f/dz9cv4l//L/yQCpAYACOQPVA0wEjwSrBJoEaQQZBLkDTgPWAlYC0QFJAcMAQQDF/0z/4f6E/j7+E/78/Qb+I/5G/nH+lf6n/qr+mf55/lP+Iv7x/cD9mf14/V39Tv1H/Uv9Wv1w/Zf9zf0W/n3+AP+i/1oAJwH/AcwChAMTBHsEtwTIBLsEjgRDBOYDhgMkA8YCbwIZAr8BXAHzAIgAIQDE/3z/Tv86/zr/Qf9J/0n/Qv8v/xH/5f62/oH+Tv4b/un9t/2J/WH9O/0g/Q39Cv0V/S79Zf2w/Rf+kv4h/7z/WAD4AJIBKwK9AkEDtwMMBD4EPgQXBM4DagMJA7ECZAIXArsBTgHSAFYA4v+C/z//F/8A//n++P7w/ub+0/65/pn+cP5C/g3+1/2k/Xj9VP00/Rb9/vzj/M78wvzD/N/8Fv1q/dr9X/7w/oz/LwDRAHEBEgKjAiYDlQPpAyMERARLBDQEBgTBA28DEwOtAkACzwFgAe4AggAhAM7/iv9e/zz/K/8m/yL/Iv8V//7+0/6f/mD+G/7a/Zv9aP09/Rj9+vzm/Nv84fz4/B/9Wf2k/QD+Zv7R/j//r/8kAJ8AHwGcARICeALOAhYDQwNbA1oDSQM1AxYD7wK8AnYCHQK4AUYB1ABmAAYArv9j/yv/Bf/1/uz+5v7b/r/+mf5o/j7+Hf4N/g/+Fv4c/hn+CP7x/eT94v3z/Qr+KP5G/m7+ov7p/kj/uv83AK4AHAF7AdMBJgJ1AsUCBAMsAzYDIQP8AtwCyQLLAtkC4QLRAqQCXQL/AZkBMgHUAH4ALwDg/4f/Lv/V/of+Sv4d/vn92/29/Zn9dP1T/Tb9If0V/RH9EP0b/TL9Uv19/a/97v0p/mD+mP7Q/hT/Zv/F/yQAcgCmANAAAwFWAb8BNgKqAgkDTAN2A4kDkgOQA3wDRAPZAkkCqQEdAbcAfQBfAEkAJgDz/7v/hf9f/03/Rv88/yP/+v7A/oL+TP4e/vj93v3L/cT9x/3a/fv9Kf5f/o/+u/7c/gD/Lv9t/7v/EwB4AOEAWgHeAWgC7gJeA7YD7wMGBP4D6QPHA6MDeQM8A94CZQLhAWAB4wBzAAIAkf8a/6T+NP7S/Yv9Vv07/TD9Lv0r/Rr9/Pzc/MH8sfy6/M385/z8/Af9IP0+/W/9wf0k/on+4/4V/yv/Mf9F/3f/sv/d//X/DAA+AJ0AGwGlARcCYwKJApoCsgLVAgQDLQM2AxEDywJtAgoCvAGQAZEBtgHvAS8CVQJUAh8CxgFYAeQAgAApAM//a//7/pP+Q/4W/gz+DP4H/vv95v3l/f39Mf5w/qT+vP62/pr+if6X/tX+N/+j//f/JgBOAI8ABQGiAUICtgLnAs4CdAIJAr4BrgHTAQkCJAL8AYIB4AA+AMv/nv+h/6T/f/8b/4f+6P1u/Sv9I/09/Vz9df2F/ZH9qf3Q/fz9HP4x/j7+RP5L/lf+X/5c/k7+P/4+/lX+lP7z/mv/7f9uAOgAVwHGATICjQLcAiIDVwNsA00D8QJaArgBKQGwAFIABQDB/5H/ef9+/5j/v//v/xUAIQASAO3/wP+c/47/iP9+/2j/Q/8i//3+2P6v/nj+T/49/kT+a/6c/sX+1f7c/ur+Ev9o/9//YADYADMBXQFdAVYBbwHKAW0CLgPgA00EfASEBH8EdwRnBD4E/wOnAzMDuQI/AsgBWgH1AJsAVQAWAOf/u/+M/0T/3v5b/sX9Kv2p/EX8BPzY+8P7wfvJ++P7FfxY/KL83vwF/Rj9L/1b/an9Ff6H/un+K/9Z/4b/yv8tAKcAKgG8AVgC7gJlA6MDpwNvAxoDygKNAmcCQwIEApYBAQFlAN//gf9V/0r/Sf87/xf/4v6X/kX+Av7a/d79D/5Z/p7+x/7Z/t7+8P4Z/1n/oP/j/xIAKgAzADAAKwAnAC0AOgBNAF4AcAB+AH8AdABbAEgARgBqALgAHgGMAdkB+AHnAbwBjAFtAW8BjQG9AeYB4AGPAf8ASQCr/03/Nf9a/5X/w//M/5v/K/+I/sf9Df2C/DT8Ifw2/FX8XPxR/EX8UvyP/AL9of1O/vP+f//u/0UAigDOABcBZwG6AQ4CWAKUAsYC7gIOAyEDKQMgAwsD8ALNAq0CmQKLAoACdgJuAmcCWwI4AvoBoAE9Ad0AhAA9APz/q/9O/+/+o/50/l7+UP4t/tn9Uv2i/Ob7VPsS+yn7e/vo+038ofzm/Cn9eP3X/UL+rv4D/0f/d/+i/9r/KgCEAOMAOwGCAbkB6AEmAm8CtwLkAuUCrQJeAhYC7QHmAfUB/wH6AfIB8QH2AfQB4wHGAZ8BewFWASoB8QCsAGQAIQDy/9D/tP+e/37/R//4/pj+Pv7y/bP9hv1X/SX98PzL/Mf84/wf/XH90f00/pj+BP90//D/dAD1AGUBuQHrAQsCJwJYAqQCCQNkA5wDtAOtA50DgwNpA0IDEwPjAqcCXQL2AXEB1wA5AKr/Nf/Z/oT+Kv7E/V79Ef3d/M383PwA/S39VP1e/Uv9Kf0R/Rn9Pv1t/ZT9pf2r/bP9wv3i/R7+dP7N/iP/a/+r/+f/KwB4AL4ABAFBAXwBuAH7AT4CgQK3AtwC+QIIAwoD/gLnAsYCpAKNAp0C0QIRA0cDUwM4AwcD1AKyApICcAI7AvEBhwETAZgAIgC1/03/7f6V/kP+9/2x/W/9Mf31/MH8kPxb/Bv85PvS++v7LPyB/MH86/z//Ar9JP1C/Wf9if2m/cz9A/5g/tH+TP++/xQAWgCYANQAHgFoAaYB2QEHAi4CSgJlAm8CZQJKAhYC2AGhAXUBTwEvAQ8B5wC7AIMAUAAlABYAHgArACkADgDj/6X/cf9b/1r/df+c/8D/3f/r/+n/2f/G/77/uP+3/7v/xv/X/+P/4//Z/9P/3//8/ykAXQCEAJgAmwCYAJ0AoACjAJ8AjAB0AF8AWgBfAGIAWAA/ABsA6/+7/5f/jP+b/8D/8P8fAEQAYgB9AIwAiABkADAA+f/I/6b/k/92/0//Hf/l/rL+jf55/nX+fv6M/pX+ov6t/sH+2/7//iv/Xv+Q/7r/0f/c/9//1v/M/8X/wf/N/+L/+v8LABoAJAAwADwAQQA6ACsAJgAoADYATQBnAHUAdQBiAEoALgARAPr/4f/M/7P/mP94/2D/XP+A/8P/EQBkAKYA0QDkAOQA4ADkAOwA+gD9AO4AxACRAG4AYABnAHEAeAB2AHcAiQC3APoAPQFvAXsBWgEjAe8A1QDZAOsA6ADHAIsATAAuACoAKwAeAPH/r/93/13/Zf91/3r/Zv82//T+u/6V/ov+nP67/uv+Hv9Q/3n/oP/E/97/6//t/+D/zv+8/7T/pv+X/3//a/9i/2z/hv+j/7H/qf+O/2j/Tf9E/0r/Uf9S/0D/If/5/tb+yf7C/sT+xv7O/t/+Av8o/1T/fv+a/7b/0v/5/x8APQBVAGoAhQCzAOYAGgFFAVwBYwFmAXcBigGXAZEBdAE2AegAnwBoAEkARQBSAGIAYQBKAB4A1/+J/0b/J/9A/47/8v9HAIEAkwCPAIMAgwCSAKkAvQDJANAA2ADZANcAygC0AJ0AhAB5AHgAdQBrAFgASwBMAF4AfQCeALgAzADfAPcADQEdATEBQwFYAWsBcgF3AXkBcgFnAU4BIAHeAIYAKwDJ/2f/Bf+o/lf+EP7I/XL9Cv2g/Dv87/u++537hvtu+137UPtP+1n7Y/tw+4D7mPu4+9f79/sH/BX8Lvxk/MP8TP3u/Zn+QP/W/14A2ABFAZEBuQGuAYgBegGaAe8BWgKoAsUCswKRAogCtQIPA2YDkQNwAxoDqgJGAg4C/gEIAgkC9gHNAa4BqQHUAR8CewLZAi4DgQPQAxMESARvBIcElASjBLoEzwTfBNkEtgSJBGYEUwRNBFAEUwRMBEIELgQeBAME2wOiA2QDIQPdApcCUwIQAtEBkQFXASEB6wC4AH0AQwADAMD/ev81/+v+lf45/tn9fP0T/aL8L/zI+3X7OvsR++L6mvpA+uX5n/mC+Zr53/k9+qH6AftU+5f71/sZ/Fn8nPzY/Af9JP01/UL9T/1c/Wb9cv2H/av90f3y/fv9+v3+/Q3+I/4+/lr+ZP5b/kb+Lv4k/i3+SP5z/qb+4P4f/1z/hP+O/3P/RP8S//b+9v4I/xv/E//4/uH+6f4e/3H/vf/o/9//qv90/2L/gP+t/9P/5f/k//L/IQB4ANkAKgFcAYABqAHbARwCVQKBApUCmQKaAqQCwALUAuIC1QKvAnUCPAIRAvkB7gHeAcQBmAFmATYBEAHzAMYAhAA8AAIA3v/I/7r/ov93/0L/Hf8P/xj/JP8m/yL/Hf8j/zL/Tf9j/2z/bP9q/23/dP96/3v/dv9z/4D/l/+r/6//qP+q/8D/8/8yAF0AZABDABgA/P8FADEAWgBbAB8Ax/+D/2j/c/96/13/HP/U/qf+lf6V/oj+Yf4q/v396f35/RD+IP4b/g/+Hf5O/o/+wf7c/uz+A/8n/1D/Y/9f/17/cf+p/+3/IgA3ADAAKAArAEAAXwB4AI4AngCxAMcA2ADnAPIA9wD8AP0A/gAFAQ0BIAE1AUUBQwEqAQ8B+QDsAOQA0gCzAI8AbgBYAE0AQgAyACAADwAJABYALgBDAD8AKAAIAPv/BgAlAEUATQA+ACcAJQA+AGkAigCLAH4AeQCKAK4A1wDtAOYA0wDGANQA/AAgAR4B+QDSAL0AygDiAOAAvQCJAF8ATQBOAFAAQQAiAAAA7f/i/9b/wv+g/3X/TP8v/xj//P7l/t/+7/4Q/zf/T/9X/1v/Y/91/4r/nv+o/6j/of+d/6L/q/+u/6n/q/+3/8L/zv/N/8z/zP/O/9H/1P/Y/+b/9P/7//n/AAAMACAALAAzADEANgBIAGAAdgCCAHsAZwBaAFkAbgCAAHwAaQBSAEYATQBcAF0ATgA1ACUAKgA6ADoALAATAAUAAgAEAAMA/f/z//H/+v8FAAwADwALAAIAAAADAAgACQAAAOz/3f/g/+b/5//l/+D/2f/W/9b/zP/J/8n/0v/f/+f/5f/n/+z/7//o/9f/y//R/+//FgApABcA4f+g/3r/f/+i/9L/5f/W/6j/e/9k/2//iP+X/5H/df9g/2n/i/+z/8r/yf/B/8D/yf/V/9//4v/d/9r/6f8GACIANQA5ADMALgAwADMAMQArACIAHgAiACUAIAAVAAoABgALABQAGAATAAgAAAABAAQABgAAAAIAEAAeACQAGgASABoANABWAGUAYABUAFAAWABdAFkATAAyACQAHQAdACEAIwAeABcAFgAXACAAJAAgABIABAD8/wIAEwAfAB4AEQAKAAkAFgAlACsAIwAXAA4AFQAjACkAIwATAPv/7v/z/wQAEgAUAPz/4v/Y/+X/9v/7//T/4//Z/97/7//3//f/7P/m/+7//v8IAAQA9P/h/9f/3P/t//f/8//i/87/yv/K/8v/x/+5/6f/n/+o/7H/tv+r/5v/kv+V/6b/t//B/8j/0v/e/+v/9P/+/wgADwAUABYAFwAgAC0ANwBBAEQAOgAwACwALgA1ADsAPAA9ADoANgAyADsARgBKAEUAPQA0ADEAMwA5AEIAPgA0ACUAJgAvADgAOQAoABUACgAQAB8ALAAvACUAEAAGAP3//P/+//z//v8EAAgABgD///H/7v/4/wEAAwD+//T/6P/r//H/8//r/9//3//l/+3/8//2//H/5P/g/+z//P8FAAAA9f/0/wAADQAWABAAAQD1//r/EQAhAB4ACgD1//D//f8SABsAEwAFAAIAEAAcAB4AEQAFAAAABwAXACUAIwAPAAAA/P8BAA8AGAATAAUA+v/v/+//6f/i/9b/z//L/8b/wv+9/7z/vP+5/7b/uf+5/73/vf/A/8H/w//G/8P/yv/P/9P/1f/U/9f/2//c/9v/4P/p/+z/7P/p/+X/7f/5/wQADAAMAAEA/f8AAAwAGgAiACAAHQAeACgAQABSAFoAUQBBADMALAA1AEAARQBBAC0AFgAGAAEAAgAFAAYACAALAAgAAgADAAkAEgAWABIAEQAQABIAFgAZACAAJwAnACsALgAqACkAKQAsAC4ALgAuACMAHAAbAB8AHQAaABQACwAFAAcACQAIAAAA8//r/+3/7f/v//X/8f/o/+D/4v/w//7/AQD///7///8EAA4AEAAPABEAGQAeACMAJQAlACcAJQAhACEAIAAYAAgAAAD8//7//f/5//T/5//g/+D/6f/n/93/1//Y/9z/3f/d/9v/3v/g/+r/9v/1//H/7//y//b/+f/+/wAABgAGAAAA+f/v/+z/+v8DAAsABQD9//j/9v/2//b/8//x//P/7//v/+z/6f/h/93/4//q/+b/3v/U/9L/2//o//H/7v/i/9r/2f/j/+z/8//u/+n/7v/6/wgADgAIAAEAAgAKABkAHQAbABMAEwAYABsAHQAdAB4AGgAcACEAJAAgABUACgAJABEAFQANAAAA+f/7/wkAEQASAAUA/f/8/wcAEwAWABIACQAFAAsAEQAUAA8ABgAAAAEABAAIAA0ADwAKAAIAAAD+/wUAEAAQAAkABAABAAcADQALAAoACgAJAA0ADwALAAoACgAKAAoACgAKAAoACAAPABIAEgAQAAoADAARABMAEAAMAAgABgAJAAsACgALAAcACQAKAA4ADgALAAIA+//7//v/+P/0/+3/6P/v//L/7//s/+f/6f/r/+n/4v/b/9n/2f/k/+j/5//n/+j/7//4//7//////wEAAgABAAYABQD///v/AAAEAAkACQACAAEA///8/wAAAQD///v/9v/3//z/+v/2//L/+P///wcACAADAAAAAAAFAAYABgAHAAYACAAFAAIA/v8AAAAAAAD+//z//f/7//7/AQABAAIAAAD//wUADQASABQAEgAYAB8AKQArACsAKwAuADEAOQA8ADsAPAA7AD4AQgBHAEkASABBADsAPwA/ADkAMAAjAB4AGQAOAPz/7v/j/9f/zP++/67/oP+V/4b/d/9u/2T/Xf9b/1v/Vv9T/1P/Wv9p/3T/f/+J/5b/p/+9/9L/4v/z/wcAHwAzAEoAXwBzAIUAlACoALoAyADRANwA6QD4AP4A/QD6APAA6wDkANYAwACiAIcAbQBUADQAEgDw/8//sP+P/3L/Uv82/yD/Df///vL+5P7X/tL+0v7W/t7+6v78/g3/IP8v/z7/Vv9y/5L/rf/H/+T/BAAoAEYAXQB6AJsAwwDmAP4AGQEvAUUBWQFpAXMBdwF4AXYBaQFYAUUBLgESAfUAzgCoAIEAVAAkAPX/xv+a/2//Qf8T/+n+wv6i/oX+af5S/j/+L/4m/iD+GP4Y/iH+Mv5K/mH+df6L/qn+1/4H/zX/X/+J/77///9DAIAAtwDuADABcgGuAd8BCwIxAlwCgAKfAq8CsAKsAqMCkwJ8AloCMQIDAtQBmQFXARIBxgB7ADcA7P+d/1H/DP/E/oH+Qv4K/tX9q/2E/WL9SP00/Sr9JP0j/Sz9Ov1V/XP9lv3G/fn9Lf5n/qf+7f41/3z/yf8YAGwAwgAWAWQBsAH5AUUChQK6AuoCEQMwA00DXQNgA1UDPwMgA/0C0QKZAlQCDwLGAXgBJwHRAHIAEgC9/2r/Gv/J/n3+N/73/bz9g/1Q/Sv9Ef38/Of82vzX/Nr85/z3/BL9Mv1Z/Yj9wf35/Tj+ff7K/iD/eP/P/ygAhgDjAEMBnAHzAUMCjwLVAhMDRANrA4IDkQOcA5wDjgNvA0UDFQPeAqcCYgIVAsEBawEZAcEAaAAMALD/Wv8M/8D+dv4w/uz9sv2C/VP9KP3+/N/80fzF/Lz8tPy3/ML82fz2/Bb9PP1p/aX96f0w/n7+1P4v/5T/+f9nANEAPwGpAQsCbQLLAh8DaAOkA9ED8QMMBBgEFAT/A94DtgN9Az8D9gKfAkQC3wF8ARUBsQBGANv/dP8N/6/+XP4O/sr9iP1K/RP96fzM/LP8m/yH/H/8g/yM/JL8oPyx/Mv87/wY/Ub9ev2w/fL9Q/6b/vb+V/+7/yMAkwAJAX0B6gFMAq4CDgNhA6sD3wMKBCYEPQRFBEAEJgT7A8QDiQNGA/cCmwI2AsoBXgH7AJIAKAC+/1f/+/6j/lT+Bv69/YP9Uf0m/QP96vzT/MD8tfyz/Lf8vfzJ/NT85fz9/Bz9RP1w/aD91v0T/lv+rv4G/2v/zf8zAKEAFQGNAfsBXAK0AgsDYQOvA+YDCwQgBC0ENgQzBBcE5AOsA2wDIgPTAnMCDAKeATIBxgBZAOr/eP8Q/7D+Vf4B/rL9bP0v/QL93Py8/KX8mfyT/JH8lvyl/LX8yPzd/PX8F/08/Wb9kf3A/fT9Mf53/sL+E/9u/8//OQCnABoBjwEDAnYC4AI/A5ID4gMpBGMEiASbBJ4ElgSHBGIEKgTiA5UDQQPjAn0CDgKaASkBuwBLAN3/bP8D/6L+Tf79/bL9cv02/Qj95vzJ/K78n/yU/Jj8ovyp/Lb8w/zU/O38BP0j/UL9Y/2M/bn97P0m/mf+p/7x/kj/pf8NAHYA2ABCAbQBLAKeAgQDVgObA+UDKgRfBHgEdwRnBFMENwQLBMMDZwMFA6MCPwLUAWEB4gBnAPn/kv8y/83+a/4X/s/9kv1h/TT9CP3o/Nn82fzh/OX87vwA/Rr9Ov1b/XT9if2j/cf97v0Q/jL+Tf5y/qf+3/4S/0b/gP/G/xkAegDZADgBlgECAngC7AJJA5ID0QMQBFYEjwSiBJAEcwRZBD0ECwS+A1ID3AJxAhECpQEoAaAAGgCk/z3/2/5x/gP+of1U/Rn97fzF/Jv8ePxp/G/8fvyM/JT8pPy+/OT8Df0u/Un9Yv2A/av91/37/Rv+PP5m/p3+2/4X/07/kP/l/0gArwAQAW8B0wFMAsoCNgOAA7kD9gNABIEEnwSVBHUEWQRBBB0E2ANtA/kCkgI2AtoBaAHfAFcA5f+B/y7/zv5n/gX+uf2J/WT9P/0d/f789Pz7/A39I/0z/UH9Wv17/aL9w/3V/ef9/v0e/j/+Wf5r/n7+mf7B/u3+F/9B/23/rv/9/1oAsAACAVcBvAE2AqwCBgNAA2cDmwPmAyYEOwQhBOoDwwOrA4QDOwPIAk0C5AGLATABvQAzAK3/Pv/o/pf+Q/7g/Yj9Q/0X/f/86/zU/Lv8sfy9/Nn8/PwU/Sn9Qv1n/ZX9w/3o/QL+GP4y/lb+ff6d/rn+2P79/jD/aP+e/9b/EABhALgAGgFzAcYBKwKdAhkDegOyA9cDBgRIBIUEmAR3BD0ECgTwA80DgQMIA4QCFQK7AV8B6QBeANj/af8S/8L+bP4O/rT9bv1A/SX9Ev36/Ob82fzl/P/8If05/Ub9WP12/aD9x/3l/fT9Af4U/jP+VP5r/nn+hv6f/sj+/f4t/1n/jv/Z/zYAmQD0AEkBrQErAq4CEANHA20DowP2A0AEVAQtBPIDwgOuA4wDPQPAAjcCygFzARsBpgAaAJP/JP/X/o7+Qf7t/aD9af1M/Uf9R/1D/TX9NP1I/W79lv25/c393f34/SD+Sf5l/m7+cP55/pP+s/7K/tT+4P75/h7/T/99/67/5/82AJUA8gBTAbkBMwK/AjoDigOuA9UDHARxBKAEkQRMBAcE4wPNA5cDIgOHAvgBkAE6AcsAOQCg/xz/wf56/i7+3P2I/UX9G/0E/fj88/zr/Of86/z//Cf9TP1r/X39hv2b/b394/39/QD+Af4K/iL+Qf5Z/mj+dv6V/sH++P4u/2z/t/8YAIMA8ABcAdQBZQL/AnwDwwPqAyAEdgTGBOkExAR4BDwEGgT3A6wDIgOLAgYCogFDAccANQCk/y7/1f6M/kH+9/2w/X79Yf1O/U79Uv1e/Wb9c/2M/bL94P0E/hT+F/4n/kb+Zv53/nP+Yf5g/nL+h/6S/o/+kf6e/sP+9P4o/2P/rf8KAG8A2wBSAd8BfwIYA4gDwQPkAx4EeQTNBN4EpgRKBAAE0wOkAzsDngLyAWcB+gCRABAAdP/e/mn+E/7P/Yz9Q/0M/er82fzV/OD89fwO/SP9O/1X/YX9u/3o/f79BP4P/ir+RP5Z/lz+U/5U/mL+dP6C/o7+m/6u/tL+/f4w/3b/0P86AKgAFwGYAS8C4QKOAwkERgRnBJ0E/ARQBWcFLwXJBHAEMAT1A4sD6gIzApABEgGeABsAh//x/nT+Fv7R/ZX9X/01/RX9AP39/BD9M/1g/YX9mv2x/dX9AP4w/lH+Wv5Z/lr+X/5j/mD+Uv5D/jL+Lf4p/ij+L/48/lT+dv6g/tb+Kf+Q/wIAdwD0AIUBMgLyApcD/gMqBE4EkQTtBC8FIwXJBFEE7QOkA1EDzwIfAmABtAAqALb/P/+3/jj+yP12/UX9JP0N/fz8+vwI/Sb9Wf2d/d39D/42/lb+f/6y/uD+/v4D//f+5f7a/s7+vP6m/ov+av5T/kz+Uv5g/nP+h/6p/tz+KP+G//L/YgDeAGkBDQLXAqUDVQTGBPEECQUvBW0FoQWNBSoFjwT1A3cDBwOEAtUBCwFEAJn/Ef+d/i/+vv1X/QX91fzF/Mj83fz1/BP9Ov10/bv9C/5R/oP+pP6+/uH+A/8Z/xr/AP/X/qn+gP5b/jr+Ff7v/c/9s/2q/bb90v38/Sn+Xv6e/vv+dv8AAJUAKwHVAZUCcgNFBOYEOgVPBV8FiAW8BcIFfQXjBCMEdgPoAmACwgEFATQAdP/M/kr+5f2Q/UL9/vzS/MX85Pwe/WH9of3f/ST+eP7Z/jP/f/+t/8f/0//Z/9f/x/+j/2n/Hf/O/oH+OP4D/tT9qP1+/Wf9bv2E/bT96f0g/mP+v/4x/7r/VQD0AJ4BVAIlAxME9wShBeoF2wWyBaoFyAXKBXYFuwTFA9QCDgJpAcIAAgA0/2z+w/0//e78w/ys/J/8kfyc/ND8Lv2s/R7+fP7O/hv/cP/C/wAAJgAtABsA9f++/33/NP/j/oj+Hv6z/VT9EP3n/M/8wPy9/M/8/Pw//Zb99v1h/tX+U//h/4MANwH2AcICpwOeBJAFPQZ2BkkG+wXTBdUFzwV5Ba0EmgOHApwB2wA0AJD/4v4t/of9CP3H/MX85vwT/Tb9Yv2t/SP+sf5A/7r/EgBaAJMAvgDVANEAtwCEADMAyf9O/9H+Yv75/Y79H/23/G78S/xJ/Fj8cfyc/Nr8LP2T/Qj+hf4E/37/AgCXAEIBBALSArEDnASDBTQGdgZBBs4FdAVPBT8F7wQsBA0D0QHEAPX/U//B/jD+n/0V/aL8Zvxz/L/8J/2D/cj9DP5u/vX+kf8cAIMAxADiAOYA1ACsAHgAPQDq/3P/1f4t/pf9H/3H/HX8Lvz6++77Avwv/Hb80/w+/a79Hf6S/gz/j/8WAJgAGwG0AWQCLAMPBAcF9wWsBuQGkgb1BXAFNgUsBe4EPgQbA80BoAC8/yD/sv5S/vH9hv0d/d388PxV/eH9bP7L/hP/Xv/M/00AyQAiAU8BSgEeAc0AZgAFAKr/RP/A/hH+WP2w/Dn86vu6+5n7jvuh+837E/xu/OL8Zf3m/Vn+yP43/67/JwCfACMBsAFXAg8D1gO2BJcFSAZ4BhgGagXPBIAEYQQiBH0DcAIzAQ4AK/+X/kP+HP7y/az9XP0p/UD9t/1h/gT/e//E/wAARgCdAPAANwFZAUgB9wBsANH/Tf/r/pb+Lf6g/fn8Y/z7+8n7w/vk+x38ZPyw/AP9b/3t/X3+Bv97/9f/KAB2AMYAJwGbAS8C1gKOA1cENAUFBoIGcwbbBRMFgAQ8BBYEugP8AucBsgCe/8r+Rv4W/hD+C/7f/Zb9c/2g/SH+0/58//b/PQBrAJEAugDlAAkBFAHhAGAAqf/p/lf+7/2a/Tr9vPwq/Kj7Vfs4+177s/sg/Iv85Pw6/Zv9Gv6n/i//pf8BAEUAeACzAAkBjwFBAgoD4gO8BIkFGwYvBsEFEQVrBAYEzgOBA/ICDwL/AO3/Bv9t/in+J/5F/kj+Lf4S/ir+kP4v/9f/bADSAA4BLwE2ATMBMwEtAQkBpADz/yH/X/7S/W79Hv3I/Gf8B/y++6X7xPsZ/Jn8J/2l/Qz+bv7X/kP/r/8KAFcAlQC+AOIADwFbAeIBkgJeAzgEDwXEBQ8GxQUWBVIEzAOHA00D3gIdAhUB8f/p/iD+s/2s/eX9Hf4l/g7+B/4+/r/+aP8NAJQA6AAPAREB8wDTAMAAmABCAKn/3/4S/m/9+Pyi/Fr8FvzS+5z7hfuY++z7dfwV/bD9Jf6H/ub+SP+p//3/PQB1AJkArwDSABIBjQFAAhUDBAT7BNMFTAYpBnsFowT7A6QDdAMsA5UCrQGNAGv/dP7U/bH97f1J/oT+jf6E/qH+/v6X/0cA5wBfAZUBiwFXAQwB1gCqAGQA5P8i/0j+hv30/I38Svwb/Pr74PvU++D7HvyQ/C79y/1U/rn+CP9P/4//yv8AADIAVQBsAIQAsgARAa0BeAJmA2YEVQXsBewFUgVxBK8DNAPyAq8CMAJeAU0AK/8k/m/9M/1q/eH9RP52/ob+o/7u/m7/CwC1AEUBnQGqAXEBDgGmAFEA9f94/9T+Hf53/er8evwq/Pv75fvt+wX8NvyD/P78k/0p/q3+Gf90/8X/AgArAFAAZwB3AIMAlwDJADQB4QG6ArIDtASiBUAGSAa3BdAE/ANwAx4D0AJZAp0BmgB7/2T+lP1C/XD98/1w/sT+6/4S/1T/uv9EAOMAcgHTAekBqAEsAaEAIQCn/xX/YP6r/Qn9ffwV/ML7l/uN+6T71vsi/In8Df2h/S7+pv4G/13/pf/b//r/DgARABUAHQAvAGgA1gB7AUoCOwNBBDwF8AUKBoMFogTIAygDyAJ6AhECbQGIAHb/X/6G/Sb9U/3f/Xf+6/4y/2T/of/1/2YA9gCDAe0BDwLcAV8BxgApAI3/5v5A/qz9Lf3A/Gb8IPz8+/37Ifxf/Lj8L/3B/Vz+5v5S/53/3P8LACkAOABIAE4AUABSAFgAhQDrAJMBbAJ1A5AEnQVXBmMGzQXXBOcDNwPEAmwC/AFXAWsATP8i/j392/wU/bD9Yv7x/kr/gv+0/+7/RwDKAFkBxAHoAasBGwFvALX/9/49/pD9+vyG/CP8z/uW+337jvvJ+x/8kfwb/bj9Uf7S/jT/f/+4/+T//v8DAAIA/P/4//3/FgBWANQAjQFwAnQDmQSxBWcGcgbbBeUE8QM1A7cCWALvAVQBegBm/0b+ZP0G/Ur99f22/lT/v/8HADsAdQDIAD0BvwEmAkIC/QFoAacA0//8/i/+gf39/J78Vvwb/Ov71vvu+yr8j/wO/aL9Pf7M/jf/gP+2/9//9P8AAAQA+//v/+X/6P8JAFgA5gCqAZcCqQPJBMMFQgYQBkIFOwRLA5kCIAK7AUgBnQCv/5b+hf3K/KX8EP3T/Z3+SP/A/woAOgBwALoAKgGeAekB4AF1AcEA5////hv+VP28/GH8JPzz+8T7p/ut++D7QfzD/GP9Ev66/kr/r//l/wUAGwAnACgAHQAOAAIA+/8AACcAgAAXAeUB4QIJBEgFWQbWBo0GrAWTBJID3gJiAgECjwHiAPD/y/6x/fr84fxb/S3+Af+v/yYAbwCbAMMADAF4AecBKwIVApwB2QDm/97+2v0B/W38GPzv+9D7tPuj+6r72Ps5/MD8Z/0d/sj+S/+W/7j/xP/K/8r/xP+0/6X/lf+T/7H//f+EAEkBPQJQA3YEiwU5Bj8GoAWeBJcDxAIuAsEBUAG/APP/8v7m/RX9xvwR/cv9qP50/w4AdwC6AOcAGwFrAcsBFAIaAsYBGwE4ADr/PP5e/bb8TPwb/Af89fvx+wb8OfyS/Av9oP1L/vD+d//Q/wEAFQATAA8ABgD+//j/9//4/wYAMgCTAC0BAAIGAzQEbQVjBr0GWQZnBUMEPgOBAvkBjAEQAWQAdf9a/lr9wvzL/GT9SP4o/+L/YgCqAMoA4wAZAXgBzgH6AdQBSgFwAGz/V/5T/Yn8DfzT+7/7tvuv+7r74fsk/JD8If3K/Xz+Ev95/63/v/+9/7b/sP+s/6f/rP+s/7X/1f8rAMMAlAGQArYD8AQBBo0GYQaWBYMEfgOzAicCvQFRAcAA6//e/tH9Ev3r/GL9N/4i/+3/ggDeAAsBIQFNAZ0B/AFAAjACwwEBAQMA8v7o/Q39ffw0/Bv8FfwQ/Bv8OPxy/Mn8Rv3k/Yv+I/+O/8X/2//d/9j/1P/N/8j/y//P/9X/7/83ALYAeQFuAokDtgTNBXQGbAazBZ0EiQOsAhYCowE0AaQA0//J/rX95vyo/Ar91v3A/pX/LwCHALMAywDrADYBmAHeAeEBfwHCAM3/wP64/d78TfwH/PL78vvs++/7C/xB/Jb8E/2w/Vv+9/5s/63/yP/Q/83/yv/J/8T/tv+o/5v/nv/S/0EA+ADiAfgCLQRpBWcGzQZ0BpAFdgR5A7gCMAK8AUIBmQCt/5P+j/32/Pf8hv1f/jv/+f9+AMkA7QAKAUMBpQEAAjACCQKAAaIAl/+E/oj9zvxe/Cv8F/wJ/Pj7+vsb/F38yPxW/f39o/4q/3z/o/+x/7L/rf+p/6H/lP+F/3j/c/+O/+H/dgBBATYCSQNwBIYFLgYuBogFigR+A6sCFgKjATgBsgDq/+L+1P0E/b/8Ff3Y/b3+if8eAH8AqADBAOIALQGYAeMB5QGDAcUAzP+8/rv97fxp/C38H/wb/BH8DPwe/F78xfxO/fn9q/5B/6X/1P/g/+H/6f/z//v////v/9r/w//C//b/bAAoARECFAM1BFsFPwaTBjkGXgVXBGwDsAIsArYBMwGFAJf/g/6L/QL9Cv2g/Xf+Sv/4/2wApgDBANgAEAF2AdcBAQLMASwBOwAl/xL+I/2D/C38D/wG/PL70/vB+9z7MPy0/F79Fv6//jj/dv+K/4n/j/+h/7r/yP/B/6z/j/+B/6D/AACnAIYBhgKZA7MErAUzBhYGbQV2BIQDyQJHAtoBZgHPAP3/8v7s/Tj9EP15/T3+Ff/P/0wAkACtAMcA+wBcAc8BGgINAo8BuACz/6P+vP0P/ar8e/xh/D38Evz6+wj8UvzN/G/9IP7H/kr/m/++/83/4/8DACcANQAxAB4AAQDt//3/SQDhAKsBnQKfA6cEkQUgBhwGhAWgBLAD8gJgAukBcAHaAA0AEv8S/lD9CP1T/fz9wf5w/+j/MQBaAHsArwAUAYgB2AHLAU4BcwBr/2P+gf3Y/G38N/wU/O77wfuj+7L7+ft0/A79tv1R/sn+H/9L/2v/kP+8/+b/AgAJAP7/6P/l/wgAbAAQAegB1ALTA9QEsQUsBhUGdwWQBKsD8QJjAvABeQHlACAAL/8//pb9bP3I/XT+Mf/M/zYAawCGAKEA4ABLAboBAALlAWABgwCE/43+wf00/eH8s/yM/Fb8F/zw+/n7Qvy8/Fb98P11/tP+DP8o/0j/ef+y/+j/BgAIAPj/4v/h/xYAiQA9ARgCAwP2A+MEnwXvBbQFAwUjBE8DpAIgAqMBHQF5AKT/qv7H/T39Mf2d/UT+7v57/9P///8WADoAhADuAGEBlgFlAc0A7v/+/iT+dv0C/bv8i/xV/BT82vvD++T7Q/zN/GT9+v19/tv+G/9N/3//wP/9/y0AQgBDADUAMABIAJYAIgHkAb8CowOMBGUF+QUfBrwF/QQjBGcD3wJuAvcBawG1AM//1v4J/qX9wv06/tb+Z//L/wAAHwA2AGQAuQAkAYYBnQFNAZ4AuP/S/gv+dv0X/db8mPxT/AH8vvut+9L7Mfyy/EH9x/0u/n/+vv7v/i3/c/+z/9//9f/3//H//f8sAI0AIAHfAbICiwNvBDUFsgW1BT4FfwS1Aw8DjgIhAqwBIAFkAHj/hv7L/YD9tf04/tP+Vv+x/+H/+f8TAEwArgAjAXkBdwEQAV0Ahv+8/hD+m/1U/R796/yl/Fb8FPwI/DX8mvwj/bT9Mv6X/tv+D/9K/5j/8v9DAHkAjwCLAH8AiADAADEB1wGaAmkDNgT3BJIFywWOBewEJQRxA+QCdwIPApIB9AAgADH/UP69/an9AP6M/g//bf+m/7b/wf/Y/xsAhwD4ADMBDgGIAMX/8/47/rL9U/0T/dv8kvw1/N77qvuw+/T7Zvzn/GX90f0o/m7+q/74/lH/r//5/ycAOQBFAFAAfQDUAGQBHALnArwDgQQvBaQFrwVHBZcE1QMwA8ECaAIEAoEBzADu/wn/UP75/RT+h/4Q/4D/wP/Y/93/6/8fAH8A/ABiAYIBQQGsAO//Nv+b/iX+z/2M/T794Px2/BX86Pv7+0b8tvws/Z/9/v1G/on+0P4n/4z/6/82AGIAcwB/AI4AvgAaAaYBVAILA8gDegQOBV8FVgXkBD0EjQP9ApICMALEATUBegCd/8D+C/60/cf9If6R/uv+IP80/z7/Wf+W//7/ewDkAAsB0gBLAKD//f56/h7+2/2g/Vj98/yB/Bj83fvk+yL8fvzr/E79qv34/T/+j/7w/mb/2f8zAGsAhgCVAKcA1gAwAb0BaAInA+EDmQQ0BZIFlAUvBZIE6gNhAwADpgJBArkBAgEpAEn/kf4z/jj+gv7o/i7/VP9e/1//b/+o/wsAjwAGAToBFwGlAAwAeP/5/pn+Vf4W/sT9Vf3Q/FL8/Pvo+wn8T/yl/Pr8RP2I/cv9Ff59/vb+cf/V/xQAMQA+AEkAZwCsABwBsgFfAg8DugNcBOAEFgXyBH0E6ANaA/ECnwJFAtcBRAGLALL/4f5G/gT+Gf5a/qL+z/7g/uH+5/4K/1n/0v9YAMUA7gDIAF8A4v9q/w7/0P6f/m7+IP60/TT9vPxx/GH8hfzE/A/9WP2U/cn9Bv5P/rn+Nv+v/xQAWgCCAJkArgDZACIBkgEaArYCWAP7A5kEGAVQBTEFxwQ6BLYDUAP8AqYCOwKjAeEA+/8h/4H+Pv5R/o3+zP7s/ur+2v7S/uj+LP+j/yQAjQC3AJMAOwDJ/2H/D//T/qX+cv4j/q/9JP2h/E78Kvw1/GD8nPzb/BP9Rf1+/c39Nf6w/iz/lP/g/xAANABaAI0A3gBQAdsBcQIMA6MDOASxBPME5QSRBBcEngM5A+gCnAI/AsMBHQFUAIr/6v6U/oz+r/7b/vn+/v70/uj+8v4o/4r/BQB2ALUArwBzABcAvv94/0r/Lv8J/9H+d/76/X/9GP3f/Nj89fwg/Ub9bP2O/bT98P1C/rD+Kv+a//b/MABZAH0ApADbAC8BmwEXApUCFgOaAx0EiwS/BK8EYATzA4UDJAPZAo0CNgLCASIBYQCW//L+lP59/pX+s/7B/rr+of6E/nz+nf7w/mT/z/8HAAUA0P+E/zz/DP/y/un+4P65/m7+/f2D/R/94vzS/OP8Av0l/UH9Vv1x/Zz95P1N/sb+NP+O/83//f8qAF0ApAD/AHEB7QFxAvYCeQP7A2UEogSdBGAEAwSlA1cDFQPcApoCOwKtAfoAQgCf/zr/Cv8D/w//E/8A/9/+u/6l/rP+6v4+/5P/zv/k/83/pP98/1z/T/9Q/1X/Sf8V/8T+Y/4E/r39lf2M/Zj9r/29/cj90P3i/RH+Xv62/hP/Zf+l/9L/8P8RAEEAgwDaADoBlwH3AVECsQINA1wDjQOZA3sDRwMLA9ICogJ0AkQCAwKjAScBnQAgAMP/hf9o/1r/RP8m//b+wf6R/nz+hf6n/tT++f4K/wX/6/7M/rr+s/7A/tv+7P7u/tP+pP5v/kH+Kf4i/i7+Pf5K/lf+Yv5x/pD+w/4E/0r/hP+u/83/5P/6/xgARwCAAL8A/AA7AXYBtAH0ATsCfwKuAsMCwAKtApYCgAJwAl8CRgIeAuMBkgE8AfIAuQCRAHkAaABPACUA6v+s/3X/TP82/zH/Mf8u/yD/Bv/h/sP+sf6o/rP+wf7J/sb+vf6u/qH+kv6L/o/+l/6k/rT+vP7G/tD+4P7z/gj/H/82/0v/W/9p/3j/j/+t/9H/9f8dAEMAawCaAMcA+wAqAVcBdwGLAZsBqQG1AbwBwwHIAcUBuwGnAZEBegFlAVUBSAE4ASYBCgHiALMAgABQACEA+P/U/6z/h/9k/z//Hv/+/t3+yv64/q7+of6N/nz+bf5X/kn+Qv5A/kX+Tv5Z/mT+a/5z/oD+jv6o/sX+5/4G/yL/RP9j/4P/p//O//3/KgBbAI4AwADxACEBUAF4AZcBsgHPAesBCQIkAj0CTAJVAlUCSgI9AjACIwIVAvwB3gG9AZABYAEsAfcAwgCKAFgAIgDw/7r/hP9U/yT/9v7N/qb+iP5o/kv+L/4U/v796P3U/cf9v/25/b/9x/3U/er9//0U/i7+Sv5u/pP+vP7j/gn/Lv9T/4H/rP/d/w0AQQBxAJwAyQD4ACcBWgGKAbQB2QH0AQ8CJQI0AkMCTQJQAkoCPwItAhUC/QHhAcUBowF+AVgBKQH1AMMAjwBXACYA8f+8/43/Wv8q//r+yf6e/nj+Uf4y/hr+//3v/eT92f3U/dH90/3b/eb9+P0R/in+RP5l/of+qf7J/vL+GP8//3H/nf/I//P/GQBBAGcAkQC4AOEADAE4AWEBhwGrAc4B6QEEAhgCJwI2AkICRwJGAkYCPAIvAiACDAL1AdgBwAGiAX0BUgEjAe0AtAB+AEQACQDX/6H/af81/wH/z/6h/nb+U/4x/hX+/v3n/db9y/3D/b/9wf3I/c792/3t/QD+Ff4u/k/+cP6T/rX+1v76/iP/Tf94/6D/yv/y/xQAOwBeAIcArwDWAPoAIgFDAWgBhgGkAbsB0AHjAfIB/QEHAhACEQINAgcC9AHiAc0BswGbAXsBWwE3ARIB6AC4AIYAVwAmAPf/yP+Z/2j/PP8S/+z+x/6n/o3+cv5f/kz+Qf44/i7+Jv4m/if+L/44/kP+VP5o/n/+lP6t/sf+5P4F/yT/Rv9m/4X/pP/D/+T/AwAhAEQAYwCFAKYAwwDmAAYBJgFHAWQBgQGbAbIBxAHTAd8B5gHqAekB6AHkAdkByQG6AaIBiQFtAVABMAEMAeUAvACQAF4AMAAAAND/of9x/0H/F//u/sr+qv6K/nT+Wv5I/jf+J/4d/hX+Ev4Q/hD+Gf4f/iv+N/5H/lz+df6L/qf+xf7k/gH/Iv9E/2b/iv+r/9L/9P8ZAD0AYgCKAK4A0QDxABQBNQFVAXYBlQGxAcQB0wHcAeEB6AHrAewB5AHbAcwBuwGnAZEBeQFfAUQBJAEBAdgArgCEAFkALwAFANr/sf+K/2H/Pf8Y//r+3v6//qn+k/6B/nD+Yf5X/k3+Rv5D/kT+Rf5N/lb+Y/5w/oT+mv6w/sj+5v4B/x7/PP9b/3r/mP+6/9n/+v8cAD8AXwCCAKIAwgDhAAEBHgE6AVQBbQGEAZYBpQGwAboBwQHEAcMBwgG6AbIBogGQAX8BawFSATYBGAH8ANgAsgCMAGYAPwAaAPH/yv+f/3f/Tv8q/wX/5/7H/qz+k/58/mr+Wf5J/kD+Nv4y/jD+MP40/jz+Rv5R/mX+e/6Q/qn+xv7k/gH/Iv9G/2X/hv+p/8z/7v8QADQAVABzAJIAtQDWAPIADwErAUUBWwFwAYMBkQGeAakBswG7AboBuAG0AasBoQGUAYcBdQFkAU0BMwEXAfkA3QC5AJUAbQBIACEA/P/Q/6z/hv9d/zn/GP/3/tj+v/6m/o/+ff5r/l3+Uv5K/kf+SP5K/k7+WP5g/nH+f/6T/qn+wv7c/vb+E/8x/1D/b/+O/63/zP/r/wQAJgBDAGAAhACiAL0A2QDxAA0BJgE8AVABZQF4AYcBkQGaAaEBpAGmAaUBoAGaAZMBggFzAWMBTgE4ASABAwHnAMYApQB/AF0ANAAMAOf/w/+d/3X/T/8w/wz/7v7N/rX+nv6G/nT+af5Y/k/+RP4//kD+Qv5G/k/+W/5s/n3+kf6r/sX+3/78/hr/OP9X/3j/mf+3/9v/9v8XADQAUgByAI4AqQDIAOEA/QAWAS4BRAFZAWsBfAGKAZgBoAGlAagBqgGqAaUBnAGPAYEBdAFgAUoBNQEdAQAB4ADAAJoAdwBSACwAAgDb/7T/j/9r/0f/Jv8G/+j+zv61/p7+i/59/nL+aP5g/mH+YP5j/mv+b/58/or+mP6p/r7+1P7q/gT/Hv85/1D/bv+H/6H/vP/X//L/DAAoAD8AWgBzAI0ApwC7ANEA6QD/AA8BIgE3AUkBVwFkAW4BeAF/AYEBgwGBAX8BewFyAWUBWAFHATMBGgEDAekAygCtAIwAaQBHACMA/P/Y/7X/kP9v/0//Mv8Z//3+5v7R/r/+rv6f/pX+iv6I/oL+gv6E/or+j/6c/qf+tP7F/tv+6/7+/hX/Lv9E/1v/cf+L/6f/vv/Z//D/CQAhADsAUwBuAIYAoQC6ANEA5gD9ABMBJAE1AUYBVAFiAWoBbgF1AXMBdQFxAWsBYgFYAUsBOgEoARIBAAHpAM4AtgCUAHgAWgA8ABoA+//c/73/nf+A/2T/SP8s/xL//f7o/tX+yP67/q7+o/6d/pj+kv6S/pX+l/6c/qb+sP69/sz+2v7r/v7+Ev8p/0D/V/9t/4f/o/+6/9T/8P8HAB4ANQBMAGcAgACXALAAxQDYAOsAAAERASQBNwFFAUwBWAFdAWYBagFqAW0BaAFlAV0BUgFJATgBKQEZAQMB7wDWALsAoQCEAGUARwAoAAoA6f/H/6z/jP9w/1P/O/8f/wn/9P7i/tH+w/61/q7+pf6h/qD+of6k/qn+r/65/sP+0P7e/vD+A/8U/yn/QP9X/23/iP+g/7f/z//m/wAAFwAvAEMAWwBvAIMAlwCrALwAywDeAO8AAAENARkBJgEzAToBPwFEAUkBTAFKAUgBQwE9ATMBKQEdAQsB+gDlAM8AuACjAIoAbABOAC8AEgDx/9D/sf+R/3X/Vf82/yL/Cv/0/uL+0f7D/rX+qv6j/qH+n/6g/qb+rP61/sD+yv7Y/ub++P4L/xz/Mv9G/1z/dP+H/5//s//K/9//8f8EABgAKAA7AEsAXgBvAH8AjwCeAK4AvgDLANkA5gDxAAEBDgEbASQBLQE2AT0BPgE/AUEBQAE9ATgBLwElARcBCgH4AOcA0gC8AKMAiQBvAFEAMgATAPn/2v+9/6L/hf9s/1T/O/8m/xT/A//1/uv+4v7Z/tP+zf7K/sz+zv7U/tr+5P7v/vn+B/8W/yP/Nv9G/1n/af94/4v/m/+t/8D/1f/l//f/BwAWACYANQBEAFcAaAB3AIcAmACkALMAvwDPANsA5wDzAAABCQESARgBHQEiASQBJQEnASYBIAEbAQ4BBAHzAOEA0AC9AKkAjwB3AFgAPQAfAAEA4v/F/6r/jv9z/1b/Pf8k/xL//v7v/uL+1f7L/sL+t/6z/rX+uv7B/sz+1f7a/tz+5P7n/vD+//4L/xb/JP8p/y7/Lf8x/zb/Q/9c/3P/if+f/7H/xv/n/wwAPABvAJwAwgDoAA0BNwFqAakB7AEqAl0CeQKBAn4CfAKJApkCpwKlApECYAIdAtMBigFMARsB7wDAAHsAJQDK/3P/L//9/t/+x/6p/oL+Vv4o/gT++f0J/ib+Sf5n/m/+cv50/nz+l/7D/vL+Gf8u/zb/K/8e/xr/H/8x/0P/T/9Q/0f/Nv8r/yv/P/9Z/3T/jv+c/6P/q/+7/9j//P8rAFoAhgCsAMkA6wAWAUQBfwG+AfwBNgJmAowCoAKlAp8ClwKUAo0CewJcAi0C7QGgAU8BAAG6AHoAPwADAMH/c/8h/9f+pP5//mv+X/5U/kf+OP4p/if+M/5U/oT+tf7d/vr+DP8a/zT/Uf9y/5L/pP+o/5P/c/9R/zP/Hv8N//7+6f7L/qn+if55/nP+f/6R/qr+wf7S/uT++/4e/0z/g//D/wgATwCXAN0AJQF8AdsBQAKtAhYDdQO3A9UD0wO7A5wDjwOFA3YDSwP4AoMC9QFiAeQAhABCAA0Ax/9o//b+gP4s/v39+f0M/iX+NP4u/iD+G/4z/m/+xf4e/2H/g/+N/4z/kv+l/8D/2f/l/9T/o/9d/xf/1f6r/pH+dv5V/ir++f3Q/bX9tP3L/fP9Hv5F/mL+fv6i/tj+Jf+G/+//VACyAAoBYwHFATQCswI8A8UDOQSEBJcEggRYBCoECATpA8IDfQMJA24CwgEVAYIAFADH/4P/Of/T/mT++P20/aD9tf3l/RP+K/4z/jH+Pv5p/rf+HP99/7//2f/W/8r/wf/O/+L/7//l/7D/Yv8A/6n+Z/4+/iX+C/7n/bP9iP1p/Wn9hf21/fT9Kv5Z/nz+pf7e/i3/lv8DAGoAwwAcAXcB3QFZAusCjwMzBLIE+AT2BMYEjgRmBFEEPgQJBKYDCANCAmcBoAAMALH/dv86/93+XP7T/XT9T/1h/Z794P0W/i/+Nf49/l3+q/4e/5j/8/8aABUAAwDx//X/AgAMAP//zf90//v+gf4n/vL91P25/ZP9XP0r/Qz9Df0x/W39vP0O/lT+hf6t/uT+Ov+p/yIAkwDwAE4BqwEaApsCMQPiA5UEHwVbBUEF8ASlBHsEcwRjBCcEqwPvAggCHwFZAM//if9i/yP/sv4Y/ob9Mf0s/Wj9w/0V/kX+U/5Q/lP+gv7p/nX/9P8+AEsAKQAGAPf/AAAUABwA//+1/0n/xf5T/gz+6v3c/b39iP1F/RP9/fwO/T79hv3W/R/+VP6A/q3+8v5Y/83/OgCSAN4AKwGKAf8BiwIpA9oDhQQJBUEFJQXVBIUEUwQ/BCYE5wNpA7AC1AHyAC4Aqv9g/zT/9f6H/vr9eP0y/Tn9fP3V/SH+Vv5r/nT+jP7H/jX/u/8xAHAAbQBDABsAEQAiADQAMAAAAKX/J/+d/iT+2f2z/Z79f/1G/Qb93PzZ/AP9R/2a/fD9Ov5z/qb+2v4q/5H/AABmALIA8QBAAakBLALKAngDLwTXBEQFWwUkBcYEgwRnBGMERgToA0MDbwJ/AZ0A7/9+/0f/HP/M/lD+vf1O/Sz9U/2i/fj9OP5k/n/+mf7M/if/p/8qAIUAngB5AD0AFQASACYANgAlAO7/h/8A/3b+CP7H/az9k/1t/Tb9/Pzh/Ov8GP1b/aX97f0m/lH+gv7H/iv/pf8WAGUAmgDLABwBkAEqAtgCkwNOBOkEOgU1BeQEiARRBEkERAQTBJoD4gL/ARkBTgC4/2b/OP///pT+A/55/TD9Pf2N/e79O/5r/oD+lf62/vr+a//y/24AqgChAGMAKAAVACkASQBTACkAx/8+/6X+H/7G/af9n/2F/VD9CP3S/Mn88Pw3/Yj92v0b/lr+kf7Q/h//hP/r/z4AgACmAOgATwHZAXcCIAPOA4EEEgVTBTYF5gSWBHUEcQRfBAoEbwOcArIB0AANAIT/O/8Q/9L+ZP7T/Vb9Jv1G/aT9Cv5c/pX+rv6+/uH+Lf+r/zwAsADYALEAaAAwACMANQBFADYA8P95/+j+VP7e/Z/9hv15/VX9Gv3f/MH81PwR/Vz9qP3t/Sf+W/6O/tX+Mf+g/wkAWwCOAL4ACgGDARgCvQJrAxwEvgQrBT8FAAWjBF0EQgQ6BAoEmAPhAgACGAFKAKv/Sv8Y/+X+jP4E/nP9Hv0h/Wz90P0q/mr+kP6k/sP+AP9p//b/dwDEAMIAiwBOADUAPgBLAEAABgCZ/wz/dP7x/aL9hP1//W39OP30/MT8yfwE/V79vP0M/k/+gv64/vX+S/+3/yUAegCrAMwABwFwAf8BqQJYAxAEwgRKBXsFTQXrBJQEcgRwBFQE9ANCA2ECbQGCAMb/Sf8M/+X+nv4f/o79Iv0Q/VX9yv02/oX+sv7I/tr+B/9f/+T/cQDSAN8ApwBZACQAHAAXAAAAxP9g/9z+Sv7H/Wn9Ov0s/Rb96Pyw/Iv8mfza/DL9jv3i/S7+b/6o/uL+MP+Y/wgAagCqANkAFgF5AQICnQI9A+0DmwQcBUIFBQWVBDYEEwQXBAgEqQP2Ag8CFwEwAH7/Ef/k/s7+kv4i/pf9Mv0p/XL95P1T/qH+0f7t/gv/Pv+W/xkAogD2APsAwwB3AEkAPQA6ABoA0v9i/9P+Pv68/WT9P/0y/SD9/PzP/Lz83fwl/YH94v08/pH+3P4a/1b/pP8DAGkAvwD8ADYBiAH9AY0COAP1A7UETAWNBWAF7AR3BDsEOAQ0BO0DSgNgAlUBVQCF/wT/yf60/oj+IP6T/R39/fw7/bT9Lf6L/sb+6v4E/zP/gP/x/3UAzQDhAKsAVAAOAOr/3f/A/4P/Gv+K/uv9Wf31/Mr8yvzP/L78nvyG/Jf80/wy/Zr9Bv5t/sL+Bf9H/5X/9v9hAMIACwFTAa0BIgK1AmADGgTZBGcFjgVIBcAEQgQBBPsD9wOqAwUDGAIRARoAZ/8D/+T+3P6l/i/+mf0y/Sv9iP0T/pj+7v4T/x//Jf9K/6f/LwC8ABYBDwHAAFIAAgDd/9D/vv+J/xn/d/7A/SX9yPy3/NL88fzw/Nn8yfzc/Cb9n/0r/rr+I/9p/5T/v/8GAGsA3wBNAakBAwJpAusCjgNQBA4FlQWrBU8FuQQvBPAD7wPpA5kD5wLhAcIAwf8S/7/+s/6x/oH+CP5v/QX9//xi/fv9j/7s/hX/Gf8X/zf/kf8bAKIA7gDXAGsA7P+K/2D/Vv9G/wf/i/7g/S79ovxh/GD8hPyn/LD8oPyd/MP8I/2t/UD+wv4e/1j/iP/A/xkAjAAIAX0B5wFFArcCSQMEBNMEgAXUBasFJwWSBC0EBwQABNQDWQN9AmcBUgB3//z+3f7o/tP+gv4A/oL9UP2B/Qb+oP4Z/1r/YP9S/1j/lv8IAJIA9AAFAcAARwDU/4f/bP9f/zf/1/49/o/9+fyg/I78q/zV/Ov85/zf/Pj8Q/2+/Vb+3v5E/4L/rv/X/xYAeQD4AH0B+wFsAt8CYwMKBL8EUgWLBV0F6ARhBAQEzwOoA1oDwQLjAdYAz/8F/5D+bP5o/kj++f2D/Sj9Ff1c/eD9dv7p/iP/L/8l/zP/eP/l/2EAtwC1AGcA7v98/zP/EP/z/rf+Sv64/Rv9ofxp/HP8ovzW/PT8+Pz9/CX9g/0N/qj+Lv+P/8z//v83AI4ABAGSAScCrgIiA5sDKgTPBGgFvAWxBVIFzwRdBBUE2QOMAw0DUwJqAWsAj//8/rf+pv6N/lH+7/2X/XH9l/36/Xz+9v5F/2j/af9w/53/+/9yAMMAyAB3AP//iP8p/+j+tv56/iL+qf0g/an8Zfxn/Jr82/wM/SX9O/1t/b79LP6m/iL/jf/f/xcARwCOAPoAjQEqAscCWAPsA34E/QREBUQFBAWnBE4E+wOjAzYDowLrAQwBJgBZ/7/+bv5I/iX+5/2U/VD9P/1m/cH9Mv6e/vX+LP9K/2r/ov/y/0gAfQBzAC8AzP9s/x7/5f6n/mX+Cf6a/SP9w/yR/JT8vvz1/CD9Rf12/b39Hf6O/gr/if/7/1gApwD7AGEB5QGAAh4DtwNIBN0EWAWjBaoFcAUWBb0EcAQnBMIDNgN+AqMBuADh/zv/1P6n/n/+Rv7u/Zr9a/18/cD9KP6M/uL+GP87/1T/ef+0//3/NABAABMAu/9Q/+/+nP5W/hD+w/1n/fv8nvxd/E/8afyW/Mz8Af08/YH94P1Q/tH+Wv/c/0gAnwDvAEwBwgFXAv8CrQNXBOQEPQVKBRIFvgRuBDQEBgS9Az8DhgKqAccA+v9c//T+tP6C/jr+2f1//VD9Zf22/Sf+l/7u/iX/R/9j/47/0v8eAF0AbgBCAO//if8v/+j+rv55/jf+4v2C/SH95fzd/AP9Pf18/aj91v0L/lj+wP47/8H/QACvAA8BbwHfAW8CGgPVA4oEKAWSBbgFkgU3BdAEggRGBAYEngPvAg4CFAEqAGn/5P6Q/lb+Gf7C/WP9HP0K/UL9qf0c/oL+vv7Z/uT+9/4j/2z/tf/d/83/hP8i/8D+eP5M/ib++f2y/VL98vyk/IX8mvzQ/Bb9Wf2Q/cL9//1b/tT+Z//0/3IA4ABFAb0BUwIKA84DkwQ5BaMFwQWNBTMF1gSTBGIEHQSoA/sCHAIvAVcAqf83//L+uP50/hv+wP2J/Yr9z/04/qD+9P4f/y//N/9N/4D/x////w8A5/+T/zP/5P6u/oz+a/41/uP9gP0n/e784vwF/Tz9df2k/dP9CP5S/rT+Lv+w/zEArAAlAZ8BKQLQAokDSATvBGEFfwVOBfEEigQ9BAQEyANgA7YC1AHgAP//Uv/j/qP+dP45/t/9g/0+/TP9bP3J/Sv+dP6a/qL+o/63/un+Lv9o/3v/V/8P/7f+c/5S/kD+Lf4J/sr9fv08/RL9EP06/X79wv34/R7+Uf6c/gr/kv8kALUANgGzATECxQJzAzQE9QSLBdYFywV9BRwFxQSIBFMEAQR8A7kCyAHYAAgAeP8l/+3+rv5Y/vD9lf1q/Xr9vv0T/lf+hP6Q/pH+mP60/ur+J/9S/1D/H//Y/o7+V/45/ir+DP7c/aH9Wf0g/Qf9Hv1K/YT9uv3p/Rr+Yf7D/kH/0f9qAAYBngE8AuQCngNdBAgFdgWVBW4FHQXIBIMEQQTvA3IDwALeAecACABf//f+u/6M/kj+6/2S/Vr9T/19/dL9Lv54/pf+mf6W/qj+2/4a/1P/Y/9H/wv/yf6O/mb+U/5C/iP+8f20/X39Yv11/aj96P0s/mj+pP7u/lP/1v9yACIB0AFxAgwDpANFBN8EWQWXBZMFVgUCBagEUQT3A4oD8QIsAkwBagCs/yL/0P6b/mD+FP66/Wn9N/08/W79t/0C/iz+Nv4t/ib+PP5u/qP+w/7C/p7+Yf4m/vf93v3a/dT9v/2a/XD9Vv1a/Yj9zP0e/m3+wP4Y/3//BAClAFwBIALhApYDNwS9BCgFZQVxBVgFJwXnBJgENwS9AyADYAKQAcEAEACE/x7/0P6E/jD+3f2X/XP9ev2j/eL9GP43/kT+Sf5Q/m/+mv7B/tv+0/6y/oL+V/47/iz+Hf4K/uz9w/2e/Yv9mP3H/Qz+X/63/hT/ef/u/3oAHwHWAZYCUgMABIwE6wQgBS8FIQUJBd0EnARCBMUDKANtAqUB6ABAALn/RP/e/nf+D/6z/Wv9Rv1E/Vz9f/2f/bX9xP3V/fL9Fv49/l3+b/5r/lb+Ov4c/gn++/3w/eP90v2//bX9u/3k/SH+cP7K/jP/p/8pAL4AYgEWAtQCjwM0BLAEAQUsBTQFKgUVBfMEtwRcBNsDNQN/AsYBIgGWACAAsP86/8H+UP7y/bH9lP2T/Z79qf2r/ab9of2r/cP94/0B/hL+FP7//eP9yf27/bv9vf29/bT9pv2Z/aD9vv38/U7+sv4g/5X/EwChAEEB9QGqAlcD5gNMBIYEpgSwBK8EpgSMBFYE+AN6A+ECPQKiARwBpwA9ANL/Zf/0/ov+PP4K/vX98v34/fP95v3a/c790f3c/er98/3x/eH9z/23/af9mv2Z/Zj9k/2P/ZD9nP2//fr9Tv65/iz/pf8tAL0AYAEPAr4CXQPcAzQEZwSABI8EkwSLBHEENwTZA1gDwwImApgBIAG1AE0A5v95/wv/q/5h/jL+H/4Y/g/+Bf7t/dv9zf3J/c390P3K/bn9o/2I/W/9Yv1b/WD9XP1Y/V79Zf2G/bz9A/5l/tL+S//W/2cABAGnAUYC4AJiA9ADHwRcBIMElgSTBHsETAQCBKgDOAPBAkcCywFQAdgAXwDy/4v/Mv/q/q3+gP5f/kL+Jv4T/gL+9f3o/d39zv3D/bH9oP2Q/YD9bv1b/U39Rf1C/U79b/2d/dr9Iv54/tv+Uf/T/2gABgGgATICqgISA2YDrgPuAxgELAQlBAUEzgOBAysD0QJwAgoCoAEsAbsATADt/5v/Vf8Y/+D+r/6D/lv+Pv4t/iH+FP4L/vX94f3N/bn9pv2Y/Yn9gf15/XH9dP2A/Zv9wf32/Tr+jv7z/mf/6P9yAPsAfgH5AWICwAIOA1UDjAOwA8EDuwOgA3MDNwPyAqECSALrAYYBJAG/AGQADQDE/4H/RP8R/+L+t/6Q/nL+VP5A/iT+D/74/eP9z/27/aL9j/17/W79Y/1k/W/9f/2i/c/9A/5M/qT+Bv94//H/bQDsAGQB1QE5ApIC3QIdA0sDZgNwA2oDVgMzAwYDzwKJAjYC3QF9ARwBwgByACkA5P+k/2n/Nf8F/+P+x/6u/pn+hf5x/l7+R/4z/iL+D/75/ef90/3F/bz9wf3T/fD9Fv5D/nz+vv4K/2X/yv8yAJsA+gBTAaMB6gEpAmACkAK0AsgCyQK8AqYChwJgAiwC9wG2AXIBKwHdAJQATwAOANT/n/9p/zv/Df/k/sT+rP6b/or+ev5n/lb+Q/4x/h/+Ev4J/gf+Df4W/ij+RP5n/pP+xv4C/0b/kf/f/zAAgADOAB0BaQGnAd8BGQJFAmkCggKPApQCjgJ+AmUCPwIMAtUBlAFNAQQBuQB0ADIA8v+x/3b/Qf8O/9/+t/6U/nj+Yf5P/j7+MP4j/hT+DP4I/gj+C/4U/iX+O/5Y/n3+qP7X/gn/Qf95/7b/8v8zAHIAsQDrACIBXAGOAcAB7AEVAjgCUAJdAmECXgJQAjYCEwLlAawBbQEtAekApQBmACkA5/+l/2f/LP/7/tL+sf6a/oP+cv5c/kz+Pv45/jn+PP5G/kv+V/5i/nf+kv64/uH+Cf80/1v/f/+r/9f/CQBDAHsArwDjABABPQFnAZEBvAHcAfIBAgICAv8B9wHkAdQBtgGOAVgBHAHnAKYAbgA3AAMA0f+Z/2f/Nf8N/+r+zv64/qL+jP55/m3+Yf5g/mX+a/5x/nb+ff6L/qD+wv7n/hL/Pv9h/4b/rP/U/wIANABnAJwAxQDsABQBOwFnAZIBuQHcAfAB+wH+AfgB7wHhAc4BsAGFAVABEgHRAJEAVQAeAOf/sv96/0b/Gf/s/s7+t/6j/pT+iv58/nP+b/5y/nr+if6a/q/+xf7b/vT+Ef8v/07/bP+L/6r/yv/l/wEAIAA9AFsAgACgAMYA6QASATQBWQF3AY8BowGpAa8BqAGWAYEBYgFDAR0B8gDCAJEAWgAnAPX/w/+U/27/R/8o/w7/9v7n/tr+zP7C/rj+sP6s/q/+u/7I/tz+9P4H/xr/Kf86/0//aP+G/6X/wf/Y//H/CgAqAE0AcACUALoA1QDqAP8AFQEnAToBRgFPAVABTQFCATIBHgEJAfEA1QC0AJEAbwBLACsACADt/87/rf+P/3b/W/9M/zz/LP8k/xr/FP8O/wz/DP8W/xz/Jv8u/zT/Pv9J/1r/c/+M/6L/tf/G/9H/3v/x/wsALQBSAHEAhwCdAKwAuADJANgA5QDuAOsA4wDYANEAxwC/ALsAqwCWAH0AYgBGADAAHAANAPz/6f/P/7b/nv+H/3j/bf9o/1//Wv9S/0z/Rv9G/0r/V/9n/3P/gP+K/4v/jP+W/6D/r/+//8v/0//a/+P/8/8HACIAOwBRAGEAaABtAHAAegCGAJQAmwCdAJsAmACVAJEAkgCPAI0AhAB6AGwAXQBOAD4AMgAlABEAAgDw/97/zf/C/73/uf+y/6n/of+X/5X/k/+Z/57/o/+h/53/lP+V/5j/nf+l/6v/tv++/8X/z//d/+3/+P8HABUAHgAjACsALwA2AD0ASQBSAFsAYwBhAF8AWQBRAEwATABLAEUAOwAuABoADAAAAPf/8f/y/+v/5v/f/9b/zf/K/8z/0//X/9z/3v/e/9z/1//X/9P/0f/U/9j/2v/V/9f/1//Y/+L/6v/2//7/AgAHAAcACgAOABQAIAAmACwAKgAmAB4AHgAlACwAOgA+AD0ANAAsACEAFwAPAAoADgAPAAsAAgD6//H/6//p/+z/8P/0//b/8//v/+r/6f/s//H/8v/w/+j/4//d/+L/6v/y//n/+P/t/+T/3v/e/+j/9P/+/wEA/f/z/+X/4f/j/+n/8f/2//f/8//x//b/AgAOABwAIAAgAB4AGQAcAB8AJwAtACwAIgAZABMAEAAVACEAKwAvACoAHwAXAA4ADAAMAAwACgADAAAA/P/3//b/9v/3//P/7//r/+b/5P/r/+//9f/z/+//6//l/+f/6//u//X/+//8//n/9//6//7/AAAEAAoACAACAP3//P/+/wQACQALAAkAAwD7//X/9v/8/wYADwATAAwACAADAAUACQAOABAACgADAP//+v/8//3//f/+//r/+v/2//X/9P/4//n/+f/6//b/9f/1//X/9f/1//H/8//0//b/+//+/wIAAAAAAP7/+v/4//v/AAAAAAEA///7//b/9f/0//f/+//8//v/AAABAP//AAAAAAMAAgD8//b/9f/0//b//f8AAAQACQAGAAUABQAGAAkAFAAbAB8AHQAXAAsABAACAAUACQANAA4AEAAJAAMAAwABAAkADAAJAAYAAAD4//b/9v/1//X/9P/4//X/9P/3//j/+/8AAAAA/v/7//P/8P/z//r///8AAAAA/f/8//v//f8CAAsAEQASABEABwAGAAUAAgABAAcADAARAA8ADgALAAUACAAKABYAHAAeABsAGAAQAA4AEQAVABoAGAAVAA0ABwAGAAgAEQATABEACgADAPv/+f/7/wEABgAIAAMA/f/0//L/8f/z//f/+//9//r/+f/2//T/9//8//3/+f/4//j/+P/7////AAACAAEA/f/9//j/+v/+/wIACAANAAgABAAAAAAAAAABAAUABgAGAAYABwAHAAQAAQAAAAEA/v/9//3//f/9//7////9//H/7P/m/+j/7P/w//L/7//r/+b/5f/o/+v/8P/w//H/7f/t/+v/8v/z//f/+P/4//f/+//7//7/AQACAAIAAgACAAIAAgAFAAYABwADAAIAAgACAAUABgAGAAcABAAAAAAAAgADAAMAAwAEAAIA///6//r/9v/1//T/9//7//z//P/9//3//f/6//n/+f/1//b/+//+/wUAAwADAP//+f/3//3/AwAMAA8ADAAJAAIAAAAAAAAAAAAAAP//BAAFAAkACwAHAAgABAABAAAAAAAAAP3///8CAAMABAACAPz/8//w//L//f8BAAUABAABAP//+v/5//j//P/8//z//P/8//z//P/8////AAAAAAAAAAD+//z/AAAAAAAAAQD///r/9v/0//b//v8BAAIAAgABAPz//////wUABgAHAAQAAAAAAAAAAAACAAIAAgADAAAAAgACAAYABAAAAAAAAAAAAAAAAgADAAAAAAAAAAAAAAAAAAAAAAACAAIABgAEAAQA///+//r//P/9//z/AAAAAAAAAAAAAP7/+P/6/wAACAALAAgAAgD+//r/9//9/wUABgAHAAEAAAABAP3/AAAAAAAAAAAAAAIAAgACAAMAAwAAAAAAAAAAAAAAAAACAAIABgADAAQA/v/8//z///8BAAUABQAKAAcABwAEAAAAAAAAAAAAAQAFAAkACwAIAAUA///9//3//P///wIAAgADAAEA/v/9//3//P8AAAAAAAAAAP3//f/8/wAAAAAAAP7//f/9//n/+/8AAAAAAAAAAAAA/v/9//n/+P/6/wAABAAKAAgABAD+//v/AAAIAA0ADwAOAAQA/P/2//j/+/8BAAMAAQD+//r/9f/3//v///8CAAMAAQD+//r/+P/7////AgABAP7/+v/1//f/+v8AAAEABQAEAAAAAAAAAAEABQAJAAsACAAEAAAAAAACAAIABQAGAAYABwADAAMAAwACAAMAAgACAAIAAgADAAMAAwAAAAAA/v/8//z//v8EAAYABgAIAAIA///6//j/+////wIAAwABAP7/+v/4//v/AAAAAAAA/v/9//r/+P/7////AgABAP7/+v/1//b//v8BAAUABwAEAAEA+v/7//7/BAAJAAsACQADAPv/+P/7//7/BAAKAAgABAACAPv/+P/7////AQAFAAYABwAEAAAAAAAAAAAAAAAAAAAAAAAAAAAAAAAAAAIAAwABAP7//f/9//z///8BAAYACAADAPz/9v/0//f/+v8AAAUAAwAAAAAA/f///wEABQAHAAQAAAAAAAAAAgACAAYABwAFAP///v/5//v///8CAAIAAwAAAAAA/v/8/wAAAAD9//3//f/8//3//P8AAAAAAAD+//3//f/5//v///8AAAAAAAAAAAAAAAAAAAAAAgACAAIAAgAGAAMAAgADAAMAAwAAAAAAAAAAAAAAAAAAAAAAAgACAAMAAAAAAAAAAAACAAIABgAEAAMAAQD9//z/+/8AAAUABgAGAAgAAgD+//z/AAAAAAIAAgADAAAAAAD+//3//f/8////AAAAAAIAAwAAAAAAAAACAAMAAwABAP3//P///wEABQAKAAwABgD///r/+f/3//3/BAAKAAkAAwD8//L/8//2//3/BAAGAAcABAD+//z/AAAAAAEABgADAAMAAAAAAAAAAAACAAMAAQD+//r/+f/4//v///8CAAMAAQD+//r/+f/4//f//v8BAAYABAABAP7/+v/4//v///8BAAIAAwABAP7//f/9//z///8AAAIAAgADAAAAAAAAAAAAAAACAAMAAAAAAAAAAAAAAAAAAAADAAAAAAD+//z/AAAAAAAAAgAAAAAA/v/8/wAAAAABAAIAAgADAAMAAAAAAAAAAAAAAAIAAgACAAMAAwAAAAAAAAAAAP7//f/9//3//P8AAAAA/f/9//n/+P/7////AAABAAIAAwABAP3//P///wIAAAACAAIAAgADAAMAAwABAAAAAQD+//3//f/8/wAAAAAAAAAA/f/9//3//P8AAAAAAAAAAAIAAgACAAMAAwABAP3//P///wEABQAHAAQAAgD7//n/+P/+/wIAAgADAAEA/f/9//z///8CAAMAAAAAAAAAAAAAAAIAAgACAAIAAgACAAIAAgACAAIAAgADAAMAAwAAAAAAAAAAAAAAAgADAAMAAwABAP3//P///wIAAwADAAEA/v/6//j/+//+/wQABgAHAAQAAQD+//z///8BAAUABgAHAAUA/v/9//z///8BAAUACgAIAAQAAQD+//z///8CAAIAAwABAP3//f/8////AgACAAMAAAAAAAAAAAABAAUABgAHAAMAAwAAAAIAAgAGAAcABwAEAAIA+//4//v///8CAAIAAwABAP7/+v/4//v///8BAAIAAwABAP3/AAAAAAIAAgADAAAAAAAAAAAAAgADAAMAAgD7//n/+P/7////AgADAAEA/v/6//n/+P/8//z//P/8//z///8AAAAAAgAAAAAAAAAAAAEABQAGAAcABAAAAAEA/f8AAAAAAAAAAAAA/f8AAP7//f/9//z//P/8/wAAAAAAAAAA/f/9//3//P8AAAAAAAAAAAAAAAAAAAAAAAAAAAIAAAAAAAIAAwAAAAAAAAAAAAAAAAAAAAAA/f8AAAAAAAAAAAAA/f/9//z//P///wIAAgADAAEA/f/8/wAAAAACAAMAAwABAP3//f/8////AgACAAMAAQD9//3//P///wIAAwABAP7/+v/4//v/AAAAAAAA/v/6//n/+P/7////AQACAAIAAwAAAAAAAAAAAAAAAAACAAMAAwAAAAAA/v/9//3//P8AAAAAAAAAAAAA/f/8/wAAAAAAAAAAAAAAAAIAAAAAAAAAAAAAAAAAAAAAAAIAAgADAAAAAAAAAAAAAAAAAAAA/f8AAAAAAgADAAMAAQD9//z//P/+/wUABgAHAAQAAQD9////AQAEAAkACwAIAAQAAQD9/wAAAAACAAIAAgADAAAAAAAAAAAAAgADAAAAAAAAAAAAAgACAAIAAwADAAEA/f/9//z///8AAAIAAgADAAAAAAD9//z///8CAAIABgADAAMAAAAAAAAAAAACAAIABgADAAMAAAAAAAAAAAAAAAIAAAAAAAAAAAAAAAAAAAAAAAAAAAD9////AgACAAIAAwAAAAAAAAABAAUABgAGAAYABwAEAAMAAQABAP3/AAD9/wAAAAAAAAAAAAD+//3/+f/7/wAAAAAAAAAAAAAAAAAAAAD+//3//f/8/wAAAAAAAAAAAQD+//3/+v/4//z//P///wAAAAAAAP7/+v/5//j/+//8//z///8AAAAAAAAAAP3//P/8////AgACAAMAAwABAP7//f/8/wAAAAAAAAAA/v/9//3//f/9//3//f/8//z//P8AAAAAAAAAAAAA/v/9//3//P8AAAAAAAAAAAAA/v/9//n/+P/7////AQABAAYABAAAAAAAAAAAAAIAAgACAAIAAgADAAMAAwAAAAAAAAD9//z/AAAAAAIAAAAAAP7//f/9//z/AAAAAAAAAAAAAAAAAAACAAIAAgACAAMAAAACAAMAAwADAAMAAQAAAP7//P8AAAAA/v/+//r/+f/4//v//P///wAAAAAAAAAAAAAAAAAAAQACAAEABgADAAYAAwADAAMAAwAAAAIAAAAAAAAAAAAAAAAAAAAAAAAAAAD9//z/AAAAAAIAAgADAAAAAAAAAAEAAgAFAAoACAADAAMAAAAAAAIAAwADAAEAAAD+//3//f/9//3//f/9//3//f/9//z//P/7//////8BAAEABQAGAAYABgAFAAkACgAKAAoACgALAAgACAAEAAMABAACAP7//v/6//n/+f/6//b/9f/2//L/8P/z//P/9v/6//3/AwAIAAkACQAMAA0ADQAQABUAFgAWABcAFAARAA0ACQAFAAQAAgD+//7/+//6//f/9v/y//H/8f/x//D/8//z//f/9//6//////8BAAIAAQAFAAYABQAJAAsABwAHAAcABAADAAMAAwAEAAEAAQD///r/+v/1//n/9f/4//n/+P/4//j/9//7////AAD//wEAAQAFAAYABgAGAAYACgAHAAcABwAHAAQAAwAEAAEAAQD+//3/+v/4//z//P8AAAAA/f/9//n/+P/7//////8BAAIAAgAGAAMAAgADAAIAAgACAAMAAwADAAMAAQAAAAEA/v/+//r/+f/4//v//P/7////AAAAAAAAAAAAAAAAAAAAAAIAAwAAAAAAAAAAAAAAAAAAAAAA/f/8/wAAAAAAAAAAAAAAAAAAAAACAAIAAwAAAAAAAAACAAMAAwAAAAAAAAAAAAAA/v/9//3//f/9//3//f/9//3//f/8//z//P///wAAAAAAAAIAAgACAAIAAgADAAMAAwAAAAAAAAAAAAAAAAAAAAAAAAD+//3//f/9//7/+f/5//j/+//8//z///8AAAAAAAAAAAIAAAACAAIAAgACAAIAAwADAAMAAQAAAAEA/v/9//3//f/9//3//f/5//j//P/8//z//P/8//z///8AAAAAAAAAAAAAAAACAAIAAgACAAIAAwADAAMAAAAAAAAAAAD+//3//P8AAAAAAAD+//3//f/9//z//P/8////AAAAAAAAAgACAAIAAgACAAIAAgACAAIAAgACAAIAAgACAAIAAwADAAMAAAAAAAAAAAAAAAAAAAAAAAAAAAAAAAAA/v/9//3//P/8/wAAAAAAAAAA/P8AAAAAAAAAAAIAAgACAAIAAgACAAIAAgACAAIAAgADAAMAAwAAAAAAAAD9/wAAAAD9//z/AAD9//z//f/8/wAAAAAAAAAAAAAAAAIAAgACAAIAAgACAAIAAgAFAAYABgAHAAQAAwADAAAAAAAAAAAA/v/9//3//f/9//3//f/9//3//P/8//z///8AAAAAAAAAAAAAAgACAAIAAwADAAAAAAAAAAAAAAAAAP7//f/9//3//f/9//3//f/5//n/+P/8//z//P/8//z///8AAAAAAAAAAAAAAAACAAIAAgADAAMAAwAAAAAAAAAAAAAAAAAAAP7//P8AAP3//f/9//3//f/8//z//P///wAAAAAAAAAAAAAAAAAAAAAAAAAAAgACAAIAAgACAAMAAAAAAAIAAgACAAIAAwADAAMAAAAAAAAAAAAAAAAAAAAAAAAAAAAAAAAAAAAAAAAAAAAAAAAAAAAAAAAAAAAAAAIAAgACAAIAAgACAAIAAwADAAMAAAAAAAIAAAAAAAAAAAAAAAAA/f8AAP3/AAD+//3//f/9//z//P/8////AAAAAAAAAAAAAAAAAAAAAAAAAgACAAIAAwAAAAIAAAAAAAAAAAAAAAAAAAD9/wAAAAD9//z/AAAAAAAAAAAAAAAAAgADAAAAAAAAAAIAAgACAAYABwADAAMAAwADAAMAAwADAAAAAAAAAAAAAAAAAAAAAAAAAAAAAAAAAAAAAAAAAAAAAAAAAAIAAgACAAIAAgACAAIAAgACAAMAAwADAAAAAAAAAAAAAAAAAAAAAAAAAAAAAAAAAAAAAAAAAAAA/v/9//3//f/9//3//f/9//3//f/9//z//P/8/wAA/P///wAAAAAAAAAAAAAAAAAAAAAAAAAAAAAAAAAAAAAAAAAAAAAAAAAAAAAAAAAA/f8AAAAAAAAAAAAAAAAAAAAAAAAAAAAAAAACAAIAAgACAAIAAgACAAIAAgADAAMAAwAAAAAAAAAAAAAAAAAAAAAAAAAAAAAAAAAAAAAAAAAAAAAAAAAAAAIAAgACAAIAAgACAAMAAwADAAAAAAAAAAAAAAAAAAAAAAAAAAAAAAAAAAAAAAD9/wAAAAAAAAAAAAAAAAAAAAACAAIAAgADAAMAAAAAAAAAAAACAAMAAAAAAAAAAAAAAAAAAAAAAAAA/f8AAP3/AAAAAAAAAAAAAAAAAAAAAAAAAAAAAAAAAAAAAAAAAAAAAAAAAAAAAAAAAAAAAAAAAgACAAIAAgACAAIAAgADAAMAAwAAAAAAAAAAAAIAAAAAAAAAAAAAAAAAAAAAAAAAAAAAAAAAAAAAAAAAAAAAAAAAAAAAAAAAAAAAAAAAAAAAAAAAAAAAAAAA/v/9//3//f/9//3//f/9//3//f/9//3//f/8//z//P///wAAAAAAAAAAAAAAAAAAAAAAAAAAAgACAAMAAAAAAAAAAAAAAAAAAAAAAAAAAAAAAAAAAAAAAAAAAAAAAAAAAAAAAAAAAAAAAAAAAAAAAAAAAAAAAAIAAAAAAAAAAAAAAAAAAAAAAAAAAAAAAAAAAAAAAAAAAAAAAAAAAAAAAAAAAAAAAAAAAAAAAAAAAAACAAAAAgAAAAIAAwAAAAMAAAAAAAAAAAAAAAAAAAAAAAAAAAAAAAAAAAAAAAAAAAAAAAAAAAAAAP7//f/9//3//P/8//z/AAD8/wAAAAAAAAAAAAAAAAAAAAAAAAAAAgADAAAAAAAAAAAAAgACAAMAAAAAAAAAAAAAAAAAAAAAAAAAAAAAAAAAAAAAAAIAAgACAAIAAgACAAIAAgACAAIAAgACAAIAAgACAAIAAwADAAMAAAAAAAAAAAAAAAAAAAAAAAAAAAAAAAAAAAAAAAAAAAAAAAIAAwAAAAAAAAACAAIAAgADAAMAAAAAAAAAAAAAAAAAAAAAAP3/AAAAAAAAAAAAAP3//f/8/wAAAAAAAAAAAAAAAAAAAAAAAAAAAAAAAAIAAAAAAAAAAAAAAAAAAAAAAAAAAAD+//3//f/9//z//P/8/wAA/P///wAAAAAAAAAAAAAAAAAAAAAAAAAAAAAAAAAAAAAAAAAAAAAAAAAAAAAAAAAAAgACAAIAAgADAAMAAAAAAAMAAAAAAAAAAAACAAAAAAAAAAAAAAAAAAAAAAAAAAAAAAAAAAAAAAAAAAAAAAAAAAAAAAAAAAAAAAAAAAAAAAAAAAAAAAAAAAAAAAAAAAAAAAAAAAAA/v/9//3//f/9//3//f/8//z//P8AAAAAAAAAAAAAAAAAAAAAAAAAAAAAAAACAAAAAAAAAAAAAAAAAAAAAAD9//3//f/9//z/AAD9//z/AAD8/wAAAAAAAAAAAAAAAAAAAAAAAAAAAAAAAAAAAAAAAAAAAAAAAAAAAAAAAAAAAAAAAAAAAAAAAAAAAAAAAAAAAAAAAAAAAAAAAAAAAAACAAIAAgACAAIAAgACAAMAAgADAAAAAgAAAAIAAwAAAAAAAAACAAAAAAAAAAAAAAAAAAIAAwAAAAAAAAAAAAAAAAAAAAAAAAAAAAAAAAAAAAIAAwAAAAIAAgACAAIAAgACAAMAAgADAAAAAgACAAIAAwADAAMAAAAAAAAAAAAAAAAAAAAAAAAAAAAAAAAAAAAAAAAAAAAAAAAAAgAAAAIAAgACAAIAAgACAAIAAgACAAMAAwADAAAAAAAAAAAAAAAAAAAAAAAAAAAAAAAAAAAAAAAAAAAAAAAAAAAAAAAAAAAAAAAAAAAAAAAAAAAAAAAAAAAAAAAAAP3//f/8/wAA/f8AAAAAAAD9//3//P8AAAAAAAAAAAAAAAAAAAAAAAACAAAAAAAAAAAAAAAAAAAAAAAAAAAAAAAAAAAAAAD9/wAAAAAAAP3/AAAAAAAAAAAAAAAAAAAAAAAAAAAAAAAAAAAAAAAAAAAAAAAAAAAAAAAAAAAAAAAAAAAAAAIAAgACAAIAAgADAAAAAgADAAAAAAACAAIAAgADAAMAAwAAAAAAAAAAAAAAAAAAAAAAAAAAAAAAAAAAAAAAAAAAAAAAAAAAAAAAAgAAAAAAAAAAAAAAAAAAAAAAAAAAAAAA/v/9//3//f/9//3/+f/4//z//P/8//z///8AAAAAAAAAAAAAAAAAAAAAAAAAAAAAAAAAAAAAAAAAAAAAAAAAAAAAAAAAAP7//f/9//z//P8AAAAA/P8AAAAAAAAAAAAAAAAAAAAAAAAAAAIAAwAAAAAAAAAAAAAAAAAAAAAAAAAAAP3/AAAAAAAAAAAAAAAAAAD9/wAAAAAAAAAAAAAAAAAAAAAAAAIAAgACAAIAAgACAAIAAgACAAIAAgADAAIAAwAAAAIAAwADAAAAAAAAAAAAAAAAAAAAAAAAAAAA/f/8/wAA/f8AAAAAAAAAAAAAAAAAAAAAAAAAAAAAAAACAAMAAAAAAAIAAAAAAAIAAgACAAMAAwAAAAAAAAAAAAAAAAAAAAAAAAAAAAAAAAAAAAAAAAAAAAIAAAACAAIAAgACAAIAAgACAAIAAgACAAIAAgADAAMAAwAAAAAAAAAAAAAAAAAAAAAAAAAAAAAAAAAAAAAAAAAAAAAAAAAAAAAAAAACAAIAAgACAAMAAwADAAAAAAAAAAAAAAD9//z/AAAAAAAAAAAAAP3//f/9//z/AAAAAAAAAAAAAAAAAAAAAAAAAgAAAAAAAAAAAAAAAAACAAAAAAAAAAAAAAAAAAAAAAAAAAAAAAAAAP3/AAAAAAAAAAAAAAAAAAAAAAAAAAAAAAAAAAAAAAAAAAAAAAAAAAAAAAAAAAACAAAAAAACAAIAAgACAAIAAwAAAAIAAwAAAAAAAAAAAAAAAAAAAAAAAAAAAAAAAAAAAAAAAAAAAAAA/f/8/wAAAAAAAAAAAAAAAAAAAAAAAAAAAAAAAAAAAAAAAAAAAAAAAAAAAAAAAAAAAAD+//3//f/9//z//P/8/wAAAAAAAAAAAAAAAAAAAAAAAAIAAAAAAAIAAwAAAAIAAAAAAAAAAAAAAAAAAAAAAAAAAAAAAAAAAAAAAAAAAAAAAAAAAAAAAAAAAAAAAAAAAAAAAAAAAgACAAIAAwADAAAAAAAAAAAAAAAAAAAAAAAAAAAAAAAAAAAAAAAAAAAAAAAAAAAAAAAAAAAAAAAAAAIAAgACAAIAAgACAAIAAwADAAMAAAAAAAAAAAAAAAAAAAAAAAAAAAAAAAAAAAAAAAAAAAAAAAAAAAAAAP3//f/9//3//P/8//z/AAAAAAAAAAAAAAAAAAAAAAAAAAAAAAAAAAAAAAAAAAAAAAAAAAACAAAAAAAAAAAAAAAAAAAAAAAAAAAAAAAAAAAAAAAAAAAAAAAAAAAAAAAAAAAAAAAAAAAAAgACAAIAAwADAAMAAAAAAAAAAAAAAAAAAAAAAAAA/f8AAP7//f/9//3//P/8//z/AAAAAAAAAAAAAAAAAAAAAAAAAAAAAAAAAAAAAAAAAAAAAP3//P8AAAAAAAAAAP3/AAD9//z//f/8/wAAAAAAAAAAAAAAAAAAAAAAAAAAAAAAAAIAAAACAAMAAAAAAAAAAAAAAAAAAAAAAAAAAAAAAAAA/f8AAAAA/f8AAAAAAAAAAAAAAAAAAAAAAAAAAAAAAAAAAAAAAAAAAAAAAAAAAAAAAAAAAAAAAAAAAAAAAAAAAAAAAAAAAAAAAAAAAAAAAAAAAAAAAAAAAAAAAAAAAAAAAAAAAAAAAAAAAAAAAAAAAAAAAAAAAAAAAAAAAAAAAAACAAAAAAAAAAAAAAAAAAAAAAAAAAAAAAAAAAAAAAAAAAAA/f/9//3//P8AAAAAAAAAAAAAAAAAAAIAAgACAAMAAAACAAMAAAACAAMAAwAAAAAAAAAAAAAAAAAAAAAAAAAAAAAAAAAAAAAAAAAAAAAAAAAAAAAAAAAAAAAAAAAAAAAAAgADAAAAAAAAAAAAAAAAAAAAAAD9/wAA/f8AAAAAAAAAAAAAAAAAAAAAAAAAAAAAAAAAAAAAAAAAAAAAAgACAAIAAgACAAIAAgACAAIAAgACAAIAAwADAAMAAAAAAAIAAwAAAAAAAgAAAAAAAAAAAAAAAAAAAP3/AAAAAAAAAAAAAAAAAAAAAAAAAAAAAAAAAAAAAAIAAwAAAAAAAAAAAAAAAgAAAAIAAwAAAAAAAAAAAAAAAAAAAAAAAAAAAAAAAAAAAAAAAAAAAAAAAAAAAAAAAAAAAAAAAAAAAAIAAgACAAMAAwADAAAAAAAAAAAAAAAAAAAA/f8AAP7//f/9//3//f/8//z//P8AAAAA/P8AAAAAAAAAAAAAAAAAAAAAAAAAAAAAAAAAAAAAAAAAAAAAAAAAAAAAAAAAAAAA/f/9//3//P/8/wAAAAAAAAAAAAAAAAAAAAAAAAAAAAAAAAAAAgACAAIAAwAAAAAAAAAAAAAAAAAAAAAA/f/9//z/AAAAAAAAAAD9/wAAAAAAAAAAAAAAAAAAAAAAAAAAAAAAAAAAAAAAAAAAAAAAAAAAAAACAAIAAgADAAMAAwAAAAAAAAAAAAAAAAAAAAAAAAAAAAAAAAAAAAAAAAAAAAAAAAAAAAAAAAAAAAAAAAAAAAAAAAAAAAAAAAAAAAIAAwAAAAIAAAAAAAAAAAAAAAAAAAAAAAAAAAAAAAAAAAAAAP3//f/9//z//P8AAAAAAAAAAAAAAAAAAAIAAgACAAIAAgACAAIAAwADAAMAAAAAAAAAAAAAAAAAAAD9/wAAAAAAAAAAAAAAAAAAAAAAAAAAAAAAAAAAAAAAAAAAAAACAAIAAgADAAAAAAAAAAAAAAAAAAAAAAAAAP3//P8AAAAAAAAAAP3//P8AAAAAAAAAAAAAAAAAAAAAAgACAAIAAgACAAIAAgACAAIAAwADAAMAAAAAAAAAAAAAAAAAAAAAAAAAAAAAAAAAAAAAAAAAAAAAAAAA/f/9//3//P8AAPz/AAAAAAAAAAAAAAAAAAAAAAAAAAAAAAAAAAACAAMAAAAAAAAAAgACAAMAAAAAAAAAAAAAAAAAAAAAAAAAAAAAAAAAAAAAAAAAAAAAAAIAAAACAAMAAAACAAIAAgACAAIAAgACAAIAAgADAAMAAwAAAAAAAAAAAAAAAAAAAAAAAAAAAAAAAAAAAAAAAAAAAAAAAgADAAAAAgACAAIAAgADAAMAAwAAAAAAAAAAAAAAAAD9//3//P8AAAAAAAD9//3//f/9//z//P/8/wAAAAAAAAAAAAAAAAAAAAAAAAAAAAAAAAAAAAAAAAAAAAAAAAAAAAAAAAAA/v/9//3//f/9//3//f/8//3//P8AAP3//P/8/wAAAAAAAAAAAAAAAAAAAAAAAAAAAAAAAAAAAAAAAAAAAAACAAIAAwAAAAAAAAAAAAAAAAAAAAAAAAAAAAAAAAAAAAAAAAAAAAAAAAAAAAAAAAAAAAAAAAAAAAAAAAAAAAAAAAAAAAAAAAAAAAAAAAAAAP7//f/9//3//f/9//3//f/9//3//f/9//3//f/9//z//P/8/wAAAAAAAAAAAAAAAAAAAAAAAAAAAAAAAAAAAAAAAAAAAAAAAAAAAAAAAAAAAAAAAAAAAAAAAAAAAAAAAAAAAAAAAAAAAgACAAIAAgADAAMAAAAAAAAAAgACAAIAAwADAAAAAAAAAAAAAAAAAAAAAAD9/wAAAAAAAAAAAAAAAAAAAAAAAAAAAgACAAIAAgAFAAYABgAGAAYABgAGAAYABwAHAAcAAwADAAMAAwADAAMAAAAAAAAAAAAAAAAAAAAAAAIAAgACAAIAAgADAAMAAwAEAAEA/v////z/+P/0//D/7P/r/+j/4//j/9//3v/d/9z/4P/f/+L/5f/o/+//9v8AAAcAFAAZAB0AIQAoADEAOgA4ADgAOQA6ADsAOQAyACoAJgAjABwAEAAIAAAAAAD9//X/8P/s/+b/6f/p/+n/5f/k/+r/7//v//P/8//2//r///8AAAAAAAAAAAIAAwABAP7//v/7//v/9//z/+//7v/u/+3/7f/u/+n/6P/r/+//8//z//P/9v/6//7/AAADAAgADAAQABIADgARABIAEQAVABcAEwATABAAEAAMAAwACQAEAAQAAgD+//7/+v/6//b/9v/2//L/8f/x//H/8v/y/+7/7v/v/+v/6//o/+T/4P/g/93/2f/V/9D/zP/L/8r/yf/M/8v/zv/Q/9r/4v/o/+7/+v8PACcAOQBDAEMAUABoAIAAhQB/AHcAegCHAI0AfgBnAFUAVABXAEgAKgAMAAEAAAD//+v/zv+5/7n/wP/C/7P/pP+k/7L/v//A/7z/uv+//9L/4f/j/9//3v/o//X//P/2//D/8//3/wAA/v/3//L/8f/0//j/+P/0//P/+f8AAAQABAAEAAYADgAWABsAGAAaACMAKAAtACsAJAAgACQAIgAfABUACQABAP//9//w/+T/2//S/9D/0f/J/8P/wf/C/8z/1P/Y/9r/3//x/wcAGQAgABwAIgAyAEQATABEADgANgA/AEIANgAfABAADgASABEAAADq/+X/7v/7//n/8P/p//H/AgATABYAEgAUACEANwA/AD4AMwAxADoAQQA6ACkAFQAJAAYA/v/u/9D/tv+o/6D/kv97/2X/Vv9Q/0//SP84/yz/LP81/zz/Qv9H/1P/aP95/47/pv/H/+j/BQAmAFAAfACqAMYA1wDqAA4BNwFIAT4BNAExATwBPAEkAfUAzgC/ALoAoQBwAEEAJAAZABMA+f/T/7f/rf+z/7H/pf+U/4v/l/+k/6r/o/+g/6f/sv/B/8D/uv+y/7H/sv+z/67/n/+R/5D/kf+L/3//cv9t/2z/bP9k/1//Wf9f/2L/Zf9k/2T/dP+G/5j/o/+v/8b/6f8PACcAPABfAJEAxwDsAPkAAQEcAUcBYQFXATsBKQEtATcBJgH0AL8ApgCfAIwAZQAtAAcA/P/4/+f/xP+l/5j/lf+V/47/ff9x/3X/hP+N/4v/hv+H/5X/pv+x/63/of+f/6v/sv+t/5//jv+M/5D/j/+B/23/Yf9j/2f/ZP9Y/03/UP9d/2j/b/90/4D/jv+t/87/6/8GACYAUACQANMA/QAOARwBSQGDAacBmwF+AXEBfQGOAXgBNwH9AOAA2QDEAI0ASwAjABoAFwABANb/sf+j/6z/rv+h/4T/d/9//4//l/+H/3X/bv95/4f/hf9s/1b/VP9Y/1j/RP8l/xD/Ff8a/xH//f7q/un+9/78/vT+6f7u/gX/H/8u/zP/QP9j/5f/xv/o/wEAMQB4AMgACwEqAToBXgGiAeEB7wHYAcEBxwHkAeIBsAFmATQBLAEnAf0AsABwAFwAXABNAB4A5f/D/8b/zv/G/6j/jP+G/5T/m/+W/4P/df92/3//gv96/2X/T/9J/03/UP9B/yD/Af/3/gX/Df/5/tT+v/7M/uf+8v7e/tL+6P4W/zv/R/9M/3D/sv/s/xUAPwCFAN0AIAFDAVcBiAHMAfwB/wHgAdYB7AH8Ad8BmwFcAUABMwERAdcAlQBrAFgARgAlAPf/z/+6/7P/qP+V/4D/cf9r/2v/af9b/0r/Pf8//0X/QP8w/xb/CP8D/wH/8f7S/rL+sP64/rb+pP6H/oj+l/6u/rP+q/6y/tr+Bv8q/zv/U/+C/8n/AgAvAF0AqAAHAV4BjwGlAc4BEwJXAm4CWQI+AkICVAJSAh8C0wGcAYEBcQFCAf0AuQCTAIEAbQA9AAcA4//P/8b/tP+Y/37/b/9t/2v/Xf9K/zn/LP8n/yb/Gv8D//H+6f7f/tD+uP6p/qD+mv6V/oj+gP6D/pD+m/6h/qn+uP7U/vH+Cf8h/0L/bf+f/9T/AwA1AHgAxQAUAU4BcwGXAc8BBgItAi4CGwIRAhUCFgL5AcEBhQFfAUMBJwH4AL0AigBrAFIAOAATAOv/yP+y/6H/jf91/2D/T/8+/zH/Kf8e/xb/C/8A//T+6P7h/tf+xP6r/pv+nP6c/pj+h/5+/oT+l/6q/rj+xf7V/vX+Ef8y/1D/cP+T/77/7P8fAFMAjwDQABQBVwGMAbIB3QEFAicCPgJKAkUCPgIvAiACBALnAcgBogF/AV0BPAEWAe0AwwCcAHEASgAgAPn/0P+v/4v/av9M/zD/Gv8F//L+6v7a/s3+wf61/qz+pf6Z/oz+gv6A/n7+ff58/nr+gP6G/ov+mP6q/r3+zf7b/un+/f4R/yn/RP9i/4z/u//w/ygAZACmAOkAKAFbAYoBtAHeAQgCIgI1AjwCOgIvAh8CDwL3Ad8BxAGgAXwBUwEqAfoAyACYAGkAPQASAOf/uv+U/3P/Vf85/xz/Cv/2/ub+1v7D/q/+m/6K/nn+Z/5c/ln+V/5U/lr+Xf5i/mv+eP6J/p/+sf7G/t7++/4X/zf/Vv97/6n/4f8eAGIAqgDxADwBgwHBAfkBKQJVAnsCmgKrArYCtQKtApoChwJtAk0CLgIEAtYBnwFmAS0B8QC3AHQAOAAAAND/nf9o/zj/Cf/m/sr+qf6M/nT+WP5E/ij+E/77/eT91v3I/bz9uP25/bn9xf3T/d/99P0J/iT+Qf5e/n7+ov7K/vL+HP9N/4j/w/8DAEoAlwDkADcBhQHIAQcCPwJ1ApsCuQLOAuAC6ALlAtgCwwKoAowCawJJAh0C7AG0AXgBOgH9AL4AgwBHAA8A3P+n/3b/R/8i/wH/5P7I/q3+jv5y/lH+Nf4b/gX+8v3m/dz91P3U/df95P3x/QH+Ff4t/kr+Z/6E/qT+x/7y/hz/T/+B/77/AABJAJYA4wAyAYIB0AEVAk4CgAKoAsoC6QL6Av0C9QLkAs4CsQKOAmgCOgILAtYBlwFUAQwBwgB+AD4A/f/A/4X/Sf8Q/9r+rP6C/lz+O/4e/gL+5v3J/bD9lf2C/XT9aP1g/WH9Yv1m/XH9gf2V/az9y/3v/RP+Ov5l/pT+xv4A/zr/fP/C/w4AXgC1AAsBYgG6AQwCWQKYAtICBAMuA0wDYwN0A3QDawNXAz0DIAP2AswCmwJkAikC6AGgAVcBDgHDAHsANwD4/7z/hP9J/w3/2/6q/oD+Wf4x/gn+4/3C/aH9fv1m/Vf9SP1A/Tv9O/1C/VD9Y/17/Zf9tv3Z/QH+K/5a/o3+wv79/kP/iP/V/ycAfADQACsBhAHWASICYwKfAtEC/AIcAzADOAM4AywDFwP6AtgCsAKCAk0CEwLPAYMBNQHsAKEAWgATAND/kP9P/xP/3f6n/n3+Vf4t/gj+4/3C/aH9g/1o/VH9Qf04/TP9N/0//Un9WP1w/Yv9qv3N/fT9Iv5U/of+wf7//kD/if/W/ysAggDhAEMBogH/AVYCpgLrAigDXwOKA60DwgPPA80DvQOmA4IDWAMuA/kCxAKDAj0C7wGfAU8B+gCnAFcACwDI/4H/Pv/5/rz+g/5L/hn+7f3B/ZT9aP1B/R/9AP3k/M78wfy8/L78xPzT/On8A/0l/Uz9c/2g/db9D/5Q/pL+3P4p/3v/0f8vAIsA8ABPAa8BDgJiAqsC6gIgA08DcAOIA5EDlgOMA3gDWwM2AwwD3gKqAmwCKQLnAZsBTwEAAa4AZAAdANb/lf9R/xX/2f6j/m7+Pf4U/uv9xv2h/Xv9XP1E/Sz9Hv0Z/Rr9Jf00/Ub9YP1//aX90f38/S3+ZP6f/tz+HP9n/6z/+f9PAKUABQFkAcIBIAJzAsACAgM8A2sDlQOyA8IDxwPAA7EDkgNuA0MDGQPcAqECXAITAsEBagEOAbgAYQAPALz/bP8g/9j+kv5S/hT+3f2s/X39VP0t/Qn97vzQ/L38rPyi/KD8qvy5/Mv85vwF/Sn9T/1z/ab91/0R/kr+kP7W/h//cP/G/x8AfgDhAEsBrwEQAmwCvQICA0EDcwOeA74D0gPbA9gDyAOyA5cDbwNCAwwD1AKWAlACAwKzAV8BCQG2AGcAHADR/4z/Sf8F/8P+iv5V/if++f3Q/ab9g/1i/Ub9Mv0i/RX9EP0T/R79Lf1B/Vj9cv2V/bn95P0O/kP+ev63/vj+Pv+N/9v/LACIAOUAQAGbAfYBRwKLAskC9wIlA0QDXwNsA3ADZANTAzcDFQPsAr4CjQJTAhUC0QGCATUB5gCRAEIA8P+k/1z/Ff/Q/pD+T/4Z/uT9sv2I/V/9OP0W/fb83vzM/L/8vfzD/M784Pz3/BL9NP1e/Yn9u/3u/Sj+Y/6m/uf+Mv99/87/IAB3ANYANAGSAfMBSgKcAuYCJANWA4MDqQPGA9UD2QPWA8IDqQOIA2MDOgMFA8wCjAJCAvUBoQFMAfgAoQBRAAcAuf9t/yb/3v6Y/lv+Iv7t/bv9jv1i/TT9DP3r/NL8wfy3/LT8u/zK/Nn88/wO/TH9WP2C/bL94f0X/lH+j/7V/hv/af+4/w0AZgDCACEBegHSASMCZwKnAtwCDQM0A1MDZwNvA2wDXwNKAy0DCAPeAq4CeQI8AvcBqAFXAQsBuQBqAB8A2f+N/0r/Bv/E/of+Uv4g/vL9yf2g/Xr9WP04/Rz9Cv0A/QP9B/0O/Rz9M/1N/Wv9kv29/ez9Hv5V/oz+y/4M/1L/of/s/z0AlQDrAEcBpQEAAlgCpgLwAioDXAOGA6gDwAPNA84DxQOvA5QDbQNBAwwD1AKTAk0C/wGwAVgBCAGvAFsACQC7/2z/IP/U/o7+Tv4U/t79rf18/U/9If36/Nf8u/yh/JP8jvyM/JX8o/y5/Nf8+fwk/VL9hf24/fL9MP5y/rj+Af9P/6X/+/9ZALkAGgGBAd8BOgKJAtUCGQNLA3kDmAO0A8ADwAO4A6cDjwNuA0kDGAPiAqkCaAIhAtcBhwEzAeMAkgBEAPb/rv9i/x//2v6d/mT+MP73/cn9l/1u/Uf9Jv0J/fj86/zo/Or89PwH/SH9Pv1h/Yj9t/3q/Rz+V/6S/tH+Fv9d/6f//P9SAK0ACwFmAcEBGwJvArcC+AIyA2EDhAOcA6sDsAOoA5kDfANbAzYDCgPSApUCUAIEArEBXQEGAa0AVwD+/6v/Wf8E/7v+cv4t/uz9sf18/Ur9G/30/ND8sPyW/Ij8fvyA/Iv8mvyx/M/88fwc/Ur9fP2z/e79LP5u/rj+/v5Q/6P/+f9PAK0AEgF0AdcBNQKPAuACKQNnA5kDxQPlA/gDBAQCBPYD4QPBA54DbgM5A/wCuQJwAh4CygFsAREBswBZAPz/pf9R/wD/s/5u/in+6/2x/Xv9Tf0f/fT80Pyw/Jb8h/yB/IL8jPye/Lf81fz7/Cr9WP2K/cX9//1A/of+0P4c/3L/xv8kAIAA5ABGAakBCAJfAq8C9QIzA2MDigOmA7MDvAOyA6YDjwNvA0gDGQPdAqICWQIQArsBZAEKAakASgDx/5n/Qv/t/qP+Wv4Y/tr9oP1u/UD9Ef3u/Mr8rfyY/I78iPyJ/JL8p/zA/OX8D/1A/XL9sP3v/TD+d/7B/g7/Yf+3/w8AcQDTADwBoQEFAmECwAIOA1YDkQPAA+UD/gMKBAoEAQTyA9gDswOPA14DIQPhApkCTAL3AZ0BQAHdAH0AHAC//2D/BP+r/lr+D/7J/Yf9TP0Z/ef8u/yX/Hf8XfxM/EX8QvxK/Fz8d/yY/ML88Pwl/V79n/3l/S7+fP7T/iX/f//Z/zsAnwAEAWsBzgEwAooC2gIoA2kDoAPNA+oD/gMDBP8D8APYA7cDkANgAygD6AKgAlMC/wGkAUgB6QCHACoAzf9x/xX/wP5v/iT+4f2m/XH9Pv0P/eP8wvyl/I/8hPyC/If8lPyu/Mj86vwP/Tv9cP2t/fL9Ov6M/t7+Mf+I/+L/QwCjAAwBcgHVATYClALoAjUDewO3A+MDAwQZBCMEGwQMBPAD0QOlA3kDSAMEA7ACSQLbAWkBAgGhAE0AAQCu/1T/8P6F/hz+vv1x/TH9A/3c/Ln8m/x6/Ff8Ovwm/B38JPw3/Fb8f/yu/N38D/1E/X39wv0J/l3+t/4U/3f/2v89AKQACgFxAdcBPAKZAvUCRwONA8UD9QMWBC0EOgQ4BC0EGQT2A84DnANkAyAD2QKJAjACzgFrAQIBmQAzANL/b/8L/7L+Wv4H/rj9df06/QL90vym/IT8ZfxW/Ev8RfxJ/Fb8bfyO/Lb86Pwe/Vf9lf3X/SD+a/68/hL/bP/K/ykAigDuAFUBtAEVAm8CwgIPA1YDjQO4A9kD7gP3A/AD5QPKA6sDgANMAxEDzgKDAicCygFoAQABmwA6ANn/dv8X/7r+Yv4M/r39ef09/QX92fyx/Iz8cfxX/Ej8QPxJ/FX8cPyQ/Lr86/wg/Vn9nv3k/S3+fv7X/jL/jv/s/1AAsAASAXUB2AE1Ao8C4wItA24DoQPNA+kD/QMEBAQE/QPpA80DpwN3Az8DAAO5AmkCEQKzAVAB7QCIACMAwv9g/wD/oP5H/vD9pf1e/SL97vy9/JX8dfxX/EX8Ovw3/D/8UPxo/I38tvzj/Bn9Uf2V/d79L/6F/uD+OP+V/+3/SACkAAIBYQG/ARkCcAK+AgMDRQN3A6IDwQPVA+ED4gPWA78DowN/A08DGAPcApQCSALwAZUBNgHWAHEAEwC2/1f/+/6l/lT+Bf7B/YX9T/0e/fn82fy8/Kr8nPyZ/J/8qfy+/Nf8/Pwm/Vb9jP3G/Qf+Uf6c/uv+Ov+O/+L/NQCOAOcAQQGZAe0BPwKNAtECEgNIA3IDlQOsA7sDvwO4A6sDkQNtA0EDDAPUApMCTgICAq0BUgH0AJMAMwDW/3f/HP/A/mv+Gf7O/Yr9S/0W/ez8yPyr/JX8h/yC/IH8hvyU/Kr8w/zr/BX9Rv2A/b79//1G/pL+3f4s/33/0P8kAHoAywAhAXUBxAEWAmACogLiAhcDSANuA4wDoAOnA6YDnwOLA24DSQMgA+8CugJ+AjkC7QGbAUAB5QCIAC4A1f9+/yf/0v6E/jf+9P20/Xz9UP0r/Qr98vzh/NT8z/zO/NX84vz0/BL9M/1d/Yv9vv34/Tf+dv66/gL/Sv+U/93/JgBsALYA/QBFAYkBygEHAkICeQKlAs4C6wIBAxQDFgMUAwsD+gLgAr8CmgJsAjsCAQLAAXoBLgHjAJYARQD2/6P/V/8J/7z+c/4x/vb9vv2O/Wj9Q/0m/RL9Af34/Pb8/PwH/Rz9N/1V/Xv9pf3U/Qn+RP6E/sj+DP9S/5j/2f8eAGQApwDuAC8BawGnAd0BDwJBAmgCkwKvAsoC3wLsAvIC8gLsAt4CywKyApMCbQJDAhEC2wGgAWABIQHaAJUATAAAALb/a/8j/9/+mv5c/iX+8v3G/Z/9fv1m/VL9Rv1B/UH9Rf1P/Vr9cP2L/ar90f38/Sv+X/6X/tH+Bv8//3z/tv/0/y4AaQCiANkACQE9AW4BnAHJAewBDgIqAj0CUQJdAmQCaAJlAl4CTwI7AiQCBALmAb4BlgFnATYBAgHOAJUAWwAeAOT/qf9t/zn/Bf/U/qL+d/5U/jP+F/4A/u394f3a/db91v3a/eb99f0J/iT+P/5j/ov+tP7h/g3/P/9t/5//1f8HADYAZgCWAMIA7QAWATsBYAGFAaQBvQHUAeYB9QEBAgQCBgIGAgIC9QHoAdUBwQGlAYgBZwFGASEB/QDQAKMAdABGABgA6/+8/4z/YP81/wz/5P6+/pz+fv5k/k7+PP4u/h/+GP4V/hX+Gv4i/jL+Q/5T/mz+iP6l/sb+6/4Q/zn/ZP+P/7b/4f8HAC4AVgB6AJ8AwADgAP0AEwErAUEBUwFgAXIBfAGCAYkBiAGGAX0BdgFsAWMBUgFAAS4BGAH/AOYAzACuAJMAcgBQAC0ACwDo/8n/pf+F/2X/SP8s/xP//f7o/tb+yf67/rD+rf6s/qn+rv61/rr+x/7V/ub+/P4N/yf/Pf9X/3X/lP+z/87/7f8NACYAQgBeAHsAkwCsAMEA1gDnAPQAAgELAQ0BFgEaARgBFQEPAQgBAgH4AOsA3ADOALwAqQCWAIQAbQBWAD8AKAASAPv/5P/M/7j/of+M/3j/ZP9Q/z//Mv8i/xX/C/8C//z++/72/vf++v78/gL/DP8V/yP/Mv9E/1P/Zf97/47/pP+//9b/7f8HAB8ANgBOAGIAewCQAKAAsQDDAMwA2QDiAOcA7QDvAOwA6gDoAOIA2ADRAMIAtwCsAJ4AjwB8AG0AWgBLADcAKAAVAAIA8P/c/8v/u/+q/57/kv+F/3n/cP9n/1//Vv9Q/0//Tv9N/0//Uv9V/1z/Yv9t/3T/fv+N/5n/p/+3/8b/1f/l//X/AgASACIALgA+AEsAWABhAGkAcgB7AIAAggCDAIQAgQB+AHoAdwBxAGoAYgBbAFEARQA6AC4AIwAXAAsAAQDy/+n/4f/V/8z/x/+//7v/tv+u/63/qf+n/6f/qv+q/63/rf+w/7P/t/++/8L/yf/Q/9j/3P/k/+v/8//3/wEABQANABUAGQAhACUAKQAxADUAOgA+AEMARABEAEQARQBFAEIAQgA/ADwAOAA1ADIAKgAjABsAFwAQAAgAAQD6//L/7v/m/97/2f/Y/9T/0P/P/8v/y//K/8r/yf/M/9D/0P/U/9j/1//b/9//4v/m/+r/8f/2//r/+v/9/wAABwALAA8AEwAXABwAHAAcACAAIAAkACgAKQApACoAJgAmACYAJwAjACQAHQAZABUAEQARAA4ABgADAAAA/P/4//T/8f/p/+T/4P/f/9v/2//X/9b/1v/W/9X/1f/Y/9j/2//f/9//5v/q/+7/8v/2//r//v8AAAMABwALAA8AEwAXABsAIAAhACEAIQAhACUAIgAiACIAIgAfAB8AGwAbABgAGAAUABEADQAIAAgABQACAP//+//6//b/9v/2//L/8v/u/+7/7v/u/+n/7f/t/+3/7f/t/+3/7f/s//D/8P/w//T/9P/3//j/9//7//v//////wAABQAEAAgADAANABEAEQARABEAFQAVABYAFgAWABYAFwATABMAEwAQAAwADAAJAAQAAQABAP7//v/6//r/9v/2//L/8v/y/+7/7v/u/+7/7v/q/+n/6f/s/+z/8P/x/+3/7P/w//D/8P/0//T/9//4//j/+//7////AAD//wEAAQAFAAUACAAMAA0AEQARABEAFQAVABYAFgAWABYAFwATABMAEwAQABAADAAIAAgABAAEAAEAAQABAP7/+v/6//b/9v/y//L/8f/y//L/7v/t/+3/7f/s//D/8P/w//T/9P/0//T/9//7//z//P///wAAAAAAAAIAAgACAAIABQAGAAYABgAGAAYABgAGAAYABgAGAAYABgAGAAYACgAGAAoABwAGAAYABgAGAAYABgAGAAYABgAGAAYABwAHAAcABAADAAEAAAD9/wAA/v/9//3/+v/5//n/+f/5//n/+P/4//z//P/8//z//P8AAAAAAAACAAIAAgACAAIAAgACAAIABgAGAAYABgAGAAYABgAGAAYACgAHAAYABgAGAAYACQAKAAoACgAKAAoACgALAAsABwAHAAcABwAHAAcABwADAAMAAAAAAAAAAAD9//3//f/9//3//f/5//z//f/9//n//P/9//z//f/8//z//P/8/wAAAAAAAAAAAAAAAAIAAgACAAIABQAFAAkABgAJAAoACgAKAAoACgAKAAsACwAHAAcABwAHAAcABwADAAMAAwADAAMAAAAAAAAAAAAAAP3//f/9//3//f/9//3//f/9//3/+v/5//n/+f/5//n/+f/5//b/9f/1//X/9f/1//X/9f/1//X/9f/x//H/8P/0//T/+P/4//j//P/8//z//P8AAAAAAAAAAAIAAAAAAAIAAgACAAIAAgADAAMAAwAAAAAAAAAAAAAAAAAAAAAAAAAAAAAAAAAAAAAAAAAAAAAAAAAAAAAAAAAAAAAAAAD9//3//f/9//3//f/9//n/+f/5//j//P/5//z//f/9//n//P/8//z//P8AAAAAAAACAAIAAgACAAIAAgACAAIAAgACAAYABwADAAMAAwADAAIAAgADAAMAAwADAAAAAAAAAAAAAAD9//3//f/9//r/+f/5//n/+f/5//n/+f/5//n/+P/4//z//f/5//z//P/8//z//P/8//z/AAAAAAAAAAAAAAAAAAAAAAAAAAAAAAAAAgACAAIAAgACAAIABQAGAAYABgAGAAYABgAGAAkACgAKAAoACgAKAAoACwALAAcABwADAAMAAwADAAMAAAAAAAAA/f/9//3//f/9//3//f/9//3//f/9//3//f/9//z//P/8/wAAAAD9//3//P8AAAAA/f/9//3//P/8//z/AAAAAAAAAAAAAAAAAAAAAAAAAgACAAIAAgACAAEABgAFAAcACAAGAAcABgAHAAcABwAHAAMAAwADAAAAAAAAAP7//f/9//3//f/5//n/+f/5//j//P/9//n/+P/8//z//P/8//z//P/8//z/AAAAAAAAAgAAAAIAAgACAAIABgAGAAYABgAGAAYABgAGAAYABgAGAAYABgAGAAYABgAKAAcABgAHAAcABwAHAAMAAwADAAAAAAAAAAMAAwABAP7/+v/5//n/+f/9//n/+f/5//b/9f/1//X/9f/1//X/9P/0//j/+f/5//n/+f/1//T/9P/3//v/+////wAAAAAAAAAAAAAAAAAAAAAAAAAAAQAGAAYABwADAAMAAwAAAAIAAgACAAIAAgACAAIAAwADAAMAAwAAAAAAAAAAAAAAAAD+//3/+f/5//n//P/9//3/+f/5//n/+f/5//j/+P/8//z//P/8//z//P/8//v///8BAAEABQAJAAoACwAHAAMAAgACAAkACwALAAgAAgD+//n/+P///wEABQAFAAUAAQAEAAsAEAAYABoAFwATAAsACQAMABMAHAAmACkAIAASAAMA8//p/+f/6//w//v//f/x/87/lv9U/yD/FP84/47//f9kALMA4QDyAO4AvQBRALX/Ev+y/tr+j/+WAHwBxAFEAScA7v45/lL+M/9mAFUBkAENAR4ARv/r/in/z/97ANQAwwBWAOH/m/+d/+H/MwBtAHgAXwAtAAAA4//Q/9X/5f///xkAMAAxABYA6P+x/4r/hP+b/7v/w/+x/4r/cP96/7X/EQBoAJcAkQBeAC4AJwBYAKwA8ADyAJcAAQBq/x3/P//A/1UApQCAAPT/SP/Z/uL+X/8EAHcAdgALAHP/D/8Z/47/MwC1AN0AmwAqANb/2f8uAKcA9wDnAHoA5v92/2D/p/8aAHgAhQBBANP/f/99/9r/YQDOANQAXQCY/9v+gP60/lb/FACNAIgADwBr//3+Bf+A/zEAvgDkAKUAJwDB/6L/1v9DAKYAzwCxAFkA/f/A/6j/sv/G/9L/1v/S/9H/1//d/+b/9P8DACIARQBeAGQAVQA9ACYAJAA7AGQAhACGAGcAMgD//+j/6v8BABgAGQAIAOL/vP+v/7H/x//i/+j/2v+5/5T/e/9x/3z/kv+j/67/qv+b/4r/gv+B/4z/oP+1/87/5P/8/xgANgBbAIIAqgDSAPoAFgEnATIBNgE5AT0BQgFBAS4BCwHWAJkAYQA1ABgA9f/D/37/L//l/rD+k/6P/pj+oP6V/oP+b/5n/nb+l/7H/vL+Ef8o/zz/Wf+J/8P/CABSAJMAywAAATUBawGjAdgB/gEMAgkC9QHeAcQBrQGPAWYBLAHtAKYAbAA7ABMA7v+8/4T/Sv8W//T+5/7l/uH+0/64/pr+hf6D/pL+qf67/r7+s/6k/p/+rP7L/vX+Gf8v/zj/Nf85/1P/hf/J/xQAVwCPALgA5gAsAYkB9AFPAocCkwJ6AlsCRQJDAkkCQQIbAtQBdAEOAbgAeABKAB0A6f+k/1X/Cv/Q/qn+mP6H/nL+Vf43/h3+Fv4j/j7+Wv5w/nr+dv53/oj+n/6+/tX+2/7a/tf+3f7u/g3/O/9l/4//u//w/y8AhwD1AHgB/wGAAt4CFgMnAycDKwM7A1gDawNaAxoDsgIyArcBUwEJAdEAlgBIAOT/cf8A/6b+bv5c/lX+R/4o/v790/3B/cz97f0c/kP+Uf5R/kj+Sv5V/nL+lv6x/rv+vP6y/q/+uf7Z/gr/Sf+I/8//FQBnANQAWwHxAXwC3gIKAwgD9wLxAgADIAM0Ax0DzwJZAs4BUwH6AL0AkgBdAA4Apf8t/7z+cP5M/kb+Sf5E/ib++f3P/bn9wv3m/Rj+Rv5k/mn+YP5Y/ln+Zv59/o3+mv6X/pD+if6K/qT+0v4T/2X/xf8pAJoAIgG6AWIC9wJhA5kDpQOiA6MDtgPPA84DpQNKA8oCMQKlATEB2ACUAEwA9P+A/wL/kf49/g/+Af4A/gL++/3j/cj9tf24/dX9Bv4w/lH+XP5U/kb+Pf46/kX+TP5U/lP+Sf4+/jr+T/57/r/+GP98/+f/YADqAIkBOQLYAk8DjwOlA6oDtwPRA/UDAATiA5UDHQONAgcCkwE7AfgAsABWAOj/b//+/qf+bP5P/j/+Mf4d/gD+4f3G/cH90v32/Rv+Ov5H/kf+Qf45/jb+NP41/jz+Pv4//j7+Qf5O/nD+ov7m/jz/p/8aAKAAOwHdAXkC9gJEA2YDdAOCA5sDuAPLA7oDhgMpA7gCQALQAXABKQHvAK8AXAD5/4//NP/v/sr+tf6m/pb+f/5f/j3+JP4b/if+Of5L/lT+Sf4y/hr+Bf73/fD97v3s/eb92v3P/dD95v0P/kz+mv7w/lb/zP9YAPgApwFTAuECQgN5A5cDsAPYA/oDDgQEBNcDgQMVA5wCJQK/AXEBLwHlAIYAFQCj/0D/+f7P/rz+sv6k/or+Xv43/hr+Ev4d/jf+Uv5d/lT+Nv4U/vP92/3U/dL90f3J/bj9o/2S/ZH9qv3b/Rz+a/7G/if/mf8jAMkAgwE7AtMCNgNpA4IDmwPAA/MDIgQvBBMEwANCA7gCPALkAaoBegE4AdIATgDI/1X/Df/p/uP+4/7U/qn+bv4u/gX+//0V/jf+UP5U/kD+HP75/db9xv3D/cr9y/29/aD9fv1r/XH9lv3N/RL+U/6a/uv+Tv/U/3kAQQEOArwCMQNuA4QDnAPNAxQEWwR+BGUEDgSNA/oCfwIlAvABxQGEAR4BjADv/2//HP///vb+7/7Y/qD+YP4f/vj99f0T/jv+Vv5S/jD+Bv7j/dP91v3Y/dD9t/2Q/WL9Of0r/T79Zv2Z/cr98P0Z/lf+sf42/+X/sgCLAVMC5gI8A2cDigPHAyAEfQS5BLcEeQQIBIgDEQO3AncCQQL8AYwB/ABdAN3/iP9d/0n/K//6/rb+dv5D/i7+L/5D/lX+Wv5H/ir+Ev4F/gX+CP4B/uP9tf2H/WL9UP1F/UX9TP1c/W39if21/fP9Tf6+/kP/2f+JAE0BFAK+Ai8DbwObA9EDIgR8BMIEzASYBDsExgNdAwIDvgJ9AikCsQEYAXkA8f+c/2z/Tv8d/9L+f/48/hX+DP4b/if+Lf4o/hH+/P30/f/9GP4n/h/++v3E/Zn9f/12/XL9bv1i/Vn9X/1x/Zr92v0q/of+7v5m////uwCNAVgC7QI+A2IDjgPmA1gEwwT0BNMEeAQHBKcDYAMpA+sCmQIcAocB6wBmABEA4P+x/27/DP+j/lb+Mv4v/jH+Kv4T/vf93f3N/dD93/3y/fz97/3M/Z39fv1t/W79af1d/UX9NP02/U39cP2j/eH9Kv5+/uP+af8RAOAAuAFxAuYCJwNSA5gDCwSGBNoE6ASsBFsEDATNA5wDYAMRA6ECFgKEAf0AkgBJAAoAvf9e//P+m/5o/lH+Sf48/iD+/v3p/eX97v35/Qf+C/4H/vr96v3T/bz9q/2W/YD9aP1Z/VX9ZP16/ZT9uP3q/Sz+g/7y/nb/FADQAJcBRgK7AgIDNgN8A+4DagS9BMkElgRQBA4E3QOzA3QDFgOaAhQCjgEWAasAUQD8/5z/NP/K/nj+R/41/iL+Bv7g/b/9sv22/cD9xP3F/cL9x/3N/c39wf2r/Y/9df1h/Vr9Vf1j/XD9ff2O/a394f0r/ov+9/5x/wUAuwCKAUcCzwIZA0YDiAP1A3cE0QTiBK4EZwQtBAYE6AOsA0YDywJMAtYBbgELAawATADr/4D/IP/U/qH+gP5f/jf+CP7i/dX92v3a/dD9wP2z/bL9u/3A/bH9kP1s/Ur9Of00/TP9Mv00/Tf9Qv1k/Zz96f1C/qf+Fv+m/1sAKAHoAXUCwgL5AkYDwwNPBLIEwwSQBEgEGQQEBOgDqgM4A7ACNgLPAXABEgGtAEIA3f96/yH/3v6s/oT+Yf44/hD+9/3u/fT98f3l/dT9zv3U/eb97/3k/cf9o/2L/X/9g/2E/YD9ev15/Yn9rP3p/TD+fv7T/jv/vv9sADUB+gGMAuUCFgNYA8gDUQS5BNkErwRvBEEENAQeBNwDZwPbAmACBgKtAUoB1ABUAN//fv8t/+T+pP5s/jn+Df7p/c39vv20/aT9j/18/Xn9g/2W/Zb9hv1o/Uz9PP03/Tz9Pf05/Tb9Pf1V/YD9uP33/UD+mP4G/5L/PgAFAcYBXwK+AvgCQAOrAzMEnQTEBKAEawRMBEwEQwQGBJEDBAOWAkMC9wGaAR0BmQAqANL/h/89//L+r/50/kX+Hv4C/u/93v3N/bT9of2a/aL9rP2n/ZT9dv1Y/Un9Rf1C/T/9Nv0z/T39Wv2D/bf97/00/oj+8/53/x4A3ACdATUCjwLPAhcDiQMVBIcEsASLBFUEPgRGBD8EAgSHA/kCigI7AvIBigEFAXcABwC7/3X/Jf/P/n/+Qv4U/vT92P2+/aj9kv1//XP9dP1//Yn9jP1//Wj9VP1M/U39S/1I/Ub9Sv1d/Xz9of3N/Qr+Vv67/iv/tP9VABAB0AFqAsYCBANKA7oDQgStBM0EpgRzBGQEcgRoBBoEmQMRA60CbwInAroBKAGaADUA6v+m/1D/6/6V/lf+K/4L/ub9v/2d/Yb9b/1j/V79Yf1j/V79Sf0x/R/9FP0R/Q79B/38/AP9Hf1C/Wz9m/3Z/S3+kf4J/5b/PwD/ALwBTgKsAuwCQgPAA0oErgTCBJkEbgRnBHcEZAQTBJEDCQOuAm0CHQKoARQBjAArAOn/of9H/+T+kv5c/jv+Hf73/c39sf2e/ZP9jf2F/YX9g/15/Wf9UP0+/Tj9Lv0m/Rr9Fv0d/Tf9W/2E/br9A/5c/sT+Pf/T/4AARwH6AXsC0AIaA30DBQSHBM4EygSjBIcEiwSPBF4E8ANhA+wCngJWAvUBbAHWAFkACQDB/2v/BP+f/lD+Jv4C/t39rv2D/Wf9W/1S/Un9Tf1N/U/9Sf07/Sf9Gf0S/Qz9B/0C/Qb9Fv0v/VP9gf3D/Rr+fP7r/nH/EgDWAKUBSgK5Av8CUQPRA2UE3QT+BNsEswStBMQEvwRwBOcDWwP7Ar8CdAL8AWEBzwBqACQA2/9y//3+mf5a/jn+E/7i/a/9g/1r/WD9Wv1S/Ur9Q/04/Sn9Ff0H/fz89vzr/OX85fzx/Ar9K/1Z/Zf96P1M/rr+M//M/30ATAEIAosC2wIhA4wDFQSbBN8E0ASjBI0EnQSeBGoE8gNmA/kCvAJ4AhACfwHnAHYALwDt/5H/Hv+y/mL+NP4R/uT9sv1//V/9S/1A/Tv9M/0s/Rz9CP36/PT89vzw/Ob83Pzb/PH8E/08/WT9nf3v/Vz+2f5Y/+v/mwBkASgCtgILA1QDwANRBN0EIgURBdkEvwTNBMwEkwQPBHsDBgPAAnwCEAJ3Ad8AYgAWANT/d/8B/5X+Qv4L/uT9uv2I/Vr9Mv0d/RL9Df0K/fz86fzM/L78uPy6/LD8nfyO/JD8qfzP/Pj8Jv1i/b39LP6t/j7/3f+XAGUBIQKqAgkDZgPoA30E9wQrBRcF7gThBOwE4gSYBBQEiwMrA+kCmgIZAn8B6gB5ACsA3v95/wX/nP5P/hX+5f23/YD9VP00/ST9Gf0U/Q39/vzm/Nj80fzU/M/8wfyz/LD8wvzg/Ab9Lv1f/ar9Ef6G/gv/nf9KABIB0QFqAtMCJQORAyQErwQEBQwF6wTaBOcE8gTIBFsEzQNXAwoDxgJdAssBLgGmAEsA/P+c/yr/r/5N/g7+3v2r/XP9O/0O/fn87/zm/NP8tvyg/JX8kvyY/JP8hPx3/Hz8lvy8/Ob8Ev1F/Zv9Df6S/hz/tv9qADoBBwKnAhQDZwPbA3MEBgVdBWQFOwUjBSgFMAUEBZIEBASPAz0D9QKNAvcBWAHSAHMAJADB/0j/zf5n/iX+7f23/Xr9O/0K/fD84vzV/L78ovyJ/Hr8dPxr/Fz8TvxH/FL8a/yN/LL84Pwj/X798v1u/vf+mP9ZADIB+AGSAvoCUwPMA2YE8gRABT4FGAUIBREFFgXjBG0E4QNxAyEDzgJbAsQBKQGtAFMAAQCa/xz/pP5G/gT+0P2a/Vz9JP3+/Of82fzH/LP8nfyN/Ir8h/x//HT8a/xo/HL8jPys/Nj8Ef1c/b/9Mv62/k//AQDKAJsBTgLSAjcDpQMwBMgEOAVbBUQFJgUjBS4FGAXABD4EuQNUAwYDoQIXAnYB6gB6ACMAx/9T/9L+Xv4L/sr9k/1W/Rf94/y7/J/8ivx4/GP8Tfw6/DL8L/wz/DP8Mvw2/Ef8avyd/Nv8I/1+/e/9dv4W/8n/lABqASkCugIqA5gDJgTFBEcFfgVxBVUFUQVeBVUFCgWJBAcEowNVA/sCdgLYAUQBzgBxABUApf8m/6/+T/4C/r39g/1F/Q393fy5/KH8kPx//Gr8UPw8/Db8OvxC/ED8RPxV/ID8uPz3/Dz9lP3//YL+Gv/J/48AXgEcArACGwOFAwgEnQQaBVUFTQUuBR4FJgUcBdIEWQTUA3ADIQPGAkwCuwEpAa8ASwDl/33/Dv+o/kn++f21/Xr9SP0S/d/8r/yT/IT8d/xj/En8Mfwo/C/8M/wx/DD8Q/xs/Kv89fxB/aD9Fv6p/k7/CADbAKsBYgLrAlgDywNbBPQEYwWCBWAFOAUvBTQFGQW8BDoEtwNWAwcDqgInApEBBgGNACUAw/9V/+H+d/4X/sL9hv1S/SL96fyp/Hj8ZPxd/FH8NfwT/P37+/sG/A78DPwK/CH8T/yP/Nz8NP2f/Rn+r/5g/ykAAQHQAXQC+AJnA+oDhQQVBWgFcQVRBTsFPAU3BQ4FpwQiBKsDTwP6ApMCDQJ6Ae8AdgAOAKf/Pf/M/l3++/20/YT9Xv0u/fD8ufyV/Ij8g/x0/FT8MPwe/CT8L/wy/DP8PPxW/Ir80vwm/Yn9//2G/i3/7P/IAJ4BVgLiAk8DwgNSBOsEXwWEBW0FRgUwBSgFCgWwBC4EogMsA88CcQL+AXQB4wBhAPT/lv87/9v+dP4P/r39hf1h/T39Bf3G/Jb8hPyB/H78a/xG/CX8H/wo/DP8OPw//FL8evy9/BH9c/3p/W/+Dv/H/6EAhAFOAuwCYwPPA1IE7wR1Bb4FuAWUBW4FYQVRBRMFpQQVBI4DGQO3AkoCxgEvAZsAHQCz/1f/+P6I/hb+s/1x/Uv9Kv37/Lb8fvxb/Fv8X/xQ/C38Cvz0+/X7/vsM/BH8Hfw2/Gz8u/wk/Zz9G/6p/lr/KAANAegBmAIaA4cDBwSZBCgFiAWbBXoFTwU1BSIF9gScBB4EkgMSA6YCPwLKAT8BqgAgALT/W/8G/6b+PP7b/Zf9dv1Y/TT9/PzJ/Kf8nPyb/JP8ffxg/Ej8Pfw//Ej8Vfxj/Hn8ofzg/Dz9rv0w/r/+a/8yABEB6gGeAioDpQMjBK0EOQWUBbQFmQVoBTgFFAXfBIkECwR5A+oCcQICAosBAQFrANv/X////qj+T/7x/ZT9Tv0f/QT95/y+/JX8cfxd/Fr8XPxV/ET8Kvwj/CP8M/xK/GP8hvyz/Pn8Vf3S/WD+A/+1/34AWQEnAt8CdwP3A3EE9gR2Bc4F8QXeBa8FfwVQBRcFvwRJBL0DLAOlAiUCogEbAYUA9v90/wD/nP5B/uX9kf1H/RD97/zU/Lv8mfx6/GL8WvxZ/FT8S/w9/C/8Kfwx/EP8Xfx//K/88fxR/c79YP4H/7//hgBTAR4CzQJhA94DVgTJBDQFgAWWBYIFUwUbBeAEngREBM4DRAOzAisCqgEqAacAJQCk/yr/wf5l/hX+zP2J/Uv9Hv39/OX81vzF/LP8pfyj/J78nfyU/I38hPyF/Iz8oPzD/PT8Mv2I/ff9hf4w/+j/rABxAS4C3QJ0A/0DcwTkBEQFggWXBYYFYAUmBegEmwQxBLkDLwOjAhQCiAH+AHUA9v9x//f+h/4m/tL9hv06/fz8yvyq/JP8ffxi/FD8Qfw9/D/8Qfw//Dv8OfxB/FP8cvyb/Nz8Kf2L/Qv+pv5W/xoA4QCoAWICDAOkAykEowQQBWkFpAWzBaIFegVFBQIFtARTBNsDVQPGAjcCpwEdAZYAEgCR/xf/rv5S/gH+uf12/Tr9BP3g/Mz8ufyo/JP8f/xw/GX8Y/xg/Fv8Wfxc/Gj8ivy+/Ab9Xf3I/Ub+3v6M/08AFQHPAXACAgOBAwIEdQTUBBcFLgUjBQYF4ASuBGkECwScAxoDjgIKAooBDQGLAAUAhP8J/6P+T/4G/r79e/0//RX99vzp/Nz8z/y9/K/8pfyl/Kr8r/yz/LH8tPzL/Pb8Nv2D/dz9R/7H/mH/EQDLAIUBLgLAAkIDtwMrBI8E4gQPBRkFCAXqBL8EigRABOEDagPnAl0C3AFiAe0AcwD1/3j/Cf+p/l7+FP7G/Xz9O/0G/eX8zPy2/KX8jfx1/GH8Yfxk/Gz8cvx1/IP8ofza/CP9gP3p/Vv+4P5+/y0A6QCfATsCwgI4A6wDGgR2BLsE2ATXBMEEnwR0BDgE8QOWAyEDoQIdAqMBNAHKAFcA5P91/xr/yv6L/kb+CP7J/ZX9bf1N/Tr9KP0X/QH97/zi/N385Pzr/PX8AP0a/UH9fP3L/SL+hv72/nj/BgChAD0BzAFHAqsCCQNnA8EDBQQwBDsELQQRBOwDvAOAAysDzgJeAuwBdwEOAaMAOQDS/2n/DP+4/m/+KP7l/aj9ef1Z/Tr9H/0I/fH85Pzg/N/85/zz/P78C/0j/UT9df21/f39Vv62/if/qP81AMkAVgHUAUcCsgIbA34D0wMPBDUESARGBEIEJwT4A7kDZgMDA5gCKgK7AUcB0gBeAPD/iv8w/9r+jf4//vT9sf19/VT9Nf0b/f383vzG/Ln8tfy//Mb80vzb/Ov8CP04/Xn9xv0a/nz+4v5U/9f/ZgD3AIAB/AFjAsgCJgN8A8YD/AMcBC0ELgQaBPoDxwOEAzID1AJsAvsBigEaAa4AQADc/3r/Jf/T/on+P/78/cP9lP1x/VL9M/0c/Qb99fzt/O388Pz3/AH9Ev0t/VP9if3M/RP+Yv60/hb/hv8BAIYABAF9AesBSwKmAgMDUgOSA8QD4gPxA/gD7QPNA50DWQMOA7sCXgL6AY8BIwG0AEkA6v+N/zn/5f6T/kX+/v3C/ZH9bv1M/S39Dv3x/OD83vzl/PT8Bf0Q/R79N/1Z/Yz9yv0R/mH+tf4M/2//3/9cANgAWAHJATACkgLvAkUDjwPIA/IDDAQaBB0ECwTrA7cDcgMgA8kCaAIDApgBLQG8AEoA4/99/yX/zf53/iX+3v2e/Wj9O/0Q/ez8z/y6/Kz8q/yy/L38zfzb/PH8Ef05/XD9rf3x/Tz+jP7f/kL/sv8oAKgAIQGOAfABRwKgAvgCRgOMA74D4QPzA/UD6APOA60DfAM+A+sClAI2AtQBcAEMAacAQQDc/3//Iv/N/n7+Nf72/bv9hP1V/S39Df30/OT83PzU/NP81vzg/Pb8FP02/V/9hf25/ff9Pf6R/vD+Uf+3/yUAlQAEAXQB3AE7ApcC6AIpA2QDlgO7A9gD3gPZA8MDogN0AzkD8gKmAlEC+QGWASoBxQBfAAAApv9L//L+nP5P/gj+yf2R/WP9O/0X/fP83/zR/Mz8z/zW/OH88/wN/S79V/2J/b79+P03/oD+0P4k/4X/7v9dAMsANgGZAfsBWgKoAvQCOQN2A60D1gPsA+4D5wPUA7YDkANeAyAD0gJ3AhECqwFCAeIAgAAbALn/Uv/0/pr+TP4I/s39lv1j/TP9Dv3y/OT83PzY/NT82/zi/Pn8Ef0x/U/9cv2Y/cH9+P06/ob+3v48/5v//v9eAMYALQGQAfEBSAKaAuYCJwNiA5ADsAPIA9UDzwPBA6ADcgM7A/cCrwJiAgkCrAFFAd0AdwAVALb/W/8C/7D+X/4U/tT9nP1t/Un9Jf0M/fj87Pzn/Ov89Pz+/A79Gf0s/UT9af2S/cf9BP5F/o7+1/4r/4n/7v9TALgAGwF8AdQBKgJ7AsMCCANBA3MDlgOzA78DwAOuA5cDbwNEAwwDzQKFAjAC1wF1ARUBsABSAPb/l/85/93+f/4x/uX9qf1y/UX9Hf38/OP81fzM/M/82vzq/P/8FP0o/UL9Yf2G/bP97P0t/nD+uv4A/0//qf8AAGAAvgAdAXIBwwEMAlECmgLdAhoDTANzA4YDkgOVA40DgQNmA0IDDwPYApMCSgL5AaMBSAHlAIQAIgDI/3H/Gv/B/m/+If7d/aX9dP1N/S39FP0A/fP86/zu/Pr8Cv0b/Sv9Pf1a/YD9rv3j/SH+YP6o/uv+L/96/8n/HQByAMgAHAFoAbEB9gEzAnECrwLjAhADMgNEA1IDWANbA1cDRAMhA/ICsgJsAikC5wGhAVMB/gCbADMA0f9w/yD/zv6F/jz+9v21/Xz9U/06/S39Hf0W/Q/9Cv0N/R39Mf1I/WT9gP2f/b797/0j/mr+rf71/jr/eP+7/wEAUQCnAP0AUQGaAdcBFAJOAoYCxQL6AiADOwNFA0cDRQM+AzQDKAMJA9kCogJdAhYC0AGJATsB5QCKACYAwP9j/w7/xP5+/kH+//2//Yv9Y/1F/TX9Kv0f/Rj9Ef0N/RD9Hv05/Vf9e/2b/cP97v0d/lT+kP7M/gv/S/+L/9H/IQByAMUAEAFZAZoB1gETAk8ChgK9AuUCCgMgAy8DNAMyAy0DIQMFA+ECrgJxAi8C5gGfAVQBAQGpAEwA7/+W/0H/+v68/oL+Tf4X/uT9uP2X/X/9cv1r/Wj9Zv1n/Wf9b/1+/Zb9sf3W/ff9Gv5C/mv+mv7K/gD/P/+A/8T/AwBJAJIA2AAjAWcBpwHnASACWAKHArEC1wL4AgkDDwMRAwYD/ALuAtYCswKCAkYCBAK6AW4BIgHbAIsANwDe/4b/Mv/o/qb+aP4y/gH+zv2b/Xf9Vv1G/UH9Pf1C/UP9SP1T/V/9dv2S/bb92/0E/if+T/5+/rH+7f4v/3D/tv/3/zUAcwCxAPIAOQF9AbwB9gEsAloCiAKyAtYC9AIJAxMDEQMHA/kC5gLNAq0CgAJHAgUCvgF5ATQB9ACsAGMAEwC9/2j/Iv/j/rH+g/5V/in+//3c/bz9pP2Z/ZX9k/2R/Y39jf2Q/Zz9sP3L/ej9Cf4p/kn+bf6Y/sj+Av8//33/tv/v/ygAZQCjAOkALgFsAaIBzwHyARcCPQJgAnwClQKeAqMCmQKPAnsCZQJKAiQC+gHIAY0BUQEUAdEAjwBOAAgAw/9//zz/+v7E/pL+ZP4//hr++P3V/b79qv2f/Zv9mf2a/Zv9oP2r/bv91v32/Rf+O/5f/of+s/7j/hv/V/+R/8v/AwA5AHMArQDvAC4BaQGpAdMB+gEgAj8CWQJ0AogCmAKgAqEClgKKAnYCZgJMAi0CAwLVAZ0BZQEoAe8AtgB5ADsA+/+4/3T/OP8D/9H+pP53/k/+Kf4H/uT9zf29/bX9r/2s/a39rv22/cb91/3v/Qz+KP5I/mn+kf6+/uv+HP9O/4D/sv/k/xIARABzAKYA2AAIATgBYgGLAbEB0gHsAQcCIAItAjkCOQI2Ai0CIQIOAvoB3wG8AZgBbAE8AQgB0gCfAG0AOgAEANL/nv9u/0H/FP/v/tH+tP6X/nr+ZP5O/jz+Nf4v/i3+Lv4w/jX+Ov5G/lb+b/6M/qn+x/7o/gj/Lf9W/4T/tf/g/w4AOABjAI4AuQDoABQBOQFeAYABoQG6AdQB5gH5AQQCCwIOAg4CBgL5AekB1QG9AaEBgAFcATMBCgHdALAAfgBMABkA6P+8/5D/X/83/xP/7/7K/q3+kP52/l3+S/46/iz+Iv4Y/hn+F/4c/ib+Lv44/kn+Wv5y/oz+rf7K/uz+EP82/1z/hv+w/9r/BwAyAF0AhACwANYA/gAnAUwBbQGKAaQBuwHQAd4B6QHwAfMB8QHmAdoBzQG5AaQBhwFqAUgBJwEGAd0AtACJAFsAMAAGAOD/uP+N/2X/Pf8Z//T+2v69/qj+k/5+/mz+Wf5P/kz+Sf5O/lT+Xv5o/nX+hv6X/rD+zf7r/gz/Kv9M/27/kP+5/+P/DAA3AF8AhgCqANAA9AAcAUEBXwF9AZcBpgGzAcEBygHRAdQB0wHRAcMBswGeAYUBbAFPATIBDQHmALwAjgBgADUABwDd/7X/iv9e/zb/Ev/u/s3+rP6T/nr+ZP5P/j/+Lf4i/hv+Gf4e/iD+Kf4x/j/+T/5k/n3+mv64/tn++/4f/0X/bv+Y/8L/7/8cAEwAdwCjANEA+QAlAUkBbgGQAbEBxwHhAe8B/gEJAhACDwIOAgYC+gHpAdIBuQGcAX8BWgE1ARAB5AC2AIgAWQAmAP3/0f+l/33/Vv8y/wr/5f7E/qf+jf57/mb+Vf5H/jn+M/4w/jH+Ov4//k3+V/5g/nn+jf6r/sz+6v4L/y//T/9x/5f/wf/r/xUAPABjAIcArwDSAPYAGgE8AVoBcAGCAZABnQGrAbIBuQG8AbcBqwGeAYkBcAFbAUIBJQEEAeAAtgCMAGUAOgAUAO3/xv+f/3v/Uv8y/xL/9f7Y/sP+rv6Z/oj+dv5s/mL+XP5a/lz+Yf5n/nH+e/6I/pr+sP7D/uD++f4S/zD/Tf9v/5X/t//h/wYALQBUAHcAmgDEAOoAEwE7AVwBfQGbAbUBxwHZAeMB7gH0AfcB9gHuAeIB0gG9AaUBiAFrAUkBJAH/ANUArwCFAFsALAACANv/sP+I/2T/PP8c//v+2/6+/qj+j/5+/m3+XP5O/kT+Ov43/jj+Pv5I/lL+X/5p/nr+kP6p/sP+4f7+/hv/Pf9f/4X/q//W//z/IgBFAGgAjwCyANkAAQEnAUQBXgF0AYYBkwGhAa8BuQHAAcQBvAGvAZ4BjAF3AWEBSAEvAQ4B7gDFAJsAbwBIACUAAgDd/7n/kv9q/0X/Jf8I//L+3f7J/rj+o/6V/of+ff54/nn+d/5+/oD+hf6P/pz+rv7D/tn+9P4N/yP/Pf9X/3n/mv+8/+P/BwAqAE0AbwCVALwA5gAOAToBXwGCAZsBsgHGAdQB4gHwAfsBAAIAAvQB5AHPAbQBlwF+AV0BPQEVAeUAtAB9AEkAHgD3/9D/qf97/07/I//9/tz+vv6p/pj+hP5v/lb+Qf4z/iz+Lv4w/jP+NP4z/jj+Pv5O/l/+eP6S/q3+xv7c/vr+Gf8+/2j/kv+8/+X/CwA1AFsAiQC8APAAHgFMAW8BkQGrAcAB0gHkAfYBBQINAg0CCQL9AekB0QG4AZ4BgQFkAUMBGwHvAMAAjQBiADoAEwDx/8r/o/97/07/Kv8M//b+5f7W/sL+qv6R/nv+aP5h/mL+aP5v/nP+dv50/nX+ff6O/qr+yP7n/gL/GP8u/0P/YP+E/7H/3/8JAC8AUgB4AJ4AxgD8ADQBagGYAbcBzwHdAeYB9wEIAh8CLwI1AjACFgL3AdMBrgGQAXMBUwEpAfYAtgBzADMAAADT/6v/h/9d/y//+v7I/qD+hf56/nH+bP5d/k3+Nv4k/hT+Ev4b/iX+Mf40/jb+NP45/kX+Xf56/pv+vv7Z/vD+CP8g/0j/c/+k/93/DQA/AG4AmwDMAAUBRAGIAcIB+QEfAjgCQwJNAlcCaQJ4AoYChQJ1AlMCJAL3AcoBpAGCAVoBKwH0ALMAbAAqAPb/zP+r/4//bP9C/xP/5f69/qX+nv6d/p7+lf5//l/+Qf4v/if+K/45/kT+SP5H/kL+Qv5K/mH+gv6l/sT+3P7r/vz+Dv8w/2L/mv/X/wsANgBiAJIAzAAVAWsBvQEGAjYCUAJZAl8CbAKGAp4CtAK7AqICbwItAu0BsgGIAWMBPQEFAbgAWADz/5b/Uf8l/wr/9f7T/qT+aP4w/gn+/f0L/ij+Qf5N/kH+K/4S/gP+Bv4b/jH+Rv5P/kT+Ov42/kH+ZP6O/rL+y/7X/tT+2f7v/h//Zv+7/xEAXgCjAOoANQGMAfUBZwLQAiIDVgNoA2cDYwNmA3MDgwOGA2gDKQPQAmUCAAKvAXMBPgEEAbYATwDe/27/E//a/r/+t/6r/pT+bf5A/hb+Bf4O/if+S/5g/mL+S/4q/gr++P3x/ff9/P31/eH9y/22/bD9wP3h/Q3+Mf5S/m3+hv6x/u3+Q/+k/wgAaADDAB8BhgH5AXcC7gJNA4UDmgOXA4kDhQOTA6ADnQN3AysDvwJAAs0BbwEqAfQAtQBfAPT/e/8N/7v+kP6M/pH+kv59/lL+JP4C/v79GP5G/nL+if5+/lj+J/79/ej96f30/fn97v3R/bH9nf2d/b/99f01/nP+rv7f/hz/aP/H/zkAvgBPAeIBfQIZA68DLgR+BKQEpASMBHIEXwROBDEE9gOKA/0CTwKoARkBqwBaABcAyf9e/+z+fP4o/gH+CP4t/lv+d/50/lv+PP4s/jf+W/6D/pz+kP5i/h7+0/2U/XH9Wv1L/TL9EP3i/MD8tfzJ/AH9Uv2z/Rn+ff7e/kj/vv9FAOQAkgFRAh4D5QOTBA8FRwVFBRoF5QTBBKwEmQRnBPsDSwNsAoMBuQAvAN//tv+M/0b/2/5q/hn+Af4t/pP+Bv9c/3n/Zf82/xP/Ef8x/17/df9Z//z+dP7a/VX9/fzS/L/8qvyD/Ez8GvwH/CX8e/z4/ID9AP5u/sz+Mf+w/1MAHwEIAgcDGgQqBRkGvwYFB+QGfAb6BYQFIgXEBEoEnAOlAnMBMgAe/13+Df78/QD+6f25/Xv9Xv2A/fv9uv6L/zMAgABrABsAvf+A/3D/bv9Y/w7/ef6t/c/8EPyZ+2f7Yvtq+2H7TPs7+1P7ofst/Of8sv1t/gL/d//h/2YAGQEHAiYDcgTGBQkH/QdyCFAIuQfjBhIGcQXuBGkEtQOzAmQB6/+N/pz9PP1Z/bf9Cf4s/iL+Fv4+/r3+kf+SAHgB9wHvAXMBwAAdAK7/cv9D/+f+RP5W/T38Nft/+iv6PfqB+r/63vr1+hL7Xvvo+7H8p/2S/kz/yf8MAEwAtgBlAV8CoAMFBXMGpAdYCF0IwAfDBsUF+wRwBP4DagOLAk0By/9Q/jT9vPzq/Hz9F/55/pH+iv6e/gH/u/+2ALgBZwKCAgMCIgE2AID/E//S/of+AP4t/R78Cfs3+t/5Bvp9+gD7XPuS+777BPyH/Er9Ov4n/+P/SgBiAF8AfQDkAKoBxAIaBJoFFgdCCMwIiAilB4MGfAXDBEwE2AM0AzUC1QBF/9j98vzH/Dr99P2P/t/+6f7h/gb/gv9KAEYBJwKUAmICmwGMAIP/vv48/tz9cP3R/Pf7Afsg+pf5hPnk+YX6H/uX++f7L/yU/B791v2j/mL/5/8iABkABgAcAH4AOAE9AoMD9QR4BrwHdQhqCLEHnQaMBboEMATAAzMDWwIjAaT/M/4u/d38Nf3v/an+KP9c/2r/kf/z/54AhAFZAtECuQIIAvsA4//6/lD+1/1j/dH8HfxL+4D6/vnn+Tz62PqA+wX8ZPy0/Az9iP0h/tD+fP/2/ysAIAAFAA0AXwADAfgBNQOuBEUGuAeXCKQI3wehBmYFbATIA00DwgL3AcYAQv+6/ZX8J/x+/E79MP7W/i7/Wf+B/9j/cgBHAR8CrQKlAv0B5ACu/5j+xv0z/bj8OPyj++76RPrN+cH5JvrZ+qD7S/zG/Cf9ev3h/WT+AP+i/xkAUABCABMA9f8iAKsAjAHDAkEE5wV3B5YI4whYCDoH8wXZBBUEiwMIA1MCQgHa/1b+DP1q/I78Sf08/gn/kP/U/wUATwDKAHkBNQK+AswCRwJLASEAAv8J/kf9qPwX/Ij77Ppd+vb56vlA+t/6nvtO/Nr8Rf2g/QD+bP7n/l7/uP/e/83/n/94/4j/3P+HAIgB4QKKBFQG6gfYCNoI/gefBjUFFQRTA80CTgKNAVsA0/5F/SD8wfs0/Cn9QP4u/8z/LABvAL0AOwHqAY4C8ALMAhkC+QC3/4T+if3F/Cv8qPsq+7H6UPow+mn69fqz+3j8Jf2r/RX+cv7V/kH/rf8HADcAKwDw/6P/c/+M////0wAGAowDSgUTB38IJAncCMwHXQYCBfcDRAO3AhUCLQHl/2L++PwV/Pj7mvyf/bL+kf8pAIoAzgAiAZwBLAKvAtYCfQKiAXIAKP/u/eT8D/xt+/H6jvpA+hb6L/qS+jH77fum/Er9zf01/pH+5P43/4H/sP+0/43/S/8Q/wD/PP/I/6oA6wF7A1AFKQeZCC0JxAiXBw4GoASLA9ECRwKpAb8Aev/4/Z/8zfvH+338of3T/tT/iAD+AFEBmgH/AXoC3ALuAocCqQGAADb/8/3Z/PL7SvvY+oz6Z/pu+q76KPvI+3f8Iv27/Tn+pv4C/1D/lv/I/9r/zP+c/1z/Nf8w/3T/BwD3AEoC8gPLBZMH2Ag6CaAIUge5BUkEOwN8AuYBOAFDAPj+fP0y/ID7kvtZ/Ib9wP7S/5QAGgFtAbUBCwJtArECpQIkAjgBAgC2/nT9XfyE++n6g/pL+kL6ZvrA+kz79fuj/Ej91v1O/rP+Bv9Q/5L/vP/J/67/df8z/wb/Ff9t/x8AMwGhAl4ESwYUCE0JignLCGYHxwVbBEoDgwLgASgBKQDe/nr9TPzC+/n70Pz8/TD/OAD/AIUB2gEiAm8CuwLoAsACLQIwAfX/ov5g/UD8WPu0+lX6K/o3+nf67PqH+zf83/x3/fL9W/60/gD/Pv9s/4H/e/9X/x7/4/7K/uv+YP8pAEoBwQKABGEGCwgJCQ0JKgi6BiYFwAO0AukBQQGGAI3/UP4I/Qb8o/v3+9n8Bf44/0EACQGQAegBLgJrAqECqgJhArUBvQCW/1f+K/0i/FL7wvp0+mL6g/rR+kz76vua/EH93v1h/s/+KP9v/6n/z//g/9X/rP9y/zf/If9K/8n/oQDdAW4DOAURB5YIVgkfCRAIiAb2BKQDpQLqAU8BlwCd/2L+Hf0w/N77P/we/T7+av9lACIBngHnARsCSQJqAlsC/wFEAT0ADv/V/a78sfvs+mb6IfoU+jn6jvoX+8H7dPwk/bz9Of6T/tn+Ff9E/2r/iP+L/3D/QP8U/wz/Sf/f/90AOQLpA8YFkAfRCC8JoQhgB9YFXwQuA0cCnAEAATwAP/8S/gD9WPxH/Mv8tv3T/uf/1QCCAfgBPQJrApMCmgJnAugBFAEHAOP+vv2x/Mz7F/uk+mv6Y/qR+vT6hfs2/Of8i/0S/nv+z/4W/1T/j//C/9z/1P+2/4P/Yv9s/77/awB7Ae0CrQSCBhAI+AjrCAkIpAYTBa0DlALJASgBiAC3/6/+j/2c/Cf8PfzL/K/9vP6+/5gAOgGiAecBFgI1AiYC0wEtAUQAOv8j/hT9IPxj+9H6ePpG+j76afrM+mT7GfzT/Hf9+v1k/rj+9f41/3X/sf/Z/+b/z/+y/6b/z/9CABcBSgLSA5MFTweZCBoJrwiNBxIGkgRUA2MCuQEyAZcAyf/J/sP9AP29/PL8h/1i/lH/OAD3AIUB3QEcAjwCPwINApAB0ADs//b+/P0Q/T38kfsW+8j6mvqT+r76I/uw+0/87/x9/fD9T/6X/tP+CP9D/33/pv+w/6j/nf+l/+L/YwBJAYUCGATTBWsHeAixCBsI4QZgBfcDxgLpAUgBwAAhAFX/Yv53/dn8rfzr/Hn9Q/4e//L/pwAqAYIBwwHkAecBsQE3AYUAr//W/v79Of2F/O37evsd++D6zfr6+ln75vuI/CL9qv0X/m3+sv7z/jX/f//C//P/AAD+//n/BgBEAMUAnQHJAjkE0QVOB0kIhwgDCOgGhQUqBAsDMQKXARsBkADf/wX/Lf6I/Tj9Q/2b/Sf+2v6Z/0AAvwAbAWIBigGOAV0B6wBMAJb/2f4q/n/95Pxe/On7hvsz+//6+vpB+677Mvy5/Dj9ov39/U7+mP7p/j7/jf/H/+X/8P/2/wsASgC9AHQBcQK4AyYFjgaUB+4HiwedBl8FGwT+AiICiQEYAaoAGgBp/6L+A/6a/X79pP0E/o/+MP/O/08AvQAQAUgBXAE5AeAAXgDL/zb/p/4f/qD9Kf25/Ev87Pug+4T7pPv5+2787/xs/dn9Ov6M/tH+GP9o/8D/CwBEAGUAdQCNAL4AFwGsAYUCkAPHBPkF7QZaBy0HcAZaBSUECAMlAoQBFgG3AFEAw/8g/3v+Bf7C/b398f1M/sj+Q/+4/xwAcwCqAMcAuAB9ABIAl/8S/5X+JP64/Vb97vyN/Cr82Puk+6D7zfsW/IH88fxa/b39FP5k/rP+Cf9k/7n/AAAzAFoAgACrAPIAYgECAtUC1QPwBPoFuwb6BrUG+wX7BOwD9gI6AroBXwEPAasAJgCQ/wT/kP5M/jP+TP6F/tj+M/+O/+H/JgBZAG4AXwAnANT/b/8U/8H+cv4s/uH9jf0z/dT8hfxO/ED8W/yV/OL8O/2Z/ez9NP50/qz+6/4s/27/qP/c/wgANwBtALcAIQGvAWYCRwM5BB4FwAX4Bb8FKgVOBGcDmQL5AYoBPgH0AJwALACp/yj/s/5c/iz+Jv49/nb+v/4N/1z/pP/c//n/9P/Q/5H/T/8L/9D+nf5s/jv++v2v/Vz9Df3R/LL8uPzZ/BL9Yv2x/fv9Pf54/rb+8v48/4b/zf8IADkAagCbANwANQGrAUEC/wLZA7UEaAXUBeAFigXsBCMEYAO4AjwC4wGgAVkB/wCSABIAkP8g/8P+jP50/n/+pP7W/hT/Vf+J/6//vv+y/4//W/8k/+/+vv6M/lv+Jv7o/aD9Wv0T/d78wfy8/Nj8Bv1B/YD9xf0H/kD+ev64/vn+O/95/7b/7f8iAFoAlwDgAEYBzQF1AjYD/wOlBA0FKAXmBGYExAMjA5kCNALtAbQBeAEuAc0AXADi/3T/E//P/qX+nP6t/tL+A/83/2P/i/+c/5X/eP9N/yX//v7a/r/+rP6T/nL+Rv4K/sj9lP1y/Wv9ff2g/dL9Bv42/mT+jf66/vP+Mv9x/6//5f8VAEEAbgChAOQANgGhASwC0AKEAy8EswT7BPkEswQzBKkDHAOnAkoCBgLQAZIBPQHQAFwA5f9w/xD/xf6R/oH+hP6Z/rr+4v4C/x//IP8U//H+zf6m/ob+af5W/kj+M/4W/u39uf2B/VP9N/05/Ur9bP2a/cf99P0Z/kX+dv6r/uj+Hf9S/4f/u//r/yIAXwCuABIBjgEjAskCcwMSBI8E0wTSBJEEJgSoAyoDxQJ3Aj8CCQLMAX8BGgGqADYAy/9u/yT/9f7i/uX+/v4f/0X/Yf90/2//Xv87/xP/6/7L/rL+ov6U/oP+Zv49/gn+1v2s/ZP9j/2e/bz95v0P/jf+Xf6H/rD+4v4T/0H/c/+d/8n/8/8eAFEAkQDkAFEB0wFrAhMDswM3BIMEjgRXBPMDeQMEA6ICWAIoAv8BzAGBAR8BpQAkAKb/N//d/qH+fv51/n7+k/6v/sb+z/7M/rj+l/53/l3+T/5O/lH+U/5T/kj+LP4C/tT9qP2Q/Yf9k/2z/d79Cv43/l7+hP6p/tf+B/84/2n/m//L//n/KgBiAJ8A6wBLAbwBSQLuApgDNwStBOYE4ASeBDYEwQNQA/cCsgKAAk0CDgK4AUwBzwBIAMb/Vv/4/rz+oP6b/qr+vP7R/uH+4v7S/rn+nv5//nH+Yv5e/mL+Yf5h/k7+Kv77/cn9ov2L/Yv9m/28/eH9Cv4r/k3+bv6U/rz+6f4Z/07/g/+4/+v/GABJAIMAywAoAZ0BJwLHAmcD9wNZBH8EZAQTBKQDMAPJAncCQQIWAu4BtgFhAfYAeAD2/3b/Cv+z/n/+aP5n/nb+jf6i/q/+r/6b/oH+ZP5L/kT+Qv5M/l3+ZP5l/lX+Nf4J/uX9yv3C/c797P0T/jv+Yf6E/qb+yP7t/hn/Rv90/6X/0v8AACwAXQCUANIAIAGAAfQBfgIYA7ADMwSMBK0ElgRRBO0DgwMgA9ACmAJnAjUC+gGlATIBtAAuAKv/N//f/qj+kf6N/pn+rP66/r/+s/6X/nj+V/5B/jL+NP4//kv+U/5Q/jn+FP7s/cH9n/2T/Zr9r/3W/f79KP5O/nD+k/61/tf+AP8s/1j/hf+1/+X/DwBGAIwA3AA+AbUBQQLbAnQD9ANJBGQESAT8A5cDKwPOAogCXAI7AhUC2AGGARcBnAAYAKD/QP/1/sr+uf67/sj+1P7f/tv+zv60/pX+d/5o/mD+Z/52/oX+jP6A/mj+Sv4l/gf+7v3u/f79If5H/nH+m/6+/uH+A/8l/0r/dP+d/8b/8v8cAEsAfQC1APQAQAGaAQQCgAIGA44DAgRNBGYESwQABJ8DMwPUAosCVwIyAgkCzAFyAQABfQD3/3f/B/+0/oD+Z/5k/m3+fP6D/oP+bv5V/jb+Ff79/fX9+v0I/hr+LP4t/iH+AP7b/bz9pv2f/az9yv3t/RL+N/5Z/nv+nf7C/u/+H/9N/37/q//b/wgAOQBxALcABQFrAd4BZgL5AogDAARWBHMEYQQlBMsDbQMSA80CmgJ1Ak8CFQLEAVgB3QBYAN7/df8i/+j+y/7E/sT+y/7R/tD+v/6p/or+bf5V/kr+Tv5d/m7+gf6C/nP+Vv4v/g3+8P3e/eb9+/0a/j3+Y/6F/qf+yv7r/hD/Pf9m/5T/wv/t/xUARwB5ALIA8QA5AZQB/gF7Av4CfgPmAy0EPgQeBNUDcwMLA7ECawI4Ag8C3wGlAU4B3ABdANr/W//z/qL+cv5U/k7+Vv5h/mb+Zf5b/kL+Kv4U/gT+Af4O/iH+Ov5J/k7+Q/4m/gb+4/3K/cP9zP3q/Q3+Mv5Y/nb+kP6t/tH+/v4x/2b/nP/O//v/JgBVAIkAvwAKAWQBywFCAsgCVgPaA0oEjgScBHUEKAS9A1UD+QK4AogCZQI4AvQBmQEjAZ8AFwCa/zf/7P66/qX+nv6j/q7+tP6y/qX+kv56/mX+V/5T/ln+av58/oT+gf5u/k7+Iv73/db9x/3P/eX9Bf4m/kf+Yf54/pH+sf7Z/gn/P/9x/6H/y//s/xIAOQBpAKAA5QA3AZ4BHAKnAjUDugMcBE4ESQQQBLIDQgPUAnwCOgIHAuABqwFkAQYBkAAPAJL/IP/G/of+aP5b/mX+df6J/pf+nv6d/o/+fP5r/lz+Xv5p/nr+if6O/of+a/5H/hr+8/3V/cb9z/3g/f/9JP5J/mf+hf6j/sj+7P4Y/0n/f/+x/+L/DgA7AGUAlgDMABMBaAHKAUMCzwJiA/QDbAS/BNcEtQRgBO0DbgP/AqkCaAI6AggCyQFrAfwAdADu/23/BP+0/oT+bv5x/oD+m/6w/r/+wv66/qf+j/6C/nz+g/6Q/qD+pf6Y/nr+S/4R/tb9pP2E/Xj9f/2X/b395v0P/jv+ZP6P/r3+6/4d/0z/eP+j/8r/6/8KACwAUQCHAMcAGAF9AfYBfwIWA6QDIQRtBIYEYgQNBJUDEgOiAkoCDQLjAbUBegEjAbQAMQCp/yz/wv54/k7+Rv5Y/nr+o/7N/vD+Af8F//r+6P7X/s/+0/7c/uP+5P7a/rz+kf5Y/hv+4v23/aH9oP24/dn9BP4w/lr+gP6m/s/+/f42/3H/qv/b////FwApADwAUwB1AKwA9wBVAcUBTQLpApEDOATGBBwFMQUBBZAE9gNUA8MCUgIKAtcBowFgAQIBhgD7/2j/5f58/jr+Hv4h/kL+cf6o/tL+8/4I/wn/Af/z/uj+5P7l/uj+6f7g/sv+nv5k/h3+0/2S/WP9RP0+/U/9c/2h/dH9/v0r/lj+if7D/v7+Qf9+/7H/0//s//v/CgAbADYAYgCcAOgASwHOAWkCHQPcA4kECQVEBTIF0gQ/BJED6wJfAvoBtgF/AUkB+QCOAA8AgP/3/oP+Mf4H/gP+Jv5g/qj+7f4q/1D/X/9f/1P/S/9F/1T/Yv90/3X/Y/86//f+oP4//u79o/1w/U39Pv1A/VX9ff2t/ej9J/5p/qv+6/4q/2P/ov/U//7/FQAeACQAKgA1AFEAfQDAACMBoAE8Au4CtQN+BCoFngW9BYAF9QQ3BG4DtQIhAsABgAFLAQoBowAnAJL/+v5y/g/+0/3L/fL9Nf6Q/uz+Of91/5H/lv+L/3f/aP9l/3D/ev93/17/K//d/nf+BP6c/UT9Bv3l/Nn85vz9/CH9Tf2A/br9/v1K/pb+4/4l/2D/jf+x/8T/0v/U/9j/3P/s/wwAPwCMAPgAiQE7AhED/QPnBKsFJQZABu0FRAVgBHADkwLrAXkBLwH3ALgAVwDX/0H/qv4p/s39of20/fn9Yf7Z/kj/qP/n/wUABwD0/9j/wv+4/7v/uf+z/5b/W/8C/4z+Df6T/TH98vzT/Nn8+vwp/Vv9k/3E/fH9JP5h/qr+9v5D/4j/vv/c/+v/6v/a/8r/wv/E/9z/AgBAAJYADQGqAW8CWgNjBGQFOwa2BroGQAZkBU0ELgMyAnAB6wCaAFgAEACp/yT/kf4G/pL9U/1L/Yj9+f2T/kL/3/9eAK0AyACwAHwAPwAIAOP/xv+u/4z/Tf/t/m7+2P1A/br8Wfwt/DH8X/yq/AT9YP2x/fP9JP5R/oD+s/7w/i3/Zf+U/6r/qP+S/2//U/9H/1f/hP/L/y0ApgA1AeQBwALIA/oENQY6B90H5wdbB0wG7gR0AyACEAFVANf/g/82/9/+dP4E/pb9Sv0n/UX9q/1L/hT/6f+xAFABrAG6AYcBIQGlACkAxv96/0X/Df/G/mX+4/1S/bn8Qfzu+9z7A/xj/OL8c/0A/nv+2f4Y/zv/SP9J/0b/Rf9B/zj/I/8J/+P+tv6N/nf+ff6l/vT+YP/f/2oABQGzAYcCjwPLBDUGnge3CDsJAAkACGQGdgR8AsIAef+k/jH+/f3f/bn9gP1D/RP9CP04/bX9ff6C/6IAswGXAigDTgMHA14CeQF/AJb/1v5M/ur9n/1Z/QP9lvwk/Lz7g/uJ+9f7cvw6/Rb+7/6h/yEAZgB6AGAAHQDC/1z/8v6U/j/+7/2s/Xn9Xf1h/YP9zv1A/tL+gP8yANoAdgEPArgCjQOZBOkFZAfUCOEJLQqHCfIHswUjA7AArP5N/Zr8c/yw/Av9WP2C/ZX9qf3Y/T7+5v7d/wUBPgJMA/sDLwTTA/kCtgFCANP+l/20/C389fvx+wD8C/wC/PL77/sR/HD8Dv3p/dr+yf+QABMBRgEoAcsAQQCT/9T+G/55/f38pfxz/GD8d/yw/Af9gf0Q/rr+df82AOkAhAEJAoACDAPCA7AE2wU3B5gIsAkVCngJ1gdtBZoC6/+//VL8uvvl+4n8Wf0Q/o3+z/73/iv/gv8XAPAA/wEYAwEEhQR1BMUDkAIBAUv/qv1c/If7MftT+7L7K/yf/PT8NP1p/af9Dv6h/lr/IADUAFIBgAFbAesAOwBu/57+0v0e/ZP8L/wB/AT8Mfx//On8bv0K/rX+Yv8DAJQADAFlAZ4BwQHsATUCtQJ+A5UE6gVkB7UIcQk/CfYHyQUaA2kAKP6t/Af8Lfze/Mj9nf4l/1v/Yf9m/4//8P+aAIUBigJvA/AD5AM0A/4BZwC2/h/94vsr+wb7XPv4+6/8Uf3O/SD+UP5y/qn+B/+M/yMAqgD1APcApgAMAET/af6g/fr8gvw0/BL8Dfwx/Hb80/w+/b39Tv7o/oP/AABmAK0A2QDsAO0A5gDyADwB1gHLAh0EtQVsB/II4AnKCY4IUwaHA7QAUP6t/Pf7Ifzm/O391P5t/6z/vf/N/wAAbwAgARECFAPqA0kECQQfA60B7f8c/n38WfvL+uT6hftm/FH9GP6z/hb/Uf96/6j/9v9hAM0AEAETAcUAKABU/1/+ef3C/F78SPxp/KT85fwg/WX9sv0D/mb+3P5i/+H/QABuAGoAPgAFANX/uP++/wkAmgB/AakCGgTBBY4HPQlaCnIKWAkXByME+AAg/gD86vrY+pL7wPz2/ef+jf/9/1QAuQA/Ae0BxgKfAzIESgS4A3kCtwCs/qP88PrJ+Wn5zPnE+hD8av2j/pv/QQCjAM4A3QDmAPgA+QDSAG8AxP/Z/sr9wPzf+137Tvuk+0n8CP28/U7+uv4I/zf/W/91/5H/q/+u/5L/Vf8T/9/+x/7Y/hj/lP9QAFQBjwL+A5sFZQdBCc8KfwvqCu0I1wUwApn+n/vF+S75y/k9+wz9vv4GAO8AiwH8AWAC1AJsAxAEjQSmBBEEzQLwALL+bPxo+v/4c/je+Bn62vu8/Xz/3wDHATQCPQIIArwBdAEoAbsAKQBh/2v+W/1X/If7EPsf+677nvy8/c/+qf8oAE4ALgDj/43/Rf8W//n+4/7I/qL+hP54/o7+1P5P////4ADhAQEDNgSSBTEHBwmvCo4LFgsJCbkFtQG0/Wv6YPjS97r4s/ob/Vf/DwEoAsYCDQMeAy0DXgOtA+4D2QMnA9AB6/+q/W/7jPlS+A/44/iN+rT88v7jAFACFwMxA84CHQJbAaoAEwB//9f+Ef40/VD8f/vp+sL6HfsB/EH9m/7N/6UAAQHhAFoAp//s/mL+Df7n/eb9+P0O/iL+Rf6D/uz+h/84AAMB2QG/ArsD2wQzBtAHlAn+ClALDgo4B0kD/f4r+4H4YPfr99T5hfxO/40B9wKnA9IDngNRAyQDLANYA2cDAAP2AU4AOf4I/B/6yPhd+Ar5rfr3/Gn/gwEKA9EDzQMmAyQCCAEUAF3/0f5P/sT9K/2I/PX7jfuA++v7zvwL/mn/kwBeAaMBWwGjAKj/sf71/Yf9ZP15/bP99f00/nD+sv4R/5P/LgDeAJ8BZQI9AysEQAWaBkEI+gkTC9QK4QhxBTQB//yY+Z33WPe6+Eb7SP4FAe8C6wMoBOcDZgPtAqwCqALAAp4C8QGlAM/+tvy9+j75gvjJ+B36QPy//hEB0wLEA98DPwMmAt8AwP/z/nf+MP7s/Yz9DP18/AT8zPv7+6j8v/0R/1QARAG4AZoB+wD5/9r+1P0i/dH80/wJ/V39w/0o/ov+6f5g//H/kwAxAb0BKAKZAhsDywPFBBIGtQdaCUoKzAmcBwUEz//e+wH5o/f+9+r50vzo/3MC8gNqBCgEhQPEAjEC7gH8ASQCAwJJAfP/IP4v/H76afk7+Qr6x/sY/oEAfAKoA+4DaQNQAvkAs/++/j7+G/4U/vj9rv04/bz8ZPxX/Lj8hf2u/un/+ACQAaIBLAFSAEX/Nf5n/fP84vwa/X397P1b/r/+Gv91/9b/RgDGAEUBqgEEAm8C/QLKA9kERwb9B5UJTwp3CfcGQgMb/2v77fgG+Mf4+/r6/fEANANYBHgE9QMqA2oC7wHJAegBBwLIAecAZ/9//Zv7Jfpq+Zr5xvq7/Bb/TAHfAosDYwOJAk0BCAD0/kb+Df4X/ib+DP6v/SX9pvxa/G/8+vzx/Sb/WAA2AZQBagHIANv/0f7h/Tv97vz2/DX9jf3h/Tr+k/7y/ln/xP85ALMAGAFaAYABqAH+AaECnAP9BL0Gngj7CRAKYggcBQEB9PzX+UT4b/gt+v/8CwCRAgEESwTAA+sCJAKnAZwB3wE7AkwCsQFVAGz+Xfym+q75qPme+nf8w/79AKYCcgNOA3oCSQESAB//jf5k/oj+tv6p/kH+l/3f/GH8Tfy//Kn93P4cABoBlgF3AeEA//8H/zX+ov1d/WH9k/3S/QX+L/5i/q3+E/+V/x8ApQAXAVcBdgF0AY0B7AGzAuMDgwV3B2QJiQojCtsHFgS6/8j7EPkX+Of4Lvs8/i8BQAMVBMoD8gIZAowBegHXAWECxQKbApIBvv93/Uz70/lY+e75ePul/fr/6QEBAxsDbwJUATEAU//l/tX+Cv9B/zT/vf7m/ej8HfzR+yX8D/1Z/rb/0wB9AYYBCgE4AFX/k/4N/sH9o/2l/bD9uv3C/dT9B/5x/gP/qf9JAMgAHQE4ASQBAAEFAWUBPQKHAzAFJQcYCVMKGwoACFEEAAAP/GL5d/hJ+Xv7Wf4UAfMCmgMvA1AClwFUAZoBRAL4AlcDAgO+Aav/Pv0K+635eflf+hT8Pv5eAPIBrgKGArcBsgDY/2n/aP+k/+X/9v+f/9b+uf2Z/NL7sPs//Fr9uf4CAO8AWwEzAaYA7P87/77+eP5P/iv++/3C/ZD9bv19/cj9VP4N/8n/awDZABABFwH/AOQA7wBHAQQCHQOBBC8GCgiiCT4KLglXBl8CSf4A+0j5Qvm7+i79z//YAdwCyAIKAlcBGgF6AUoCLgO5A5QDgQKHABb+tvsJ+oL5K/q0+7H9p/8gAeMB4wFAAWkAx/+O/8T/LQB6AHgA/P8F/8T9h/yp+3X7Cvwy/aL+6v/FAB0B+gCEAPP/dv8o/wL/6f60/lj+5f17/Tn9Nv2G/RX+0/6X/zoApgDVANYAvgCrALkA+QCGAVsCegPfBHcGIghzCawJNAggBSwBUv2I+mL53Pmm+xb+ZwAAAo0CKAJnAfgALgECAhkD9gMsBHsD1gGB//785PrH+ej5Fvve/LX+LQAPAUgB7QBVAN7/wf8TAKAAFAEcAZoAk/9A/uT82/tw+8D7sfz8/TL/EABsAF4AEwC8/4D/a/9o/1z/Hf+j/v/9Xv3y/Nv8Iv20/XH+L//U/0kAjACsALsAwQDXAPsAOQGmAVQCQANoBMsFZQfpCJsJwgg3BpACwP6/+zT6Rfqm+8f98P+CARsCxgEKAZ8A6gDmASwDMgSABNUDNQLs/2z9X/tK+mP6hvso/bn+3P9mAGMAEACv/4v/1P99AD8BugGjAdkAkv8S/rv83/uh+w78A/0o/h3/rv/N/6n/gP98/53/0v/n/8j/Z//L/gf+Xv32/Pb8Tv3f/YH+G/+Y/+3/IgBLAHAAnQDPAAUBTgG1AVkCPQNeBNIFgwcVCa8JmwjGBdwB+/0j+/P5b/oh/Fv+WwCMAbgBGgFaADIAAQF5AhMEGAUIBdgDswEQ/5P82Po5+tH6OPzG/QP/pf+x/27/LP8r/53/dABzATUCWwK2AWkAyv5E/Tb8zfsG/Lj8pv16/v7+Jf8K//f+Gf94//P/SwBPAPH/RP9t/qD9GP3z/Cz9qf0v/qr+BP9N/5T/5v9CAJoA7gAoAVEBfgHaAYUCeAOvBB0GtAcTCXUJOghXBYUB3P1a+4H6QPvz/On+dAAkAfkASAC5//n/NAEAA7QEiQUYBYIDJQGV/nP8M/sF+9P7H/1D/uL+4f6R/kn+Xf7y/vj/LAEwAq0CYAJUAdH/RP4e/Y/8k/z2/IL9+f07/kn+Of48/of+HP/e/3gAsABuANT/DP9M/sP9hv2N/c/9H/5b/oL+pP7Y/jT/rv8sAJcA4AAHASEBWwHMAZICoAPkBFcG1wf0CAQJdgdqBLkAcf1s+xT7Evy5/V3/YQCMABcAdP9O/yUA3AHbA1oFswWyBKsCMgDf/UH8oPvn+8z8w/1P/kP+2f11/X79Lv5k/84AEQLLAsICAQK5AFj/P/6m/YP9p/3P/dH9sP16/Vv9cf3U/Yr+cv9HAMgAwQA/AHr/xf5K/hD+Bv4Y/if+Lv4p/i7+T/6e/iP/wf9ZAMIA9wANARwBSQG4AXcCcgOcBO8FZwe4CD8JPAigBQ4Ck/4y/G77Efxz/d7+wf/d/1r/rv6E/mX/TAGgA3YFFAZFBUsD4QCt/ir9lvzP/G/9+f0C/n/9vfw8/GX8Y/3w/poA8wGcAoECygG1AKz/Af+7/rf+tv5x/t79MP2c/GP8o/xM/T3+PP8KAH4AegAfAKH/Qf8T//3+5/6+/nb+JP7i/cT94P1E/tD+Xf/V/ycAWACGAMAAEQGPATEC8ALLA9gEIwakB+AICQmQB6AEEgEL/lD8JvwV/WH+Wf+d/y7/a/7s/VL+3/87AoIE3gXHBVIEKwIQAIP+1P3T/SX+X/4q/mn9Y/yT+3/7Wfzq/bP/MwEGAiICsgH1AEoA8P/j//b/4v9n/4X+ef2W/Cn8Svzl/Lj9if4r/4v/q/+j/4//jf+o/8P/wf+G/xr/l/4u/vj9/v05/pn+/f5R/4r/tf/j/yoAkgAJAZQBKwLYAp4DkwTQBUgHnwgaCQEIXQXxAeD+Cf29/Hr9fv4n/w7/Uv5u/f38if1B/7sBIwSFBX4FMwRMApMAhv80/1f/ef81/1r+Cf2r+9D62frV+3n9Kf9kAOwA4wCbAGEAdQDOADYBZQEcAUEABv++/dD8bfye/CL9sf0S/jH+Ov5g/rD+IP+Z/wAAQQAyAOr/eP8I/73+nv6j/rr+1P7m/uz+/v4e/1v/tf8eAIcA6gBfAfABuAKtA9cEQwbQB/UI4AgzB0kEIAHK/r798f2o/iD/8/4Z/vP8JPw//IP90f9jAkcE7ARKBOsClAHNALwABwEuAcQAn//7/Uf8Efu3+kj7gPzV/cr+Mv8w/x7/Vv/9/+cAxgFDAh4CZAFGABj/Lv6//bP90v3W/Zz9Qf35/Pv8XP37/bH+R/+t/87/u/+V/3f/fP+c/73/vv+Z/17/IP/u/uL+AP9F/53/6/84AJUAIwHjAdUCAgR4BSQHowg6CT8I4wUHA6UAY/87/5j/wP9N/zX+yvyk+1/7S/xD/rIArgKSA10DegKlAV4BvwFdArYCVAIlAWP/jP0t/JT7x/t3/C79lP2R/V/9Xv3X/dP+HABHAfoBEQKgAeEAJwCw/4X/f/9l/wD/Q/5o/b38fPyz/DP9uf0d/lf+d/6V/s3+Kv+t/yoAegCIAFgADgDO/7H/sP/A/87/0//W/+n/IwCdAFQBOQJGA4AE5AU2B+cHZQfCBZ0DywHVALgA7QDbACgA3P5Q/Qn8kPse/J39cv/hAHcBPgGsAF0AogB1AWoC9wLKAt4BdgAE//L9hv2p/e/9DP7A/Sn9k/xY/K78iP2a/pT/MABWADEA/f/0/zEAlQDkAOUAfQDG//X+Tv78/f39I/4q/gf+wP2G/YP9v/00/sH+Qf+e/8z/5//+/yYAYACeAMYAzgCwAH0AVwBiAKsAKQHRAY4CZgNoBG8FHgbzBeYEawMiAn0BiQHYAeYBZQFMAOX+ov31/Cb9E/5N/0IAfQAUAHT/HP9a/yQAJwHqARwCpgHDAMf/Hf/5/jD/ev+C/xz/X/6X/SH9G/1//R3+qf7m/tn+of53/o7+//6d/yUAawBbAAgApP9g/0b/Wv96/3X/M/+1/i3+0P3C/fr9VP6m/tD+4/7r/gr/VP+3/yIAfgC1AMAAtwC2ANMAEAFpAcsBMQKVAhMDuwN0BOYEswTcA7gC0gFmAXYBwAHXAYABtQCh/5r+AP4J/qv+jf8jACIAl//1/qj+5v6S/10A9gApAeoAWgC5/0n/Rf+e/wkALgDe/yv/a/7y/dr9E/5n/qj+uv6M/jv++P3u/TP+uP5A/5n/oP94/0r/Pf9k/6D/1v/r/8b/eP8c/9f+w/7c/gv/Lf8w/xf/Af8C/yb/af+x//D/GwAoACwAPwBvAMMANQGxASQCjwIRA7YDWASmBG0ExwMUA6cChgKRAo8CVQLVARcBLQBK/7L+mv77/oP/z/+Z/w3/if5f/qb+Ov/h/1kAhwBpABQAtv+K/6z/DABxAIcAMQCP/+z+if57/p7+yP7f/sL+ff4l/uX93P0W/oD+6P4g/x7/+v7Z/t7+Ef9a/5r/tv+h/2X/Iv/+/vz+G/9J/2X/Y/9G/yf/Hv82/23/sP/q/w8AHQAoAEAAdgDFAC0BmwECAnAC+QKgA0AEigROBMMDPwPyAtsCzgKeAjwCqgH5ACYAVf/E/pz+3f44/1D/AP+A/iX+MP6m/kj/3v8/AF8ASgASANv/0v8MAG4AuwCqAC4Af//t/qP+qP7H/tX+tP5r/gn+sf2F/Zv96v1V/qb+xf6z/pX+mv7U/i7/kf/R/+H/uP+A/1f/Uf9m/4b/nP+R/2z/Qf8i/yn/RP9t/4v/mf+Z/4//m//D/w8AdwD1AG0B2gFXAgADwQNaBIIENwS9A2wDVgNZA0ED8wJ1AtYBEgE2AHL/+/71/jr/a/8//8H+P/4O/lX+6f6F//f/KQAgAPD/uP+c/8D/IQCFAKoAbADe/0v/9P7w/hn/PP8t/+7+l/5D/gr+BP4v/nv+wv7d/sv+ov6K/qD+7P5M/5n/sf+U/1z/L/8f/zj/Y/+H/4r/df9H/yD/Gv83/27/p//N/9z/4P/l/wIAOwCVAP8AaQHGAR4CkgI6A+8DagRkBPsDhQNAAz4DPwMUA6gCFAJoAaIA0/8n/9b+6/4q/zf/4v5U/uT95f1U/vL+hv/h//7/7P/C/6D/sv/8/2YAugCzAEcAq/8v/wP/Gv9B/0X/EP+r/jb+3f26/dP9GP5l/pL+i/5i/kH+T/6V/v7+Yf+f/6P/ff9K/zX/Sv95/6b/tf+l/3X/RP8z/0b/cf+a/7X/u/+3/7T/xv/6/0kArwAcAX8B1gE8AtICkAM3BHEENATCA3kDbgN+A3kDNAO2AhsCaQGkAOX/Yf89/2D/df8z/57+Bv7H/fz9gf4O/2r/kv+F/2P/Sf9Q/4n/8P9XAIcATwDU/1b/Hf8v/2T/hP9f/wP/i/4k/ur96/0c/lj+fP52/kv+IP4h/l7+w/4f/1X/V/8z/xH/Cv8h/1T/hP+j/6L/hP9e/0//Zf+W/8f/4f/o/+T/5f/7/y8AfwDmAFsBuwEMAnICCAPDA0sEWwQKBKcDfAODA4wDaAMLA4oC+wFWAZMA3P9o/1j/fP9//yL/gv78/dr9J/6k/hD/SP9Z/1H/Rv9C/1L/jf/s/0cAZAAtAMX/av9S/3X/o/+p/23/Bv+X/kn+HP4h/kb+cf6B/mr+PP4X/h3+V/6t/vn+FP8N//f+7v78/hj/QP9q/4T/ff9h/0f/Rv9q/6P/0P/o/+j/6f/3/xkAXQCzABsBhAHmAUkCzAJtA/4DLwQCBLEDiAOYA6wDlgM7A7sCMgKgAfwAVgDR/5v/o/+i/1n/y/42/vP9GP6F/vD+JP8s/xv/EP8U/yv/XP+u/wgAOAAeAM7/dP9M/1r/iP+h/4P/Mv/I/nL+RP41/kf+Zf50/mD+O/4S/hH+Ov6D/sr+7P7v/uT+3/7x/hH/PP9q/5D/lf+C/23/cP+I/7P/3f/1/wAABgATADEAZwC9ACABhAHjAVIC3QJ7A/gDEwTZA5sDjQOrA70DmwM9A8ACQgK/ASMBgwAGANP/1f/F/3D/2v5L/gz+L/6F/tX+8f7o/tT+z/7e/vX+If9q/8D/9f/q/67/bf9U/2v/nv+6/6H/XP8H/7v+j/59/oL+jP6R/nv+Tv4s/ib+Rf56/qr+v/6z/p/+of65/uH+DP83/1j/b/9y/2r/cP+F/67/0//v/wIAEAAmAEoAgADLACgBhAHfAUQCwgJfA+IDDATbA5YDggOiA8cDrANOA8kCRwLNAUkBswAqAN3/y/++/37/9f5f/hL+JP57/tH+8f7n/sz+yv7e/gX/Lf9q/67/5f/r/7//hf9p/33/r//V/8z/i/8s/9P+m/6J/pb+q/6w/p3+cP4+/ij+Ov5u/qX+yf7K/rv+sv6+/t/+DP8y/1f/cf+B/4H/hP+S/7D/1v/4/w0AEgAaACoAUwCRANwAMAGBAd0BUALiAncDxwO5A3gDUANmA5YDowNxAwoDkwIoArgBMAGeACsA9v/t/9D/c//k/mX+OP5i/q/+3P7Z/rn+oP6l/sP+5/4U/0n/gf+m/6X/hP9p/2b/g/+m/7v/o/9t/zD/+/7a/tD+0v7S/sP+o/52/lL+Rv5W/nv+mv6n/qH+kf6S/qf+x/7t/hP/M/9Q/1//Zv91/5L/s//a////HQAyAEIAWAB8ALcABwFbAbEBEQKDAg4DiwPFA6wDbANRA3cDqgOyA2cD6AJrAgoCsQFBAbgAOgD7/+L/wf9r/+z+ev5O/m3+p/7J/rv+k/6B/o3+tP7g/gb/L/9a/3n/gP9y/17/ZP+F/6n/tf+a/2L/Lf8I//b+9P70/u3+2f65/pf+fP54/oj+rP7L/tD+xf6v/qX+tf7W/vv+Gv8x/0L/Uf9c/2//hf+j/8L/4f/6/xAAIAAwAEUAagClAPIARwGZAfgBZwLhAkMDZgNCAxkDGgNOA4EDeQMpA7ECRgL0AaYBQQHKAGYAKQAKAOL/if8T/6j+gv6b/sr+4P7G/pn+gv6R/rj+6P4O/y7/Vf93/4X/g/98/4L/nP+3/7//p/+C/1j/Pf8u/yH/DP/5/un+2f7D/qX+lP6V/qP+u/7B/rT+p/6k/rb+1/75/g//Iv8x/0T/W/9w/4v/qf/D/+b/BgAlAD4AUgBuAJQAygALAUkBjAHZAUICtgIjA1MDOwMJA/cCIANTA1wDIwO7Ak8CAgLGAXMBBAGMADwAFAD1/7v/Xf/3/rb+rf7B/tH+vv6Y/nn+ff6f/sj+7v4K/yf/QP9O/1L/U/9g/37/nP+o/5f/c/9V/0T/PP80/yj/GP8O/wb/+v7l/s3+xP6//sb+yP7E/rX+rP6w/sL+4P76/gn/EP8d/zP/Vf93/5f/tv/O/+H/8v8IACQAOwBVAHoAtAD9AEsBlgHrAVYCyQIYAyAD8gLMAtsCFgNJAzYD5QJzAhoC6AG3AWQB6gB3AC8ADwD0/7f/Uf/r/q3+rf7H/s/+uf6X/oT+kP60/tj+8/4L/yL/QP9Z/2H/Y/9x/4f/mv+c/4n/af9V/1H/Vv9S/z7/Kf8Z/w3/Bf/3/ub+2f7d/uj+8P7o/tb+xf7G/tf+8f4G/xX/I/8y/0T/Wv91/5T/s//O/+D/8/8LACMAPwBdAIgAwgD9AD4BfwHRATgCqQL4AgcD4QK9AsoCCAM/AzQD4QJzAhkC6gHNAY4BKgG8AGUANgASANr/hP8n/+v+3P7j/tz+wv6b/oT+iP6g/rj+zv7p/gX/If8y/zb/N/9M/27/jP+P/3b/V/9E/0T/UP9U/0X/L/8h/xX/Dv8F//H+3f7R/tD+z/7B/rf+sP6y/sL+2f7x/gD/E/8k/z7/Xf97/5b/tf/Q/+r/AgAfADwAXAB+AK0A5wAlAWUBsQEOAnsC3AIQAwsD4ALGAuMCGAM1Aw4DqwI6Au8B0AGuAWkB/QCGAC8AAADe/6f/Wv8R/97+zv7K/r/+qf6S/oj+jP6V/qb+vP7b/vz+Ff8e/xj/G/8v/1r/ev9+/23/Tv87/zz/R/9H/zz/Lf8j/x//F/8H//v+7v7q/u3+7P7j/tn+1P7Z/uP+9P4B/xL/K/9N/2v/hv+i/7z/1//5/xoANABSAG4AiwCuANkAEwFPAZMB2QEwApAC3wL4At8CuwKzAt0CDwMYA9wCcQIMAssBqgGHAUEB5gCHAD0ACgDZ/5f/Tf8Q/+3+3f7S/sD+qf6S/oz+kP6c/q3+w/7j/gP/G/8g/xz/IP80/1b/c/92/2T/Sv8//z//R/9M/0H/Lv8c/xD/CP///vL+6v7r/ur+4f7U/sb+xP7N/tr+6P75/gr/I/9B/1//ef+X/7X/2/8DACoAUABtAIoArgDhABgBVQGSAdEBHgJzAsIC6ALRAqICjwKmAtQC5gK/AmcCAQK2AYgBZgEyAeYAmQBRABMA4P+l/2T/Mv8N//r+4v7I/rD+pf6l/q7+s/6w/rb+zf7x/hH/Hf8a/xL/Hv85/1f/af9i/1H/Q/9C/0P/Qv83/zf/MP8p/x3/Ev8J///+A/8E/wP/+/70/vT++/4I/xb/K/89/1T/af+F/6P/uv/V/+v/BQAjAEEAXwB4AJUAtQDgAA8BRAF9AcABFwJtAqICoAJ9AlwCaAKXArwCuAJ8Ah8C0QGbAXgBUQEbAdoAmQBfACcA7f+v/3L/Tf83/x7//P7X/rn+q/6s/qn+ov6b/qH+u/7b/vf++v7y/vH+Af8j/0P/VP9a/1v/Xf9h/2L/Yv9g/2X/aP9l/03/M/8f/xf/G/8a/w7//f7r/ub+6/7w/vX+/f4P/yr/S/9o/4H/p//V/wUAMABXAHUAkwC3AOMAFwFQAYMBuQEBAl0CugL7Av4CyAKJAnsCngLNAtUCkAIZApcBMQHsALkAjgBjADcAAgDG/3z/PP8U/xT/LP9D/zv/GP/z/uT+8f4O/yf/O/9N/1//av9j/1D/Qf9C/1P/Yv9c/zb/Df/s/t/+4v7g/s/+w/6+/sH+wP66/rb+vP7I/tf+3/7k/uT+7f71/vD+3f7S/uP+Df85/07/UP9V/2//pP/h/xEAMwBIAF0AfgCvAP8AVAGlAeoBOwK0AlcD/QNMBBMEkQM+A10DwgMDBLkD8QIOAmQBEwHcAIQA+P9n/wf/0/6o/mT+Ef7a/eP9IP5Z/m3+Yv5a/nv+vf4N/1j/kv/I//D//P/5//D/+P8UAC4AGwDa/4L/Q/8p/yT/D//a/pb+bv5k/mz+aP5Y/kX+S/5t/pb+sf64/rj+xP7f/gL/Hv82/z7/Q/9H/1H/YP92/43/n/+k/6z/wP/m/xEAOABeAJcA7ABcAdkBagIVA+QDnwT1BMIESwQOBEsEswTPBE4EWgNoAtABhQEwAZUAxf8W/8P+sf6P/jf+vP1v/Xz90v0t/lb+XP5p/pb+5v4+/4//1v8SAEIAVABGADUAMwA7ADUAAACp/0z/D//v/tL+m/5J/gL+5v3x/Qj+CP70/eH97v0b/lP+ef6J/pH+pf7E/u3+D/8k/zP/PP9Q/1//d/+J/5X/nv+m/7f/1f/5/yAARgB2AMIALwGvATwC3wKoA3gE+wTYBEkE4QMCBIUE1QSGBKUDowL2AbEBggEJATMAWf/Z/rv+vP6C/g3+nP1x/Z796/0r/k7+aP6O/sP+/P45/33/zf8dAEoARQAoABcAJwA8ACsA3P9u/x3/+v72/tT+i/4s/un92P3q/QX+Df7+/fj9Cv4v/lP+cf6N/qj+wP7c/vP+DP8m/0D/Vv9e/2r/eP+V/7L/wP/E/8z/5f8JADsAcgC0ABgBnAE3At4CoAOABDQFVQXiBFkEQQSkBBYFAgVGBCEDGwKSAWoBOQGkALT/2P5e/kP+P/4d/t79pf2W/bL94/0r/n7+1P4j/1v/f/+p/+z/SQCYAKcAdwA2AB8AMgA7AAoAl/8T/7f+lf6O/nb+N/7p/bn9sf3G/d797/31/fv9Bf4f/jv+Yv6N/rP+xf7F/sz+5/4W/0b/Yv9o/2T/ZP9y/4v/p/+6/8j/2P/z/yEAdADlAGwB/QGYAlwDSgQbBWYFCQVyBEAEmAQeBT0FnwR2A0oCiwFSATgBzQD3///+Q/7j/cP9uv2v/aL9mv2W/aj95f1S/uP+Z/+0/8T/x//z/1wA0AAJAd8AegAjAAAAAADu/6L/I/+h/jz+//3d/b/9ov2J/XD9Xv1a/XD9qP3t/ST+Tf5c/mj+kf7S/hD/MP8u/yT/IP8w/0v/Z/92/3b/cP9t/3T/hf+j/8n//P80AIUA9ACKAT0CCQP7AwMF1gUBBokF/ATrBFcFvwWeBcUEcgMyAm4BJQH2AHAAk/+h/uH9av0z/TL9V/2J/a/9uf3E/fr9d/4r/93/QwBVAEQAXAC4ACMBWgEzAdIAYAAEAMr/lP9H/+L+dv4N/qv9XP0v/Sv9QP1Q/U39R/1X/ZH98v1Y/qD+wv7O/uT+C/8//2b/ev95/2j/Uf9A/z//Sf9T/1X/TP8+/z3/V/+O/9f/JwB/AO4AfQEvAgYDFgRaBXIG0QZVBoQFFQU+BaMFuQUXBcIDLALoADgA3/+H/+3+LP5l/bT8Rfw2/J38Qv3c/Sj+NP44/of+Pv82AA0BcAFeASMBDAEmAUgBRQEFAYUA5v8//6X+L/7d/an9d/0n/cX8cvxh/Jz8Bv1t/bb94P3//Tb+jv70/kr/gf+d/5v/hf9s/17/Yf9m/1f/MP/8/s3+s/6z/sv+7f4J/yH/Rv+J//X/iQBBAQwC2AKvA70EBQYpB6YHQQduBsQFjAWNBWMFtwSAA/0BlACS/+f+Y/7z/ZD9J/2t/Dn8FPxx/Db9Hv7P/i3/WP+U/x0A6QC2ATcCSgIbAsoBcwEXAboAXwD3/3H/vP73/Tv9vfyE/H38f/xy/F78Zvyi/BD9m/0j/pz++P5D/3z/q//W//r/FQAdAAAAwf9x/y//Af/i/sD+n/6D/m7+b/6G/rj+BP9r/9n/SQDGAFwBHwIEAwYELgWHBtoHrQiWCL8HpgbUBWYFEwWOBIgDEwJ3AA//A/5J/c78ivxi/EL8E/z8+zP84/ze/eD+rv8kAHEAygBKAdcBRQJhAi8CygE8AZQA4f9I/8b+TP68/RT9ZvzU+4v7i/u9+/z7PfyG/Ov8av37/Y/+GP+Q/+T/GAAjABMA+P/Z/7H/dv8g/77+Vf4G/s79rP2e/Z/9sP3Q/fr9OP6Q/gD/jv8nAM4AeQE4Ag4D9QP3BBkGZQeXCDUJ5wjVB4gGZgWaBPgDRQNGAg8Bxf+T/pT9zPxW/Df8Xfyj/O/8Tv3h/bT+pP+FADMBogHxAT8CjgLGAr8CcwL7AVgBlgDC/+3+M/6d/R79ovwp/MD7g/uI+8D7HvyK/An9mv0w/sb+Sv+//xwAXgCJAI8AcQAxAOX/jP8t/8H+VP7x/aD9cf1X/VL9a/2f/e79RP6q/hr/mf8gAK0AOAHLAXsCQAMSBOUEzwXqBiMICwknCWQIBAeRBVgEaQOmAtcB5QDb/8z+yv3s/FH8G/xK/Lf8Mf2y/T7+6P6z/4IAKgGdAekBJAJQAlwCOQLiAV4BwAADAC7/Uv6P/fb8h/wr/NT7kvt0+5L74ftU/NH8Y/34/ZH+HP+U//b/SACDAJgAgAA6ANn/af/x/nv+C/6g/Uz9Ef3x/Ob89fwf/WH9vv0i/pb+Ef+V/xwApgAtAboBTQL0Aq4DawQuBRAGHgcwCM4IjwiIBxEGmwReA2UCmQHWABcATv96/qX95vx1/Gz8xfxT/e39i/40/+n/kQAhAY0B0wEIAi8COgIXAsEBNwGLAM//Av81/n797fyO/EL8BPzX+8P75Psv/J/8I/28/Vn+9/6F//j/RwCCAJ4AoQCAAEIA4/9w//L+bv7v/X/9If3k/MT8yvzp/CD9cv3Y/VH+0P5M/8v/TgDPAEMBrAESAn4C9QKAAxcEtgR2BWMGZgcgCC0IfAdFBt8EjANzApkB6QBWAMj/Lv+L/uf9Z/07/Wb9xv1E/tn+ff8lAL8ANQGGAbUBzQHWAcYBlgE+AccANACX/+v+Nv6S/Q39qfxj/Cz8Ffwb/Ej8mvz//Hr9+v2C/gT/eP/N/wcALAA+ADgAEgDO/3H/AP+L/hf+ov0+/fD8w/yw/L785/wl/Xr95P1c/tX+TP/F/0IAsgAdAXgBzwErAo0CAAOAAxkEywSsBa4Gewe3B0AHOwbvBJwDbQJ5AcQAOwDL/1v/3P5R/tf9lf2V/cz9Jf6f/jT/3/9+APwAUQGFAZgBlQFyATAB1gBmAO3/Y//J/i3+of0q/dD8ifxZ/EX8T/x//Mv8L/2f/R7+nv4d/4r/5P8lAFMAaABaADEA6v+H/xT/m/4t/sT9b/0s/Qj9A/0U/T/9g/3V/T3+s/4l/4//+f9aALgAEQFiAbQBBQJdAr8CLgOrAz8EAAXlBcsGWQdZB70GsAVxBDQDGwJAAaUAPADn/4z/JP+3/l/+OP4+/mX+sv4k/7j/TgDQADIBbwGKAY0BcQE3Ad8AdgAHAJL/EP+I/gD+i/0x/eP8sPyP/Ir8ofzT/B/9gP3x/Wz+6v5W/6//7f8VACkAGgDw/6r/V//5/pL+Kv7K/Xb9Nv0O/QL9DP0s/Wj9uv0c/oX+8P5i/9T/OgCXAO8ANAFuAaEB1wEaAmsCzgJAA8sDdQRDBRMGnQarBi0GUgU5BBgDCQIqAZEALADr/6b/Xf8O/8f+nf6Q/pr+vf4G/3j/+f9yANIAGwFHAVIBMgHxAJUAKgC3/0f/z/5b/uz9k/1J/Q391/yx/Kz8wfzt/C79g/3h/Uv+uP4X/2v/rf/Z/+n/2P+n/2P/Ef/B/nD+Iv7d/af9gv1p/WP9bP2P/cz9F/5r/sb+Kv+U//b/TQCZANwAHwFXAY8BywEKAl0CvQIxA78DbwRBBQgGhgaHBgsGOgUwBBoDFAI7AacASAAKANP/mP9b/yn/Cv/3/vT+DP9M/63/GAB/ANkAIQFQAVsBOwH2AJIAIACq/y//tv5M/vf9tP1+/VL9K/0a/Rn9K/1M/YP90f0w/pf++f5O/5f/yf/e/9X/pv9m/xz/1v6Q/k/+G/7z/dL9wP20/bf9y/31/TD+fP7M/if/jP/x/08AqAD5AEIBegGkAckB7QEcAlsCsQIeA6kDWwQhBdQFNQYiBqYF2gTbA80C0wESAYcALADu/7r/j/9m/07/O/8o/yD/K/9Y/5z/5/84AIkA1AAHARIB8wCtAEoA1f9X/9L+Uf7p/Zr9YP0z/Qz9+fz1/P38DP0s/WD9q/3+/VX+r/4B/0T/cv+A/23/Q/8M/8z+kP5V/iz+Cv7y/eT93/3g/er9B/4q/lz+lf7c/i3/gv/b/ysAeADGAAgBQwF2AacB5QEvAoQC8AJ3Ax0E3QSUBQwGIAbEBRgFLAQdAx8CTgG5AFcAIAD4/97/xf+0/6T/i/92/3D/g/+t/+X/HgBeAJwAzwDoANUAoABQAOb/aP/q/m/+B/68/Yj9Z/1T/VH9Xv1z/Yn9qf3Q/QT+RP6M/tH+Ef9H/2v/dv9l/0j/Iv/0/sD+k/5s/lD+Pf40/jH+N/5J/mf+kP67/vH+Lv92/8f/GQBpALkA/wA/AXYBowHOAf0BNAJ3AtQCRgPUA3gEGAWHBaMFbAXiBBoELgM9AmkBxABPAAMA1f+4/6v/qv+n/6n/of+f/6f/uP/Z//7/MABoAJMAqwCnAIEAQQDg/2v/6/5v/v/9rf1y/Un9Nf01/UP9XP13/Zb9u/3s/SL+Yf6e/tX+Af8i/y//Kf8g/wv/7/7Q/qj+g/5k/k3+Pf43/jn+S/5q/pD+tP7p/hz/Xf+g/+H/JgBsALQA+AAvAWUBlQHHAfwBPgKRAvgCeAMPBKgEGwVHBSYFugQTBEcDbAKnAQcBkQA+AAgA5f/Y/9P/0f/Q/8v/wf+4/7b/xf/V//H/EQAzAEoATAA3AAsAwP9c//D+gP4a/sP9hP1f/Uv9Tv1g/YH9of3K/e/9Gv5G/nf+q/7a/gj/J/89/0H/Ov8s/xb/+P7d/rv+nf6F/nX+dP56/o3+qv7O/v3+LP9j/5//2/8WAFUAkwDSAAsBPwF1AaEBzwH9ATACbQK8Ah0DjwMTBIgE2ATlBK4EOwSTA9ACDgJjAdsAdQAvAAMA7P/j/+T/6v/t/+n/5f/f/9r/3f/s/wAAGgAyAD0ANgAgAO//p/9J/+T+gP4m/tj9nf10/WX9bf1//Z39vf3i/Qj+Mv5e/or+s/7a/v3+FP8g/yX/HP8M//n+3/7C/qX+jv5+/nr+ff6M/qL+w/7q/hH/Pv9v/6X/2v8PAEYAfQC0AOcAEQE5AV0BfgGjAdEBEwJhAsMCNQOsAxQEVQRlBDsE2gNVA7YCEQJ4AfsAmwBOABsAAQD0//L/9P/0//T/6P/c/8v/x//J/9L/4//z//z/9//j/7z/ff8s/9b+fv40/u/9vf2e/Y/9kP2f/br92/0A/iH+Rf5s/pD+tv7X/vL+Bv8M/xH/Ef8P/wT/9v7m/tH+vP6s/qb+qP6w/sf+4v4G/zH/Yv+S/8T/+v8zAGYAmgDLAPMAHwFEAWoBkQG4AeYBIwJtAr8CJgOLA+sDKgQ3BBEEuQNAA68CGwKTAR4BwAB2AEIAGwALAAcACQANAA0ADwAEAPf/7P/n/+b/8P/+/wYAAwD0/9P/nf9a/w7/v/5x/iv+9f3O/bz9vf3M/eT9Af4b/jT+UP5w/oz+qf7B/tj+5f70/v7+CP8N/w//D/8I/wD/9P7q/uT+5f7o/vX+Df8o/0n/cf+b/8n/8/8mAFoAiACxANsA/wAhAT8BYAGAAaoB2QEZAmMCuwIXA28DsAPOA74DggMfA6QCIQKiATAB2ACNAFQALgAVAAgAAQD+//3/9v/u/93/0v/J/8X/xv/M/9P/0//J/6//hf9N/w3/xv6C/kf+FP7y/d391/3a/ev9//0Z/jP+Tv5t/oX+nv6z/sn+1P7a/uL+6/7z/vz+BP8J/wn/BP8A//7+AP8F/w7/Iv86/1f/eP+e/8f/8f8cAEYAagCNAKwAygDnAAUBKgFSAX4BrQHmAScCbQK/Ag8DVQN9A4gDagMqA8sCYwL2AY8BMwHfAJ4AaABAACwAIQAcABoAFwAOAAMA9v/n/97/1//Y/9n/2P/R/8H/ov96/0b/Df/W/pz+aP5A/hz+CP7+/f79Cv4f/jj+Uv5t/on+of61/sr+2f7m/vn+Cf8d/y3/O/9D/0X/Rf9B/z//Pv9D/0z/Xf9y/4v/qP/J/+v/FABCAG0AlQC5ANwA+AAPASYBPgFYAX0BpAHRAQICPgJ+Ar0C/QIuA0EDNgMKA7wCWALxAYoBKgHbAJgAZAA3ABgAAgD2/+3/5P/d/9H/wv+y/6L/lv+O/4v/if+H/37/bv9S/y7/Af/O/p/+dv5M/ir+Ev4D/vv9/P0F/hL+JP45/lD+Z/5//pH+ov60/sj+3/74/g//I/84/0X/Tv9T/1b/Vv9Z/1//Zf9y/4T/mf+u/83/7v8OADEAWAB6AJoAuADXAPgAFgE4AV0BgQGqAdsBEQJSApcC2AIRAzIDNQMYA98ClAI5At0BhgE5AfMAtACBAFkAOwApABcADAAEAPb/5//T/8H/rP+Z/47/gv94/27/YP9L/y//Dv/m/rj+j/5q/k3+Mv4g/hj+FP4W/iD+Mf5C/lb+a/56/o7+oP60/sr+4f78/hb/Mv9P/2v/fP+N/5b/nv+i/6r/r/+2/8T/1f/n////HAA+AGEAhACkAMMA3QD5AA8BKgFHAWYBhwGnAc4B/AEsAmMClgLBAtwC3gLMAp4CXgILArUBYQERAcwAjgBaADAAEAD5/+v/3f/W/83/wv+1/6f/mv+L/4T/fP9y/2v/Yv9P/zf/Hv/7/tj+tP6T/nb+YP5N/kT+Qf4+/kT+Tf5X/mX+d/6O/qT+u/7R/un+BP8b/zf/Tv9n/3z/jf+Z/6L/q/+y/7b/vf/E/8r/1f/i//D/CAAhAEAAYwCCAKMAvgDRAOUA9wALASEBNwFQAWsBkQG2AeQBEgI6AlkCbAJoAkwCGwLiAZ0BVAEQAdEAmwBoAEIAIwANAP7/9f/s/+X/2P/K/7//rv+f/5P/iP+B/3b/a/9d/0v/Nf8f/wT/5f7K/rH+mP5+/m7+Yv5Y/lb+WP5d/mj+dP6E/pn+rP7G/t3++f4P/yf/Qv9a/3L/h/+c/6j/sv+6/73/wf/I/87/2f/m//f/DAAmAEEAYAB+AJoAtQDMAOMA/AATATIBTwFvAZEBswHYAQICKAJKAmMCZgJeAjwCEALVAZUBUgEPAdcAogB0AEkAKAATAAEA8v/p/93/0f/C/7H/o/+a/47/i/+D/33/cv9l/1L/PP8m/wz/9f7Y/rz+pP6P/nn+bP5g/lv+XP5d/mf+dP6G/qD+uv7V/vD+DP8m/z7/Vv9q/3//kv+i/7P/wv/O/9n/5v/0////DQAcAC4APABQAGcAfgCVAKkAvwDSAOkA+wAOASYBPwFWAXUBlQG6AdwB+AENAhcCDQL0Ac4BmgFiASwB9QDAAI8AZQBEACkAFAAIAPz/9f/q/+T/1v/H/7T/pf+V/4X/dv9t/13/UP9B/y7/Hf8J//L+3v7G/rL+nf6M/n7+c/5t/mv+ev6H/pn+r/7K/uj+A/8d/zb/Uv9q/33/jv+i/7L/w//O/9v/6f/y/wAACgAVACAALwA+AFEAaAB7AI4AoQC1AMgA2gDyAAMBGAEyAUUBXQF5AZUBrwHIAdwB7AHtAeQByQGiAXIBPQEKAdcApwB+AFwAPgAlABQAAwD6//H/4v/X/8f/tP+h/5L/gf9z/2f/V/9I/zn/Kv8W/wT/9P7g/tH+xP6z/qP+lf6J/oL+fP6B/of+lP6j/rj+y/7m/v3+FP8q/0L/Wv9x/4X/mf+s/7z/0f/j//D/AQANACEALgA/AFIAXgByAIYAnQCwAMcA3QD0AAsBIgE5AVEBbAGEAZ0BtgHQAeMB7wHwAegB0QGyAYkBYAE2AQoB4AC8AJgAdwBXAD4AJQASAAIA8v/d/8r/tv+f/4z/d/9l/1H/Q/81/yb/F/8H//T+5P7Q/sH+tP6k/pf+if59/nb+cf5y/nj+hf6T/qn+vv7Z/vT+D/8p/0X/XP91/4z/oP+0/8j/3P/r//r/CQAZACgANwBHAFYAZgB5AIkAmQCoALMAwwDRAN8A8gAFARsBMwFGAVwBdAGIAZ8BsQG8AcABvAGsAZMBcgFRAS0BCwHsAM0ArACOAHUAWgBGAC4AGAACAOz/0P+1/5n/fv9p/1T/QP8w/yb/Gf8K//3+7f7j/tv+x/6+/rX+qf6g/pb+kf6U/pX+mP6i/rD+vv7R/uf++/4R/yP/O/9S/2X/ev+R/6T/uP/L/+D/8v8BABQAIwAzAEYAWQBoAH0AjwCfALIAxgDYAOcA/AAQARwBMQFBAVUBZQF3AYkBlgGcAaABnwGSAX0BZAFKASsBDwHvANMAtwCbAIMAbABYAEUAMgAcAAYA6//R/7X/mv9+/2b/Uv89/yr/Hv8N//7+8v7m/tr+zv7B/rX+rf6j/pr+mf6X/pn+n/6q/rf+xv7Y/uv+A/8Y/yz/Q/9W/2n/fv+V/6j/vP/Q/+T/8v8CABQAHwAwAEMAUgBiAHUAhQCVAKQArwDAAM4A3QDvAP8AEgEiATYBRgFWAWoBdgGDAYkBjAGKAYEBcgFeAUsBMAEbAQMB6gDSALMAmgCAAGMASwAwABkA///l/8j/rv+V/3n/Yf9M/zz/L/8k/xf/DP8D//f+8P7o/uD+1/7L/sP+vf65/rf+tv69/sL+yf7Y/ub+9f4I/xr/Lf9B/1T/ZP94/4f/l/+m/7b/xf/V/+j/9/8FABkAKAA4AEcAWABnAHQAggCKAJYAoQCwAMAA0wDgAPEABQETASMBMgE/AUgBTgFUAVYBUAFGATcBJQEWAQMB8ADeAMoAuwCmAI4AeABlAE0ANwAfAAcA8P/R/7b/mf99/2b/VP9A/zP/JP8b/w7/Av/7/vb+7v7p/uH+3P7Y/tf+1v7Z/tr+3v7o/vP+Av8R/yP/Mv9D/1L/Xf9u/3z/iP+X/6b/tf/F/9j/6//9/wwAHwAvAEIAUgBmAHoAigCVAKMAsQC5AMYA0QDbAOcA9gACARMBHwEkATIBPAFFAUoBTAFOAUcBPgEzASABEgECAfAA4wDPALkApgCPAHQAWgBDACcADQD3/9//xP+s/5T/fP9o/1P/RP83/yj/G/8Q/wj/+P71/u3+6f7k/uD+3/7e/t7+4P7k/uv+8v75/gD/C/8W/yD/L/8+/07/XP9s/3//jv+f/7L/wP/R/+T/8/8GABEAJAA2AEcAWgBqAH0AigCaAKUAsgC9AMoA2ADgAO0A+AAAAQkBEQEWAR8BIwEkASYBJgEgARkBDgEEAfkA7gDhANIAwACtAJYAfABlAE4AMgAcAAUA6//T/7j/oP+I/3P/X/9T/0L/M/8n/xr/Dv8G/wH//f74/vT+8/7u/vD+8f7t/vH+9P73/vr+Af8J/xT/Gv8l/zP/P/9O/1z/bP9+/47/of+0/8j/2//u/wAAFAAnADYARwBaAGkAewCNAJkAqQC1AMQA0ADfAOsA/AAHARABGAEhASkBLQEzATcBOAE6ATcBMAEmARsBDQEDAfMA4gDPALkAogCLAHQAXQBGACsAFQD+/+T/y/+w/5j/gP9s/1j/R/82/yv/Hv8T/wn/Av/8/vX+9P7w/u7+6/7u/u3+8P70/vr+/v4F/wz/F/8g/y3/Ov9G/1r/Z/9z/4f/mf+t/7//0//q//z/DwAjADYASgBdAG4AgQCRAKEArQC6AMoA1gDdAOYA8QD2AP8AAgEEAQcBCQENAQ0BDgELAQkBAQH3APAA5QDbAM0AvQCrAJwAiAB1AGIAVAA/ACkAFgAAAOr/1f+//6v/k/9//2z/W/9H/zv/Kv8g/xL/Bv/+/vn+9P7w/u/+7v7t/u3+8P7z/vv+Av8J/xD/F/8h/y3/O/9G/1b/aP93/4f/mv+t/7z/0P/j//f/CAAYACwAOgBLAF0AbgCBAJEAoACsAL0AzADbAOcA9AAAAQgBEQEZAR8BJwEoASkBJgEjARwBFgEOAQQB+QDrAN0AygC4AKUAkwB7AGAASgAyABgAAADm/9P/uv+j/4//fv9q/1v/T/8+/y7/I/8W/w7/Bf/9/vn+8/7v/vL+8P71/vr+//4F/wn/FP8a/yb/M/8//07/Xf9s/3v/jv+h/7P/x//e//L/BwAaAC8AQQBRAGUAeQCNAJ0ArQC5AMcA0QDaAOYA6gD0APoA/AAAAQABAQECAQMB/wD9APoA8gDnAN0A0gDHALwAsQCiAJMAhABxAF4ATAA4ACIADwD5/+L/y/+z/5z/iP9w/1z/SP83/yn/G/8M/wP/9v7u/un+5P7g/uD+3v7e/uD+5P7q/u7++v4D/wv/Fv8k/zP/Qf9R/2T/c/+G/5r/rf+8/9D/4v/2/wsAHgAzAEYAVgBpAHkAiQCZAK0AvADJANgA4wDtAPkAAQEKAQ4BFAEXARkBGQEXARMBDQEJAf4A+ADwAOMA2ADIALYApwCUAIEAbwBbAEQAMQAZAAMA8P/d/8n/tv+i/47/e/9r/1b/R/85/yr/Iv8W/w3/Bf8A//z++v72/vn++P77/v/+Bf8N/xf/Hv8s/zf/R/9V/2T/dP+G/5b/qf+8/9D/4//2/wQAGAArAD8AUgBiAHYAhQCSAKIArgC6AMcA0wDaAOMA6wDvAPQA+AD5APoA+wD7APgA9QDtAOcA4ADVAMoAwAC0AKUAlgCIAHgAZQBSAEAAMAAYAAcA9P/d/8r/tv+i/47/e/9q/1r/Sv86/y3/Iv8a/xH/Cf8E///++/76/vn++f78/v/+A/8K/xH/GP8e/yr/Nf8//0v/Wf9l/3j/hv+X/6n/uf/M/9//8v8EABcAJwA7AEoAWwBuAH4AjgCeAKoAtgDDAM8A1wDfAOcA6wDxAPUA8QDzAPMA8ADtAOYA4ADZANEAxgC7ALAApQCWAIcAdwBoAFkASgA2ACQAFAABAO//4P/M/7n/qf+V/4b/df9l/1X/Sf88/zD/KP8g/xz/F/8S/w3/Df8Q/xP/Fv8Z/yD/Kv8x/z3/R/9T/2L/cP99/5D/n/+u/77/0f/g//D/AQAQACEAMwBDAFgAZgBzAIIAjwCeAKoAtgDDAM8A1wDfAOcA6wDxAPUA9gD3APMA8QDtAOYA4QDaAM4AwAC1AKUAkwCEAHQAYQBNAD0AKAAVAAMA8f/d/8X/sv+e/4v/ev9m/1f/Sv86/y7/Iv8W/w7/Bf/8/vj+9/72/vX+9f73/vv+Av8J/xT/Hf8l/zH/P/9K/1r/bP97/4r/nv+x/8T/2P/r//7/DwAgADMAQgBXAGkAdgCGAJYApgCyAL4AywDWAN4A5wDrAPAA9QD6APoA9wD0APEA7QDmAOAA2QDTAMgAtgCsAJ0AjwCAAHEAXgBKADMAIAAMAPz/7P/Y/8X/sf+e/4r/fP9o/1r/Sf85/zL/Jf8Z/xX/EP8H/wP/Av8B/wT/B/8K/xL/GP8e/yn/NP9D/1H/Yf9z/4L/lv+p/7z/z//k//b/BAAYACsAOwBPAGMAcgB/AI4AmwCrALcAxADLANEA2QDcAN0A4gDiAOMA4wDgAN8A2wDUAM0AwgC4AKwAnQCSAIIAdABkAFIAQwAuABwACQD3/+f/1P/E/7D/of+R/4D/cf9k/1X/Tf8//zT/LP8n/x//G/8a/xX/FP8U/xf/Gv8g/yf/Lv85/0P/UP9e/2n/ef+H/5j/qv+6/8r/2P/p//v/CQAZACkAOABJAFgAZQB0AH0AiQCRAJoAoQCmAK8AswC4ALgAuQC5ALYAswCwAKwApQCeAJYAjwCIAIEAcgBpAF4AUgBHADwAMAAhABIAAwD1/+n/2f/O/73/rv+h/5b/jv+G/33/cf9q/2T/XP9Y/1P/U/9R/1L/VP9U/1v/Xv9m/23/dP98/4f/jv+a/6X/sP+8/8v/1v/j//H//P8MABoAJgAyAD4ASgBVAGIAbQB2AIIAigCTAJYAnACjAKQAqACpAKkApgCnAKMAoQCdAJYAjgCDAHwAcwBoAGEAWQBOAEIANwArACAAFAAJAP//8//o/9v/0P/H/7z/tP+r/6T/m/+U/4//h/+C/3//fv95/3r/ef95/3j/eP98/4D/gv+D/4b/iv+S/5T/mf+g/6f/r/+2/77/xf/O/9n/4f/p//D/+f8CAAoAEQAaACAAJQAxADkAQQBEAEoAUgBVAFoAXgBfAF8AXwBgAGAAYABgAFwAWQBaAFUAUwBOAEgAQwA8ADkAMAApACEAGQASAA4ABQAAAPz/9P/t/+j/4f/d/9X/0f/J/8X/wP+9/7z/uP+0/7H/sP+s/6z/q/+r/6r/q/+u/67/sv+1/7n/vP/A/8T/zP/T/9b/2//j/+b/6//x//b//v8DAAcADAASABcAHgAjACsALgAyADYAOgA/AEYASgBOAE4AUwBXAFYAVwBbAFsAXQBcAFkAVQBSAE4ASgBHAEMAPwA4ADQALAAlACEAGQARAAoABgAAAPz/9P/t/+n/4P/Z/9X/0f/N/8j/xf/A/73/uP+1/7P/sP+y/6//sv+y/7b/tf+6/73/wf/A/8X/zP/Q/9T/1//b/97/4//q/+//9v/6//7/AAAIAAsAEAAUABgAGwAgACMAKAArACwAMAAwADQANAA1ADUANQA1ADYANQAyADIALQAvAC0AKwArACYAIwAfAB0AGwAUABAADAAIAAQAAgD///v/9//0/+7/6P/o/+P/4P/b/9j/2P/T/9D/z//L/8v/y//L/8v/yv/H/8f/xv/G/8b/xv/K/8j/yv/Q/9H/2P/X/9z/3//j/+b/6//y//b/+v8AAAMACAAQABMAFwAbAB8AIwAnACsALwA0ADgAOAA4ADgAOQA8ADwAPAA8AD0APQA+AD0AOgA6ADYANgAyAC8AKwAnACMAIAAcABgAFAAQAAwACQAEAP//+//3//P/7//r/+f/4//j/+P/3v/b/9r/1v/X/9b/1v/W/9b/1v/V/9b/2f/Y/9n/3f/g/+D/5f/o/+j/7P/v/+//9P/3//f//P//////AgAGAAUABgAKAAoACgAKAAoACgAKAAoACgAKAAsACgAHAAcABgAHAAYAAwADAAMAAgAAAAAAAAAAAAAAAAAAAAAA/f/9//3//f/9//3/+f/5//n/+f/6//n/9f/2//X/9v/1//H/8v/x//H/8f/x//H/8f/x//H/8P/x//X/9P/1//j/+P/4//j/+P/8////AAACAAIAAQACAAUABgAJAAkADQAMABEAFAAUABkAHAAdABwAHQAhACAAIgAlACUAJQAmACUAIgAiACMAIgAfAB4AGwAaABcAFwATABMADwALAAgABwAEAAQAAQD+//r/+//1//P/8v/u/+//6v/n/+b/4v/i/+L/4v/i/+H/4f/h/+L/5f/l/+T/5f/p/+j/6P/t/+//8P/z//T/9//4//z//P8AAP//AAACAAEAAgAFAAYACgAJAAoADgAOAA4ADgAOAA4ADgAOAA4ADgAPAA4ACgALAAoACwAKAAsACgAIAAcAAwADAAEAAQD9//r/+f/1//b/9f/2//X/8f/x//H/8f/w//H/9P/0//X/+P/3//n//P/7//z/AAD//wAAAgABAAIABgAGAAYABgAGAAYACgAJAAoADgAOAA4ACgALAAoACwAOAAoACwAKAAsACgAHAAcAAwAEAAQAAAD+//3/+v/6//b/9v/y/+7/6v/q/+r/6f/m/+b/5f/m/+X/5f/l/+X/5P/l/+j/6f/t/+v/7f/v//H/9P/0//f/+P/8//v/AAABAAEAAgAGAAUABgAKAAkACgAOAA4ADgAOAA4ADwANAAsADwANAAoACgAKAAoACgAKAAoACgAKAAsACgAGAAcABgAGAAYACwAJAAcACwAKAAcABwAGAAYABwAGAAcABgADAAMAAwADAAIAAAAAAAAAAAAAAAAAAAAAAP3//P/9/wAAAAAAAAAAAAAAAAAAAAAAAAAAAAAAAAAAAgAAAAMAAgADAAIAAwADAAIAAAAAAAIAAAADAAIAAwACAAAAAAAAAAAAAAAAAAAA/f/9//3//f/5//n/+f/5//n/+v/5//X/9f/1//X/9f/1//X/9f/1//T/9f/4//j/+P/4//j/+f/8//z/AAAAAAAAAAAAAAIAAAAAAAIAAgACAAIAAgACAAIAAgACAAIAAgACAAIAAgACAAIAAwACAAMAAgAAAAAAAAAAAP3//v/9//n/+f/5//n/+f/5//j/+f/4//n//P/7//3/AAAAAAAAAAACAAIAAgACAAIAAgADAAYABgAGAAYABgAGAAYABgAHAAYABwAGAAIAAgADAAYABgAHAAYAAwADAAIAAwACAAIAAgACAAIAAgACAAIAAgADAAIAAwACAAAAAwAAAAEAAgAAAAAAAAAAAAAAAAAAAAAAAAACAAIAAgACAAIAAgACAAIAAgADAAIAAwACAAAAAAAAAAAA/f/9//3//f/9//3//f/9//3//f/8//3//P/9/wAAAAAAAAAAAgABAAIABQAGAAoACgAKAAYABwAGAAYABwAGAAcABgADAAMAAwADAAMAAgAAAAAAAAAAAAAAAAAAAAAAAAAAAAAAAAAAAP3//f/9//3//f/9//3//f/9//3//P/5//7/+//5//3//P/9//z//f/9//3//f/9//z//f/8//3/AAAAAPz//v8AAPz//f/9//3//f/8//3//P/6//z/+f/9//z//f/8//z//P/8//3/AAAAAAAAAAAAAAAAAAD9//3//f/9//3//f/9//3//f/9//3//P/8//z//f8AAP//AAACAAIAAgACAAIAAgACAAIAAwACAAMAAgAAAAMAAAAAAAAAAAAAAAAA/f/9//3//f/8//3//P/9/////P8AAAAAAAAAAAAAAAAAAAAAAAAAAAAAAAACAAAAAAAAAAAAAAAAAAAAAAD9//3//f/9//3//f/9//3//P/9//z//f8AAAAAAAAAAAAAAAAAAAAA/f8AAAAAAAAAAAAAAAD9//3//P/9//z//f8AAAAAAAAAAAAAAAAAAAAAAAAAAAAA/f/9//3//f/9//3//P/9//z/+f/9//z//f/8//3//f/9//3//f/9//3//f/9//z//f/8//3/AAAAAAAAAAAAAAAAAAAAAAAAAAAAAAAAAgACAAIAAQADAAYABgAFAAcACQAGAAoACgAKAAsADgAJAAsADgAOAA4ADgAOAA4ADgAOAA4ADgAPAA4ACgALAAoACwAKAAYABwAGAAYABgAGAAYABgAGAAYABgAGAAYABgAHAAYABwAGAAMAAwADAAIAAAAAAAAAAAAAAAAAAAAAAAAAAAD9//z//f8AAAAAAAAAAAAAAAACAAIAAgACAAMAAgAAAAAAAgADAAIAAAADAAAAAAAAAAAAAAAAAAAAAAAAAP3//f/9//3//f/9//3//f/9//3//f/5//n/+f/5//n/+f/5//n/+f/5//n/+f/5//n/+f/4//r//P/4//n/+f/5//n/+f/5//T/9v/5//n/+f/4//X/9f/1//X/9f/1//X/9f/0//X/+f/4//n/+P/5//z//P/9//z//f/9//3//f/9//3//f/9//3//f/9//3//f/9//3//f/9//3//f/9//z//f/8//3/AAAAAAAAAAAAAAIAAgACAAIAAQADAAUAAgAGAAYABgAGAAYABgAGAAYABgAGAAYABgAGAAYABgAGAAYABgAGAAYABQAGAAoACgAKAAoACgAKAAoACgAKAAoACgAKAAsACgAHAAcABwAHAAcABgADAAMAAgADAAIAAgACAAIAAgACAAIAAgACAAIAAgACAAMAAgADAAIAAAAAAAAAAAAAAAAAAAAAAAAAAAAAAAAAAAAAAAAAAAAAAAAAAAAAAAAAAAAAAAAAAAAAAAAAAAAAAAAAAAAAAAAAAAAAAAAAAAAAAAAAAAAAAAAAAAAAAAAAAAAAAAAAAAAAAAAAAAAAAAAAAAAAAAAA/f/9//3//f/9//3//f/9//3//f/9//3//f/9//3//f/8//3//P/9/wAAAAAAAAAAAAACAAMAAgAAAAAAAAACAAAAAAAAAAAAAgAAAAAAAAAAAAAAAwACAAAAAwABAAAAAwACAAIAAgACAAIAAgADAAIAAwACAAAAAAAAAAAA/f/9//3//f/9//3//f/9//3//P/4//n//f/8//3//f/9//3//f/9//3//f/9//3//f/9//3//f/9//3//f/9//n/+f/4//r//P/4//n/+f/5//n/+f/5//n/+f/5//j/+f/8//z//f/8//3//f/9//3//P/9//z//v////z/AAAAAAAAAAAAAAAAAAAAAAAAAAAAAAAAAAAAAAAAAAAAAAAAAAAAAAIAAAAAAAAAAAAAAAAAAAAAAAAAAAAAAAAAAAAAAAAAAgAAAAAAAAAAAAAAAAAAAAAAAAAAAAAAAAAAAAAA/v8AAPz//v/8//7/+//6//z/+f/9//z//f/8//z//f8AAAAAAAAAAAAAAAAAAAAAAAACAAAAAwAAAAAAAAAAAAAAAAAAAAAAAAAAAAAAAAAAAAAAAAAAAAAAAAAAAAAAAAAAAAAAAAACAAIAAgACAAIAAgACAAIAAgACAAIAAwACAAMAAgAAAAAAAAACAAAAAwABAAAAAwACAAIAAgACAAIAAgACAAIAAgACAAIAAgACAAIAAwACAAMAAgAAAAAAAAAAAAAAAAAAAAAAAAAAAP3//f/9//3//f/9//3//P/9//z/+f/9//z//f/8//3//P/9/wAAAAAAAAAAAAAAAAAAAAAAAAAAAAAAAAIAAgACAAIAAwACAAMAAgAAAAAAAAAAAAAAAAAAAAAAAgAAAAMAAgADAAIAAgACAAIAAgACAAIAAgADAAYABgAGAAYABgAHAAYAAgAEAAIAAAADAAAAAAAAAAAAAAAAAAAAAAAAAAAAAAAAAAAAAAAAAAAAAAAAAAAAAAAAAAAAAAAAAAAAAAAAAAAAAAAAAAAAAAAAAAAAAAAAAAAAAAAAAAAAAAAAAAAAAAAAAAAAAAAAAAAAAgAAAAMAAAAAAAAAAAAAAAAAAAAAAAAA/f/9//3//f/9//3//f/9//3//f/9//z//f/8//3/AAAAAAAAAAAAAAAA/f8AAAAAAAD8//3/AAAAAAAAAAAAAAAAAAAAAAAAAgACAAMAAgADAAIAAAACAAAAAAADAAIAAAAAAAAAAAAAAAAAAAAAAAAAAAAAAAAAAAAAAAAAAAAAAAAAAAAAAAAAAAAAAAAAAgAAAAAAAAAAAAAAAAD9/wAAAAAAAAAAAAAAAP3//f/9//3//P/9//z//f8AAAAAAAAAAAAAAAAAAAAAAAAAAAAAAAACAAAAAAAAAAAAAAAAAP3//f/9//3//f/9//3//f/9//3//f/9//3//f/8//3//P/9/wAAAAD8//3/AAAAAAAAAAAAAAAAAAAAAAAAAAAAAAAAAAAAAP3//f/8//3/AAAAAAAAAAAAAAAAAAAAAAAAAAAAAAAAAAAAAAAAAAACAAIAAgACAAIAAgACAAIAAgACAAIAAgACAAIAAgACAAIAAgACAAIAAgACAAMAAgADAAIAAAAAAAAAAAAAAAAAAgACAAIAAgACAAIAAgACAAIAAgACAAIAAgACAAIAAgACAAIAAgACAAIAAwACAAMAAgAAAAIAAAAAAAAAAAAAAAAAAAAAAAAAAgACAAIAAgACAAIAAgACAAIAAgACAAIAAwAGAAcABgADAAMAAwACAAAAAAAAAAAAAAAAAAAAAAAAAAAAAAAAAAAAAAAAAAAAAAAAAAIAAgACAAIAAgADAAIAAwACAAAAAwACAAAAAAAAAAAAAAAAAAAAAAAAAAAAAAD9//z//f8AAAAAAAAAAAAAAAAAAAAAAAAAAAAAAAAAAAAAAAAAAAAA/f/9//3//f/9//3//f/9//3//P/5//n/+f/5//n/+f/5//j/+f/8//z//f/8//3//f/9//3//f/9//3//f/9//3//P/9//z//f8AAAAAAgACAAIAAgACAAIAAgACAAIAAgACAAIAAgACAAIAAgACAAIAAgACAAIAAgACAAIAAgACAAIAAgACAAIAAgACAAcABQADAAcABgACAAMAAgAEAAUAAwAGAAIAAwACAAMAAwADAAMAAgAAAAAAAAAAAAAAAAAAAAIAAgACAAIAAgACAAIAAgACAAIAAgACAAIAAwACAAMAAgAAAAAAAAAAAAAAAAAAAAAA/f/9//z//f/8//3/AAAAAAAAAAAAAAAA/P/9/wAAAAAAAAAAAAAAAAAAAAD9//3//f/9//3//f/9//z//f/8//7////9/wAA+//9/wAAAAAAAAAAAAAAAAAAAAAAAAAAAwABAAAAAwACAAIAAgACAAIAAgACAAIAAgACAAIAAgACAAIAAwACAAMAAgAAAAAAAAAAAAAAAAD9/wAAAAAAAAAAAAAAAAAAAAAAAAAAAAAAAAAAAAAAAAAAAAAAAAAAAAAAAAAAAAAAAAAAAAAAAP3//f/9//3//f/9//3//f/9//3//f/9//3//f/8//3//P/+/////P8AAAAAAAAAAAAAAAAAAAAAAAAAAAAAAAD9//3//f/9//3//f/9//3//f/9//3//f/9//z//f/8//3/AAAAAAAAAAAAAAAAAAAAAAAAAAAAAAAAAAAAAAAAAAD8//3//P/+/////f8AAPz//f/8//z//f8AAAAAAAAAAAAAAAACAAIAAgACAAIAAgACAAIAAgADAAIAAwACAAAAAAAAAAAAAAAAAAAAAAAAAAAAAAAAAAAAAAAAAAAAAAACAAIAAgACAAIAAgACAAIAAgACAAIAAgACAAIAAgACAAIAAgACAAIAAgADAAIAAwACAAAAAAAAAAAAAAAAAAAAAAAAAAAAAAAAAAAAAAD9//3//f/9//3//P/9//z//f8AAPv//v8AAP3/AAD///3/AAAAAPz//f/8//7////9/wAA/P/9//z//f8AAAAA/f/9//3//P/9//z//f8AAAAAAAAAAAAAAAAAAAAAAAADAAIAAAAAAAAAAAAAAAAAAAAAAAAAAAAAAAAAAAAAAAAA/f8AAAAAAAAAAAAAAAAAAAAAAAAAAAAAAAAAAAAAAAACAAIAAgADAAIAAAAAAAAAAAAAAAAAAAAAAAAAAAAAAAAAAAAAAAAAAAAAAAAAAAAAAAAAAAACAAIAAgACAAIAAgACAAIAAgACAAIAAgACAAIAAwACAAMAAgAAAAMAAwACAAAAAAAAAAAAAAAAAAAAAAAAAAAA///9/wAAAAAAAAAAAAAAAAAAAgACAAIAAgACAAIAAgACAAIAAgACAAIAAgACAAIAAgADAAIAAwACAAAAAAAAAAAAAAAAAAAAAAACAAAAAAADAAEAAAACAAAAAwACAAMAAgACAAIAAgACAAIAAgACAAMAAgADAAIAAAAAAAAAAAAAAAAAAAAAAPz//f8AAAAAAAAAAAAAAAAAAAAAAAAAAAAAAAAAAAAAAAAAAAAAAAAAAAAAAAAAAP3//f/8//3/AAAAAAAAAAD9//3//f/8//3/AAAAAAAAAAAAAAAAAAAAAAIAAAAAAAAAAAAAAAAAAAAAAAAAAAAAAAAAAAAAAAAAAAAAAAAAAAAAAAAAAAAAAAAAAAAAAAAAAAAAAAAAAAAAAAAAAAAAAAAAAAAAAAAAAAAAAAAAAAAAAAAAAAACAAAAAAAAAAAAAAAAAAAAAAAAAAAAAAAAAAAAAAABAP///v8AAP3/AAD8//3//P/9//z//P/9/wAAAAAAAAAAAAAAAP///v8AAP3/AQD///3//P/+/wAA+//+/wAA/P/9//3//f/9//3//f/8//3//P/+/////f8AAAAAAAAAAAAAAAAAAAAAAwACAAAAAAAAAAAAAAAAAAAAAAAAAAAAAAAAAAAAAAD///3/AAAAAAAAAAAAAAAAAAAAAAAAAAAAAAAAAAAAAAAAAgACAAIAAwACAAAAAwACAAAAAAAAAAAAAAAAAAAAAAAAAAAAAAAAAAAAAAAAAAAAAAAAAAAAAAAAAAMAAQAAAAIAAAAAAAAAAAAAAAAAAAAAAAAAAAAAAAAAAAAAAAAAAAAAAAAAAAAAAAAAAAAAAAAAAAAAAP3//f/9//z//f8AAAAAAAAAAAAAAAAAAAAAAAAAAAIAAAABAAIAAAAAAAAAAAACAAIAAwACAAAAAAAAAAAAAAAAAAAAAAAAAAAAAAAAAAAAAgAAAAMAAgADAAIAAgACAAIAAgACAAIAAgACAAIAAgADAAIAAwACAAAAAAAAAAAAAAAAAAAAAAAAAAAAAAAAAAAAAAAAAAAAAAAAAAAAAAAAAAAAAAAAAAAAAAAAAAAAAAAAAAAAAAAAAAAAAAAAAAAAAAAAAAAAAAD///3/AAAAAAAAAAAAAAAAAAAAAAAAAAAAAAIAAAAAAAAAAAAAAAAAAAAAAAEA///+/wAA/f8AAPz//f/8//3//f/8//3//P/+/wAA/P/8//3/AAD///3/AAAAAP3//f/9//z//f8AAAAAAAAAAAAAAAAAAAAAAgAAAAAAAAAAAAAAAAAAAAAAAAAAAAAAAAAAAAAAAAAAAAAAAAAAAAAAAAAAAAAAAAAAAPz//v8AAAAA///9/wAAAAAAAAAAAAAAAAAAAAABAAAA/v8AAPz//f/8//7/AAD8//3//f/9//3//f/9//z//f/8//3/AAAAAAAAAAAAAAAAAAAAAAAAAAAAAAAAAAAAAAAAAAAAAAAAAAAAAAAAAAAAAAAAAAAAAAAAAAAAAAAAAAAAAAAAAAAAAAAAAAAAAAAAAAACAAIAAwACAAAAAQACAAAAAwACAAMAAgAAAAAAAAAAAAAAAAAAAAAAAgAAAAAAAAAAAAAAAAAAAAAAAAAAAAAAAwABAAAAAwACAAAAAAAAAAAAAgAAAAMAAgAAAAAAAgAAAAAAAAAAAAAAAAAAAAAAAAAAAAAAAAD9//z//v8AAP3/AAAAAAAAAAAAAAAAAAAAAAAAAAAAAAAAAAAAAAAAAAAAAAAAAAAAAAAAAAAAAP///f8AAAAAAAD9/wAAAAAAAAAAAAAAAAAAAAAAAAAAAAAAAAMAAQAAAAMAAgACAAIAAgACAAIAAgADAAIAAwACAAAAAAAAAAAAAAAAAAAAAAAAAAAAAAAAAAAAAAAAAAAAAAAAAAAAAAADAAEAAAADAAIAAAAAAAAAAAAAAAAA/f/9//3/AAAAAP3//f/9//3//f/9//z//f/8//3/AAAAAAAAAAAAAAAAAAAAAAAAAAAAAAAAAAAAAAAAAAAAAAAAAAAAAAAAAAAAAAAAAAAAAAAAAAAAAAAAAAAAAAAAAAAAAAAAAAAAAAAAAAAAAAAAAAAAAAAAAAAAAAAAAAAAAAIAAgACAAIAAgADAAIAAAAAAAAAAAAAAAAAAAAAAAAAAAAAAAAAAAAAAAAAAAAAAAAAAAAAAAAAAAAAAAAAAAAAAAAAAAAAAAAAAAAAAAAAAAAAAAAAAAD///3/AAAAAAAAAAAAAP3//f/9//3//f/9//3//f/9//z//f/8//3/AAAAAAAAAAAAAAAAAAAAAAAAAgAAAAAAAAAAAAAAAAAAAAAAAAAAAAAAAAAAAAAAAAAAAAAAAAAAAAAAAAAAAAAAAgAAAAAAAAAAAAAAAAACAAIAAwACAAMAAgAAAAAAAAAAAAAAAAAAAAAAAAAAAAAAAAAAAAAAAAAAAAAAAAABAAAAAwACAAMAAgADAAIAAwACAAAAAgAAAAAAAAACAAIAAgACAAIAAwACAAAAAAAAAAAAAAAAAAAAAAAAAAAAAAAAAP3//f/9//3//f/8//3/AAAAAAAAAAAAAAAAAAAAAAAAAAAAAAAAAgAAAAAAAAACAAAAAwADAAIAAAAAAAAAAAAAAAAAAAAAAAAAAAAAAAAAAAAAAAAAAAAAAAAAAAAAAAAAAAAAAAAAAAADAAIAAwACAAAAAAAAAAAAAAAAAP3//f/9//3//f/9//3//f/9//3//f/9//z//f/8//3/AAAAAAAAAAAAAAAAAAAAAAAAAAAAAAAAAAAAAAAA/f/8//3/AAAAAAAAAAD9//3//P/9/wAAAAAAAAAAAAAAAAAAAAAAAAAAAAAAAAAAAAAAAAAAAAAAAAAAAAD9/wEAAAD9//3//f/9//3//f/8//3//P/+/////P8AAAAAAAD///3/AAAAAAAAAAAAAAAAAAAAAAAAAAAAAAAAAAAAAAAAAgACAAIAAwACAAAAAwACAAMAAgADAAIAAAADAAIAAgACAAIAAgACAAIAAgADAAIAAwACAAAAAwACAAMAAgACAAIAAgACAAIAAgACAAIAAgACAAMAAgADAAIAAAAAAAAAAAAAAAAAAAAAAAAA/f/9//z//f/8//3/AAAAAAAAAAAAAAAAAAAAAAAAAAAAAAAAAAD9/wEAAAD9//3//f/9//3//f/9//3//f/9//z//f/8//7////9/wAAAAAAAAAAAAAAAAAAAAAAAAAAAAACAAAAAAAAAAAAAAAAAAAAAAAAAAAAAAAAAAAAAAAAAAAAAAAAAAAAAAAAAAAAAAAAAAIAAgACAAIAAgACAAIAAgACAAIAAgACAAIAAgACAAIAAgACAAIAAgACAAIAAgACAAMAAgADAAIAAAAAAAAAAAAAAAAAAAAAAAAAAAAAAAAAAAAAAAAAAAAAAAAAAQAAAAMAAgADAAMAAgAAAAAAAAAAAAIAAwACAAAAAAAAAAAAAAAAAAAA///9/wAAAAAAAAAAAAAAAAAAAAAAAAAAAAAAAAAAAAADAAEAAAADAAIAAwACAAAAAAAAAAAAAAAAAAAAAAAAAAAAAAD///3/AAAAAAAAAAAAAAAAAAAAAAAAAAAAAAIAAAADAAIAAwACAAAAAAAAAAAAAAAAAAAAAAAAAAAAAAAAAAAAAAD///3/AAAAAAAAAAAAAAAAAAAAAAAAAAAAAAAAAAAAAAAAAAAAAAAAAAAAAAAAAAD9//z//f8AAAAAAAAAAAAAAAAAAAAAAAAAAAAAAAAAAAAAAAD9/wEA///+/wAA/P/9/wAAAAAAAAAAAAAAAAAAAAAAAAMAAgAAAAAAAAAAAAAAAAAAAAAAAAAAAAAAAAAAAAAAAAAAAAAAAAAAAAAAAAAAAAAAAAAAAAAAAAAAAAAAAAAAAAAAAAAAAAAAAgAAAAAAAAAAAAAAAAAAAAAAAAAAAAAAAAAAAAAA/P/+/wAA/P/9//z//P/9/wAAAAAAAAAAAAAAAAAAAgAAAAAAAAAAAAAAAAAAAAAAAAAAAAAAAAD9//3//f/9//3//f/8//3//P/9/wAAAAAAAAAAAAAAAAAAAAAAAAAAAAAAAAAAAAAAAAAA/f/9//3//f/9//3//f/9//3//f/9//3//P/9//z//f8AAAAAAAAAAAAAAAAAAAAAAAAAAAAAAAAAAAAAAAAAAAAAAAAAAAAAAAACAAIAAgADAAIAAAAAAAAAAAAAAAAAAAAAAAAAAAAAAAAA///9/wAAAAAAAAAAAAAAAAAAAAAAAAIAAgACAAIAAgACAAIAAgACAAIAAgACAAIAAgACAAIAAgACAAIAAgACAAIAAgACAAIAAgACAAIAAgACAAIAAgACAAIAAgACAAIAAgACAAIAAgACAAIAAgACAAMAAgADAAIAAAAAAAAAAAAAAP3//f/9//3//f/9//3//f/9//3//f/8//3//P/9/wAAAAAAAAAAAAAAAAAAAAAAAAAAAAAAAAAAAAAAAAAAAAAAAAAAAAAAAAAAAAD9//z//f8AAAAAAAAAAAAAAAAAAAIAAgACAAMAAgAAAAQAAQABAAIAAAAAAAAAAAAAAAAAAAAAAAAAAAAAAAAAAAAAAAAAAAAAAAAAAAAAAAAAAAAAAAAAAAAAAAAAAAAAAAAAAAAAAAAAAAAAAAAAAAACAAMAAgAAAAAAAAAAAAAAAAAAAAAAAAAAAAAAAAAAAAAAAAAAAAAAAAAAAAAAAAD9//3//f/8//3/AAAAAAAAAAAAAAAAAAAAAAAAAAAAAAAAAAAAAAAAAAAAAAAAAAAAAAAAAAD8//7/AAD8//3//f/9//3//P/9/wAAAAAAAAAAAAAAAAAAAAAAAAAAAAAAAAAAAgADAAIAAAAAAAAAAAAAAAAAAAAAAAAAAAAAAAAAAAAAAAAAAAAAAAAAAAAAAAAAAAAAAAIAAgADAAIAAwACAAAAAAAAAAAAAAAAAAAAAAAAAAAAAAAAAAAAAAAAAAAAAAAAAAAAAAAAAAAAAAAAAAAAAAAAAAAAAAAAAAAAAAAAAAAAAAAAAAAAAAACAAAAAAAAAAAAAAAAAAAAAAAAAAAAAAAAAAAAAAAAAAAA/P/9/wAAAAAAAAAAAAAAAAAAAAAAAAAAAAAAAAAAAAAAAAAAAAAAAAAAAAAAAAMAAQAAAAIAAAAAAAAAAAAAAAAAAAAAAAAAAAAAAAAAAAAAAAAAAAAAAAAAAAAAAAAAAAACAAIAAgACAAIAAgADAAIAAwACAAAAAAAAAAAAAAAAAAAA/P/+/wAAAAD9//3//f/8//3/AAAAAAAAAAAAAAAAAAAAAAAAAAAAAAAAAAAAAAAAAAAAAP3//f/9//z//f8AAAAAAAD9//3//f/8//3/AAAAAAAAAAAAAAAAAAAAAAAAAgAAAAAAAAAAAAAAAAAAAAAAAAAAAAAAAAAAAAAAAAAAAAAAAAAAAAAAAAAAAAAAAAAAAAAAAAAAAAAAAAAAAAAAAAAAAAAAAAAAAAAAAAAAAAIAAAAAAAIAAgADAAIAAwACAAAAAAAAAAIAAAAAAAAAAAAAAAAAAAAAAAAAAAAAAAAAAAAAAAAAAAAAAAAAAAAAAAAAAAAAAAAAAAAAAAAAAAAAAAAAAAAAAAAAAAAAAAAAAAAAAAAAAAAAAAAAAAD9//3//f/9//z//f/8//3/AAAAAAAAAAAAAAAAAAAAAAAAAAAAAAIAAAAAAAAAAgAAAAAAAAAAAAAAAAAAAAAAAAAAAAAAAAAAAAAAAAAAAAAAAAAAAAAAAAAAAAAAAAAAAAAAAgADAAIAAAAAAAAAAAAAAAAAAAA=\" type=\"audio/wav\" />\n",
       "                    Your browser does not support the audio element.\n",
       "                </audio>\n",
       "              "
      ],
      "text/plain": [
       "<IPython.lib.display.Audio object>"
      ]
     },
     "execution_count": 149,
     "metadata": {},
     "output_type": "execute_result"
    }
   ],
   "source": [
    "index = 23#34#1#36#126        \n",
    "#length_audios[length_audios==150000]\n",
    "df[1][index]\n",
    "print(df[3][index])\n",
    "print(len(df[1][index]))\n",
    "path_audio = df_development.path[index]\n",
    "path_working_directory+'/'+path_audio\n",
    "ipd.Audio(path_working_directory+'/'+path_audio)"
   ]
  },
  {
   "cell_type": "code",
   "execution_count": 20,
   "id": "4ceca046",
   "metadata": {},
   "outputs": [
    {
     "data": {
      "text/plain": [
       "0       40961\n",
       "1       30720\n",
       "2       43009\n",
       "3       38912\n",
       "5       49153\n",
       "        ...  \n",
       "9841    32768\n",
       "9842    24577\n",
       "9843    30720\n",
       "9844    30720\n",
       "9845    34816\n",
       "Length: 6566, dtype: int64"
      ]
     },
     "execution_count": 20,
     "metadata": {},
     "output_type": "execute_result"
    }
   ],
   "source": [
    "length_audios.loc[(length_audios<=50000)]# & (length_audios<=100000)]\n"
   ]
  },
  {
   "cell_type": "code",
   "execution_count": 59,
   "id": "2fd613fd",
   "metadata": {},
   "outputs": [
    {
     "data": {
      "text/plain": [
       "array([ 0.0000000e+00,  0.0000000e+00,  0.0000000e+00, ...,\n",
       "       -5.8157309e-07,  1.0317751e-06,  0.0000000e+00], dtype=float32)"
      ]
     },
     "execution_count": 59,
     "metadata": {},
     "output_type": "execute_result"
    }
   ],
   "source": [
    "df[1][1]"
   ]
  },
  {
   "cell_type": "code",
   "execution_count": 61,
   "id": "20418daf",
   "metadata": {},
   "outputs": [
    {
     "data": {
      "text/plain": [
       "7685"
      ]
     },
     "execution_count": 61,
     "metadata": {},
     "output_type": "execute_result"
    }
   ],
   "source": [
    "len(indexes)"
   ]
  },
  {
   "cell_type": "markdown",
   "id": "88e9afbe",
   "metadata": {},
   "source": [
    "Trying to visualize signals of different classes to see if there exist common patterns."
   ]
  },
  {
   "cell_type": "code",
   "execution_count": 21,
   "id": "ce850941",
   "metadata": {},
   "outputs": [
    {
     "data": {
      "text/html": [
       "<div>\n",
       "<style scoped>\n",
       "    .dataframe tbody tr th:only-of-type {\n",
       "        vertical-align: middle;\n",
       "    }\n",
       "\n",
       "    .dataframe tbody tr th {\n",
       "        vertical-align: top;\n",
       "    }\n",
       "\n",
       "    .dataframe thead th {\n",
       "        text-align: right;\n",
       "    }\n",
       "</style>\n",
       "<table border=\"1\" class=\"dataframe\">\n",
       "  <thead>\n",
       "    <tr style=\"text-align: right;\">\n",
       "      <th></th>\n",
       "      <th>Id</th>\n",
       "      <th>path</th>\n",
       "      <th>speakerId</th>\n",
       "      <th>action</th>\n",
       "      <th>object</th>\n",
       "      <th>Self-reported fluency level</th>\n",
       "      <th>First Language spoken</th>\n",
       "      <th>Current language used for work/school</th>\n",
       "      <th>gender</th>\n",
       "      <th>ageRange</th>\n",
       "      <th>labels</th>\n",
       "    </tr>\n",
       "  </thead>\n",
       "  <tbody>\n",
       "    <tr>\n",
       "      <th>0</th>\n",
       "      <td>0</td>\n",
       "      <td>dsl_data/audio/speakers/2BqVo8kVB2Skwgyb/0a312...</td>\n",
       "      <td>2BqVo8kVB2Skwgyb</td>\n",
       "      <td>change language</td>\n",
       "      <td>none</td>\n",
       "      <td>advanced</td>\n",
       "      <td>English (United States)</td>\n",
       "      <td>English (United States)</td>\n",
       "      <td>female</td>\n",
       "      <td>22-40</td>\n",
       "      <td>5</td>\n",
       "    </tr>\n",
       "    <tr>\n",
       "      <th>47</th>\n",
       "      <td>47</td>\n",
       "      <td>dsl_data/audio/speakers/2BqVo8kVB2Skwgyb/ce762...</td>\n",
       "      <td>2BqVo8kVB2Skwgyb</td>\n",
       "      <td>change language</td>\n",
       "      <td>none</td>\n",
       "      <td>advanced</td>\n",
       "      <td>English (United States)</td>\n",
       "      <td>English (United States)</td>\n",
       "      <td>female</td>\n",
       "      <td>22-40</td>\n",
       "      <td>5</td>\n",
       "    </tr>\n",
       "    <tr>\n",
       "      <th>48</th>\n",
       "      <td>48</td>\n",
       "      <td>dsl_data/audio/speakers/2BqVo8kVB2Skwgyb/d6207...</td>\n",
       "      <td>2BqVo8kVB2Skwgyb</td>\n",
       "      <td>change language</td>\n",
       "      <td>none</td>\n",
       "      <td>advanced</td>\n",
       "      <td>English (United States)</td>\n",
       "      <td>English (United States)</td>\n",
       "      <td>female</td>\n",
       "      <td>22-40</td>\n",
       "      <td>5</td>\n",
       "    </tr>\n",
       "    <tr>\n",
       "      <th>49</th>\n",
       "      <td>49</td>\n",
       "      <td>dsl_data/audio/speakers/2BqVo8kVB2Skwgyb/d8f78...</td>\n",
       "      <td>2BqVo8kVB2Skwgyb</td>\n",
       "      <td>change language</td>\n",
       "      <td>none</td>\n",
       "      <td>advanced</td>\n",
       "      <td>English (United States)</td>\n",
       "      <td>English (United States)</td>\n",
       "      <td>female</td>\n",
       "      <td>22-40</td>\n",
       "      <td>5</td>\n",
       "    </tr>\n",
       "    <tr>\n",
       "      <th>50</th>\n",
       "      <td>50</td>\n",
       "      <td>dsl_data/audio/speakers/2BqVo8kVB2Skwgyb/db510...</td>\n",
       "      <td>2BqVo8kVB2Skwgyb</td>\n",
       "      <td>change language</td>\n",
       "      <td>none</td>\n",
       "      <td>advanced</td>\n",
       "      <td>English (United States)</td>\n",
       "      <td>English (United States)</td>\n",
       "      <td>female</td>\n",
       "      <td>22-40</td>\n",
       "      <td>5</td>\n",
       "    </tr>\n",
       "  </tbody>\n",
       "</table>\n",
       "</div>"
      ],
      "text/plain": [
       "    Id                                               path         speakerId  \\\n",
       "0    0  dsl_data/audio/speakers/2BqVo8kVB2Skwgyb/0a312...  2BqVo8kVB2Skwgyb   \n",
       "47  47  dsl_data/audio/speakers/2BqVo8kVB2Skwgyb/ce762...  2BqVo8kVB2Skwgyb   \n",
       "48  48  dsl_data/audio/speakers/2BqVo8kVB2Skwgyb/d6207...  2BqVo8kVB2Skwgyb   \n",
       "49  49  dsl_data/audio/speakers/2BqVo8kVB2Skwgyb/d8f78...  2BqVo8kVB2Skwgyb   \n",
       "50  50  dsl_data/audio/speakers/2BqVo8kVB2Skwgyb/db510...  2BqVo8kVB2Skwgyb   \n",
       "\n",
       "             action object Self-reported fluency level   \\\n",
       "0   change language   none                     advanced   \n",
       "47  change language   none                     advanced   \n",
       "48  change language   none                     advanced   \n",
       "49  change language   none                     advanced   \n",
       "50  change language   none                     advanced   \n",
       "\n",
       "      First Language spoken Current language used for work/school  gender  \\\n",
       "0   English (United States)               English (United States)  female   \n",
       "47  English (United States)               English (United States)  female   \n",
       "48  English (United States)               English (United States)  female   \n",
       "49  English (United States)               English (United States)  female   \n",
       "50  English (United States)               English (United States)  female   \n",
       "\n",
       "   ageRange  labels  \n",
       "0     22-40       5  \n",
       "47    22-40       5  \n",
       "48    22-40       5  \n",
       "49    22-40       5  \n",
       "50    22-40       5  "
      ]
     },
     "execution_count": 21,
     "metadata": {},
     "output_type": "execute_result"
    }
   ],
   "source": [
    "df_development[df_development['labels']==5].head()"
   ]
  },
  {
   "cell_type": "code",
   "execution_count": 100,
   "id": "bcf6e764",
   "metadata": {},
   "outputs": [
    {
     "data": {
      "text/plain": [
       "<librosa.display.AdaptiveWaveplot at 0x1ad499acf10>"
      ]
     },
     "execution_count": 100,
     "metadata": {},
     "output_type": "execute_result"
    },
    {
     "data": {
      "image/png": "[encoded data removed]",
      "text/plain": [
       "<Figure size 720x864 with 2 Axes>"
      ]
     },
     "metadata": {
      "needs_background": "light"
     },
     "output_type": "display_data"
    }
   ],
   "source": [
    "# index, label\n",
    "#3,  1\n",
    "#4,  1\n",
    "#6,  2\n",
    "#7,  2\n",
    "#5,  3\n",
    "#26, 3\n",
    "#8,  4\n",
    "#9,  4\n",
    "#0,  5\n",
    "#47, 5\n",
    "#1,  6\n",
    "#12, 6\n",
    "#2,  7\n",
    "#15, 7\n",
    "plt.figure(figsize=(10, 12))\n",
    "\n",
    "plt.subplot(3,1,1)\n",
    "librosa.display.waveshow(df[1][8140], alpha=0.5)\n",
    "plt.subplot(3,1,2)\n",
    "librosa.display.waveshow(df[1][15], alpha=0.5)\n",
    "\n",
    "# x = np.linspace(0, 10 - 2 * delta, 200) + delta\n",
    "# fig, axs = plt.subplots(3, 7, figsize=(15,30), constrained_layout=True)\n",
    "# for ax in axs:\n",
    "#     ax.plot(x,df[1][3])\n",
    "\n",
    "# plt.subplot(3,2,1)\n",
    "# librosa.display.waveshow(df[1][6], alpha=0.5)\n",
    "# plt.subplot(3,2,2)\n",
    "# librosa.display.waveshow(df[1][7], alpha=0.5)\n",
    "# small_df = []\n",
    "# small_df.append(df[1][4])\n",
    "# small_df"
   ]
  },
  {
   "cell_type": "code",
   "execution_count": null,
   "id": "f86acc82",
   "metadata": {},
   "outputs": [],
   "source": []
  },
  {
   "cell_type": "markdown",
   "id": "4855720e",
   "metadata": {},
   "source": [
    "## 3.  Feature Extraction"
   ]
  },
  {
   "cell_type": "code",
   "execution_count": 25,
   "id": "7f0b832a",
   "metadata": {},
   "outputs": [
    {
     "data": {
      "text/plain": [
       "(128, 862)"
      ]
     },
     "execution_count": 25,
     "metadata": {},
     "output_type": "execute_result"
    }
   ],
   "source": [
    "spectogram = librosa.feature.melspectrogram(y=df[1][36], sr=sr)\n",
    "spectogram.shape"
   ]
  },
  {
   "cell_type": "code",
   "execution_count": 101,
   "id": "eb5e2d10",
   "metadata": {},
   "outputs": [
    {
     "data": {
      "text/plain": [
       "[Text(0.5, 1.0, 'Mel-frequency spectrogram')]"
      ]
     },
     "execution_count": 101,
     "metadata": {},
     "output_type": "execute_result"
    },
    {
     "data": {
      "image/png": "[encoded data removed]",
      "text/plain": [
       "<Figure size 432x288 with 2 Axes>"
      ]
     },
     "metadata": {
      "needs_background": "light"
     },
     "output_type": "display_data"
    }
   ],
   "source": [
    "spectogram = librosa.feature.melspectrogram(y=df[1][8140], sr=sr)\n",
    "\n",
    "fig, ax = plt.subplots()\n",
    "S_dB = librosa.power_to_db(spectogram, ref=np.max)\n",
    "img = librosa.display.specshow(S_dB, x_axis='time',\n",
    "                         y_axis='mel', sr=sr,\n",
    "                         fmax=8000, ax=ax)\n",
    "fig.colorbar(img, ax=ax, format='%+2.0f dB')\n",
    "ax.set(title='Mel-frequency spectrogram')"
   ]
  },
  {
   "cell_type": "code",
   "execution_count": 102,
   "id": "d4701eb9",
   "metadata": {},
   "outputs": [
    {
     "data": {
      "text/plain": [
       "(128, 217)"
      ]
     },
     "execution_count": 102,
     "metadata": {},
     "output_type": "execute_result"
    }
   ],
   "source": [
    "df_spectogram = pd.DataFrame(spectogram)\n",
    "df_spectogram.shape\n",
    "\n"
   ]
  },
  {
   "cell_type": "code",
   "execution_count": 28,
   "id": "7903b3e0",
   "metadata": {},
   "outputs": [
    {
     "ename": "IndentationError",
     "evalue": "expected an indented block (Temp/ipykernel_1996/2413625022.py, line 7)",
     "output_type": "error",
     "traceback": [
      "\u001b[1;36m  File \u001b[1;32m\"C:\\Users\\andre\\AppData\\Local\\Temp/ipykernel_1996/2413625022.py\"\u001b[1;36m, line \u001b[1;32m7\u001b[0m\n\u001b[1;33m    \u001b[0m\n\u001b[1;37m    ^\u001b[0m\n\u001b[1;31mIndentationError\u001b[0m\u001b[1;31m:\u001b[0m expected an indented block\n"
     ]
    }
   ],
   "source": [
    "def compute_mean_std_spectogram(spectogram, R, C):\n",
    "    \n",
    "    \n",
    "    \n",
    "    for i in range(len(R)):\n",
    "        for j in range(len(C)):\n",
    "            "
   ]
  },
  {
   "cell_type": "code",
   "execution_count": null,
   "id": "0d0e019d",
   "metadata": {},
   "outputs": [],
   "source": []
  },
  {
   "cell_type": "markdown",
   "id": "c7b88a85",
   "metadata": {},
   "source": [
    "## 4. Classification"
   ]
  },
  {
   "cell_type": "code",
   "execution_count": null,
   "id": "4cd64503",
   "metadata": {},
   "outputs": [],
   "source": []
  },
  {
   "cell_type": "code",
   "execution_count": null,
   "id": "6a5aed46",
   "metadata": {},
   "outputs": [],
   "source": []
  },
  {
   "cell_type": "code",
   "execution_count": null,
   "id": "7f77bfc7",
   "metadata": {},
   "outputs": [],
   "source": []
  }
 ],
 "metadata": {
  "kernelspec": {
   "display_name": "Python 3 (ipykernel)",
   "language": "python",
   "name": "python3"
  },
  "language_info": {
   "codemirror_mode": {
    "name": "ipython",
    "version": 3
   },
   "file_extension": ".py",
   "mimetype": "text/x-python",
   "name": "python",
   "nbconvert_exporter": "python",
   "pygments_lexer": "ipython3",
   "version": "3.9.7"
  }
 },
 "nbformat": 4,
 "nbformat_minor": 5
}
